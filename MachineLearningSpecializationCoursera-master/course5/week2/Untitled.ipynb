{
 "cells": [
  {
   "cell_type": "code",
   "execution_count": 1,
   "metadata": {
    "collapsed": true
   },
   "outputs": [],
   "source": [
    "import numpy as np"
   ]
  },
  {
   "cell_type": "code",
   "execution_count": 8,
   "metadata": {
    "collapsed": true
   },
   "outputs": [],
   "source": [
    "from sklearn.svm import SVC"
   ]
  },
  {
   "cell_type": "code",
   "execution_count": 3,
   "metadata": {
    "collapsed": false
   },
   "outputs": [],
   "source": [
    "X = np.load('X.npy')"
   ]
  },
  {
   "cell_type": "code",
   "execution_count": 5,
   "metadata": {
    "collapsed": false
   },
   "outputs": [],
   "source": [
    "Y = np.load('Y.npy')"
   ]
  },
  {
   "cell_type": "code",
   "execution_count": 6,
   "metadata": {
    "collapsed": true
   },
   "outputs": [],
   "source": [
    "X_test = np.load('X_test.npy')"
   ]
  },
  {
   "cell_type": "code",
   "execution_count": 7,
   "metadata": {
    "collapsed": true
   },
   "outputs": [],
   "source": [
    "Y_test = np.load('Y_test.npy')"
   ]
  },
  {
   "cell_type": "code",
   "execution_count": 9,
   "metadata": {
    "collapsed": true
   },
   "outputs": [],
   "source": [
    "svc = SVC(random_state=0)"
   ]
  },
  {
   "cell_type": "code",
   "execution_count": 10,
   "metadata": {
    "collapsed": false
   },
   "outputs": [
    {
     "data": {
      "text/plain": [
       "SVC(C=1.0, cache_size=200, class_weight=None, coef0=0.0,\n",
       "  decision_function_shape=None, degree=3, gamma='auto', kernel='rbf',\n",
       "  max_iter=-1, probability=False, random_state=0, shrinking=True,\n",
       "  tol=0.001, verbose=False)"
      ]
     },
     "execution_count": 10,
     "metadata": {},
     "output_type": "execute_result"
    }
   ],
   "source": [
    "svc.fit(X,Y)"
   ]
  },
  {
   "cell_type": "code",
   "execution_count": 11,
   "metadata": {
    "collapsed": true
   },
   "outputs": [],
   "source": [
    "def out(filename, s):\n",
    "    f = open(filename, 'w')\n",
    "    f.write(s)\n",
    "    f.close()"
   ]
  },
  {
   "cell_type": "code",
   "execution_count": 12,
   "metadata": {
    "collapsed": true
   },
   "outputs": [],
   "source": [
    "Y_pred = svc.predict(X_test)"
   ]
  },
  {
   "cell_type": "code",
   "execution_count": 13,
   "metadata": {
    "collapsed": false
   },
   "outputs": [
    {
     "data": {
      "text/plain": [
       "array([  8.,  10.,   8.,   8.,   6.,   2.,   8.,   7.,   9.,   5.,   4.,\n",
       "        10.,   5.,   8.,   5.,   4.,   5.,   2.,   8.,   9.,   8.,   9.,\n",
       "         9.,   4.,   1.,  10.,   1.,   3.,   7.,   7.,   5.,   1.,   6.,\n",
       "         9.,   9.,   9.,   3.,   7.,   1.,   6.,   1.,   8.,   2.,   8.,\n",
       "        10.,   1.,   6.,  10.,   3.,   4.,   7.,   4.,   5.,  10.,   7.,\n",
       "         1.,   2.,   2.,   3.,   2.,   8.,   9.,   4.,   4.,   3.,   3.,\n",
       "         7.,  10.,   8.,   9.,   7.,   4.,   3.,   8.,   3.,   8.,  10.,\n",
       "         1.,   6.,   9.,  10.,   3.,   1.,   1.,   8.,   9.,   6.,   3.,\n",
       "         1.,   2.,   3.,   4.,   8.,   8.,   1.,   2.,   4.,   4.,   7.,\n",
       "         1.,   1.,   6.,   5.,   6.,   8.,  10.,   6.,   1.,   7.,   5.,\n",
       "         5.,   4.,   7.,   5.,   3.,   9.,   9.,   5.,   3.,   4.,  10.,\n",
       "         7.,  10.,   3.,   7.,   8.,   6.,   9.,   2.,   7.,   4.,   2.,\n",
       "         7.,   6.,  10.,   9.,   6.,   3.,  10.,   5.,   8.,   3.,   3.,\n",
       "         8.,   1.,   2.,   5.,   9.,  10.,   9.,   3.,   1.,   4.,   7.,\n",
       "         3.,   7.,   6.,   6.,   3.,   4.,   4.,   8.,   1.,   1.,   3.,\n",
       "         7.,   4.,  10.,   3.,   4.,   5.,   4.,   9.,   6.,   1.,  10.,\n",
       "         4.,   3.,   6.,   1.,   6.,   9.,   4.,   4.,   7.,   6.,   7.,\n",
       "         6.,   2.,   4.,   2.,   1.,   3.,   1.,   5.,   6.,   1.,  10.,\n",
       "        10.,   8.,   5.,   3.])"
      ]
     },
     "execution_count": 13,
     "metadata": {},
     "output_type": "execute_result"
    }
   ],
   "source": [
    "Y_test"
   ]
  },
  {
   "cell_type": "code",
   "execution_count": 14,
   "metadata": {
    "collapsed": false
   },
   "outputs": [
    {
     "data": {
      "text/plain": [
       "array([ 8.,  8.,  8.,  8.,  5.,  5.,  9.,  7.,  9.,  5.,  4.,  9.,  5.,\n",
       "        8.,  7.,  2.,  5.,  4.,  8.,  8.,  8.,  8.,  6.,  5.,  1.,  9.,\n",
       "        1.,  5.,  5.,  5.,  5.,  1.,  8.,  8.,  8.,  5.,  4.,  7.,  1.,\n",
       "        4.,  1.,  8.,  5.,  8.,  7.,  1.,  5.,  8.,  4.,  5.,  5.,  5.,\n",
       "        5.,  8.,  7.,  1.,  5.,  5.,  5.,  2.,  8.,  9.,  5.,  5.,  5.,\n",
       "        5.,  7.,  9.,  8.,  8.,  7.,  5.,  5.,  8.,  4.,  8.,  8.,  1.,\n",
       "        6.,  9.,  9.,  5.,  1.,  1.,  8.,  9.,  6.,  5.,  1.,  5.,  5.,\n",
       "        5.,  8.,  9.,  1.,  7.,  5.,  5.,  5.,  1.,  1.,  6.,  7.,  6.,\n",
       "        8.,  8.,  6.,  1.,  7.,  5.,  5.,  2.,  7.,  5.,  4.,  8.,  8.,\n",
       "        5.,  5.,  5.,  9.,  5.,  9.,  5.,  2.,  8.,  7.,  8.,  7.,  7.,\n",
       "        4.,  2.,  5.,  6.,  8.,  8.,  6.,  5.,  8.,  5.,  8.,  2.,  5.,\n",
       "        8.,  1.,  5.,  5.,  8.,  8.,  8.,  5.,  1.,  5.,  7.,  5.,  2.,\n",
       "        6.,  6.,  4.,  5.,  7.,  9.,  1.,  1.,  4.,  7.,  5.,  8.,  5.,\n",
       "        7.,  5.,  5.,  9.,  6.,  1.,  8.,  5.,  5.,  7.,  1.,  6.,  2.,\n",
       "        4.,  8.,  5.,  5.,  5.,  5.,  5.,  5.,  2.,  1.,  5.,  1.,  5.,\n",
       "        5.,  1.,  8.,  8.,  8.,  5.,  5.])"
      ]
     },
     "execution_count": 14,
     "metadata": {},
     "output_type": "execute_result"
    }
   ],
   "source": [
    "Y_pred"
   ]
  },
  {
   "cell_type": "code",
   "execution_count": 15,
   "metadata": {
    "collapsed": false
   },
   "outputs": [
    {
     "data": {
      "text/plain": [
       "89"
      ]
     },
     "execution_count": 15,
     "metadata": {},
     "output_type": "execute_result"
    }
   ],
   "source": [
    "np.sum(Y_pred == Y_test)"
   ]
  },
  {
   "cell_type": "code",
   "execution_count": 16,
   "metadata": {
    "collapsed": true
   },
   "outputs": [],
   "source": [
    "out('res.txt', str(np.sum(Y_pred == Y_test)))"
   ]
  },
  {
   "cell_type": "code",
   "execution_count": null,
   "metadata": {
    "collapsed": true
   },
   "outputs": [],
   "source": []
  }
 ],
 "metadata": {
  "kernelspec": {
   "display_name": "Python 2",
   "language": "python",
   "name": "python2"
  },
  "language_info": {
   "codemirror_mode": {
    "name": "ipython",
    "version": 2
   },
   "file_extension": ".py",
   "mimetype": "text/x-python",
   "name": "python",
   "nbconvert_exporter": "python",
   "pygments_lexer": "ipython2",
   "version": "2.7.11"
  }
 },
 "nbformat": 4,
 "nbformat_minor": 0
}
