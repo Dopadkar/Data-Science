{
 "cells": [
  {
   "cell_type": "code",
   "execution_count": 5,
   "metadata": {
    "collapsed": true
   },
   "outputs": [],
   "source": [
    "import numpy as np\n",
    "from collections import Counter, OrderedDict"
   ]
  },
  {
   "cell_type": "code",
   "execution_count": 2,
   "metadata": {
    "collapsed": false
   },
   "outputs": [
    {
     "data": {
      "text/plain": [
       "(50000, 50000)"
      ]
     },
     "execution_count": 2,
     "metadata": {},
     "output_type": "execute_result"
    }
   ],
   "source": [
    "with open('coursera_sessions_train.txt') as f:\n",
    "    file_train = f.readlines()\n",
    "\n",
    "with open('coursera_sessions_test.txt') as f:\n",
    "    file_test = f.readlines()\n",
    "len(file_train), len(file_test)"
   ]
  },
  {
   "cell_type": "code",
   "execution_count": 3,
   "metadata": {
    "collapsed": false
   },
   "outputs": [
    {
     "ename": "NameError",
     "evalue": "name 'Counter' is not defined",
     "output_type": "error",
     "traceback": [
      "\u001b[1;31m---------------------------------------------------------------------------\u001b[0m",
      "\u001b[1;31mNameError\u001b[0m                                 Traceback (most recent call last)",
      "\u001b[1;32m<ipython-input-3-f6408267deeb>\u001b[0m in \u001b[0;36m<module>\u001b[1;34m()\u001b[0m\n\u001b[1;32m----> 1\u001b[1;33m \u001b[1;32mclass\u001b[0m \u001b[0mOrderedCounter\u001b[0m\u001b[1;33m(\u001b[0m\u001b[0mCounter\u001b[0m\u001b[1;33m,\u001b[0m \u001b[0mOrderedDict\u001b[0m\u001b[1;33m)\u001b[0m\u001b[1;33m:\u001b[0m\u001b[1;33m\u001b[0m\u001b[0m\n\u001b[0m\u001b[0;32m      2\u001b[0m     \u001b[1;32mdef\u001b[0m \u001b[0m__repr__\u001b[0m\u001b[1;33m(\u001b[0m\u001b[0mself\u001b[0m\u001b[1;33m)\u001b[0m\u001b[1;33m:\u001b[0m\u001b[1;33m\u001b[0m\u001b[0m\n\u001b[0;32m      3\u001b[0m         \u001b[1;32mreturn\u001b[0m \u001b[1;34m'%r(%s)'\u001b[0m \u001b[1;33m%\u001b[0m \u001b[1;33m(\u001b[0m\u001b[0mself\u001b[0m\u001b[1;33m.\u001b[0m\u001b[0m__class__\u001b[0m\u001b[1;33m.\u001b[0m\u001b[0m__name__\u001b[0m \u001b[1;33m,\u001b[0m \u001b[0mOrderedDict\u001b[0m\u001b[1;33m(\u001b[0m\u001b[0mself\u001b[0m\u001b[1;33m)\u001b[0m\u001b[1;33m)\u001b[0m\u001b[1;33m\u001b[0m\u001b[0m\n\u001b[0;32m      4\u001b[0m     \u001b[1;32mdef\u001b[0m \u001b[0m__reduce__\u001b[0m\u001b[1;33m(\u001b[0m\u001b[0mself\u001b[0m\u001b[1;33m)\u001b[0m\u001b[1;33m:\u001b[0m\u001b[1;33m\u001b[0m\u001b[0m\n\u001b[0;32m      5\u001b[0m         \u001b[1;32mreturn\u001b[0m \u001b[0mself\u001b[0m\u001b[1;33m.\u001b[0m\u001b[0m__class__\u001b[0m\u001b[1;33m,\u001b[0m \u001b[1;33m(\u001b[0m\u001b[0mOrderedDict\u001b[0m\u001b[1;33m(\u001b[0m\u001b[0mself\u001b[0m\u001b[1;33m)\u001b[0m\u001b[1;33m,\u001b[0m\u001b[1;33m)\u001b[0m\u001b[1;33m\u001b[0m\u001b[0m\n",
      "\u001b[1;31mNameError\u001b[0m: name 'Counter' is not defined"
     ]
    }
   ],
   "source": [
    "class OrderedCounter(Counter, OrderedDict):\n",
    "    def __repr__(self):\n",
    "        return '%r(%s)' % (self.__class__.__name__ , OrderedDict(self))\n",
    "    def __reduce__(self):\n",
    "        return self.__class__, (OrderedDict(self),)"
   ]
  },
  {
   "cell_type": "code",
   "execution_count": 4,
   "metadata": {
    "collapsed": false
   },
   "outputs": [
    {
     "ename": "KeyboardInterrupt",
     "evalue": "",
     "output_type": "error",
     "traceback": [
      "\u001b[1;31m---------------------------------------------------------------------------\u001b[0m",
      "\u001b[1;31mKeyboardInterrupt\u001b[0m                         Traceback (most recent call last)",
      "\u001b[1;32m<ipython-input-4-0ad1714fe964>\u001b[0m in \u001b[0;36m<module>\u001b[1;34m()\u001b[0m\n\u001b[0;32m     26\u001b[0m     \u001b[1;32mfor\u001b[0m \u001b[0mk\u001b[0m \u001b[1;32min\u001b[0m \u001b[0mviewed\u001b[0m\u001b[1;33m:\u001b[0m\u001b[1;33m\u001b[0m\u001b[0m\n\u001b[0;32m     27\u001b[0m         \u001b[1;32mif\u001b[0m \u001b[0mk\u001b[0m \u001b[1;33m!=\u001b[0m \u001b[1;34m''\u001b[0m\u001b[1;33m:\u001b[0m\u001b[1;33m\u001b[0m\u001b[0m\n\u001b[1;32m---> 28\u001b[1;33m             \u001b[0mput\u001b[0m\u001b[1;33m(\u001b[0m\u001b[0mv_train\u001b[0m\u001b[1;33m,\u001b[0m \u001b[0mk\u001b[0m\u001b[1;33m,\u001b[0m \u001b[0mnum_v\u001b[0m\u001b[1;33m)\u001b[0m\u001b[1;33m\u001b[0m\u001b[0m\n\u001b[0m\u001b[0;32m     29\u001b[0m             \u001b[0mnum_v\u001b[0m \u001b[1;33m+=\u001b[0m \u001b[1;36m1\u001b[0m\u001b[1;33m\u001b[0m\u001b[0m\n\u001b[0;32m     30\u001b[0m     \u001b[1;32mfor\u001b[0m \u001b[0mk\u001b[0m \u001b[1;32min\u001b[0m \u001b[0mpurchased\u001b[0m\u001b[1;33m:\u001b[0m\u001b[1;33m\u001b[0m\u001b[0m\n",
      "\u001b[1;32m<ipython-input-4-0ad1714fe964>\u001b[0m in \u001b[0;36mput\u001b[1;34m(d, elem, i)\u001b[0m\n\u001b[0;32m      9\u001b[0m \u001b[1;33m\u001b[0m\u001b[0m\n\u001b[0;32m     10\u001b[0m \u001b[1;32mdef\u001b[0m \u001b[0mput\u001b[0m\u001b[1;33m(\u001b[0m\u001b[0md\u001b[0m\u001b[1;33m,\u001b[0m \u001b[0melem\u001b[0m\u001b[1;33m,\u001b[0m \u001b[0mi\u001b[0m\u001b[1;33m)\u001b[0m\u001b[1;33m:\u001b[0m\u001b[1;33m\u001b[0m\u001b[0m\n\u001b[1;32m---> 11\u001b[1;33m     \u001b[1;32mif\u001b[0m \u001b[0melem\u001b[0m \u001b[1;32min\u001b[0m \u001b[0md\u001b[0m\u001b[1;33m.\u001b[0m\u001b[0mkeys\u001b[0m\u001b[1;33m(\u001b[0m\u001b[1;33m)\u001b[0m\u001b[1;33m:\u001b[0m\u001b[1;33m\u001b[0m\u001b[0m\n\u001b[0m\u001b[0;32m     12\u001b[0m         \u001b[0mv\u001b[0m \u001b[1;33m=\u001b[0m \u001b[0md\u001b[0m\u001b[1;33m[\u001b[0m\u001b[0melem\u001b[0m\u001b[1;33m]\u001b[0m\u001b[1;33m\u001b[0m\u001b[0m\n\u001b[0;32m     13\u001b[0m         \u001b[0md\u001b[0m\u001b[1;33m[\u001b[0m\u001b[0melem\u001b[0m\u001b[1;33m]\u001b[0m \u001b[1;33m=\u001b[0m \u001b[1;33m(\u001b[0m\u001b[0mv\u001b[0m\u001b[1;33m[\u001b[0m\u001b[1;36m0\u001b[0m\u001b[1;33m]\u001b[0m \u001b[1;33m+\u001b[0m \u001b[1;36m1\u001b[0m\u001b[1;33m,\u001b[0m \u001b[0mv\u001b[0m\u001b[1;33m[\u001b[0m\u001b[1;36m1\u001b[0m\u001b[1;33m]\u001b[0m\u001b[1;33m)\u001b[0m\u001b[1;33m\u001b[0m\u001b[0m\n",
      "\u001b[1;31mKeyboardInterrupt\u001b[0m: "
     ]
    }
   ],
   "source": [
    "data_train_v = np.empty(len(file_train), dtype='object')\n",
    "data_train_p = np.empty(len(file_train), dtype='object')\n",
    "data_test_v = np.empty(len(file_test), dtype='object')\n",
    "data_test_p = np.empty(len(file_test), dtype='object')\n",
    "v_train = {}\n",
    "p_train = {}\n",
    "v_test = {}\n",
    "p_test = {}\n",
    "\n",
    "def put(d, elem, i):\n",
    "    if elem in d.keys():\n",
    "        v = d[elem]\n",
    "        d[elem] = (v[0] + 1, v[1])\n",
    "    else:\n",
    "        d[elem] = (1, i) \n",
    "\n",
    "num_p = 0\n",
    "num_v = 0\n",
    "for i in xrange(len(file_train)):\n",
    "    line = file_train[i].strip()\n",
    "    parts = line.split(';')\n",
    "    viewed = parts[0].split(',') if parts[0] != '' else []\n",
    "    purchased = parts[1].split(',') if parts[1] != '' else []\n",
    "    data_train_v[i] = viewed\n",
    "    data_train_p[i] = purchased\n",
    "    for k in viewed:\n",
    "        if k != '':\n",
    "            put(v_train, k, num_v)\n",
    "            num_v += 1\n",
    "    for k in purchased:\n",
    "        if k != '':\n",
    "            put(p_train, k, num_p)\n",
    "            num_p += 1\n",
    "        \n",
    "num_p = 0\n",
    "num_v = 0\n",
    "for i in xrange(len(file_test)):\n",
    "    line = file_test[i].strip()\n",
    "    parts = line.split(';')    \n",
    "    viewed = parts[0].split(',') if parts[0] != '' else []\n",
    "    purchased = parts[1].split(',') if parts[1] != '' else []\n",
    "    data_test_v[i] = viewed\n",
    "    data_test_p[i] = purchased\n",
    "    for k in viewed:\n",
    "        put(v_test, k, num_v)\n",
    "        num_v += 1\n",
    "    for k in purchased:\n",
    "        put(p_test, k, num_p)\n",
    "        num_p += 1\n",
    "        \n"
   ]
  },
  {
   "cell_type": "code",
   "execution_count": 12,
   "metadata": {
    "collapsed": true
   },
   "outputs": [],
   "source": [
    "data_train_v = np.empty(len(file_train), dtype='object')\n",
    "data_train_p = np.empty(len(file_train), dtype='object')\n",
    "data_test_v = np.empty(len(file_test), dtype='object')\n",
    "data_test_p = np.empty(len(file_test), dtype='object')\n",
    "v_train = OrderedDict()\n",
    "p_train = OrderedDict()\n",
    "v_test = OrderedDict()\n",
    "p_test = OrderedDict()\n",
    "\n",
    "for i in xrange(len(file_train)):\n",
    "    line = file_train[i].strip()\n",
    "    parts = line.split(';')\n",
    "    viewed = parts[0].split(',') if parts[0] != '' else []\n",
    "    purchased = parts[1].split(',') if parts[1] != '' else []\n",
    "    data_train_v[i] = viewed\n",
    "    data_train_p[i] = purchased\n",
    "    for k in viewed:\n",
    "        if k != '':\n",
    "            if not k in v_train:\n",
    "                v_train[k] = 1\n",
    "            else:\n",
    "                v_train[k] += 1\n",
    "    for k in purchased:\n",
    "        if k != '':\n",
    "            if not k in p_train:\n",
    "                p_train[k] = 1\n",
    "            else:\n",
    "                p_train[k] += 1\n",
    "        \n",
    "    line = file_test[i].strip()\n",
    "    parts = line.split(';')    \n",
    "    viewed = parts[0].split(',') if parts[0] != '' else []\n",
    "    purchased = parts[1].split(',') if parts[1] != '' else []\n",
    "    data_test_v[i] = viewed\n",
    "    data_test_p[i] = purchased\n",
    "    for k in viewed:\n",
    "        if k != '':\n",
    "            if not k in v_test:\n",
    "                v_test[k] = 1\n",
    "            else:\n",
    "                v_test[k] += 1\n",
    "    for k in purchased:\n",
    "        if k != '':\n",
    "            if not k in p_test:\n",
    "                p_test[k] = 1\n",
    "            else:\n",
    "                p_test[k] += 1"
   ]
  },
  {
   "cell_type": "code",
   "execution_count": 13,
   "metadata": {
    "collapsed": false
   },
   "outputs": [
    {
     "name": "stdout",
     "output_type": "stream",
     "text": [
      "11 573\n"
     ]
    }
   ],
   "source": [
    "print p_train['73'], p_train.keys().index('73')"
   ]
  },
  {
   "cell_type": "code",
   "execution_count": 14,
   "metadata": {
    "collapsed": false
   },
   "outputs": [
    {
     "ename": "TypeError",
     "evalue": "'int' object has no attribute '__getitem__'",
     "output_type": "error",
     "traceback": [
      "\u001b[1;31m---------------------------------------------------------------------------\u001b[0m",
      "\u001b[1;31mTypeError\u001b[0m                                 Traceback (most recent call last)",
      "\u001b[1;32m<ipython-input-14-c80311b5a155>\u001b[0m in \u001b[0;36m<module>\u001b[1;34m()\u001b[0m\n\u001b[0;32m      2\u001b[0m     \u001b[1;32mreturn\u001b[0m \u001b[0msorted\u001b[0m\u001b[1;33m(\u001b[0m\u001b[0msorted\u001b[0m\u001b[1;33m(\u001b[0m\u001b[0md\u001b[0m\u001b[1;33m.\u001b[0m\u001b[0mkeys\u001b[0m\u001b[1;33m(\u001b[0m\u001b[1;33m)\u001b[0m\u001b[1;33m,\u001b[0m \u001b[0mkey\u001b[0m\u001b[1;33m=\u001b[0m\u001b[1;32mlambda\u001b[0m \u001b[0mk\u001b[0m\u001b[1;33m:\u001b[0m \u001b[0md\u001b[0m\u001b[1;33m[\u001b[0m\u001b[0mk\u001b[0m\u001b[1;33m]\u001b[0m\u001b[1;33m[\u001b[0m\u001b[1;36m1\u001b[0m\u001b[1;33m]\u001b[0m\u001b[1;33m)\u001b[0m\u001b[1;33m,\u001b[0m \u001b[0mkey\u001b[0m\u001b[1;33m=\u001b[0m\u001b[1;32mlambda\u001b[0m \u001b[0mc\u001b[0m\u001b[1;33m:\u001b[0m \u001b[0md\u001b[0m\u001b[1;33m[\u001b[0m\u001b[0mc\u001b[0m\u001b[1;33m]\u001b[0m\u001b[1;33m[\u001b[0m\u001b[1;36m0\u001b[0m\u001b[1;33m]\u001b[0m\u001b[1;33m,\u001b[0m \u001b[0mreverse\u001b[0m\u001b[1;33m=\u001b[0m\u001b[0mTrue\u001b[0m\u001b[1;33m)\u001b[0m\u001b[1;33m\u001b[0m\u001b[0m\n\u001b[0;32m      3\u001b[0m \u001b[1;33m\u001b[0m\u001b[0m\n\u001b[1;32m----> 4\u001b[1;33m \u001b[0mv_train_sorted\u001b[0m \u001b[1;33m=\u001b[0m \u001b[0mmake_sort\u001b[0m\u001b[1;33m(\u001b[0m\u001b[0mv_train\u001b[0m\u001b[1;33m)\u001b[0m\u001b[1;33m\u001b[0m\u001b[0m\n\u001b[0m\u001b[0;32m      5\u001b[0m \u001b[0mp_train_sorted\u001b[0m \u001b[1;33m=\u001b[0m \u001b[0mmake_sort\u001b[0m\u001b[1;33m(\u001b[0m\u001b[0mp_train\u001b[0m\u001b[1;33m)\u001b[0m\u001b[1;33m\u001b[0m\u001b[0m\n",
      "\u001b[1;32m<ipython-input-14-c80311b5a155>\u001b[0m in \u001b[0;36mmake_sort\u001b[1;34m(d)\u001b[0m\n\u001b[0;32m      1\u001b[0m \u001b[1;32mdef\u001b[0m \u001b[0mmake_sort\u001b[0m\u001b[1;33m(\u001b[0m\u001b[0md\u001b[0m\u001b[1;33m)\u001b[0m\u001b[1;33m:\u001b[0m\u001b[1;33m\u001b[0m\u001b[0m\n\u001b[1;32m----> 2\u001b[1;33m     \u001b[1;32mreturn\u001b[0m \u001b[0msorted\u001b[0m\u001b[1;33m(\u001b[0m\u001b[0msorted\u001b[0m\u001b[1;33m(\u001b[0m\u001b[0md\u001b[0m\u001b[1;33m.\u001b[0m\u001b[0mkeys\u001b[0m\u001b[1;33m(\u001b[0m\u001b[1;33m)\u001b[0m\u001b[1;33m,\u001b[0m \u001b[0mkey\u001b[0m\u001b[1;33m=\u001b[0m\u001b[1;32mlambda\u001b[0m \u001b[0mk\u001b[0m\u001b[1;33m:\u001b[0m \u001b[0md\u001b[0m\u001b[1;33m[\u001b[0m\u001b[0mk\u001b[0m\u001b[1;33m]\u001b[0m\u001b[1;33m[\u001b[0m\u001b[1;36m1\u001b[0m\u001b[1;33m]\u001b[0m\u001b[1;33m)\u001b[0m\u001b[1;33m,\u001b[0m \u001b[0mkey\u001b[0m\u001b[1;33m=\u001b[0m\u001b[1;32mlambda\u001b[0m \u001b[0mc\u001b[0m\u001b[1;33m:\u001b[0m \u001b[0md\u001b[0m\u001b[1;33m[\u001b[0m\u001b[0mc\u001b[0m\u001b[1;33m]\u001b[0m\u001b[1;33m[\u001b[0m\u001b[1;36m0\u001b[0m\u001b[1;33m]\u001b[0m\u001b[1;33m,\u001b[0m \u001b[0mreverse\u001b[0m\u001b[1;33m=\u001b[0m\u001b[0mTrue\u001b[0m\u001b[1;33m)\u001b[0m\u001b[1;33m\u001b[0m\u001b[0m\n\u001b[0m\u001b[0;32m      3\u001b[0m \u001b[1;33m\u001b[0m\u001b[0m\n\u001b[0;32m      4\u001b[0m \u001b[0mv_train_sorted\u001b[0m \u001b[1;33m=\u001b[0m \u001b[0mmake_sort\u001b[0m\u001b[1;33m(\u001b[0m\u001b[0mv_train\u001b[0m\u001b[1;33m)\u001b[0m\u001b[1;33m\u001b[0m\u001b[0m\n\u001b[0;32m      5\u001b[0m \u001b[0mp_train_sorted\u001b[0m \u001b[1;33m=\u001b[0m \u001b[0mmake_sort\u001b[0m\u001b[1;33m(\u001b[0m\u001b[0mp_train\u001b[0m\u001b[1;33m)\u001b[0m\u001b[1;33m\u001b[0m\u001b[0m\n",
      "\u001b[1;32m<ipython-input-14-c80311b5a155>\u001b[0m in \u001b[0;36m<lambda>\u001b[1;34m(k)\u001b[0m\n\u001b[0;32m      1\u001b[0m \u001b[1;32mdef\u001b[0m \u001b[0mmake_sort\u001b[0m\u001b[1;33m(\u001b[0m\u001b[0md\u001b[0m\u001b[1;33m)\u001b[0m\u001b[1;33m:\u001b[0m\u001b[1;33m\u001b[0m\u001b[0m\n\u001b[1;32m----> 2\u001b[1;33m     \u001b[1;32mreturn\u001b[0m \u001b[0msorted\u001b[0m\u001b[1;33m(\u001b[0m\u001b[0msorted\u001b[0m\u001b[1;33m(\u001b[0m\u001b[0md\u001b[0m\u001b[1;33m.\u001b[0m\u001b[0mkeys\u001b[0m\u001b[1;33m(\u001b[0m\u001b[1;33m)\u001b[0m\u001b[1;33m,\u001b[0m \u001b[0mkey\u001b[0m\u001b[1;33m=\u001b[0m\u001b[1;32mlambda\u001b[0m \u001b[0mk\u001b[0m\u001b[1;33m:\u001b[0m \u001b[0md\u001b[0m\u001b[1;33m[\u001b[0m\u001b[0mk\u001b[0m\u001b[1;33m]\u001b[0m\u001b[1;33m[\u001b[0m\u001b[1;36m1\u001b[0m\u001b[1;33m]\u001b[0m\u001b[1;33m)\u001b[0m\u001b[1;33m,\u001b[0m \u001b[0mkey\u001b[0m\u001b[1;33m=\u001b[0m\u001b[1;32mlambda\u001b[0m \u001b[0mc\u001b[0m\u001b[1;33m:\u001b[0m \u001b[0md\u001b[0m\u001b[1;33m[\u001b[0m\u001b[0mc\u001b[0m\u001b[1;33m]\u001b[0m\u001b[1;33m[\u001b[0m\u001b[1;36m0\u001b[0m\u001b[1;33m]\u001b[0m\u001b[1;33m,\u001b[0m \u001b[0mreverse\u001b[0m\u001b[1;33m=\u001b[0m\u001b[0mTrue\u001b[0m\u001b[1;33m)\u001b[0m\u001b[1;33m\u001b[0m\u001b[0m\n\u001b[0m\u001b[0;32m      3\u001b[0m \u001b[1;33m\u001b[0m\u001b[0m\n\u001b[0;32m      4\u001b[0m \u001b[0mv_train_sorted\u001b[0m \u001b[1;33m=\u001b[0m \u001b[0mmake_sort\u001b[0m\u001b[1;33m(\u001b[0m\u001b[0mv_train\u001b[0m\u001b[1;33m)\u001b[0m\u001b[1;33m\u001b[0m\u001b[0m\n\u001b[0;32m      5\u001b[0m \u001b[0mp_train_sorted\u001b[0m \u001b[1;33m=\u001b[0m \u001b[0mmake_sort\u001b[0m\u001b[1;33m(\u001b[0m\u001b[0mp_train\u001b[0m\u001b[1;33m)\u001b[0m\u001b[1;33m\u001b[0m\u001b[0m\n",
      "\u001b[1;31mTypeError\u001b[0m: 'int' object has no attribute '__getitem__'"
     ]
    }
   ],
   "source": [
    "def make_sort(d):\n",
    "    return sorted(sorted(d.keys(), key=lambda k: d[k][1]), key=lambda c: d[c][0], reverse=True)\n",
    "\n",
    "v_train_sorted = make_sort(v_train)\n",
    "p_train_sorted = make_sort(p_train)"
   ]
  },
  {
   "cell_type": "code",
   "execution_count": 41,
   "metadata": {
    "collapsed": false
   },
   "outputs": [],
   "source": [
    "def make_sort2(d):\n",
    "    return sorted(d.keys(), key=lambda c: d[c], reverse=True)\n",
    "\n",
    "v_train_sorted = make_sort2(v_train)\n",
    "p_train_sorted = make_sort2(p_train)\n",
    "v_test_sorted = make_sort2(v_test)\n",
    "p_test_sorted = make_sort2(p_test)"
   ]
  },
  {
   "cell_type": "code",
   "execution_count": 32,
   "metadata": {
    "collapsed": false
   },
   "outputs": [],
   "source": [
    "def get_recommended2(viewed, order, k):\n",
    "    return sorted(set(viewed), key=lambda s: order.index(s) if s in order else 100000000)[:k]"
   ]
  },
  {
   "cell_type": "code",
   "execution_count": null,
   "metadata": {
    "collapsed": false
   },
   "outputs": [],
   "source": [
    "p_train.most_common(10)"
   ]
  },
  {
   "cell_type": "code",
   "execution_count": 17,
   "metadata": {
    "collapsed": true
   },
   "outputs": [],
   "source": [
    "def out(filename, s):\n",
    "    f = open(filename, 'w')\n",
    "    f.write(s)\n",
    "    f.close()"
   ]
  },
  {
   "cell_type": "code",
   "execution_count": 18,
   "metadata": {
    "collapsed": true
   },
   "outputs": [],
   "source": [
    "def get_precision(recommended, purchased, k):\n",
    "    return len(set(recommended) & set(purchased)) / float(k)"
   ]
  },
  {
   "cell_type": "code",
   "execution_count": 19,
   "metadata": {
    "collapsed": true
   },
   "outputs": [],
   "source": [
    "def get_recall(recommended, purchased, k):\n",
    "    return len(set(recommended) & set(purchased)) / float(len(purchased))"
   ]
  },
  {
   "cell_type": "code",
   "execution_count": null,
   "metadata": {
    "collapsed": true
   },
   "outputs": [],
   "source": [
    "def comparator_v(x,y):\n",
    "    x_v = v_train[x] if x in v_train else 0\n",
    "    y_v = v_train[y] if y in v_train else 0\n",
    "    if x_v < y_v:\n",
    "        return -1\n",
    "    elif x_v > y_v:\n",
    "        return 1\n",
    "    else:\n",
    "        x_v_i = v_train.keys().index(x) if x in v_train else 10000000\n",
    "        y_v_i = v_train.keys().index(y) if y in v_train else 10000000\n",
    "        if x_v_i < y_v_i:\n",
    "            return -1\n",
    "        else:\n",
    "            return 1    \n",
    "\n",
    "def comparator_p(x,y):\n",
    "    x_p = p_train[x] if x in p_train else 0\n",
    "    y_p = p_train[y] if y in p_train else 0\n",
    "    if x_p < y_p:\n",
    "        return -1\n",
    "    elif x_p > y_p:\n",
    "        return 1\n",
    "    else:\n",
    "        x_p_i = p_train.keys().index(x) if x in p_train else 10000000\n",
    "        y_p_i = p_train.keys().index(y) if y in p_train else 10000000\n",
    "        if x_p_i < y_p_i:\n",
    "            return -1\n",
    "        else:\n",
    "            return 1    "
   ]
  },
  {
   "cell_type": "code",
   "execution_count": 49,
   "metadata": {
    "collapsed": false
   },
   "outputs": [],
   "source": [
    "def get_recommended(viewed, stats, k):\n",
    "    return sorted(set(viewed), key=lambda z: stats[z] if z in stats else 0, reverse=True)[:k]"
   ]
  },
  {
   "cell_type": "code",
   "execution_count": null,
   "metadata": {
    "collapsed": false
   },
   "outputs": [],
   "source": [
    "recommended = get_recommended(['1','2','3','4','5','6','7','8','9','10'], v_train, 5)\n",
    "print recommended\n",
    "totals[0] += get_precision(recommended, \n",
    "                           ['2','4','11'], 5)\n",
    "totals"
   ]
  },
  {
   "cell_type": "markdown",
   "metadata": {},
   "source": [
    "## Task1"
   ]
  },
  {
   "cell_type": "code",
   "execution_count": 26,
   "metadata": {
    "collapsed": false
   },
   "outputs": [
    {
     "name": "stdout",
     "output_type": "stream",
     "text": [
      "[1593.5746142746127, 1842.0, 2973.8075480075486, 766.6000000000226]\n",
      "3608\n",
      "0.44 0.51 0.82 0.21\n"
     ]
    }
   ],
   "source": [
    "n = 0\n",
    "totals = [0.0, 0.0, 0.0, 0.0]\n",
    "for i in xrange(len(data_train_v)):\n",
    "    if len(data_train_p[i]) > 0:\n",
    "        n += 1        \n",
    "        \n",
    "        n_recommended = 1#min(1, len(set(data_train_v[i])))           \n",
    "        recommended = get_recommended(data_train_v[i], v_train, n_recommended)\n",
    "        #recommended = get_recommended2(data_train_v[i], v_train_sorted, n_recommended)\n",
    "        totals[0] += get_recall(recommended, data_train_p[i], n_recommended)\n",
    "        totals[1] += get_precision(recommended, data_train_p[i], n_recommended)\n",
    "        \n",
    "        n_recommended = 5#min(5, len(set(data_train_v[i])))\n",
    "        recommended = get_recommended(data_train_v[i], v_train, n_recommended)\n",
    "        #recommended = get_recommended2(data_train_v[i], v_train_sorted, n_recommended)\n",
    "        totals[2] += get_recall(recommended, data_train_p[i], n_recommended)\n",
    "        totals[3] += get_precision(recommended, data_train_p[i], n_recommended)\n",
    "print totals       \n",
    "res = ' '.join(['%.2f' % (total / float(n)) for total in totals])\n",
    "print n\n",
    "print res\n",
    "out('task1.txt', res)"
   ]
  },
  {
   "cell_type": "markdown",
   "metadata": {},
   "source": [
    "## Task2"
   ]
  },
  {
   "cell_type": "code",
   "execution_count": 48,
   "metadata": {
    "collapsed": false
   },
   "outputs": [
    {
     "ename": "KeyboardInterrupt",
     "evalue": "",
     "output_type": "error",
     "traceback": [
      "\u001b[1;31m---------------------------------------------------------------------------\u001b[0m",
      "\u001b[1;31mKeyboardInterrupt\u001b[0m                         Traceback (most recent call last)",
      "\u001b[1;32m<ipython-input-48-8002218feb8c>\u001b[0m in \u001b[0;36m<module>\u001b[1;34m()\u001b[0m\n\u001b[0;32m     12\u001b[0m \u001b[1;33m\u001b[0m\u001b[0m\n\u001b[0;32m     13\u001b[0m         \u001b[0mn_recommended\u001b[0m \u001b[1;33m=\u001b[0m \u001b[1;36m5\u001b[0m \u001b[1;31m#min(5, len(set(data_test_v[i])))\u001b[0m\u001b[1;33m\u001b[0m\u001b[0m\n\u001b[1;32m---> 14\u001b[1;33m         \u001b[0mrecommended\u001b[0m \u001b[1;33m=\u001b[0m \u001b[0mget_recommended\u001b[0m\u001b[1;33m(\u001b[0m\u001b[0mdata_test_v\u001b[0m\u001b[1;33m[\u001b[0m\u001b[0mi\u001b[0m\u001b[1;33m]\u001b[0m\u001b[1;33m,\u001b[0m \u001b[0mv_train\u001b[0m\u001b[1;33m,\u001b[0m \u001b[0mn_recommended\u001b[0m\u001b[1;33m)\u001b[0m\u001b[1;33m\u001b[0m\u001b[0m\n\u001b[0m\u001b[0;32m     15\u001b[0m         \u001b[1;31m#recommended = get_recommended2(data_test_v[i], v_test_sorted, n_recommended)\u001b[0m\u001b[1;33m\u001b[0m\u001b[1;33m\u001b[0m\u001b[0m\n\u001b[0;32m     16\u001b[0m         \u001b[0mtotals\u001b[0m\u001b[1;33m[\u001b[0m\u001b[1;36m2\u001b[0m\u001b[1;33m]\u001b[0m \u001b[1;33m+=\u001b[0m \u001b[0mget_recall\u001b[0m\u001b[1;33m(\u001b[0m\u001b[0mrecommended\u001b[0m\u001b[1;33m,\u001b[0m \u001b[0mdata_test_p\u001b[0m\u001b[1;33m[\u001b[0m\u001b[0mi\u001b[0m\u001b[1;33m]\u001b[0m\u001b[1;33m,\u001b[0m \u001b[0mn_recommended\u001b[0m\u001b[1;33m)\u001b[0m\u001b[1;33m\u001b[0m\u001b[0m\n",
      "\u001b[1;32m<ipython-input-47-a94bfae0b9ce>\u001b[0m in \u001b[0;36mget_recommended\u001b[1;34m(viewed, stats, k)\u001b[0m\n\u001b[0;32m      1\u001b[0m \u001b[1;32mdef\u001b[0m \u001b[0mget_recommended\u001b[0m\u001b[1;33m(\u001b[0m\u001b[0mviewed\u001b[0m\u001b[1;33m,\u001b[0m \u001b[0mstats\u001b[0m\u001b[1;33m,\u001b[0m \u001b[0mk\u001b[0m\u001b[1;33m)\u001b[0m\u001b[1;33m:\u001b[0m\u001b[1;33m\u001b[0m\u001b[0m\n\u001b[1;32m----> 2\u001b[1;33m     \u001b[1;32mreturn\u001b[0m \u001b[0msorted\u001b[0m\u001b[1;33m(\u001b[0m\u001b[0mset\u001b[0m\u001b[1;33m(\u001b[0m\u001b[0mviewed\u001b[0m\u001b[1;33m)\u001b[0m\u001b[1;33m,\u001b[0m \u001b[0mkey\u001b[0m\u001b[1;33m=\u001b[0m\u001b[1;32mlambda\u001b[0m \u001b[0mz\u001b[0m\u001b[1;33m:\u001b[0m \u001b[1;33m(\u001b[0m\u001b[1;33m-\u001b[0m\u001b[0mstats\u001b[0m\u001b[1;33m.\u001b[0m\u001b[0mkeys\u001b[0m\u001b[1;33m(\u001b[0m\u001b[1;33m)\u001b[0m\u001b[1;33m.\u001b[0m\u001b[0mindex\u001b[0m\u001b[1;33m(\u001b[0m\u001b[0mz\u001b[0m\u001b[1;33m)\u001b[0m\u001b[1;33m,\u001b[0m \u001b[0mstats\u001b[0m\u001b[1;33m[\u001b[0m\u001b[0mz\u001b[0m\u001b[1;33m]\u001b[0m\u001b[1;33m)\u001b[0m \u001b[1;32mif\u001b[0m \u001b[0mz\u001b[0m \u001b[1;32min\u001b[0m \u001b[0mstats\u001b[0m \u001b[1;32melse\u001b[0m \u001b[1;33m(\u001b[0m\u001b[1;36m0\u001b[0m\u001b[1;33m,\u001b[0m\u001b[1;36m0\u001b[0m\u001b[1;33m)\u001b[0m\u001b[1;33m,\u001b[0m \u001b[0mreverse\u001b[0m\u001b[1;33m=\u001b[0m\u001b[0mTrue\u001b[0m\u001b[1;33m)\u001b[0m\u001b[1;33m[\u001b[0m\u001b[1;33m:\u001b[0m\u001b[0mk\u001b[0m\u001b[1;33m]\u001b[0m\u001b[1;33m\u001b[0m\u001b[0m\n\u001b[0m",
      "\u001b[1;32m<ipython-input-47-a94bfae0b9ce>\u001b[0m in \u001b[0;36m<lambda>\u001b[1;34m(z)\u001b[0m\n\u001b[0;32m      1\u001b[0m \u001b[1;32mdef\u001b[0m \u001b[0mget_recommended\u001b[0m\u001b[1;33m(\u001b[0m\u001b[0mviewed\u001b[0m\u001b[1;33m,\u001b[0m \u001b[0mstats\u001b[0m\u001b[1;33m,\u001b[0m \u001b[0mk\u001b[0m\u001b[1;33m)\u001b[0m\u001b[1;33m:\u001b[0m\u001b[1;33m\u001b[0m\u001b[0m\n\u001b[1;32m----> 2\u001b[1;33m     \u001b[1;32mreturn\u001b[0m \u001b[0msorted\u001b[0m\u001b[1;33m(\u001b[0m\u001b[0mset\u001b[0m\u001b[1;33m(\u001b[0m\u001b[0mviewed\u001b[0m\u001b[1;33m)\u001b[0m\u001b[1;33m,\u001b[0m \u001b[0mkey\u001b[0m\u001b[1;33m=\u001b[0m\u001b[1;32mlambda\u001b[0m \u001b[0mz\u001b[0m\u001b[1;33m:\u001b[0m \u001b[1;33m(\u001b[0m\u001b[1;33m-\u001b[0m\u001b[0mstats\u001b[0m\u001b[1;33m.\u001b[0m\u001b[0mkeys\u001b[0m\u001b[1;33m(\u001b[0m\u001b[1;33m)\u001b[0m\u001b[1;33m.\u001b[0m\u001b[0mindex\u001b[0m\u001b[1;33m(\u001b[0m\u001b[0mz\u001b[0m\u001b[1;33m)\u001b[0m\u001b[1;33m,\u001b[0m \u001b[0mstats\u001b[0m\u001b[1;33m[\u001b[0m\u001b[0mz\u001b[0m\u001b[1;33m]\u001b[0m\u001b[1;33m)\u001b[0m \u001b[1;32mif\u001b[0m \u001b[0mz\u001b[0m \u001b[1;32min\u001b[0m \u001b[0mstats\u001b[0m \u001b[1;32melse\u001b[0m \u001b[1;33m(\u001b[0m\u001b[1;36m0\u001b[0m\u001b[1;33m,\u001b[0m\u001b[1;36m0\u001b[0m\u001b[1;33m)\u001b[0m\u001b[1;33m,\u001b[0m \u001b[0mreverse\u001b[0m\u001b[1;33m=\u001b[0m\u001b[0mTrue\u001b[0m\u001b[1;33m)\u001b[0m\u001b[1;33m[\u001b[0m\u001b[1;33m:\u001b[0m\u001b[0mk\u001b[0m\u001b[1;33m]\u001b[0m\u001b[1;33m\u001b[0m\u001b[0m\n\u001b[0m",
      "\u001b[1;32m/home/astar/anaconda2/lib/python2.7/collections.pyc\u001b[0m in \u001b[0;36mkeys\u001b[1;34m(self)\u001b[0m\n\u001b[0;32m    105\u001b[0m     \u001b[1;32mdef\u001b[0m \u001b[0mkeys\u001b[0m\u001b[1;33m(\u001b[0m\u001b[0mself\u001b[0m\u001b[1;33m)\u001b[0m\u001b[1;33m:\u001b[0m\u001b[1;33m\u001b[0m\u001b[0m\n\u001b[0;32m    106\u001b[0m         \u001b[1;34m'od.keys() -> list of keys in od'\u001b[0m\u001b[1;33m\u001b[0m\u001b[0m\n\u001b[1;32m--> 107\u001b[1;33m         \u001b[1;32mreturn\u001b[0m \u001b[0mlist\u001b[0m\u001b[1;33m(\u001b[0m\u001b[0mself\u001b[0m\u001b[1;33m)\u001b[0m\u001b[1;33m\u001b[0m\u001b[0m\n\u001b[0m\u001b[0;32m    108\u001b[0m \u001b[1;33m\u001b[0m\u001b[0m\n\u001b[0;32m    109\u001b[0m     \u001b[1;32mdef\u001b[0m \u001b[0mvalues\u001b[0m\u001b[1;33m(\u001b[0m\u001b[0mself\u001b[0m\u001b[1;33m)\u001b[0m\u001b[1;33m:\u001b[0m\u001b[1;33m\u001b[0m\u001b[0m\n",
      "\u001b[1;32m/home/astar/anaconda2/lib/python2.7/collections.pyc\u001b[0m in \u001b[0;36m__iter__\u001b[1;34m(self)\u001b[0m\n\u001b[0;32m     83\u001b[0m         \u001b[1;32mwhile\u001b[0m \u001b[0mcurr\u001b[0m \u001b[1;32mis\u001b[0m \u001b[1;32mnot\u001b[0m \u001b[0mroot\u001b[0m\u001b[1;33m:\u001b[0m\u001b[1;33m\u001b[0m\u001b[0m\n\u001b[0;32m     84\u001b[0m             \u001b[1;32myield\u001b[0m \u001b[0mcurr\u001b[0m\u001b[1;33m[\u001b[0m\u001b[1;36m2\u001b[0m\u001b[1;33m]\u001b[0m                               \u001b[1;31m# yield the curr[KEY]\u001b[0m\u001b[1;33m\u001b[0m\u001b[0m\n\u001b[1;32m---> 85\u001b[1;33m             \u001b[0mcurr\u001b[0m \u001b[1;33m=\u001b[0m \u001b[0mcurr\u001b[0m\u001b[1;33m[\u001b[0m\u001b[1;36m1\u001b[0m\u001b[1;33m]\u001b[0m                              \u001b[1;31m# move to next node\u001b[0m\u001b[1;33m\u001b[0m\u001b[0m\n\u001b[0m\u001b[0;32m     86\u001b[0m \u001b[1;33m\u001b[0m\u001b[0m\n\u001b[0;32m     87\u001b[0m     \u001b[1;32mdef\u001b[0m \u001b[0m__reversed__\u001b[0m\u001b[1;33m(\u001b[0m\u001b[0mself\u001b[0m\u001b[1;33m)\u001b[0m\u001b[1;33m:\u001b[0m\u001b[1;33m\u001b[0m\u001b[0m\n",
      "\u001b[1;31mKeyboardInterrupt\u001b[0m: "
     ]
    }
   ],
   "source": [
    "n = 0\n",
    "totals = [0.0, 0.0, 0.0, 0.0]\n",
    "for i in xrange(len(data_train_v)):\n",
    "    if len(data_test_p[i]) > 0:\n",
    "        n += 1        \n",
    "        \n",
    "        n_recommended = min(1, len(set(data_test_v[i])))           \n",
    "        recommended = get_recommended(data_test_v[i], v_train, n_recommended)\n",
    "        #recommended = get_recommended2(data_test_v[i], v_test_sorted, n_recommended)\n",
    "        totals[0] += get_recall(recommended, data_test_p[i], 1)\n",
    "        totals[1] += get_precision(recommended, data_test_p[i], 1)\n",
    "        \n",
    "        n_recommended = 5 #min(5, len(set(data_test_v[i])))\n",
    "        recommended = get_recommended(data_test_v[i], v_train, n_recommended)\n",
    "        #recommended = get_recommended2(data_test_v[i], v_test_sorted, n_recommended)\n",
    "        totals[2] += get_recall(recommended, data_test_p[i], 5)\n",
    "        totals[3] += get_precision(recommended, data_test_p[i], n_recommended)\n",
    "print totals       \n",
    "res = ' '.join(['%.2f' % (total / float(n)) for total in totals])\n",
    "print res\n",
    "out('task2.txt', res)"
   ]
  },
  {
   "cell_type": "markdown",
   "metadata": {},
   "source": [
    "## Task3"
   ]
  },
  {
   "cell_type": "code",
   "execution_count": 37,
   "metadata": {
    "collapsed": false
   },
   "outputs": [
    {
     "name": "stdout",
     "output_type": "stream",
     "text": [
      "[2434.349578199578, 2848.0, 3334.595318570318, 908.6000000000362]\n",
      "0.67 0.79 0.92 0.25\n"
     ]
    }
   ],
   "source": [
    "n = 0\n",
    "totals = [0.0, 0.0, 0.0, 0.0]\n",
    "for i in xrange(len(data_train_p)):\n",
    "    if len(data_train_p[i]) > 0:\n",
    "        n += 1        \n",
    "        \n",
    "        n_recommended = 1# min(1, len(set(data_train_v[i])))           \n",
    "        recommended = get_recommended(data_train_v[i], p_train, n_recommended)\n",
    "        totals[0] += get_recall(recommended, data_train_p[i], n_recommended)\n",
    "        totals[1] += get_precision(recommended, data_train_p[i], n_recommended)\n",
    "        \n",
    "        n_recommended = 5#min(5, len(set(data_train_v[i])))\n",
    "        recommended = get_recommended(data_train_v[i], p_train, n_recommended)\n",
    "        totals[2] += get_recall(recommended, data_train_p[i], n_recommended)\n",
    "        totals[3] += get_precision(recommended, data_train_p[i], n_recommended)\n",
    "print totals       \n",
    "res = ' '.join(['%.2f' % (total / float(n)) for total in totals])\n",
    "print res\n",
    "out('task3.txt', res)"
   ]
  },
  {
   "cell_type": "markdown",
   "metadata": {},
   "source": [
    "## Task4"
   ]
  },
  {
   "cell_type": "code",
   "execution_count": 45,
   "metadata": {
    "collapsed": false
   },
   "outputs": [
    {
     "name": "stdout",
     "output_type": "stream",
     "text": [
      "[1496.4553571428562, 1732.0, 2897.9057938965057, 739.8000000000178]\n",
      "0.41 0.47 0.79 0.20\n"
     ]
    }
   ],
   "source": [
    "n = 0\n",
    "totals = [0.0, 0.0, 0.0, 0.0]\n",
    "for i in xrange(len(data_test_p)):\n",
    "    if len(data_test_p[i]) > 0:\n",
    "        n += 1        \n",
    "        \n",
    "        n_recommended = 1#min(1, len(set(data_test_v[i])))           \n",
    "        recommended = get_recommended(data_test_v[i], p_train, n_recommended)\n",
    "        totals[0] += get_recall(recommended, data_test_p[i], n_recommended)\n",
    "        totals[1] += get_precision(recommended, data_test_p[i], n_recommended)\n",
    "        \n",
    "        n_recommended = 5#min(5, len(set(data_test_v[i])))\n",
    "        recommended = get_recommended(data_test_v[i], p_train, n_recommended)\n",
    "        totals[2] += get_recall(recommended, data_test_p[i], n_recommended)\n",
    "        totals[3] += get_precision(recommended, data_test_p[i], n_recommended)\n",
    "print totals       \n",
    "res = ' '.join(['%.2f' % (total / float(n)) for total in totals])\n",
    "print res\n",
    "out('task4.txt', res)"
   ]
  },
  {
   "cell_type": "code",
   "execution_count": null,
   "metadata": {
    "collapsed": false
   },
   "outputs": [],
   "source": [
    "data_test_p[0]"
   ]
  },
  {
   "cell_type": "code",
   "execution_count": null,
   "metadata": {
    "collapsed": true
   },
   "outputs": [],
   "source": []
  }
 ],
 "metadata": {
  "kernelspec": {
   "display_name": "Python 2",
   "language": "python",
   "name": "python2"
  },
  "language_info": {
   "codemirror_mode": {
    "name": "ipython",
    "version": 2
   },
   "file_extension": ".py",
   "mimetype": "text/x-python",
   "name": "python",
   "nbconvert_exporter": "python",
   "pygments_lexer": "ipython2",
   "version": "2.7.11"
  }
 },
 "nbformat": 4,
 "nbformat_minor": 0
}
