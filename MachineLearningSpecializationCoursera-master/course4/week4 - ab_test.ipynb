{
 "cells": [
  {
   "cell_type": "code",
   "execution_count": 75,
   "metadata": {
    "collapsed": false
   },
   "outputs": [
    {
     "name": "stdout",
     "output_type": "stream",
     "text": [
      "Populating the interactive namespace from numpy and matplotlib\n"
     ]
    }
   ],
   "source": [
    "import numpy as np\n",
    "import pandas as pd\n",
    "import statsmodels\n",
    "import scipy as sc\n",
    "from statsmodels.stats.weightstats import *\n",
    "from pandas.tools.plotting import scatter_matrix\n",
    "from scipy import stats\n",
    "from collections import namedtuple\n",
    "from statsmodels.sandbox.stats.multicomp import multipletests \n",
    "%pylab inline"
   ]
  },
  {
   "cell_type": "code",
   "execution_count": 6,
   "metadata": {
    "collapsed": false
   },
   "outputs": [],
   "source": [
    "data = pd.read_csv('ab_browser_test.csv')"
   ]
  },
  {
   "cell_type": "code",
   "execution_count": 7,
   "metadata": {
    "collapsed": false
   },
   "outputs": [
    {
     "data": {
      "text/html": [
       "<div>\n",
       "<table border=\"1\" class=\"dataframe\">\n",
       "  <thead>\n",
       "    <tr style=\"text-align: right;\">\n",
       "      <th></th>\n",
       "      <th>userID</th>\n",
       "      <th>browser</th>\n",
       "      <th>slot</th>\n",
       "      <th>n_clicks</th>\n",
       "      <th>n_queries</th>\n",
       "      <th>n_nonclk_queries</th>\n",
       "    </tr>\n",
       "  </thead>\n",
       "  <tbody>\n",
       "    <tr>\n",
       "      <th>0</th>\n",
       "      <td>1</td>\n",
       "      <td>Browser #2</td>\n",
       "      <td>exp</td>\n",
       "      <td>23</td>\n",
       "      <td>32</td>\n",
       "      <td>19</td>\n",
       "    </tr>\n",
       "    <tr>\n",
       "      <th>1</th>\n",
       "      <td>3</td>\n",
       "      <td>Browser #4</td>\n",
       "      <td>exp</td>\n",
       "      <td>3</td>\n",
       "      <td>4</td>\n",
       "      <td>2</td>\n",
       "    </tr>\n",
       "    <tr>\n",
       "      <th>2</th>\n",
       "      <td>5</td>\n",
       "      <td>Browser #4</td>\n",
       "      <td>exp</td>\n",
       "      <td>29</td>\n",
       "      <td>35</td>\n",
       "      <td>16</td>\n",
       "    </tr>\n",
       "    <tr>\n",
       "      <th>3</th>\n",
       "      <td>6</td>\n",
       "      <td>Browser #4</td>\n",
       "      <td>control</td>\n",
       "      <td>12</td>\n",
       "      <td>6</td>\n",
       "      <td>0</td>\n",
       "    </tr>\n",
       "    <tr>\n",
       "      <th>4</th>\n",
       "      <td>7</td>\n",
       "      <td>Browser #4</td>\n",
       "      <td>exp</td>\n",
       "      <td>54</td>\n",
       "      <td>68</td>\n",
       "      <td>30</td>\n",
       "    </tr>\n",
       "  </tbody>\n",
       "</table>\n",
       "</div>"
      ],
      "text/plain": [
       "   userID     browser     slot  n_clicks  n_queries  n_nonclk_queries\n",
       "0       1  Browser #2      exp        23         32                19\n",
       "1       3  Browser #4      exp         3          4                 2\n",
       "2       5  Browser #4      exp        29         35                16\n",
       "3       6  Browser #4  control        12          6                 0\n",
       "4       7  Browser #4      exp        54         68                30"
      ]
     },
     "execution_count": 7,
     "metadata": {},
     "output_type": "execute_result"
    }
   ],
   "source": [
    "data.head()"
   ]
  },
  {
   "cell_type": "code",
   "execution_count": 19,
   "metadata": {
    "collapsed": true
   },
   "outputs": [],
   "source": [
    "clicks_exp = data[data['slot'] == 'exp']['n_clicks'].values\n",
    "clicks_ctl = data[data['slot'] == 'control']['n_clicks'].values"
   ]
  },
  {
   "cell_type": "code",
   "execution_count": 36,
   "metadata": {
    "collapsed": false
   },
   "outputs": [
    {
     "data": {
      "text/plain": [
       "count    281580.000000\n",
       "mean         11.584001\n",
       "std          20.219494\n",
       "min           0.000000\n",
       "25%           1.000000\n",
       "50%           5.000000\n",
       "75%          13.000000\n",
       "max         776.000000\n",
       "Name: n_clicks, dtype: float64"
      ]
     },
     "execution_count": 36,
     "metadata": {},
     "output_type": "execute_result"
    }
   ],
   "source": [
    "data[data['slot'] == 'exp']['n_clicks'].describe()"
   ]
  },
  {
   "cell_type": "code",
   "execution_count": 37,
   "metadata": {
    "collapsed": false
   },
   "outputs": [
    {
     "data": {
      "text/plain": [
       "count    284554.000000\n",
       "mean         11.280906\n",
       "std          20.282018\n",
       "min           0.000000\n",
       "25%           1.000000\n",
       "50%           4.000000\n",
       "75%          13.000000\n",
       "max         863.000000\n",
       "Name: n_clicks, dtype: float64"
      ]
     },
     "execution_count": 37,
     "metadata": {},
     "output_type": "execute_result"
    }
   ],
   "source": [
    "data[data['slot'] == 'control']['n_clicks'].describe()"
   ]
  },
  {
   "cell_type": "code",
   "execution_count": 43,
   "metadata": {
    "collapsed": false
   },
   "outputs": [
    {
     "name": "stdout",
     "output_type": "stream",
     "text": [
      "11.5840009944 5.0\n",
      "11.2809062603 4.0\n"
     ]
    }
   ],
   "source": [
    "print clicks_exp.mean(), np.median(clicks_exp)\n",
    "print clicks_ctl.mean(), np.median(clicks_ctl)"
   ]
  },
  {
   "cell_type": "code",
   "execution_count": 20,
   "metadata": {
    "collapsed": false
   },
   "outputs": [
    {
     "data": {
      "text/plain": [
       "1.6135689824415806"
      ]
     },
     "execution_count": 20,
     "metadata": {},
     "output_type": "execute_result"
    }
   ],
   "source": [
    "s1 = sum(clicks_exp)\n",
    "s2 = sum(clicks_ctl)\n",
    "100* (s1 - s2) / float(s2)"
   ]
  },
  {
   "cell_type": "code",
   "execution_count": 29,
   "metadata": {
    "collapsed": true
   },
   "outputs": [],
   "source": [
    "def iter_bootstrap_samples(data, n_samples):\n",
    "    i = 0\n",
    "    while i < n_samples:\n",
    "        indices = np.random.randint(0, len(data), len(data))\n",
    "        sample = data[indices]\n",
    "        yield sample\n",
    "        i += 1"
   ]
  },
  {
   "cell_type": "code",
   "execution_count": 30,
   "metadata": {
    "collapsed": true
   },
   "outputs": [],
   "source": [
    "def get_bootstrap_samples2(data, n_samples, func):\n",
    "    scores = []\n",
    "    for sample in iter_bootstrap_samples(data, n_samples):\n",
    "        scores.append(func(sample))\n",
    "    return scores"
   ]
  },
  {
   "cell_type": "code",
   "execution_count": 46,
   "metadata": {
    "collapsed": true
   },
   "outputs": [],
   "source": [
    "def get_square_diff(sample, m):    \n",
    "    res = 0\n",
    "    for n in sample:\n",
    "        res += (n-m)**2\n",
    "    return res"
   ]
  },
  {
   "cell_type": "code",
   "execution_count": 47,
   "metadata": {
    "collapsed": true
   },
   "outputs": [],
   "source": [
    "def get_bootstrap_samples3(data, n_samples):\n",
    "    means = []\n",
    "    squares = []\n",
    "    for sample in iter_bootstrap_samples(data, n_samples):\n",
    "        m = sample.mean()\n",
    "        means.append(m)\n",
    "        squares.append(get_square_diff(sample, m))\n",
    "        \n",
    "    return (means, squares)"
   ]
  },
  {
   "cell_type": "code",
   "execution_count": 21,
   "metadata": {
    "collapsed": true
   },
   "outputs": [],
   "source": [
    "def get_bootstrap_samples(data, n_samples):\n",
    "    indices = np.random.randint(0, len(data), (n_samples, len(data)))\n",
    "    samples = data[indices]\n",
    "    return samples"
   ]
  },
  {
   "cell_type": "code",
   "execution_count": 22,
   "metadata": {
    "collapsed": true
   },
   "outputs": [],
   "source": [
    "def stat_intervals(stat, alpha):\n",
    "    boundaries = np.percentile(stat, [100 * alpha / 2., 100 * (1 - alpha / 2.)])\n",
    "    return boundaries"
   ]
  },
  {
   "cell_type": "code",
   "execution_count": 34,
   "metadata": {
    "collapsed": false
   },
   "outputs": [
    {
     "data": {
      "text/plain": [
       "(1.0, 1.0)"
      ]
     },
     "execution_count": 34,
     "metadata": {},
     "output_type": "execute_result"
    }
   ],
   "source": [
    "np.random.seed(0)\n",
    "#exp_median_scores = map(np.median, get_bootstrap_samples(clicks_exp, 300))\n",
    "#ctl_median_scores = map(np.median, get_bootstrap_samples(clicks_ctl, 300))\n",
    "exp_median_scores = get_bootstrap_samples2(clicks_exp, 500, np.median)\n",
    "ctl_median_scores = get_bootstrap_samples2(clicks_ctl, 500, np.median)\n",
    "delta_median_scores = map(lambda x: x[0] - x[1], zip(exp_median_scores, ctl_median_scores))\n",
    "interval = stat_intervals(delta_median_scores, 0.05)\n",
    "interval[0], interval[1]\n"
   ]
  },
  {
   "cell_type": "code",
   "execution_count": 35,
   "metadata": {
    "collapsed": false
   },
   "outputs": [
    {
     "data": {
      "text/plain": [
       "(1.0, 1.0)"
      ]
     },
     "execution_count": 35,
     "metadata": {},
     "output_type": "execute_result"
    }
   ],
   "source": [
    "# exp_mean_scores = map(np.mean, get_bootstrap_samples(clicks_exp, 400))\n",
    "# ctl_mean_scores = map(np.mean, get_bootstrap_samples(clicks_ctl, 400))\n",
    "exp_mean_scores = get_bootstrap_samples2(clicks_exp, 500, np.mean)\n",
    "ctl_mean_scores = get_bootstrap_samples2(clicks_ctl, 500, np.mean)\n",
    "delta_mean_scores = map(lambda x: x[0] - x[1], zip(exp_median_scores, ctl_median_scores))\n",
    "interval = stat_intervals(delta_mean_scores, 0.05)\n",
    "interval[0], interval[1]"
   ]
  },
  {
   "cell_type": "markdown",
   "metadata": {},
   "source": [
    "Проверим нормальность"
   ]
  },
  {
   "cell_type": "code",
   "execution_count": 44,
   "metadata": {
    "collapsed": false
   },
   "outputs": [
    {
     "name": "stdout",
     "output_type": "stream",
     "text": [
      "Shapiro-Wilk normality test, W-statistic: 0.545756, p-value: 0.000000\n"
     ]
    },
    {
     "name": "stderr",
     "output_type": "stream",
     "text": [
      "/home/astar/anaconda2/lib/python2.7/site-packages/scipy/stats/morestats.py:1329: UserWarning: p-value may not be accurate for N > 5000.\n",
      "  warnings.warn(\"p-value may not be accurate for N > 5000.\")\n"
     ]
    }
   ],
   "source": [
    "print \"Shapiro-Wilk normality test, W-statistic: %f, p-value: %f\" % stats.shapiro(clicks_exp)"
   ]
  },
  {
   "cell_type": "code",
   "execution_count": 45,
   "metadata": {
    "collapsed": false
   },
   "outputs": [
    {
     "data": {
      "image/png": "[encoded data removed]",
      "text/plain": [
       "<matplotlib.figure.Figure at 0xabee58cc>"
      ]
     },
     "metadata": {},
     "output_type": "display_data"
    }
   ],
   "source": [
    "pylab.figure(figsize=(12,8))\n",
    "pylab.subplot(2,2,1)\n",
    "stats.probplot(clicks_exp, dist=\"norm\", plot=pylab)\n",
    "pylab.subplot(2,2,2)\n",
    "stats.probplot(clicks_ctl, dist=\"norm\", plot=pylab)\n",
    "pylab.show()"
   ]
  },
  {
   "cell_type": "code",
   "execution_count": 48,
   "metadata": {
    "collapsed": true
   },
   "outputs": [],
   "source": [
    "np.random.seed(0)\n",
    "n_boot_samples = 500\n",
    "means, squares = get_bootstrap_samples3(clicks_ctl, n_boot_samples)"
   ]
  },
  {
   "cell_type": "code",
   "execution_count": 50,
   "metadata": {
    "collapsed": false
   },
   "outputs": [
    {
     "data": {
      "image/png": "[encoded data removed]",
      "text/plain": [
       "<matplotlib.figure.Figure at 0xaada554c>"
      ]
     },
     "metadata": {},
     "output_type": "display_data"
    }
   ],
   "source": [
    "pylab.figure(figsize=(12,8))\n",
    "pylab.subplot(2,2,1)\n",
    "stats.probplot(means, dist=\"norm\", plot=pylab)\n",
    "pylab.subplot(2,2,2)\n",
    "stats.probplot(squares, dist=\"chi2\", sparams=(len(squares)-1), plot=pylab)\n",
    "pylab.show()\n",
    "#print r1, r2"
   ]
  },
  {
   "cell_type": "markdown",
   "metadata": {},
   "source": [
    "r1^2 = 0.9960\n",
    "\n",
    "r2^2 = 0.9973"
   ]
  },
  {
   "cell_type": "code",
   "execution_count": 76,
   "metadata": {
    "collapsed": true
   },
   "outputs": [],
   "source": [
    "clicks_ctl2 = data[data['slot']=='control'].groupby(by='userID')['n_clicks'].agg(np.sum).values\n",
    "clicks_exp2 = data[data['slot']=='exp'].groupby(by='userID')['n_clicks'].agg(np.sum).values"
   ]
  },
  {
   "cell_type": "code",
   "execution_count": 77,
   "metadata": {
    "collapsed": false
   },
   "outputs": [
    {
     "data": {
      "text/plain": [
       "(11.287332273762974, 11.589351572215314)"
      ]
     },
     "execution_count": 77,
     "metadata": {},
     "output_type": "execute_result"
    }
   ],
   "source": [
    "clicks_ctl2.mean(), clicks_exp2.mean()"
   ]
  },
  {
   "cell_type": "code",
   "execution_count": 78,
   "metadata": {
    "collapsed": false
   },
   "outputs": [
    {
     "data": {
      "text/plain": [
       "MannwhitneyuResult(statistic=38901259929.0, pvalue=nan)"
      ]
     },
     "execution_count": 78,
     "metadata": {},
     "output_type": "execute_result"
    }
   ],
   "source": [
    "stats.mannwhitneyu(clicks_ctl2, clicks_exp2)"
   ]
  },
  {
   "cell_type": "code",
   "execution_count": 79,
   "metadata": {
    "collapsed": true
   },
   "outputs": [],
   "source": [
    "MannwhitneyuResult = namedtuple('MannwhitneyuResult', ('statistic', 'pvalue'))\n",
    "def tiecorrect(rankvals):\n",
    "    arr = np.sort(rankvals)\n",
    "    idx = np.nonzero(np.r_[True, arr[1:] != arr[:-1], True])[0]\n",
    "    cnt = np.diff(idx).astype(np.float64)\n",
    "    size = np.float64(arr.size)\n",
    "    return 1.0 if size < 2 else 1.0 - (cnt**3 - cnt).sum() / (size**3 - size)\n",
    "\n",
    "def mannwhitneyu(x, y, use_continuity=True, alternative=None):\n",
    "    if alternative is None:\n",
    "        warnings.warn(\"Calling `mannwhitneyu` without specifying \"\n",
    "                      \"`alternative` is deprecated.\", DeprecationWarning)\n",
    "\n",
    "    x = np.asarray(x)\n",
    "    y = np.asarray(y)\n",
    "    n1 = len(x)\n",
    "    n2 = len(y)\n",
    "    ranked = sc.stats.rankdata(np.concatenate((x, y)))\n",
    "    rankx = ranked[0:n1]  # get the x-ranks\n",
    "    u1 = n1*n2 + (n1*(n1+1))/2.0 - np.sum(rankx, axis=0)  # calc U for x\n",
    "    u2 = n1*n2 - u1  # remainder is U for y\n",
    "    T = tiecorrect(ranked)\n",
    "    if T == 0:\n",
    "        raise ValueError('All numbers are identical in mannwhitneyu')\n",
    "    sd = np.sqrt(T * n1 * n2 * (n1+n2+1) / 12.0)\n",
    "\n",
    "    meanrank = n1*n2/2.0 + 0.5 * use_continuity\n",
    "    if alternative is None or alternative == 'two-sided':\n",
    "        bigu = max(u1, u2)\n",
    "    elif alternative == 'less':\n",
    "        bigu = u1\n",
    "    elif alternative == 'greater':\n",
    "        bigu = u2\n",
    "    else:\n",
    "        raise ValueError(\"alternative should be None, 'less', 'greater' \"\n",
    "                         \"or 'two-sided'\")\n",
    "    z = (bigu - meanrank) / sd\n",
    "    if alternative is None:\n",
    "        # This behavior, equal to half the size of the two-sided\n",
    "        # p-value, is deprecated.\n",
    "        p = sc.stats.distributions.norm.sf(abs(z))\n",
    "    elif alternative == 'two-sided':\n",
    "        p = 2 * sc.stats.distributions.norm.sf(abs(z))\n",
    "    else:\n",
    "        p = sc.stats.distributions.norm.sf(z)\n",
    "    u = u2\n",
    "    # This behavior is deprecated.\n",
    "    if alternative is None:\n",
    "        u = min(u1, u2)\n",
    "    return MannwhitneyuResult(u, p)"
   ]
  },
  {
   "cell_type": "code",
   "execution_count": 80,
   "metadata": {
    "collapsed": false
   },
   "outputs": [
    {
     "name": "stderr",
     "output_type": "stream",
     "text": [
      "/home/astar/anaconda2/lib/python2.7/site-packages/ipykernel/__main__.py:12: DeprecationWarning: Calling `mannwhitneyu` without specifying `alternative` is deprecated.\n"
     ]
    },
    {
     "data": {
      "text/plain": [
       "MannwhitneyuResult(statistic=38901259929.0, pvalue=4.3471471887604388e-75)"
      ]
     },
     "execution_count": 80,
     "metadata": {},
     "output_type": "execute_result"
    }
   ],
   "source": [
    "mannwhitneyu(clicks_ctl2, clicks_exp2)"
   ]
  },
  {
   "cell_type": "code",
   "execution_count": 74,
   "metadata": {
    "collapsed": false
   },
   "outputs": [
    {
     "data": {
      "text/plain": [
       "Browser #4     156833\n",
       "Browser #22    142905\n",
       "Browser #2     110737\n",
       "Browser #14     89123\n",
       "Browser #20     33929\n",
       "Browser #17     32607\n",
       "Name: browser, dtype: int64"
      ]
     },
     "execution_count": 74,
     "metadata": {},
     "output_type": "execute_result"
    }
   ],
   "source": [
    "data.browser.value_counts()"
   ]
  },
  {
   "cell_type": "code",
   "execution_count": 86,
   "metadata": {
    "collapsed": false
   },
   "outputs": [
    {
     "data": {
      "text/plain": [
       "array([36, 72,  1, ...,  4,  1,  1], dtype=int64)"
      ]
     },
     "execution_count": 86,
     "metadata": {},
     "output_type": "execute_result"
    }
   ],
   "source": [
    "data[(data['slot']=='control') & (data['browser']=='Browser #22')].groupby(by='userID')['n_clicks'].agg(np.sum).values"
   ]
  },
  {
   "cell_type": "code",
   "execution_count": 92,
   "metadata": {
    "collapsed": false
   },
   "outputs": [
    {
     "name": "stderr",
     "output_type": "stream",
     "text": [
      "/home/astar/anaconda2/lib/python2.7/site-packages/ipykernel/__main__.py:12: DeprecationWarning: Calling `mannwhitneyu` without specifying `alternative` is deprecated.\n"
     ]
    },
    {
     "name": "stdout",
     "output_type": "stream",
     "text": [
      "[0.40760617658454984, 0.25740551522100324, 0.027243860419724104, 0.0, 0.45366656388735377, 0.037400601430108024]\n",
      "[ 0.81521235  0.77221655  0.1362193   0.          0.81521235  0.14960241]\n",
      "[False False False  True False False]\n"
     ]
    }
   ],
   "source": [
    "pvalues = []\n",
    "for browser in ['Browser #4', 'Browser #22', 'Browser #2', 'Browser #14', 'Browser #20', 'Browser #17']:\n",
    "    ctl = data[(data['slot']=='control') & (data['browser']==browser)].groupby(by='userID')['n_clicks'].agg(np.sum).values\n",
    "    exp = data[(data['slot']=='exp') & (data['browser']==browser)].groupby(by='userID')['n_clicks'].agg(np.sum).values\n",
    "    p = mannwhitneyu(ctl, exp).pvalue\n",
    "    pvalues.append(p)\n",
    "    \n",
    "reject, p_corrected, a1, a2 = multipletests(pvalues, \n",
    "                                            alpha = 0.05, \n",
    "                                            method = 'holm')\n",
    "print pvalues\n",
    "print p_corrected\n",
    "print reject"
   ]
  },
  {
   "cell_type": "code",
   "execution_count": 94,
   "metadata": {
    "collapsed": false
   },
   "outputs": [
    {
     "name": "stderr",
     "output_type": "stream",
     "text": [
      "/home/astar/anaconda2/lib/python2.7/site-packages/ipykernel/__main__.py:12: DeprecationWarning: Calling `mannwhitneyu` without specifying `alternative` is deprecated.\n"
     ]
    },
    {
     "name": "stdout",
     "output_type": "stream",
     "text": [
      "[0.40760617658454984, 0.25740551522100324, 0.027243860419724104, 0.0, 0.45366656388735377, 0.037400601430108024]\n",
      "[ 0.81521235  0.77221655  0.1362193   0.          0.81521235  0.14960241]\n",
      "[False False False  True False False]\n"
     ]
    }
   ],
   "source": [
    "pvalues = []\n",
    "for browser in ['Browser #4', 'Browser #22', 'Browser #2', 'Browser #14', 'Browser #20', 'Browser #17']:\n",
    "    ctl = data[(data['slot']=='control') & (data['browser']==browser)]['n_clicks'].values\n",
    "    exp = data[(data['slot']=='exp') & (data['browser']==browser)]['n_clicks'].values\n",
    "    p = mannwhitneyu(ctl, exp).pvalue\n",
    "    pvalues.append(p)\n",
    "    \n",
    "reject, p_corrected, a1, a2 = multipletests(pvalues, \n",
    "                                            alpha = 0.05, \n",
    "                                            method = 'holm')\n",
    "print pvalues\n",
    "print p_corrected\n",
    "print reject"
   ]
  },
  {
   "cell_type": "code",
   "execution_count": 91,
   "metadata": {
    "collapsed": false
   },
   "outputs": [
    {
     "name": "stdout",
     "output_type": "stream",
     "text": [
      "Browser #4 46.9709296351 45.1429419036\n",
      "Browser #22 40.5939765935 39.8539472197\n",
      "Browser #2 45.9627471792 44.9827469486\n",
      "Browser #14 57.5904113601 43.7556173613\n",
      "Browser #20 40.5404847434 38.9773764837\n",
      "Browser #17 36.2993667463 36.9374128487\n"
     ]
    }
   ],
   "source": [
    "\n",
    "for browser in ['Browser #4', 'Browser #22', 'Browser #2', 'Browser #14', 'Browser #20', 'Browser #17']:\n",
    "    s1 = sum(data[(data['slot']=='control') & (data['browser']==browser)]['n_nonclk_queries'].values)\n",
    "    s2 = sum(data[(data['slot']=='control') & (data['browser']==browser)]['n_queries'].values)\n",
    "    p1 = 100 * s1 / float(s2)\n",
    "    s3 = sum(data[(data['slot']=='exp') & (data['browser']==browser)]['n_nonclk_queries'].values)\n",
    "    s4 = sum(data[(data['slot']=='exp') & (data['browser']==browser)]['n_queries'].values)\n",
    "    p2 = 100 * s3 / float(s4)\n",
    "    print browser, p1, p2"
   ]
  },
  {
   "cell_type": "code",
   "execution_count": null,
   "metadata": {
    "collapsed": true
   },
   "outputs": [],
   "source": []
  }
 ],
 "metadata": {
  "kernelspec": {
   "display_name": "Python 2",
   "language": "python",
   "name": "python2"
  },
  "language_info": {
   "codemirror_mode": {
    "name": "ipython",
    "version": 2
   },
   "file_extension": ".py",
   "mimetype": "text/x-python",
   "name": "python",
   "nbconvert_exporter": "python",
   "pygments_lexer": "ipython2",
   "version": "2.7.11"
  }
 },
 "nbformat": 4,
 "nbformat_minor": 0
}
