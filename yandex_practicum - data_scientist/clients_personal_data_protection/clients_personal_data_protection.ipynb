{
 "cells": [
  {
   "cell_type": "markdown",
   "metadata": {},
   "source": [
    "# Защита персональных данных клиентов"
   ]
  },
  {
   "cell_type": "markdown",
   "metadata": {},
   "source": [
    "Вам нужно защитить данные клиентов страховой компании «Хоть потоп». Разработайте такой метод преобразования данных, чтобы по ним было сложно восстановить персональную информацию. Обоснуйте корректность его работы.\n",
    "\n",
    "Нужно защитить данные, чтобы при преобразовании качество моделей машинного обучения не ухудшилось. Подбирать наилучшую модель не требуется."
   ]
  },
  {
   "cell_type": "markdown",
   "metadata": {},
   "source": [
    "**План выполнения проекта**\n",
    "\n",
    "1. Загрузите и изучите данные.\n",
    "2. Ответьте на вопрос и обоснуйте решение. \n",
    "   Признаки умножают на обратимую матрицу. Изменится ли качество линейной регрессии? (Её можно обучить заново.)\n",
    "  - a. Изменится. Приведите примеры матриц.\n",
    "  - b. Не изменится. Укажите, как связаны параметры линейной регрессии в исходной задаче и в преобразованной.\n",
    "3. Предложите алгоритм преобразования данных для решения задачи. Обоснуйте, почему качество линейной регрессии не поменяется.\n",
    "4. Запрограммируйте этот алгоритм, применив матричные операции. Проверьте, что качество линейной регрессии из sklearn не отличается до и после преобразования. Примените метрику R2."
   ]
  },
  {
   "cell_type": "markdown",
   "metadata": {
    "toc": true
   },
   "source": [
    "<h1>Содержание<span class=\"tocSkip\"></span></h1>\n",
    "<div class=\"toc\"><ul class=\"toc-item\"><li><span><a href=\"#Загрузка-и-исследование-данных\" data-toc-modified-id=\"Загрузка-и-исследование-данных-1\"><span class=\"toc-item-num\">1&nbsp;&nbsp;</span>Загрузка и исследование данных</a></span><ul class=\"toc-item\"><li><span><a href=\"#Загрузка-данных\" data-toc-modified-id=\"Загрузка-данных-1.1\"><span class=\"toc-item-num\">1.1&nbsp;&nbsp;</span>Загрузка данных</a></span></li><li><span><a href=\"#Исследование\" data-toc-modified-id=\"Исследование-1.2\"><span class=\"toc-item-num\">1.2&nbsp;&nbsp;</span>Исследование</a></span></li><li><span><a href=\"#Визуализация-данных\" data-toc-modified-id=\"Визуализация-данных-1.3\"><span class=\"toc-item-num\">1.3&nbsp;&nbsp;</span>Визуализация данных</a></span></li><li><span><a href=\"#Промежуточные-вывод\" data-toc-modified-id=\"Промежуточные-вывод-1.4\"><span class=\"toc-item-num\">1.4&nbsp;&nbsp;</span>Промежуточные вывод</a></span></li></ul></li><li><span><a href=\"#Умножение-матриц\" data-toc-modified-id=\"Умножение-матриц-2\"><span class=\"toc-item-num\">2&nbsp;&nbsp;</span>Умножение матриц</a></span><ul class=\"toc-item\"><li><span><a href=\"#Ответ-на-вопрос\" data-toc-modified-id=\"Ответ-на-вопрос-2.1\"><span class=\"toc-item-num\">2.1&nbsp;&nbsp;</span>Ответ на вопрос</a></span></li><li><span><a href=\"#Обоснование\" data-toc-modified-id=\"Обоснование-2.2\"><span class=\"toc-item-num\">2.2&nbsp;&nbsp;</span>Обоснование</a></span></li><li><span><a href=\"#Промежуточный-вывод\" data-toc-modified-id=\"Промежуточный-вывод-2.3\"><span class=\"toc-item-num\">2.3&nbsp;&nbsp;</span>Промежуточный вывод</a></span></li></ul></li><li><span><a href=\"#Алгоритм-преобразования\" data-toc-modified-id=\"Алгоритм-преобразования-3\"><span class=\"toc-item-num\">3&nbsp;&nbsp;</span>Алгоритм преобразования</a></span><ul class=\"toc-item\"><li><span><a href=\"#Алгоритм\" data-toc-modified-id=\"Алгоритм-3.1\"><span class=\"toc-item-num\">3.1&nbsp;&nbsp;</span>Алгоритм</a></span></li><li><span><a href=\"#Обоснование\" data-toc-modified-id=\"Обоснование-3.2\"><span class=\"toc-item-num\">3.2&nbsp;&nbsp;</span>Обоснование</a></span></li><li><span><a href=\"#Промежуточный-вывод\" data-toc-modified-id=\"Промежуточный-вывод-3.3\"><span class=\"toc-item-num\">3.3&nbsp;&nbsp;</span>Промежуточный вывод</a></span></li></ul></li><li><span><a href=\"#Проверка-алгоритма\" data-toc-modified-id=\"Проверка-алгоритма-4\"><span class=\"toc-item-num\">4&nbsp;&nbsp;</span>Проверка алгоритма</a></span><ul class=\"toc-item\"><li><span><a href=\"#Без-преобразования\" data-toc-modified-id=\"Без-преобразования-4.1\"><span class=\"toc-item-num\">4.1&nbsp;&nbsp;</span>Без преобразования</a></span></li><li><span><a href=\"#С-преобразованием\" data-toc-modified-id=\"С-преобразованием-4.2\"><span class=\"toc-item-num\">4.2&nbsp;&nbsp;</span>С преобразованием</a></span></li><li><span><a href=\"#Промежуточный-вывод\" data-toc-modified-id=\"Промежуточный-вывод-4.3\"><span class=\"toc-item-num\">4.3&nbsp;&nbsp;</span>Промежуточный вывод</a></span></li></ul></li><li><span><a href=\"#Итоговый-вывод\" data-toc-modified-id=\"Итоговый-вывод-5\"><span class=\"toc-item-num\">5&nbsp;&nbsp;</span>Итоговый вывод</a></span></li><li><span><a href=\"#Чек-лист-проверки\" data-toc-modified-id=\"Чек-лист-проверки-6\"><span class=\"toc-item-num\">6&nbsp;&nbsp;</span>Чек-лист проверки</a></span></li></ul></div>"
   ]
  },
  {
   "cell_type": "code",
   "execution_count": 19,
   "metadata": {},
   "outputs": [],
   "source": [
    "import pandas as pd\n",
    "import numpy as np\n",
    "import matplotlib.pyplot as plt\n",
    "\n",
    "\n",
    "from sklearn.model_selection import train_test_split\n",
    "from sklearn.preprocessing import StandardScaler\n",
    "from sklearn.pipeline import Pipeline\n",
    "from sklearn.linear_model import LinearRegression\n",
    "from sklearn.metrics import r2_score"
   ]
  },
  {
   "cell_type": "markdown",
   "metadata": {},
   "source": [
    "## Загрузка и исследование данных\n",
    "\n",
    "### Загрузка данных"
   ]
  },
  {
   "cell_type": "code",
   "execution_count": 2,
   "metadata": {},
   "outputs": [],
   "source": [
    "try:\n",
    "    data = pd.read_csv('/datasets/insurance.csv')\n",
    "    \n",
    "except:\n",
    "    data = pd.read_csv('https://code.s3.yandex.net/datasets/insurance.csv')"
   ]
  },
  {
   "cell_type": "markdown",
   "metadata": {},
   "source": [
    "### Исследование"
   ]
  },
  {
   "cell_type": "code",
   "execution_count": 3,
   "metadata": {},
   "outputs": [
    {
     "name": "stdout",
     "output_type": "stream",
     "text": [
      "<class 'pandas.core.frame.DataFrame'>\n",
      "RangeIndex: 5000 entries, 0 to 4999\n",
      "Data columns (total 5 columns):\n",
      " #   Column             Non-Null Count  Dtype  \n",
      "---  ------             --------------  -----  \n",
      " 0   Пол                5000 non-null   int64  \n",
      " 1   Возраст            5000 non-null   float64\n",
      " 2   Зарплата           5000 non-null   float64\n",
      " 3   Члены семьи        5000 non-null   int64  \n",
      " 4   Страховые выплаты  5000 non-null   int64  \n",
      "dtypes: float64(2), int64(3)\n",
      "memory usage: 195.4 KB\n"
     ]
    }
   ],
   "source": [
    "data.info()"
   ]
  },
  {
   "cell_type": "code",
   "execution_count": 4,
   "metadata": {},
   "outputs": [
    {
     "data": {
      "text/html": [
       "<div>\n",
       "<style scoped>\n",
       "    .dataframe tbody tr th:only-of-type {\n",
       "        vertical-align: middle;\n",
       "    }\n",
       "\n",
       "    .dataframe tbody tr th {\n",
       "        vertical-align: top;\n",
       "    }\n",
       "\n",
       "    .dataframe thead th {\n",
       "        text-align: right;\n",
       "    }\n",
       "</style>\n",
       "<table border=\"1\" class=\"dataframe\">\n",
       "  <thead>\n",
       "    <tr style=\"text-align: right;\">\n",
       "      <th></th>\n",
       "      <th>Пол</th>\n",
       "      <th>Возраст</th>\n",
       "      <th>Зарплата</th>\n",
       "      <th>Члены семьи</th>\n",
       "      <th>Страховые выплаты</th>\n",
       "    </tr>\n",
       "  </thead>\n",
       "  <tbody>\n",
       "    <tr>\n",
       "      <th>0</th>\n",
       "      <td>1</td>\n",
       "      <td>41.0</td>\n",
       "      <td>49600.0</td>\n",
       "      <td>1</td>\n",
       "      <td>0</td>\n",
       "    </tr>\n",
       "    <tr>\n",
       "      <th>1</th>\n",
       "      <td>0</td>\n",
       "      <td>46.0</td>\n",
       "      <td>38000.0</td>\n",
       "      <td>1</td>\n",
       "      <td>1</td>\n",
       "    </tr>\n",
       "    <tr>\n",
       "      <th>2</th>\n",
       "      <td>0</td>\n",
       "      <td>29.0</td>\n",
       "      <td>21000.0</td>\n",
       "      <td>0</td>\n",
       "      <td>0</td>\n",
       "    </tr>\n",
       "    <tr>\n",
       "      <th>3</th>\n",
       "      <td>0</td>\n",
       "      <td>21.0</td>\n",
       "      <td>41700.0</td>\n",
       "      <td>2</td>\n",
       "      <td>0</td>\n",
       "    </tr>\n",
       "    <tr>\n",
       "      <th>4</th>\n",
       "      <td>1</td>\n",
       "      <td>28.0</td>\n",
       "      <td>26100.0</td>\n",
       "      <td>0</td>\n",
       "      <td>0</td>\n",
       "    </tr>\n",
       "  </tbody>\n",
       "</table>\n",
       "</div>"
      ],
      "text/plain": [
       "   Пол  Возраст  Зарплата  Члены семьи  Страховые выплаты\n",
       "0    1     41.0   49600.0            1                  0\n",
       "1    0     46.0   38000.0            1                  1\n",
       "2    0     29.0   21000.0            0                  0\n",
       "3    0     21.0   41700.0            2                  0\n",
       "4    1     28.0   26100.0            0                  0"
      ]
     },
     "execution_count": 4,
     "metadata": {},
     "output_type": "execute_result"
    }
   ],
   "source": [
    "data.head()"
   ]
  },
  {
   "cell_type": "code",
   "execution_count": 5,
   "metadata": {},
   "outputs": [],
   "source": [
    "def show_rows(data_frame):\n",
    "    for column in data_frame.columns:\n",
    "        print('Уникальные значения столбца', column)\n",
    "        print(data_frame[column].unique())\n",
    "    print('Количество пропусков в каждом столбце')    \n",
    "    print(data_frame.isna().mean())"
   ]
  },
  {
   "cell_type": "code",
   "execution_count": 6,
   "metadata": {
    "scrolled": true
   },
   "outputs": [
    {
     "name": "stdout",
     "output_type": "stream",
     "text": [
      "Уникальные значения столбца Пол\n",
      "[1 0]\n",
      "Уникальные значения столбца Возраст\n",
      "[41. 46. 29. 21. 28. 43. 39. 25. 36. 32. 38. 23. 40. 34. 26. 42. 27. 33.\n",
      " 47. 30. 19. 31. 22. 20. 24. 18. 37. 48. 45. 44. 52. 49. 35. 56. 65. 55.\n",
      " 57. 54. 50. 53. 51. 58. 59. 60. 61. 62.]\n",
      "Уникальные значения столбца Зарплата\n",
      "[49600. 38000. 21000. 41700. 26100. 41000. 39700. 38600. 49700. 51700.\n",
      " 36600. 29300. 39500. 55000. 43700. 23300. 48900. 33200. 36900. 43500.\n",
      " 36100. 26600. 48700. 40400. 38400. 34600. 34800. 36800. 42200. 46300.\n",
      " 30300. 51000. 28100. 64800. 30400. 45300. 38300. 49500. 19400. 40200.\n",
      " 31700. 69200. 33100. 31600. 34500. 38700. 39600. 42400. 34900. 30500.\n",
      " 24200. 49900. 14300. 47000. 44800. 43800. 42700. 35400. 57200. 29600.\n",
      " 37400. 48100. 33700. 61800. 39400. 15600. 52600. 37600. 52500. 32700.\n",
      " 51600. 60900. 41800. 47400. 26500. 45900. 35700. 34300. 26700. 25700.\n",
      " 33300. 31100. 31500. 42100. 37300. 42500. 27300. 46800. 33500. 44300.\n",
      " 41600. 53900. 40100. 44600. 45000. 32000. 38200. 33000. 38500. 51800.\n",
      " 33800. 46400. 43200. 31800. 50200. 35100. 30700. 45800. 49300. 42800.\n",
      " 33600. 50300. 34000. 36400. 44900. 43600. 54600. 52800. 29700. 39000.\n",
      " 44100. 31900. 37700. 35200. 43100. 51300. 47500. 40800. 26800. 64900.\n",
      " 35900. 31200. 39900. 43300. 33900. 40700. 44700. 53400. 30600. 56000.\n",
      " 35600. 55200. 40600. 48300. 50800. 41200. 44200. 44400. 40500. 39800.\n",
      " 16600. 48400. 25100. 23100. 32100. 31000. 42900. 46700. 26000. 55900.\n",
      " 52000. 41500. 49400. 60300. 45600. 49000. 37500. 21900. 45100. 47900.\n",
      " 54300. 32400. 41300. 44500. 23200. 37900. 48000. 52100. 45700. 29900.\n",
      " 42600. 45200. 36000. 46500. 23800. 30200. 24400. 32800. 29000. 43400.\n",
      " 51500. 61700. 45400. 50700. 36200. 41900. 27900. 47200. 48800. 55100.\n",
      " 48200. 35500. 35000. 43900. 40000. 22000. 40300. 36300. 49800. 25600.\n",
      " 42300. 54900. 25500. 32900. 36700. 38900. 24700. 28800. 22900. 47300.\n",
      " 14500. 28700. 44000. 34100. 53000. 59300. 28500. 47100. 41400. 58900.\n",
      " 17500. 54200. 43000. 29800. 20000. 13800. 27500. 67700. 28000. 37100.\n",
      "  8900. 14600. 56200. 38800. 27700. 50500. 58400. 34700. 34400. 49100.\n",
      " 50900. 28200. 61500. 32500. 25900.  9800. 28300. 41100. 62000. 32600.\n",
      " 37200. 53800. 24000. 53600. 54800. 59600. 20200. 21700. 29200. 38100.\n",
      " 20700. 32300. 21200. 62100. 54000. 24500. 51900. 47800. 56100. 55300.\n",
      " 58100. 28900. 39100. 58000. 27200. 24600. 30100. 57100. 60100. 22200.\n",
      " 47700. 24900. 37800. 52700. 34200. 18700. 42000. 26300. 22600. 30900.\n",
      " 35800. 30800. 51100. 53300. 46200. 24100. 54700. 51200. 62300. 51400.\n",
      " 40900. 23400. 35300. 55800. 33400. 21300. 30000. 56700. 46900.  5300.\n",
      " 39200. 57500. 31300. 53700. 21600. 50000. 36500. 16400. 15900. 65100.\n",
      " 59900. 63200. 26200. 61200. 48500. 32200. 29100. 50100. 22700. 28600.\n",
      " 23500. 23700. 19600. 17800. 50600. 57900. 22500. 22100. 58300. 64100.\n",
      " 25000. 60400. 59100. 37000. 62400. 29500. 25800. 25400. 26900. 21500.\n",
      " 52200. 46600. 57300. 46100. 19300. 18900. 31400. 28400. 29400. 17600.\n",
      " 13900. 52400. 11300. 46000. 60500. 58700. 58200. 24800. 63700. 60600.\n",
      " 20400. 26400. 55600. 57000. 45500. 48600. 57600. 52900. 62800. 17000.\n",
      " 56500. 52300. 18400. 63300. 12900. 27000. 55700. 39300. 27800. 18300.\n",
      " 56300. 59800. 24300. 14400. 13400. 17900. 47600. 54500. 54400. 23900.\n",
      " 13000. 19900. 55400. 22800. 61000. 57400. 23000. 20500. 53200. 18100.\n",
      " 25300. 59500. 18200. 50400. 21100. 20900. 27400. 17300. 60700. 70600.\n",
      " 17700. 19700. 49200. 63100. 59200. 14700. 53100. 21800. 68000. 16500.\n",
      " 71400. 10000. 55500. 54100. 56400. 20600. 66300. 18800. 11000. 66100.\n",
      " 27100. 57800. 53500. 19200. 58500. 64000. 63600. 23600. 25200. 19100.\n",
      " 18600. 57700. 62700. 56600. 21400. 58800. 68400. 17100. 13300. 68500.\n",
      " 56900. 64400. 27600. 67200. 16200. 58600. 62200. 16000. 79000. 22300.\n",
      " 11200. 71600. 61300. 70500. 67100. 59000. 13500. 16700. 15700. 60000.\n",
      " 17400. 63400. 61900. 65200. 62600. 14100. 20100. 63800. 15100. 70000.\n",
      " 60200. 20300. 65900. 15200. 63500. 13200. 68900. 12200.  6000. 74800.\n",
      " 59700. 10800. 19000. 10600. 69400. 15000. 75200. 62500. 16300. 20800.\n",
      "  7400. 65300. 61400. 56800.]\n",
      "Уникальные значения столбца Члены семьи\n",
      "[1 0 2 4 3 5 6]\n",
      "Уникальные значения столбца Страховые выплаты\n",
      "[0 1 2 3 5 4]\n",
      "Количество пропусков в каждом столбце\n",
      "Пол                  0.0\n",
      "Возраст              0.0\n",
      "Зарплата             0.0\n",
      "Члены семьи          0.0\n",
      "Страховые выплаты    0.0\n",
      "dtype: float64\n"
     ]
    }
   ],
   "source": [
    "show_rows(data)"
   ]
  },
  {
   "cell_type": "markdown",
   "metadata": {},
   "source": [
    "Изменим тип данных в столбцах Возраст и Зарплата на целочисленный ввиду отсуствия дробных частей. Так же уменьшим обращение к памяти для остальных столбцов."
   ]
  },
  {
   "cell_type": "code",
   "execution_count": 7,
   "metadata": {},
   "outputs": [
    {
     "name": "stdout",
     "output_type": "stream",
     "text": [
      "<class 'pandas.core.frame.DataFrame'>\n",
      "RangeIndex: 5000 entries, 0 to 4999\n",
      "Data columns (total 5 columns):\n",
      " #   Column             Non-Null Count  Dtype  \n",
      "---  ------             --------------  -----  \n",
      " 0   Пол                5000 non-null   int8   \n",
      " 1   Возраст            5000 non-null   int8   \n",
      " 2   Зарплата           5000 non-null   float64\n",
      " 3   Члены семьи        5000 non-null   int8   \n",
      " 4   Страховые выплаты  5000 non-null   int8   \n",
      "dtypes: float64(1), int8(4)\n",
      "memory usage: 58.7 KB\n"
     ]
    }
   ],
   "source": [
    "data['Пол'] = pd.to_numeric(data['Пол'], downcast='integer')\n",
    "data['Возраст'] = pd.to_numeric(data['Возраст'], downcast='integer')\n",
    "data['Зарплата'] = pd.to_numeric(data['Зарплата'], downcast='integer')\n",
    "data['Члены семьи'] = pd.to_numeric(data['Члены семьи'], downcast='integer')\n",
    "data['Страховые выплаты'] = pd.to_numeric(data['Страховые выплаты'], downcast='integer')\n",
    "data.info()"
   ]
  },
  {
   "cell_type": "markdown",
   "metadata": {},
   "source": [
    "### Визуализация данных"
   ]
  },
  {
   "cell_type": "code",
   "execution_count": 56,
   "metadata": {},
   "outputs": [
    {
     "data": {
      "image/png": "[encoded data removed]",
      "text/plain": [
       "<Figure size 432x288 with 1 Axes>"
      ]
     },
     "metadata": {},
     "output_type": "display_data"
    }
   ],
   "source": [
    "genders = data.groupby(['Пол']).count()\n",
    "vals = [genders.iloc[0,0], genders.iloc[1,0]]\n",
    "labels =['Мужчины','Жещины']\n",
    "explode = [0.1,0]\n",
    "plt.pie(vals, labels=labels, autopct='%1.1f%%', shadow=True,\n",
    "explode=explode, wedgeprops={'lw':1, 'ls':'--','edgecolor':'k'})\n",
    "plt.title('Пол')\n",
    "plt.show()"
   ]
  },
  {
   "cell_type": "markdown",
   "metadata": {},
   "source": [
    "Женщин и мужчин поровну."
   ]
  },
  {
   "cell_type": "code",
   "execution_count": 73,
   "metadata": {},
   "outputs": [
    {
     "data": {
      "image/png": "[encoded data removed]",
      "text/plain": [
       "<Figure size 432x288 with 1 Axes>"
      ]
     },
     "metadata": {
      "needs_background": "light"
     },
     "output_type": "display_data"
    }
   ],
   "source": [
    "data['Возраст'].hist()\n",
    "plt.title('Возрастное распределение клиентов')\n",
    "plt.xlabel('Возраст')\n",
    "#plt.ylabel('Клиентов')\n",
    "plt.show()"
   ]
  },
  {
   "cell_type": "markdown",
   "metadata": {},
   "source": [
    "Большая часть клиентов - это люди до 40 лет."
   ]
  },
  {
   "cell_type": "code",
   "execution_count": 78,
   "metadata": {},
   "outputs": [
    {
     "data": {
      "image/png": "[encoded data removed]",
      "text/plain": [
       "<Figure size 432x288 with 1 Axes>"
      ]
     },
     "metadata": {
      "needs_background": "light"
     },
     "output_type": "display_data"
    }
   ],
   "source": [
    "data['Зарплата'].hist()\n",
    "plt.title('Распределение клиентов по зарплате')\n",
    "plt.xlabel('Зарплата')\n",
    "#plt.ylabel('Клиентов')\n",
    "plt.show()"
   ]
  },
  {
   "cell_type": "markdown",
   "metadata": {},
   "source": [
    "Зарплаты клиентов имеют нормальное распределение."
   ]
  },
  {
   "cell_type": "code",
   "execution_count": 76,
   "metadata": {},
   "outputs": [
    {
     "data": {
      "image/png": "[encoded data removed]",
      "text/plain": [
       "<Figure size 432x288 with 1 Axes>"
      ]
     },
     "metadata": {},
     "output_type": "display_data"
    }
   ],
   "source": [
    "family = data.groupby(['Члены семьи']).count()\n",
    "vals = [family.iloc[0,0], family.iloc[1,0], family.iloc[2,0], family.iloc[3,0], family.iloc[4,0], family.iloc[5,0], family.iloc[6,0]]\n",
    "labels =['0','1', '2','3','4','5','6']\n",
    "explode = [0] * 4 + [0.5] + [2] + [3]\n",
    "plt.pie(vals, labels=labels, autopct='%1.1f%%', shadow=True,\n",
    "explode=explode, wedgeprops={'lw':1, 'ls':'--','edgecolor':'k'})\n",
    "plt.title('Члены семьи')\n",
    "plt.show()"
   ]
  },
  {
   "cell_type": "markdown",
   "metadata": {},
   "source": [
    "Большая часть клиентов имеет до 3 членов семьи."
   ]
  },
  {
   "cell_type": "code",
   "execution_count": 63,
   "metadata": {},
   "outputs": [
    {
     "data": {
      "image/png": "[encoded data removed]",
      "text/plain": [
       "<Figure size 432x288 with 1 Axes>"
      ]
     },
     "metadata": {},
     "output_type": "display_data"
    }
   ],
   "source": [
    "payments = data.groupby(['Страховые выплаты']).count()\n",
    "vals = [payments.iloc[0,0], payments.iloc[1,0], payments.iloc[2,0], payments.iloc[3,0], payments.iloc[4,0], payments.iloc[5,0]]\n",
    "labels =['0','1', '2','3','4','5']\n",
    "explode = [0, 0.5, 1,1.5 ,3,5]\n",
    "plt.pie(vals, labels=labels, autopct='%1.1f%%', shadow=True,\n",
    "explode=explode, wedgeprops={'lw':1, 'ls':'--','edgecolor':'k'})\n",
    "plt.title('Страховые выплаты')\n",
    "plt.show()"
   ]
  },
  {
   "cell_type": "markdown",
   "metadata": {},
   "source": [
    "Большая часть клиентов обходятся вообще без выплат."
   ]
  },
  {
   "cell_type": "markdown",
   "metadata": {},
   "source": [
    "Посмотрим, как зависят выплаты от других данных."
   ]
  },
  {
   "cell_type": "code",
   "execution_count": 24,
   "metadata": {},
   "outputs": [
    {
     "data": {
      "image/png": "[encoded data removed]",
      "text/plain": [
       "<Figure size 432x288 with 1 Axes>"
      ]
     },
     "metadata": {
      "needs_background": "light"
     },
     "output_type": "display_data"
    }
   ],
   "source": [
    "plt.scatter(data['Зарплата'], data['Страховые выплаты'])\n",
    "plt.xlabel('Зарплата')\n",
    "plt.ylabel('Страховые выплаты')\n",
    "plt.show()"
   ]
  },
  {
   "cell_type": "markdown",
   "metadata": {},
   "source": [
    "Строгой линейной зависимости междк выплатами и зарплатами нет."
   ]
  },
  {
   "cell_type": "code",
   "execution_count": 23,
   "metadata": {},
   "outputs": [
    {
     "data": {
      "text/plain": [
       "Text(0, 0.5, 'Страховые выплаты')"
      ]
     },
     "execution_count": 23,
     "metadata": {},
     "output_type": "execute_result"
    },
    {
     "data": {
      "image/png": "[encoded data removed]",
      "text/plain": [
       "<Figure size 432x288 with 1 Axes>"
      ]
     },
     "metadata": {
      "needs_background": "light"
     },
     "output_type": "display_data"
    }
   ],
   "source": [
    "plt.scatter(data['Возраст'], data['Страховые выплаты'])\n",
    "plt.xlabel('Возраст')\n",
    "plt.ylabel('Страховые выплаты')\n",
    "plt.show()"
   ]
  },
  {
   "cell_type": "markdown",
   "metadata": {},
   "source": [
    "Чем старше человек, тем больше выплат. После сорока особенно."
   ]
  },
  {
   "cell_type": "code",
   "execution_count": 26,
   "metadata": {},
   "outputs": [
    {
     "data": {
      "image/png": "[encoded data removed]",
      "text/plain": [
       "<Figure size 432x288 with 1 Axes>"
      ]
     },
     "metadata": {
      "needs_background": "light"
     },
     "output_type": "display_data"
    }
   ],
   "source": [
    "plt.scatter(data['Члены семьи'], data['Страховые выплаты'], alpha=0.25)\n",
    "plt.xlabel('Члены семьи')\n",
    "plt.ylabel('Страховые выплаты')\n",
    "plt.show()"
   ]
  },
  {
   "cell_type": "markdown",
   "metadata": {},
   "source": [
    "Строгой зависимости нет."
   ]
  },
  {
   "cell_type": "markdown",
   "metadata": {},
   "source": [
    "### Промежуточные вывод\n",
    "\n",
    "Данные загружены и не имеют пропусков и аномалий. Приведение типов позволит более быстро обращаться к данным."
   ]
  },
  {
   "cell_type": "markdown",
   "metadata": {},
   "source": [
    "## Умножение матриц"
   ]
  },
  {
   "cell_type": "markdown",
   "metadata": {},
   "source": [
    "**Описание данных**\n",
    "\n",
    "Набор данных находится в файле /datasets/insurance.csv. Скачать датасет.\n",
    "- **Признаки**: пол, возраст и зарплата застрахованного, количество членов его семьи.\n",
    "- **Целевой признак**: количество страховых выплат клиенту за последние 5 лет."
   ]
  },
  {
   "cell_type": "code",
   "execution_count": 8,
   "metadata": {},
   "outputs": [],
   "source": [
    "features = data.drop('Страховые выплаты', axis=1)\n",
    "target = data['Страховые выплаты']"
   ]
  },
  {
   "cell_type": "markdown",
   "metadata": {},
   "source": [
    "Убедимся в том, что линейня регрессия из scikit-learn вычисляет значения по формуле."
   ]
  },
  {
   "cell_type": "markdown",
   "metadata": {},
   "source": [
    "Модель линейной регрессии."
   ]
  },
  {
   "cell_type": "raw",
   "metadata": {},
   "source": [
    "class LinearRegression:\n",
    "    def fit(self, train_features, train_target):\n",
    "        X = np.concatenate((np.ones((train_features.shape[0], 1)), train_features), axis=1)\n",
    "        y = train_target\n",
    "        w = inv(X.T @ X) @ X.T @ y\n",
    "        self.w = w[1:]\n",
    "        self.w0 = w[0]\n",
    "\n",
    "    def predict(self, test_features):\n",
    "        return test_features.dot(self.w) + self.w0"
   ]
  },
  {
   "cell_type": "code",
   "execution_count": 9,
   "metadata": {},
   "outputs": [
    {
     "data": {
      "text/plain": [
       "array([ 7.92580543e-03,  3.57083050e-02, -1.70080492e-07, -1.35676623e-02])"
      ]
     },
     "metadata": {},
     "output_type": "display_data"
    },
    {
     "data": {
      "text/plain": [
       "array([ 7.92580543e-03,  3.57083050e-02, -1.70080492e-07, -1.35676623e-02])"
      ]
     },
     "execution_count": 9,
     "metadata": {},
     "output_type": "execute_result"
    }
   ],
   "source": [
    "X = np.concatenate((np.ones((features.shape[0], 1)), features), axis=1)\n",
    "y = target\n",
    "w = np.linalg.inv(X.T @ X) @ X.T @ y\n",
    "display(w[1:])\n",
    "model = LinearRegression()\n",
    "model.fit(features, target)\n",
    "model.coef_"
   ]
  },
  {
   "cell_type": "markdown",
   "metadata": {},
   "source": [
    "Коэфициенты регрессии совпадают на 100%. Теперь перейдем к теоретической части."
   ]
  },
  {
   "cell_type": "markdown",
   "metadata": {},
   "source": [
    "В этом задании вы можете записывать формулы в *Jupyter Notebook.*\n",
    "\n",
    "Чтобы записать формулу внутри текста, окружите её символами доллара \\\\$; если снаружи —  двойными символами \\\\$\\\\$. Эти формулы записываются на языке вёрстки *LaTeX.* \n",
    "\n",
    "Для примера мы записали формулы линейной регрессии. Можете их скопировать и отредактировать, чтобы решить задачу.\n",
    "\n",
    "Работать в *LaTeX* необязательно."
   ]
  },
  {
   "cell_type": "markdown",
   "metadata": {},
   "source": [
    "Обозначения:\n",
    "\n",
    "- $X$ — матрица признаков (нулевой столбец состоит из единиц)\n",
    "\n",
    "- $y$ — вектор целевого признака\n",
    "\n",
    "- $P$ — матрица, на которую умножаются признаки\n",
    "\n",
    "- $w$ — вектор весов линейной регрессии (нулевой элемент равен сдвигу)"
   ]
  },
  {
   "cell_type": "markdown",
   "metadata": {},
   "source": [
    "Предсказания:\n",
    "\n",
    "$$\n",
    "a = Xw\n",
    "$$\n",
    "\n",
    "Задача обучения:\n",
    "\n",
    "$$\n",
    "w = \\arg\\min_w MSE(Xw, y)\n",
    "$$\n",
    "\n",
    "Формула обучения:\n",
    "\n",
    "$$\n",
    "w = (X^T X)^{-1} X^T y\n",
    "$$"
   ]
  },
  {
   "cell_type": "markdown",
   "metadata": {},
   "source": [
    "### Ответ на вопрос\n",
    "\n",
    "**Вопрос:** Признаки умножают на обратимую матрицу. Изменится ли качество линейной регрессии? (Её можно обучить заново.)\n",
    "\n",
    "**Ответ:** Качество регрессии не изменится.\n",
    "\n",
    "Изначально:\n",
    "\n",
    "$$\n",
    "a = Xw \\qquad (2.0)\n",
    "$$\n",
    "\n",
    "Заменим матрицу $X$ на матрицу $Z$:\n",
    "\n",
    "$$\n",
    "Z = XP \\qquad (2.1)\n",
    "$$\n",
    "\n",
    "где $P$ - обратимая матрица с некими значениями, на которую может быть умножена матрица $X$."
   ]
  },
  {
   "cell_type": "markdown",
   "metadata": {},
   "source": [
    "### Обоснование\n",
    "\n",
    "Заменим $X$ на $Z$ и вычислим, чему будет равено предсказание и вектор весов.\n",
    "\n",
    "$$\n",
    "a_1 = Zw_1 \\qquad (2.2)\n",
    "$$\n",
    "\n",
    "$$\n",
    "w_1 = (Z^T Z)^{-1} Z^T y \\qquad (2.3)\n",
    "$$\n",
    "\n",
    "Подставим уравнение 2.2 правую часть уравнения 2.3 и получим следущее:\n",
    "\n",
    "$$\n",
    "a_1 = Z (Z^T Z)^{-1} Z^T y \\qquad (2.4)\n",
    "$$\n",
    "\n",
    "Заменим все $Z$ правой частью уравнения 2.1:\n",
    "\n",
    "$$\n",
    "a_1 = XP ((XP)^T (XP))^{-1} (XP)^T y \\qquad (2.5)\n",
    "$$\n",
    "\n",
    "Для следующего шага понадобится следующее свойсво обратной матрицы:\n",
    "\n",
    "$$\n",
    "(AB)^{-1} = B^{-1} A^{-1}\n",
    "$$\n",
    "\n",
    "Раскроем $((XP)^T (XP))^{-1}$ в два шага:\n",
    "\n",
    "$$\n",
    "a_1 = XP ((XP)^T (XP))^{-1} (XP)^T y =\n",
    "$$\n",
    "\n",
    "$$\n",
    "= XP(XP)^{-1}((XP)^T)^{-1} (XP)^T y = \\qquad (2.6)\n",
    "$$\n",
    "\n",
    "$$\n",
    "= XPP^{-1}X^{-1}((XP)^T)^{-1} (XP)^T y  \n",
    "$$\n",
    "\n",
    "Умножение приведет к $PP^{-1} = E$. Для следуюзего этапа воспользуемся свойством транспорнированной матрицы:\n",
    "\n",
    "$$\n",
    "(AB)^T = B^T A^T\n",
    "$$\n",
    "\n",
    "Умножение на единичную матрицу ничего не меняет. Раскроем $((XP)^T)^{-1} (XP)^T$ в три шага:\n",
    "\n",
    "$$\n",
    "a_1 = XEX^{-1}((XP)^T)^{-1} (XP)^T y = \n",
    "$$\n",
    "\n",
    "$$\n",
    "= XX^{-1}(P^T X^T)^{-1} P^T X^T y = \\qquad (2.7)\n",
    "$$\n",
    "\n",
    "$$\n",
    "= XX^{-1} (X^T)^{-1} (P^T)^{-1}  P^T X^T y\n",
    "$$\n",
    "\n",
    "Умножение приведет к $(P^T)^{-1}  P^T = E$. Посмотрим, что осталось от уравнения 2.7:\n",
    "\n",
    "$$\n",
    "a_1 = XX^{-1} (X^T)^{-1} E X^T y = \n",
    "$$\n",
    "\n",
    "$$\n",
    "= X(X^T X)^{-1} X^T y \\qquad (2.8)\n",
    "$$\n",
    "\n",
    "Не сложно заметить, что произведение $(X^T X)^{-1} X^T$ равно $w$, тогда:\n",
    "\n",
    "$$\n",
    "Xw = a  \n",
    "$$\n",
    "\n",
    "Как видно, значение предсказания $a$ не меняется, если умножать матрицу признаков на обратимую матрицу.\n",
    "\n",
    "Таким образом, мы доказали, что (2.0) равно (2.8):\n",
    "$$\n",
    "a_1 = a\n",
    "$$\n",
    "\n",
    "Что и требовалось доказать."
   ]
  },
  {
   "cell_type": "markdown",
   "metadata": {},
   "source": [
    "Попробуем так.\n",
    "\n",
    "1. Для обоснования ответа получим предсказания для домноженных признаков. Пусть наши признаки будут как в исходном датасете размерностью 5000 на 4, а матрица для домножения 4 на 4. Умноженная матрица будет иметь вид X * P. Тогда фомула предсказаний примет следующий вид:\n",
    "\n",
    "$$a' = XPw'$$\n",
    "\n",
    "2. Подставим в формулу предсказаний формулу обучения для матрицы X P:\n",
    "\n",
    "$$a' = XP((XP)^T XP)^{-1}(XP)^Ty$$\n",
    "\n",
    "Воспользуемся следующими свойствами матриц:\n",
    "\n",
    "\n",
    "$$(A B)^{-1} =B^{-1} A^{-1}$$\n",
    "\n",
    "$$(A B)^{T} =B^{T} A^{T}$$\n",
    "\n",
    "$$A A^{-1}=E$$\n",
    "\n",
    "$$A E=E A=A$$\n",
    "\n",
    "3. Раскроем скобки с транспонированием матриц, получится следующее уравнение:\n",
    "\n",
    "$$a' = XP(P^T X^T XP)^{-1}P^T X^Ty$$\n",
    "\n",
    "Внутри скобок, от множителей которых берется обратная матрица остались следующие матрицы: $P^T$ размером 4х4, $X^T$ размером 4х5000, $X$ размером 5000x4, $P$ размером 4x4. Одно из дополнительных свойств матриц, о котором следует помнить слудующее $ A(BC) = (AB)C$. Оно позволяет группировать матрицы внутри произведения различным образом. Т.к. обратная матрица может браться только от квадратной матрицы, то для раскрытия скобок данного произведения нам надо сгруппировать его множители так, чтобы они были квадратными матрицами.\n",
    "\n",
    "4. Выделим 2 множителя произведения $P^T X^T X$ и $P$ и раскроем скобки:\n",
    "\n",
    "$$a' = X P P^{-1} (P^T X^T X)^{-1} P^T X^Ty$$\n",
    "\n",
    "5. Выделим внутри оставшихся скобок множители $P^T$ и $X^T X$ и раскроем скобки:\n",
    "\n",
    "$$a' = X P P^{-1} (X^T X)^{-1}(P^T)^{-1} P^T X^Ty$$\n",
    "\n",
    "6. Произведения $P P^{-1}$ и $(P^T)^{-1} P^T$ дают единичные матрицы, которые можно исключить из уровнения. С учетом этого формула принимает вид:\n",
    "\n",
    "$$a' = X (X^T X)^{-1} X^Ty$$\n",
    "\n",
    "Не сложно заметить, что произведение $(X^T X)^{-1} X^Ty$ равно $w$, тогда:\n",
    "\n",
    "$$a' = X w$$\n",
    "\n",
    "$$a = X w$$\n",
    "\n",
    "Следовательно,\n",
    "\n",
    "$$a' = a$$"
   ]
  },
  {
   "cell_type": "markdown",
   "metadata": {},
   "source": [
    "$$\n",
    "a = Xw = XEw = XPP^{-1}w = (XP)P^{-1}w = (XP)w'\n",
    "$$\n",
    "\n",
    "$$\n",
    "w' = ((XP)^T XP)^{-1} (XP)^T y\n",
    "$$\n",
    "$$\n",
    "w' = (P^T (X^T X) P)^{-1} (XP)^T y\n",
    "$$\n",
    "$$\n",
    ".....\n",
    "$$"
   ]
  },
  {
   "cell_type": "markdown",
   "metadata": {},
   "source": [
    "### Промежуточный вывод\n",
    "\n",
    "Качество линейной регресии не изменилось от использования исодной матрици и исходной матрицы, умноженную на обратимую."
   ]
  },
  {
   "cell_type": "markdown",
   "metadata": {},
   "source": [
    "## Алгоритм преобразования\n",
    "\n",
    "Предложите алгоритм преобразования данных для решения задачи.\n",
    "Обоснуйте, почему качество линейной регрессии не поменяется."
   ]
  },
  {
   "cell_type": "markdown",
   "metadata": {},
   "source": [
    "### Алгоритм\n",
    "\n",
    "Для защиты информации на этапе поиска коэффициентов регрессии и предсказаний регрессии будем умножать матрицу признаков на обратимую матрицу $Y$, которая будет генерироваться случайным образом.\n",
    "\n",
    "Этапы алгоритма:\n",
    "1. Составление матрицы $Y$.\n",
    "2. Проверка матрицы на обратимость. Вычисление детерминанта матрицы $Y$.\n",
    "3. Получение матрицы преобразованных признаков $Z = XY$.\n",
    "4. Применение алгоритма на преобразованных признаках $Z$."
   ]
  },
  {
   "cell_type": "markdown",
   "metadata": {},
   "source": [
    "### Обоснование\n",
    "\n",
    "Матрица $Y$ должна иметь необходимую размерность $(nxn)$, где n - количество признаков для регрессии.\n",
    "Таким образом матрица $Z$ будет иметь туже размерность, что и матрица $X$. Обратная матрица $Y$ существует только для квадратных невырожденных матриц (определитель которых не равен нулю).\n",
    "\n",
    "Пример:\n",
    "\n",
    "$\n",
    "X = \\begin{pmatrix}\n",
    "1 & 2 \\\\\n",
    "2 & 3 \\\\\n",
    "4 & 5  \n",
    "\\end{pmatrix}\n",
    "\\qquad \n",
    "Y = \\begin{pmatrix}\n",
    "1 & 0 \\\\\n",
    "2 & 3 \\\\  \n",
    "\\end{pmatrix}\n",
    "\\qquad det  Y = 3 $\n",
    "\n",
    "Найдем значние Z:\n",
    "\n",
    "$\n",
    "Z = \\begin{pmatrix}\n",
    "1 & 2 \\\\\n",
    "2 & 3 \\\\\n",
    "4 & 5  \n",
    "\\end{pmatrix} \\begin{pmatrix}\n",
    "1 & 0 \\\\\n",
    "2 & 3 \\\\  \n",
    "\\end{pmatrix} = \\begin{pmatrix}\n",
    "1*1+2*2 & 1*0+2*3  \\\\\n",
    "2*1+3*2 & 2*0+3*3  \\\\\n",
    "4*1+5*2 & 4*0+5*3   \n",
    "\\end{pmatrix} = \\begin{pmatrix}\n",
    "5 & 6 \\\\\n",
    "8 & 9 \\\\\n",
    "14 & 15  \n",
    "\\end{pmatrix}$\n",
    "\n",
    "После этого добавляем нулевой столбец и вводим данные в линейную регрессию."
   ]
  },
  {
   "cell_type": "markdown",
   "metadata": {},
   "source": [
    "### Промежуточный вывод\n",
    "\n",
    "Создан алгоритм преобразования данных."
   ]
  },
  {
   "cell_type": "markdown",
   "metadata": {},
   "source": [
    "## Проверка алгоритма"
   ]
  },
  {
   "cell_type": "markdown",
   "metadata": {},
   "source": [
    "Проведем исследование модели по двум направлениям:\n",
    "1. Исследуем качество модели без преобразования.\n",
    "         1.1 С исходными признаками\n",
    "         1.2 С отмасштабированными признаками\n",
    "2. Исследуем качество модели с преобразованием.\n",
    "         2.1 С исходными признаками\n",
    "         2.2 С отмасштабированными признаками\n",
    "\n",
    "Разделим данные на обучающие и тестовые."
   ]
  },
  {
   "cell_type": "code",
   "execution_count": 10,
   "metadata": {},
   "outputs": [],
   "source": [
    "features_train, features_test, target_train, target_test = train_test_split(\n",
    "    features, target, test_size=0.25, random_state=12345)"
   ]
  },
  {
   "cell_type": "markdown",
   "metadata": {},
   "source": [
    "### Без преобразования"
   ]
  },
  {
   "cell_type": "code",
   "execution_count": 11,
   "metadata": {},
   "outputs": [
    {
     "name": "stdout",
     "output_type": "stream",
     "text": [
      "w-vector coef [ 1.79258369e-02  3.57228278e-02 -5.46000708e-07 -1.26186590e-02]\n",
      "R2 = 0.43522757127026546\n"
     ]
    }
   ],
   "source": [
    "model = LinearRegression()\n",
    "model.fit(features_train, target_train)\n",
    "R2_LR_origin_data = r2_score(target_test, model.predict(features_test))\n",
    "print(\"w-vector coef\",model.coef_)\n",
    "print(\"R2 =\", R2_LR_origin_data)"
   ]
  },
  {
   "cell_type": "code",
   "execution_count": 12,
   "metadata": {},
   "outputs": [
    {
     "name": "stdout",
     "output_type": "stream",
     "text": [
      "R2 = 0.4352275712702668\n"
     ]
    }
   ],
   "source": [
    "regressor = LinearRegression()\n",
    "scaller = StandardScaler()\n",
    "pipeline = Pipeline([(\"standard_scaller\", scaller),(\"linear_regression\", regressor)])\n",
    "pipeline.fit(features_train, target_train)\n",
    "R2_LR_origin_data_scaled = r2_score(target_test, pipeline.predict(features_test))\n",
    "#print(\"w-vector coef\",pipeline.coef_) при использовании pipeline невозможно получить коэффициенты регрессии\n",
    "print(\"R2 =\", R2_LR_origin_data_scaled)"
   ]
  },
  {
   "cell_type": "markdown",
   "metadata": {},
   "source": [
    "Модель ведет себя одинаково как на исходных данных, так и на отмасштабированных. Колебания 15 знака и дальше после запятой связано с точностью хранения дробных чисел в python 3."
   ]
  },
  {
   "cell_type": "markdown",
   "metadata": {},
   "source": [
    "### С преобразованием"
   ]
  },
  {
   "cell_type": "markdown",
   "metadata": {},
   "source": [
    "Создадим функцию преобразования матрицы признаков."
   ]
  },
  {
   "cell_type": "code",
   "execution_count": 13,
   "metadata": {},
   "outputs": [],
   "source": [
    "def cipher_features(features):\n",
    "    crypted_features = features\n",
    "    n = features.shape[1]\n",
    "    np.random.seed(12345)\n",
    "    cipher_matrix = np.random.randint(1, 10, (n,n))\n",
    "    det = np.linalg.det(cipher_matrix)\n",
    "    while det == 0:\n",
    "        np.random.seed(12345)\n",
    "        cipher_matrix = np.random.randint(1, 10, (n,n))\n",
    "        det = np.linalg.det(cipher_matrix)\n",
    "    crypted_features = crypted_features @ cipher_matrix\n",
    "    return crypted_features, cipher_matrix"
   ]
  },
  {
   "cell_type": "markdown",
   "metadata": {},
   "source": [
    "Выведем данные до преобразования и после."
   ]
  },
  {
   "cell_type": "code",
   "execution_count": 14,
   "metadata": {},
   "outputs": [
    {
     "data": {
      "text/html": [
       "<div>\n",
       "<style scoped>\n",
       "    .dataframe tbody tr th:only-of-type {\n",
       "        vertical-align: middle;\n",
       "    }\n",
       "\n",
       "    .dataframe tbody tr th {\n",
       "        vertical-align: top;\n",
       "    }\n",
       "\n",
       "    .dataframe thead th {\n",
       "        text-align: right;\n",
       "    }\n",
       "</style>\n",
       "<table border=\"1\" class=\"dataframe\">\n",
       "  <thead>\n",
       "    <tr style=\"text-align: right;\">\n",
       "      <th></th>\n",
       "      <th>Пол</th>\n",
       "      <th>Возраст</th>\n",
       "      <th>Зарплата</th>\n",
       "      <th>Члены семьи</th>\n",
       "    </tr>\n",
       "  </thead>\n",
       "  <tbody>\n",
       "    <tr>\n",
       "      <th>0</th>\n",
       "      <td>1</td>\n",
       "      <td>41</td>\n",
       "      <td>49600.0</td>\n",
       "      <td>1</td>\n",
       "    </tr>\n",
       "    <tr>\n",
       "      <th>1</th>\n",
       "      <td>0</td>\n",
       "      <td>46</td>\n",
       "      <td>38000.0</td>\n",
       "      <td>1</td>\n",
       "    </tr>\n",
       "    <tr>\n",
       "      <th>2</th>\n",
       "      <td>0</td>\n",
       "      <td>29</td>\n",
       "      <td>21000.0</td>\n",
       "      <td>0</td>\n",
       "    </tr>\n",
       "    <tr>\n",
       "      <th>3</th>\n",
       "      <td>0</td>\n",
       "      <td>21</td>\n",
       "      <td>41700.0</td>\n",
       "      <td>2</td>\n",
       "    </tr>\n",
       "    <tr>\n",
       "      <th>4</th>\n",
       "      <td>1</td>\n",
       "      <td>28</td>\n",
       "      <td>26100.0</td>\n",
       "      <td>0</td>\n",
       "    </tr>\n",
       "  </tbody>\n",
       "</table>\n",
       "</div>"
      ],
      "text/plain": [
       "   Пол  Возраст  Зарплата  Члены семьи\n",
       "0    1       41   49600.0            1\n",
       "1    0       46   38000.0            1\n",
       "2    0       29   21000.0            0\n",
       "3    0       21   41700.0            2\n",
       "4    1       28   26100.0            0"
      ]
     },
     "metadata": {},
     "output_type": "display_data"
    },
    {
     "data": {
      "text/html": [
       "<div>\n",
       "<style scoped>\n",
       "    .dataframe tbody tr th:only-of-type {\n",
       "        vertical-align: middle;\n",
       "    }\n",
       "\n",
       "    .dataframe tbody tr th {\n",
       "        vertical-align: top;\n",
       "    }\n",
       "\n",
       "    .dataframe thead th {\n",
       "        text-align: right;\n",
       "    }\n",
       "</style>\n",
       "<table border=\"1\" class=\"dataframe\">\n",
       "  <thead>\n",
       "    <tr style=\"text-align: right;\">\n",
       "      <th></th>\n",
       "      <th>0</th>\n",
       "      <th>1</th>\n",
       "      <th>2</th>\n",
       "      <th>3</th>\n",
       "    </tr>\n",
       "  </thead>\n",
       "  <tbody>\n",
       "    <tr>\n",
       "      <th>0</th>\n",
       "      <td>99452.0</td>\n",
       "      <td>396931.0</td>\n",
       "      <td>347287.0</td>\n",
       "      <td>49899.0</td>\n",
       "    </tr>\n",
       "    <tr>\n",
       "      <th>1</th>\n",
       "      <td>76279.0</td>\n",
       "      <td>304140.0</td>\n",
       "      <td>266095.0</td>\n",
       "      <td>38329.0</td>\n",
       "    </tr>\n",
       "    <tr>\n",
       "      <th>2</th>\n",
       "      <td>42174.0</td>\n",
       "      <td>168087.0</td>\n",
       "      <td>147058.0</td>\n",
       "      <td>21203.0</td>\n",
       "    </tr>\n",
       "    <tr>\n",
       "      <th>3</th>\n",
       "      <td>83532.0</td>\n",
       "      <td>333667.0</td>\n",
       "      <td>291948.0</td>\n",
       "      <td>41861.0</td>\n",
       "    </tr>\n",
       "    <tr>\n",
       "      <th>4</th>\n",
       "      <td>52371.0</td>\n",
       "      <td>208890.0</td>\n",
       "      <td>182758.0</td>\n",
       "      <td>26301.0</td>\n",
       "    </tr>\n",
       "  </tbody>\n",
       "</table>\n",
       "</div>"
      ],
      "text/plain": [
       "         0         1         2        3\n",
       "0  99452.0  396931.0  347287.0  49899.0\n",
       "1  76279.0  304140.0  266095.0  38329.0\n",
       "2  42174.0  168087.0  147058.0  21203.0\n",
       "3  83532.0  333667.0  291948.0  41861.0\n",
       "4  52371.0  208890.0  182758.0  26301.0"
      ]
     },
     "metadata": {},
     "output_type": "display_data"
    },
    {
     "data": {
      "text/plain": [
       "array([[3, 6, 2, 5],\n",
       "       [6, 3, 2, 7],\n",
       "       [2, 8, 7, 1],\n",
       "       [3, 2, 3, 7]])"
      ]
     },
     "execution_count": 14,
     "metadata": {},
     "output_type": "execute_result"
    }
   ],
   "source": [
    "display(features.head())\n",
    "features, cipher_matrix = cipher_features(features)\n",
    "display(features.head())\n",
    "cipher_matrix"
   ]
  },
  {
   "cell_type": "markdown",
   "metadata": {},
   "source": [
    "Как видно, данные потеряли свои оригинальные значения, теперь в них хранится непонятное число. Разобьем данные на тренировочную и обучающую выборку и проверим R2 значение."
   ]
  },
  {
   "cell_type": "code",
   "execution_count": 15,
   "metadata": {},
   "outputs": [],
   "source": [
    "features_train, features_test, target_train, target_test = train_test_split(\n",
    "    features, target, test_size=0.25, random_state=12345)"
   ]
  },
  {
   "cell_type": "code",
   "execution_count": 16,
   "metadata": {},
   "outputs": [
    {
     "name": "stdout",
     "output_type": "stream",
     "text": [
      "w-vector coef [ 0.01280453  0.00328449 -0.00664342 -0.00538157]\n",
      "R2 = 0.43522757127030764\n"
     ]
    }
   ],
   "source": [
    "model = LinearRegression()\n",
    "model.fit(features_train, target_train)\n",
    "R2_LR_cipher_data = r2_score(target_test, model.predict(features_test))\n",
    "print(\"w-vector coef\",model.coef_)\n",
    "print(\"R2 =\", R2_LR_cipher_data)"
   ]
  },
  {
   "cell_type": "code",
   "execution_count": 17,
   "metadata": {},
   "outputs": [
    {
     "name": "stdout",
     "output_type": "stream",
     "text": [
      "R2 = 0.43522757127026535\n"
     ]
    }
   ],
   "source": [
    "regressor = LinearRegression()\n",
    "scaller = StandardScaler()\n",
    "pipeline = Pipeline([(\"standard_scaller\", scaller),(\"linear_regression\", regressor)])\n",
    "pipeline.fit(features_train, target_train)\n",
    "R2_LR_cipher_data_scaled = r2_score(target_test, pipeline.predict(features_test))\n",
    "#print(\"w-vector coef\",pipeline.coef_) при использовании pipeline невозможно получить коэффициенты регрессии\n",
    "print(\"R2 =\", R2_LR_cipher_data_scaled)"
   ]
  },
  {
   "cell_type": "markdown",
   "metadata": {},
   "source": [
    "Сравним показатели качества моделей."
   ]
  },
  {
   "cell_type": "code",
   "execution_count": 18,
   "metadata": {},
   "outputs": [
    {
     "data": {
      "text/html": [
       "<div>\n",
       "<style scoped>\n",
       "    .dataframe tbody tr th:only-of-type {\n",
       "        vertical-align: middle;\n",
       "    }\n",
       "\n",
       "    .dataframe tbody tr th {\n",
       "        vertical-align: top;\n",
       "    }\n",
       "\n",
       "    .dataframe thead th {\n",
       "        text-align: right;\n",
       "    }\n",
       "</style>\n",
       "<table border=\"1\" class=\"dataframe\">\n",
       "  <thead>\n",
       "    <tr style=\"text-align: right;\">\n",
       "      <th></th>\n",
       "      <th>R2</th>\n",
       "    </tr>\n",
       "  </thead>\n",
       "  <tbody>\n",
       "    <tr>\n",
       "      <th>Линейная регрессия</th>\n",
       "      <td>0.435228</td>\n",
       "    </tr>\n",
       "    <tr>\n",
       "      <th>Линейная регрессия c масштабом</th>\n",
       "      <td>0.435228</td>\n",
       "    </tr>\n",
       "    <tr>\n",
       "      <th>Линейная регрессия на преобразованных признаках</th>\n",
       "      <td>0.435228</td>\n",
       "    </tr>\n",
       "    <tr>\n",
       "      <th>Линейная регрессия на преобразованных признаках c масштабом</th>\n",
       "      <td>0.435228</td>\n",
       "    </tr>\n",
       "  </tbody>\n",
       "</table>\n",
       "</div>"
      ],
      "text/plain": [
       "                                                          R2\n",
       "Линейная регрессия                                  0.435228\n",
       "Линейная регрессия c масштабом                      0.435228\n",
       "Линейная регрессия на преобразованных признаках     0.435228\n",
       "Линейная регрессия на преобразованных признаках...  0.435228"
      ]
     },
     "execution_count": 18,
     "metadata": {},
     "output_type": "execute_result"
    }
   ],
   "source": [
    "result = pd.DataFrame(data= [R2_LR_origin_data,\n",
    "                      R2_LR_origin_data_scaled,\n",
    "                      R2_LR_cipher_data,\n",
    "                      R2_LR_cipher_data_scaled], \n",
    "                     columns=['R2'], \n",
    "                     index=['Линейная регрессия',\n",
    "                            'Линейная регрессия c масштабом',\n",
    "                            'Линейная регрессия на преобразованных признаках',\n",
    "                            'Линейная регрессия на преобразованных признаках c масштабом',])\n",
    "result"
   ]
  },
  {
   "cell_type": "markdown",
   "metadata": {},
   "source": [
    "### Промежуточный вывод\n",
    "\n",
    "Исследован алгоритм преобразования данных и проверена метрика R2 для данных без преобразования и с ним."
   ]
  },
  {
   "cell_type": "markdown",
   "metadata": {},
   "source": [
    "## Итоговый вывод\n",
    "\n",
    "В ходе работы было проделано:\n",
    "\n",
    "1. Загружены и изучены данные.\n",
    "2. Качество линейной регресии не изменилось от использования исодной матрици и исходной матрицы, умноженную на обратимую.\n",
    "3. Создан алгоритм преобразования данных.\n",
    "4. Исследован алгоритм преобразования данных и проверена метрика R2 для данных без преобразования и с ним.\n",
    "\n",
    "По результатам работы использования матричных операций можно увидеть, что данные очень просто зашифровать от распознования, имея правильную матрицу."
   ]
  }
 ],
 "metadata": {
  "ExecuteTimeLog": [
   {
    "duration": 51,
    "start_time": "2023-01-23T13:56:39.067Z"
   },
   {
    "duration": 344,
    "start_time": "2023-01-23T13:57:14.746Z"
   },
   {
    "duration": 119,
    "start_time": "2023-01-23T13:57:19.601Z"
   },
   {
    "duration": 20,
    "start_time": "2023-01-23T13:57:26.208Z"
   },
   {
    "duration": 31,
    "start_time": "2023-01-23T15:28:51.303Z"
   },
   {
    "duration": 24,
    "start_time": "2023-01-23T15:29:33.664Z"
   },
   {
    "duration": 13,
    "start_time": "2023-01-23T15:29:35.093Z"
   },
   {
    "duration": 10,
    "start_time": "2023-01-23T15:29:42.163Z"
   },
   {
    "duration": 8,
    "start_time": "2023-01-23T15:30:04.293Z"
   },
   {
    "duration": 651,
    "start_time": "2023-01-23T15:30:14.445Z"
   },
   {
    "duration": 1064,
    "start_time": "2023-01-23T15:30:22.294Z"
   },
   {
    "duration": 25,
    "start_time": "2023-01-23T15:30:23.360Z"
   },
   {
    "duration": 19,
    "start_time": "2023-01-23T15:30:23.387Z"
   },
   {
    "duration": 6,
    "start_time": "2023-01-23T15:30:23.407Z"
   },
   {
    "duration": 4,
    "start_time": "2023-01-23T15:31:16.905Z"
   },
   {
    "duration": 8,
    "start_time": "2023-01-23T15:31:46.721Z"
   },
   {
    "duration": 13,
    "start_time": "2023-01-23T15:35:46.734Z"
   },
   {
    "duration": 3,
    "start_time": "2023-01-23T15:52:04.853Z"
   },
   {
    "duration": 1012,
    "start_time": "2023-01-24T07:16:15.681Z"
   },
   {
    "duration": 89,
    "start_time": "2023-01-24T07:16:16.695Z"
   },
   {
    "duration": 16,
    "start_time": "2023-01-24T07:16:16.786Z"
   },
   {
    "duration": 4,
    "start_time": "2023-01-24T07:16:16.804Z"
   },
   {
    "duration": 5,
    "start_time": "2023-01-24T07:16:16.809Z"
   },
   {
    "duration": 29,
    "start_time": "2023-01-24T07:16:16.816Z"
   },
   {
    "duration": 202,
    "start_time": "2023-01-24T07:16:16.847Z"
   },
   {
    "duration": 4,
    "start_time": "2023-01-24T07:16:17.051Z"
   },
   {
    "duration": 110,
    "start_time": "2023-01-24T07:16:17.056Z"
   },
   {
    "duration": 11,
    "start_time": "2023-01-24T07:16:49.355Z"
   },
   {
    "duration": 3,
    "start_time": "2023-01-24T07:17:19.219Z"
   },
   {
    "duration": 7,
    "start_time": "2023-01-24T07:17:23.503Z"
   },
   {
    "duration": 6,
    "start_time": "2023-01-24T08:19:52.608Z"
   },
   {
    "duration": 5,
    "start_time": "2023-01-24T08:21:02.299Z"
   },
   {
    "duration": 178,
    "start_time": "2023-01-24T08:21:07.367Z"
   },
   {
    "duration": 3,
    "start_time": "2023-01-24T08:23:24.508Z"
   },
   {
    "duration": 57,
    "start_time": "2023-01-24T08:23:27.371Z"
   },
   {
    "duration": 12,
    "start_time": "2023-01-24T08:24:20.747Z"
   },
   {
    "duration": 2,
    "start_time": "2023-01-24T08:24:24.872Z"
   },
   {
    "duration": 61,
    "start_time": "2023-01-24T08:24:27.389Z"
   },
   {
    "duration": 47,
    "start_time": "2023-01-24T12:35:43.245Z"
   },
   {
    "duration": 1096,
    "start_time": "2023-01-24T12:36:02.409Z"
   },
   {
    "duration": 92,
    "start_time": "2023-01-24T12:36:05.512Z"
   },
   {
    "duration": 27,
    "start_time": "2023-01-24T12:36:05.689Z"
   },
   {
    "duration": 6,
    "start_time": "2023-01-24T12:36:07.900Z"
   },
   {
    "duration": 12,
    "start_time": "2023-01-24T12:36:08.911Z"
   },
   {
    "duration": 4,
    "start_time": "2023-01-24T12:36:12.557Z"
   },
   {
    "duration": 4,
    "start_time": "2023-01-24T12:36:30.820Z"
   },
   {
    "duration": 3,
    "start_time": "2023-01-24T12:36:48.529Z"
   },
   {
    "duration": 6,
    "start_time": "2023-01-24T12:37:13.493Z"
   },
   {
    "duration": 4,
    "start_time": "2023-01-24T12:37:21.280Z"
   },
   {
    "duration": 16,
    "start_time": "2023-01-24T13:21:37.993Z"
   },
   {
    "duration": 9,
    "start_time": "2023-01-24T13:22:07.681Z"
   },
   {
    "duration": 9,
    "start_time": "2023-01-24T13:24:21.482Z"
   },
   {
    "duration": 5,
    "start_time": "2023-01-24T13:24:52.354Z"
   },
   {
    "duration": 24,
    "start_time": "2023-01-24T13:25:03.427Z"
   },
   {
    "duration": 23,
    "start_time": "2023-01-24T13:25:07.319Z"
   },
   {
    "duration": 12,
    "start_time": "2023-01-24T13:25:09.291Z"
   },
   {
    "duration": 9,
    "start_time": "2023-01-24T13:25:10.090Z"
   },
   {
    "duration": 4,
    "start_time": "2023-01-24T13:25:10.682Z"
   },
   {
    "duration": 57,
    "start_time": "2023-01-24T13:25:46.444Z"
   },
   {
    "duration": 12,
    "start_time": "2023-01-24T13:25:51.425Z"
   },
   {
    "duration": 14,
    "start_time": "2023-01-24T13:27:19.954Z"
   },
   {
    "duration": 5,
    "start_time": "2023-01-24T13:30:43.968Z"
   },
   {
    "duration": 11,
    "start_time": "2023-01-24T13:32:43.903Z"
   },
   {
    "duration": 6,
    "start_time": "2023-01-24T13:39:58.106Z"
   },
   {
    "duration": 9,
    "start_time": "2023-01-24T13:40:18.223Z"
   },
   {
    "duration": 11,
    "start_time": "2023-01-24T13:40:46.406Z"
   },
   {
    "duration": 4,
    "start_time": "2023-01-24T13:42:05.451Z"
   },
   {
    "duration": 15,
    "start_time": "2023-01-24T13:42:51.537Z"
   },
   {
    "duration": 4,
    "start_time": "2023-01-24T13:43:43.793Z"
   },
   {
    "duration": 18,
    "start_time": "2023-01-24T13:43:46.095Z"
   },
   {
    "duration": 5,
    "start_time": "2023-01-24T13:45:44.940Z"
   },
   {
    "duration": 11,
    "start_time": "2023-01-24T13:46:02.975Z"
   },
   {
    "duration": 11,
    "start_time": "2023-01-24T13:46:30.216Z"
   },
   {
    "duration": 8,
    "start_time": "2023-01-24T13:47:09.473Z"
   },
   {
    "duration": 1113,
    "start_time": "2023-01-24T13:57:19.966Z"
   },
   {
    "duration": 24,
    "start_time": "2023-01-24T13:57:21.081Z"
   },
   {
    "duration": 12,
    "start_time": "2023-01-24T13:57:21.106Z"
   },
   {
    "duration": 14,
    "start_time": "2023-01-24T13:57:21.120Z"
   },
   {
    "duration": 4,
    "start_time": "2023-01-24T13:57:21.136Z"
   },
   {
    "duration": 23,
    "start_time": "2023-01-24T13:57:21.142Z"
   },
   {
    "duration": 27,
    "start_time": "2023-01-24T13:57:21.167Z"
   },
   {
    "duration": 5,
    "start_time": "2023-01-24T13:57:21.196Z"
   },
   {
    "duration": 26,
    "start_time": "2023-01-24T13:57:21.203Z"
   },
   {
    "duration": 7,
    "start_time": "2023-01-24T13:57:21.297Z"
   },
   {
    "duration": 95,
    "start_time": "2023-01-24T13:57:21.308Z"
   },
   {
    "duration": 11,
    "start_time": "2023-01-24T13:57:21.405Z"
   },
   {
    "duration": 4,
    "start_time": "2023-01-24T13:57:21.418Z"
   },
   {
    "duration": 19,
    "start_time": "2023-01-24T13:57:21.423Z"
   },
   {
    "duration": 4,
    "start_time": "2023-01-24T13:57:21.444Z"
   },
   {
    "duration": 11,
    "start_time": "2023-01-24T13:57:21.450Z"
   },
   {
    "duration": 11,
    "start_time": "2023-01-24T13:57:21.494Z"
   },
   {
    "duration": 10,
    "start_time": "2023-01-24T13:57:21.506Z"
   },
   {
    "duration": 1117,
    "start_time": "2023-01-24T14:09:01.066Z"
   },
   {
    "duration": 25,
    "start_time": "2023-01-24T14:09:02.185Z"
   },
   {
    "duration": 12,
    "start_time": "2023-01-24T14:09:02.489Z"
   },
   {
    "duration": 15,
    "start_time": "2023-01-24T14:09:02.723Z"
   },
   {
    "duration": 3,
    "start_time": "2023-01-24T14:09:03.169Z"
   },
   {
    "duration": 12,
    "start_time": "2023-01-24T14:09:03.377Z"
   },
   {
    "duration": 16,
    "start_time": "2023-01-24T14:09:03.833Z"
   },
   {
    "duration": 4,
    "start_time": "2023-01-24T14:09:04.769Z"
   },
   {
    "duration": 20,
    "start_time": "2023-01-24T14:09:05.568Z"
   },
   {
    "duration": 5,
    "start_time": "2023-01-24T14:09:08.576Z"
   },
   {
    "duration": 8,
    "start_time": "2023-01-24T14:09:08.985Z"
   },
   {
    "duration": 11,
    "start_time": "2023-01-24T14:09:09.184Z"
   },
   {
    "duration": 5,
    "start_time": "2023-01-24T14:09:10.033Z"
   },
   {
    "duration": 21,
    "start_time": "2023-01-24T14:09:10.480Z"
   },
   {
    "duration": 8,
    "start_time": "2023-01-24T14:09:10.925Z"
   },
   {
    "duration": 9,
    "start_time": "2023-01-24T14:09:11.129Z"
   },
   {
    "duration": 13,
    "start_time": "2023-01-24T14:09:11.377Z"
   },
   {
    "duration": 9,
    "start_time": "2023-01-24T14:09:11.825Z"
   },
   {
    "duration": 10,
    "start_time": "2023-01-24T14:11:44.332Z"
   },
   {
    "duration": 1101,
    "start_time": "2023-01-24T14:12:47.361Z"
   },
   {
    "duration": 23,
    "start_time": "2023-01-24T14:12:48.464Z"
   },
   {
    "duration": 10,
    "start_time": "2023-01-24T14:12:48.489Z"
   },
   {
    "duration": 12,
    "start_time": "2023-01-24T14:12:48.500Z"
   },
   {
    "duration": 8,
    "start_time": "2023-01-24T14:12:48.514Z"
   },
   {
    "duration": 16,
    "start_time": "2023-01-24T14:12:48.523Z"
   },
   {
    "duration": 14,
    "start_time": "2023-01-24T14:12:48.540Z"
   },
   {
    "duration": 3,
    "start_time": "2023-01-24T14:12:48.556Z"
   },
   {
    "duration": 39,
    "start_time": "2023-01-24T14:12:48.560Z"
   },
   {
    "duration": 7,
    "start_time": "2023-01-24T14:12:48.603Z"
   },
   {
    "duration": 9,
    "start_time": "2023-01-24T14:12:48.694Z"
   },
   {
    "duration": 10,
    "start_time": "2023-01-24T14:12:48.705Z"
   },
   {
    "duration": 4,
    "start_time": "2023-01-24T14:12:48.717Z"
   },
   {
    "duration": 19,
    "start_time": "2023-01-24T14:12:48.723Z"
   },
   {
    "duration": 4,
    "start_time": "2023-01-24T14:12:48.744Z"
   },
   {
    "duration": 44,
    "start_time": "2023-01-24T14:12:48.750Z"
   },
   {
    "duration": 11,
    "start_time": "2023-01-24T14:12:48.796Z"
   },
   {
    "duration": 7,
    "start_time": "2023-01-24T14:12:48.808Z"
   },
   {
    "duration": 5,
    "start_time": "2023-01-24T14:14:19.139Z"
   },
   {
    "duration": 12,
    "start_time": "2023-01-24T14:14:22.199Z"
   },
   {
    "duration": 14,
    "start_time": "2023-01-24T14:14:28.888Z"
   },
   {
    "duration": 5,
    "start_time": "2023-01-24T14:15:48.871Z"
   },
   {
    "duration": 8,
    "start_time": "2023-01-24T14:15:52.744Z"
   },
   {
    "duration": 4,
    "start_time": "2023-01-24T14:16:08.751Z"
   },
   {
    "duration": 1059,
    "start_time": "2023-01-24T14:16:27.098Z"
   },
   {
    "duration": 24,
    "start_time": "2023-01-24T14:16:28.160Z"
   },
   {
    "duration": 10,
    "start_time": "2023-01-24T14:16:28.185Z"
   },
   {
    "duration": 18,
    "start_time": "2023-01-24T14:16:28.198Z"
   },
   {
    "duration": 3,
    "start_time": "2023-01-24T14:16:28.218Z"
   },
   {
    "duration": 14,
    "start_time": "2023-01-24T14:16:28.223Z"
   },
   {
    "duration": 16,
    "start_time": "2023-01-24T14:16:28.238Z"
   },
   {
    "duration": 4,
    "start_time": "2023-01-24T14:16:28.256Z"
   },
   {
    "duration": 40,
    "start_time": "2023-01-24T14:16:28.261Z"
   },
   {
    "duration": 5,
    "start_time": "2023-01-24T14:16:28.305Z"
   },
   {
    "duration": 94,
    "start_time": "2023-01-24T14:16:28.311Z"
   },
   {
    "duration": 89,
    "start_time": "2023-01-24T14:16:28.407Z"
   },
   {
    "duration": 7,
    "start_time": "2023-01-24T14:16:28.497Z"
   },
   {
    "duration": 18,
    "start_time": "2023-01-24T14:16:28.505Z"
   },
   {
    "duration": 4,
    "start_time": "2023-01-24T14:16:28.525Z"
   },
   {
    "duration": 9,
    "start_time": "2023-01-24T14:16:28.530Z"
   },
   {
    "duration": 10,
    "start_time": "2023-01-24T14:16:28.540Z"
   },
   {
    "duration": 7,
    "start_time": "2023-01-24T14:16:28.551Z"
   },
   {
    "duration": 2137,
    "start_time": "2023-01-24T14:45:01.744Z"
   },
   {
    "duration": 94,
    "start_time": "2023-01-24T14:45:03.883Z"
   },
   {
    "duration": 12,
    "start_time": "2023-01-24T14:45:14.152Z"
   },
   {
    "duration": 14,
    "start_time": "2023-01-24T14:45:14.430Z"
   },
   {
    "duration": 3,
    "start_time": "2023-01-24T14:45:14.635Z"
   },
   {
    "duration": 12,
    "start_time": "2023-01-24T14:45:15.213Z"
   },
   {
    "duration": 16,
    "start_time": "2023-01-24T14:45:17.207Z"
   },
   {
    "duration": 4,
    "start_time": "2023-01-24T14:49:07.666Z"
   },
   {
    "duration": 14,
    "start_time": "2023-01-24T14:49:10.703Z"
   },
   {
    "duration": 5,
    "start_time": "2023-01-24T14:51:27.358Z"
   },
   {
    "duration": 9,
    "start_time": "2023-01-24T14:51:28.541Z"
   },
   {
    "duration": 11,
    "start_time": "2023-01-24T14:51:29.829Z"
   },
   {
    "duration": 4,
    "start_time": "2023-01-24T14:51:48.739Z"
   },
   {
    "duration": 393,
    "start_time": "2023-01-24T15:45:49.709Z"
   },
   {
    "duration": 124,
    "start_time": "2023-01-24T15:59:26.438Z"
   },
   {
    "duration": 252,
    "start_time": "2023-01-24T16:00:21.687Z"
   },
   {
    "duration": 131,
    "start_time": "2023-01-24T16:00:41.266Z"
   },
   {
    "duration": 124,
    "start_time": "2023-01-24T16:01:04.889Z"
   },
   {
    "duration": 139,
    "start_time": "2023-01-24T16:02:56.731Z"
   },
   {
    "duration": 124,
    "start_time": "2023-01-24T16:07:36.816Z"
   },
   {
    "duration": 137,
    "start_time": "2023-01-24T16:08:13.223Z"
   },
   {
    "duration": 99,
    "start_time": "2023-01-24T16:12:45.576Z"
   },
   {
    "duration": 1132,
    "start_time": "2023-01-24T16:13:04.582Z"
   },
   {
    "duration": 16,
    "start_time": "2023-01-24T16:18:48.377Z"
   },
   {
    "duration": 10,
    "start_time": "2023-01-24T16:19:20.657Z"
   },
   {
    "duration": 125,
    "start_time": "2023-01-24T16:20:00.590Z"
   },
   {
    "duration": 109,
    "start_time": "2023-01-24T16:22:20.251Z"
   },
   {
    "duration": 1193,
    "start_time": "2023-01-24T16:22:36.935Z"
   },
   {
    "duration": 126,
    "start_time": "2023-01-24T16:22:59.995Z"
   },
   {
    "duration": 128,
    "start_time": "2023-01-24T16:23:51.608Z"
   },
   {
    "duration": 119,
    "start_time": "2023-01-24T16:24:13.092Z"
   },
   {
    "duration": 137,
    "start_time": "2023-01-24T16:24:50.381Z"
   },
   {
    "duration": 5,
    "start_time": "2023-01-24T16:27:13.513Z"
   },
   {
    "duration": 4,
    "start_time": "2023-01-24T16:27:35.090Z"
   },
   {
    "duration": 12,
    "start_time": "2023-01-24T16:30:42.470Z"
   },
   {
    "duration": 10,
    "start_time": "2023-01-24T16:30:46.993Z"
   },
   {
    "duration": 11,
    "start_time": "2023-01-24T16:30:59.597Z"
   },
   {
    "duration": 11,
    "start_time": "2023-01-24T16:31:20.202Z"
   },
   {
    "duration": 91,
    "start_time": "2023-01-24T16:31:49.474Z"
   },
   {
    "duration": 90,
    "start_time": "2023-01-24T16:32:16.791Z"
   },
   {
    "duration": 85,
    "start_time": "2023-01-24T16:32:27.326Z"
   },
   {
    "duration": 78,
    "start_time": "2023-01-24T16:32:36.051Z"
   },
   {
    "duration": 96,
    "start_time": "2023-01-24T16:33:20.381Z"
   },
   {
    "duration": 17,
    "start_time": "2023-01-24T16:36:41.182Z"
   },
   {
    "duration": 8,
    "start_time": "2023-01-24T16:37:36.663Z"
   },
   {
    "duration": 10,
    "start_time": "2023-01-24T16:37:50.007Z"
   },
   {
    "duration": 107,
    "start_time": "2023-01-24T16:37:58.166Z"
   },
   {
    "duration": 121,
    "start_time": "2023-01-24T16:39:18.790Z"
   },
   {
    "duration": 120,
    "start_time": "2023-01-24T16:41:37.686Z"
   },
   {
    "duration": 160,
    "start_time": "2023-01-24T16:42:27.422Z"
   },
   {
    "duration": 91,
    "start_time": "2023-01-24T16:42:32.288Z"
   },
   {
    "duration": 127,
    "start_time": "2023-01-24T16:42:58.639Z"
   },
   {
    "duration": 154,
    "start_time": "2023-01-24T16:49:17.739Z"
   },
   {
    "duration": 160,
    "start_time": "2023-01-24T16:50:12.198Z"
   },
   {
    "duration": 156,
    "start_time": "2023-01-24T16:50:59.673Z"
   },
   {
    "duration": 183,
    "start_time": "2023-01-24T16:51:13.534Z"
   },
   {
    "duration": 147,
    "start_time": "2023-01-24T16:51:31.017Z"
   },
   {
    "duration": 149,
    "start_time": "2023-01-24T16:51:44.829Z"
   },
   {
    "duration": 109,
    "start_time": "2023-01-24T16:53:15.216Z"
   },
   {
    "duration": 107,
    "start_time": "2023-01-24T16:54:32.840Z"
   },
   {
    "duration": 118,
    "start_time": "2023-01-24T16:54:56.485Z"
   },
   {
    "duration": 133,
    "start_time": "2023-01-24T16:55:06.107Z"
   },
   {
    "duration": 116,
    "start_time": "2023-01-24T16:55:21.207Z"
   },
   {
    "duration": 296,
    "start_time": "2023-01-24T16:56:33.783Z"
   },
   {
    "duration": 151,
    "start_time": "2023-01-24T16:57:10.371Z"
   },
   {
    "duration": 157,
    "start_time": "2023-01-24T16:57:25.054Z"
   },
   {
    "duration": 151,
    "start_time": "2023-01-24T16:57:32.514Z"
   },
   {
    "duration": 169,
    "start_time": "2023-01-24T16:57:44.069Z"
   },
   {
    "duration": 146,
    "start_time": "2023-01-24T17:00:06.464Z"
   },
   {
    "duration": 191,
    "start_time": "2023-01-24T17:00:23.839Z"
   },
   {
    "duration": 197,
    "start_time": "2023-01-24T17:00:34.130Z"
   },
   {
    "duration": 73,
    "start_time": "2023-01-24T17:01:36.942Z"
   },
   {
    "duration": 154,
    "start_time": "2023-01-24T17:03:05.754Z"
   },
   {
    "duration": 84,
    "start_time": "2023-01-24T17:04:09.084Z"
   },
   {
    "duration": 71,
    "start_time": "2023-01-25T10:04:24.757Z"
   }
  ],
  "kernelspec": {
   "display_name": "Python 3 (ipykernel)",
   "language": "python",
   "name": "python3"
  },
  "language_info": {
   "codemirror_mode": {
    "name": "ipython",
    "version": 3
   },
   "file_extension": ".py",
   "mimetype": "text/x-python",
   "name": "python",
   "nbconvert_exporter": "python",
   "pygments_lexer": "ipython3",
   "version": "3.9.12"
  },
  "toc": {
   "base_numbering": 1,
   "nav_menu": {},
   "number_sections": true,
   "sideBar": true,
   "skip_h1_title": true,
   "title_cell": "Содержание",
   "title_sidebar": "Contents",
   "toc_cell": true,
   "toc_position": {},
   "toc_section_display": true,
   "toc_window_display": true
  }
 },
 "nbformat": 4,
 "nbformat_minor": 2
}
