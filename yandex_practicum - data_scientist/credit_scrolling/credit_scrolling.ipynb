{
 "cells": [
  {
   "cell_type": "markdown",
   "id": "341e5d4c",
   "metadata": {
    "deletable": false,
    "editable": false,
    "id": "c81daeeb"
   },
   "source": [
    "# Исследование надежности заемщиков\n"
   ]
  },
  {
   "cell_type": "markdown",
   "id": "479430f6",
   "metadata": {},
   "source": [
    "Заказчик — кредитный отдел банка. Нужно разобраться, влияет ли семейное положение и количество детей клиента на факт погашения кредита в срок. Входные данные от банка — статистика о платёжеспособности клиентов.\n",
    "Результаты исследования будут учтены при построении модели кредитного скоринга — специальной системы, которая оценивает способность потенциального заёмщика вернуть кредит банку."
   ]
  },
  {
   "cell_type": "markdown",
   "id": "d4675698",
   "metadata": {
    "deletable": false,
    "editable": false,
    "id": "827c20bf"
   },
   "source": [
    "Во второй части проекта вы выполните шаги 3 и 4. Их вручную проверит ревьюер.\n",
    "Чтобы вам не пришлось писать код заново для шагов 1 и 2, мы добавили авторские решения в ячейки с кодом. \n",
    "\n"
   ]
  },
  {
   "cell_type": "markdown",
   "id": "3cff398d",
   "metadata": {
    "deletable": false,
    "editable": false,
    "id": "744d7639"
   },
   "source": [
    "## Откройте таблицу и изучите общую информацию о данных"
   ]
  },
  {
   "cell_type": "markdown",
   "id": "57567a5a",
   "metadata": {
    "deletable": false,
    "editable": false,
    "id": "e7a14c31"
   },
   "source": [
    "**Задание 1. Импортируйте библиотеку pandas. Считайте данные из csv-файла в датафрейм и сохраните в переменную `data`. Путь к файлу:**\n",
    "\n",
    "`/datasets/data.csv`"
   ]
  },
  {
   "cell_type": "code",
   "execution_count": 1,
   "id": "8605e78b",
   "metadata": {
    "deletable": false,
    "id": "7bcf75c9"
   },
   "outputs": [],
   "source": [
    "import pandas as pd\n",
    "\n",
    "try:\n",
    "    data = pd.read_csv('/datasets/data.csv')\n",
    "except:\n",
    "    data = pd.read_csv('https://code.s3.yandex.net/datasets/data.csv')"
   ]
  },
  {
   "cell_type": "markdown",
   "id": "6e50efbe",
   "metadata": {
    "deletable": false,
    "editable": false,
    "id": "b8038fe3"
   },
   "source": [
    "**Задание 2. Выведите первые 20 строчек датафрейма `data` на экран.**"
   ]
  },
  {
   "cell_type": "code",
   "execution_count": 2,
   "id": "1b40cb43",
   "metadata": {
    "deletable": false,
    "id": "2a7cab99",
    "outputId": "1a8f3ef2-d323-4ec2-ddf7-89670b5944c4"
   },
   "outputs": [
    {
     "data": {
      "text/html": [
       "<div>\n",
       "<style scoped>\n",
       "    .dataframe tbody tr th:only-of-type {\n",
       "        vertical-align: middle;\n",
       "    }\n",
       "\n",
       "    .dataframe tbody tr th {\n",
       "        vertical-align: top;\n",
       "    }\n",
       "\n",
       "    .dataframe thead th {\n",
       "        text-align: right;\n",
       "    }\n",
       "</style>\n",
       "<table border=\"1\" class=\"dataframe\">\n",
       "  <thead>\n",
       "    <tr style=\"text-align: right;\">\n",
       "      <th></th>\n",
       "      <th>children</th>\n",
       "      <th>days_employed</th>\n",
       "      <th>dob_years</th>\n",
       "      <th>education</th>\n",
       "      <th>education_id</th>\n",
       "      <th>family_status</th>\n",
       "      <th>family_status_id</th>\n",
       "      <th>gender</th>\n",
       "      <th>income_type</th>\n",
       "      <th>debt</th>\n",
       "      <th>total_income</th>\n",
       "      <th>purpose</th>\n",
       "    </tr>\n",
       "  </thead>\n",
       "  <tbody>\n",
       "    <tr>\n",
       "      <th>0</th>\n",
       "      <td>1</td>\n",
       "      <td>-8437.673028</td>\n",
       "      <td>42</td>\n",
       "      <td>высшее</td>\n",
       "      <td>0</td>\n",
       "      <td>женат / замужем</td>\n",
       "      <td>0</td>\n",
       "      <td>F</td>\n",
       "      <td>сотрудник</td>\n",
       "      <td>0</td>\n",
       "      <td>253875.639453</td>\n",
       "      <td>покупка жилья</td>\n",
       "    </tr>\n",
       "    <tr>\n",
       "      <th>1</th>\n",
       "      <td>1</td>\n",
       "      <td>-4024.803754</td>\n",
       "      <td>36</td>\n",
       "      <td>среднее</td>\n",
       "      <td>1</td>\n",
       "      <td>женат / замужем</td>\n",
       "      <td>0</td>\n",
       "      <td>F</td>\n",
       "      <td>сотрудник</td>\n",
       "      <td>0</td>\n",
       "      <td>112080.014102</td>\n",
       "      <td>приобретение автомобиля</td>\n",
       "    </tr>\n",
       "    <tr>\n",
       "      <th>2</th>\n",
       "      <td>0</td>\n",
       "      <td>-5623.422610</td>\n",
       "      <td>33</td>\n",
       "      <td>Среднее</td>\n",
       "      <td>1</td>\n",
       "      <td>женат / замужем</td>\n",
       "      <td>0</td>\n",
       "      <td>M</td>\n",
       "      <td>сотрудник</td>\n",
       "      <td>0</td>\n",
       "      <td>145885.952297</td>\n",
       "      <td>покупка жилья</td>\n",
       "    </tr>\n",
       "    <tr>\n",
       "      <th>3</th>\n",
       "      <td>3</td>\n",
       "      <td>-4124.747207</td>\n",
       "      <td>32</td>\n",
       "      <td>среднее</td>\n",
       "      <td>1</td>\n",
       "      <td>женат / замужем</td>\n",
       "      <td>0</td>\n",
       "      <td>M</td>\n",
       "      <td>сотрудник</td>\n",
       "      <td>0</td>\n",
       "      <td>267628.550329</td>\n",
       "      <td>дополнительное образование</td>\n",
       "    </tr>\n",
       "    <tr>\n",
       "      <th>4</th>\n",
       "      <td>0</td>\n",
       "      <td>340266.072047</td>\n",
       "      <td>53</td>\n",
       "      <td>среднее</td>\n",
       "      <td>1</td>\n",
       "      <td>гражданский брак</td>\n",
       "      <td>1</td>\n",
       "      <td>F</td>\n",
       "      <td>пенсионер</td>\n",
       "      <td>0</td>\n",
       "      <td>158616.077870</td>\n",
       "      <td>сыграть свадьбу</td>\n",
       "    </tr>\n",
       "    <tr>\n",
       "      <th>5</th>\n",
       "      <td>0</td>\n",
       "      <td>-926.185831</td>\n",
       "      <td>27</td>\n",
       "      <td>высшее</td>\n",
       "      <td>0</td>\n",
       "      <td>гражданский брак</td>\n",
       "      <td>1</td>\n",
       "      <td>M</td>\n",
       "      <td>компаньон</td>\n",
       "      <td>0</td>\n",
       "      <td>255763.565419</td>\n",
       "      <td>покупка жилья</td>\n",
       "    </tr>\n",
       "    <tr>\n",
       "      <th>6</th>\n",
       "      <td>0</td>\n",
       "      <td>-2879.202052</td>\n",
       "      <td>43</td>\n",
       "      <td>высшее</td>\n",
       "      <td>0</td>\n",
       "      <td>женат / замужем</td>\n",
       "      <td>0</td>\n",
       "      <td>F</td>\n",
       "      <td>компаньон</td>\n",
       "      <td>0</td>\n",
       "      <td>240525.971920</td>\n",
       "      <td>операции с жильем</td>\n",
       "    </tr>\n",
       "    <tr>\n",
       "      <th>7</th>\n",
       "      <td>0</td>\n",
       "      <td>-152.779569</td>\n",
       "      <td>50</td>\n",
       "      <td>СРЕДНЕЕ</td>\n",
       "      <td>1</td>\n",
       "      <td>женат / замужем</td>\n",
       "      <td>0</td>\n",
       "      <td>M</td>\n",
       "      <td>сотрудник</td>\n",
       "      <td>0</td>\n",
       "      <td>135823.934197</td>\n",
       "      <td>образование</td>\n",
       "    </tr>\n",
       "    <tr>\n",
       "      <th>8</th>\n",
       "      <td>2</td>\n",
       "      <td>-6929.865299</td>\n",
       "      <td>35</td>\n",
       "      <td>ВЫСШЕЕ</td>\n",
       "      <td>0</td>\n",
       "      <td>гражданский брак</td>\n",
       "      <td>1</td>\n",
       "      <td>F</td>\n",
       "      <td>сотрудник</td>\n",
       "      <td>0</td>\n",
       "      <td>95856.832424</td>\n",
       "      <td>на проведение свадьбы</td>\n",
       "    </tr>\n",
       "    <tr>\n",
       "      <th>9</th>\n",
       "      <td>0</td>\n",
       "      <td>-2188.756445</td>\n",
       "      <td>41</td>\n",
       "      <td>среднее</td>\n",
       "      <td>1</td>\n",
       "      <td>женат / замужем</td>\n",
       "      <td>0</td>\n",
       "      <td>M</td>\n",
       "      <td>сотрудник</td>\n",
       "      <td>0</td>\n",
       "      <td>144425.938277</td>\n",
       "      <td>покупка жилья для семьи</td>\n",
       "    </tr>\n",
       "    <tr>\n",
       "      <th>10</th>\n",
       "      <td>2</td>\n",
       "      <td>-4171.483647</td>\n",
       "      <td>36</td>\n",
       "      <td>высшее</td>\n",
       "      <td>0</td>\n",
       "      <td>женат / замужем</td>\n",
       "      <td>0</td>\n",
       "      <td>M</td>\n",
       "      <td>компаньон</td>\n",
       "      <td>0</td>\n",
       "      <td>113943.491460</td>\n",
       "      <td>покупка недвижимости</td>\n",
       "    </tr>\n",
       "    <tr>\n",
       "      <th>11</th>\n",
       "      <td>0</td>\n",
       "      <td>-792.701887</td>\n",
       "      <td>40</td>\n",
       "      <td>среднее</td>\n",
       "      <td>1</td>\n",
       "      <td>женат / замужем</td>\n",
       "      <td>0</td>\n",
       "      <td>F</td>\n",
       "      <td>сотрудник</td>\n",
       "      <td>0</td>\n",
       "      <td>77069.234271</td>\n",
       "      <td>покупка коммерческой недвижимости</td>\n",
       "    </tr>\n",
       "    <tr>\n",
       "      <th>12</th>\n",
       "      <td>0</td>\n",
       "      <td>NaN</td>\n",
       "      <td>65</td>\n",
       "      <td>среднее</td>\n",
       "      <td>1</td>\n",
       "      <td>гражданский брак</td>\n",
       "      <td>1</td>\n",
       "      <td>M</td>\n",
       "      <td>пенсионер</td>\n",
       "      <td>0</td>\n",
       "      <td>NaN</td>\n",
       "      <td>сыграть свадьбу</td>\n",
       "    </tr>\n",
       "    <tr>\n",
       "      <th>13</th>\n",
       "      <td>0</td>\n",
       "      <td>-1846.641941</td>\n",
       "      <td>54</td>\n",
       "      <td>неоконченное высшее</td>\n",
       "      <td>2</td>\n",
       "      <td>женат / замужем</td>\n",
       "      <td>0</td>\n",
       "      <td>F</td>\n",
       "      <td>сотрудник</td>\n",
       "      <td>0</td>\n",
       "      <td>130458.228857</td>\n",
       "      <td>приобретение автомобиля</td>\n",
       "    </tr>\n",
       "    <tr>\n",
       "      <th>14</th>\n",
       "      <td>0</td>\n",
       "      <td>-1844.956182</td>\n",
       "      <td>56</td>\n",
       "      <td>высшее</td>\n",
       "      <td>0</td>\n",
       "      <td>гражданский брак</td>\n",
       "      <td>1</td>\n",
       "      <td>F</td>\n",
       "      <td>компаньон</td>\n",
       "      <td>1</td>\n",
       "      <td>165127.911772</td>\n",
       "      <td>покупка жилой недвижимости</td>\n",
       "    </tr>\n",
       "    <tr>\n",
       "      <th>15</th>\n",
       "      <td>1</td>\n",
       "      <td>-972.364419</td>\n",
       "      <td>26</td>\n",
       "      <td>среднее</td>\n",
       "      <td>1</td>\n",
       "      <td>женат / замужем</td>\n",
       "      <td>0</td>\n",
       "      <td>F</td>\n",
       "      <td>сотрудник</td>\n",
       "      <td>0</td>\n",
       "      <td>116820.904450</td>\n",
       "      <td>строительство собственной недвижимости</td>\n",
       "    </tr>\n",
       "    <tr>\n",
       "      <th>16</th>\n",
       "      <td>0</td>\n",
       "      <td>-1719.934226</td>\n",
       "      <td>35</td>\n",
       "      <td>среднее</td>\n",
       "      <td>1</td>\n",
       "      <td>женат / замужем</td>\n",
       "      <td>0</td>\n",
       "      <td>F</td>\n",
       "      <td>сотрудник</td>\n",
       "      <td>0</td>\n",
       "      <td>289202.704229</td>\n",
       "      <td>недвижимость</td>\n",
       "    </tr>\n",
       "    <tr>\n",
       "      <th>17</th>\n",
       "      <td>0</td>\n",
       "      <td>-2369.999720</td>\n",
       "      <td>33</td>\n",
       "      <td>высшее</td>\n",
       "      <td>0</td>\n",
       "      <td>гражданский брак</td>\n",
       "      <td>1</td>\n",
       "      <td>M</td>\n",
       "      <td>сотрудник</td>\n",
       "      <td>0</td>\n",
       "      <td>90410.586745</td>\n",
       "      <td>строительство недвижимости</td>\n",
       "    </tr>\n",
       "    <tr>\n",
       "      <th>18</th>\n",
       "      <td>0</td>\n",
       "      <td>400281.136913</td>\n",
       "      <td>53</td>\n",
       "      <td>среднее</td>\n",
       "      <td>1</td>\n",
       "      <td>вдовец / вдова</td>\n",
       "      <td>2</td>\n",
       "      <td>F</td>\n",
       "      <td>пенсионер</td>\n",
       "      <td>0</td>\n",
       "      <td>56823.777243</td>\n",
       "      <td>на покупку подержанного автомобиля</td>\n",
       "    </tr>\n",
       "    <tr>\n",
       "      <th>19</th>\n",
       "      <td>0</td>\n",
       "      <td>-10038.818549</td>\n",
       "      <td>48</td>\n",
       "      <td>СРЕДНЕЕ</td>\n",
       "      <td>1</td>\n",
       "      <td>в разводе</td>\n",
       "      <td>3</td>\n",
       "      <td>F</td>\n",
       "      <td>сотрудник</td>\n",
       "      <td>0</td>\n",
       "      <td>242831.107982</td>\n",
       "      <td>на покупку своего автомобиля</td>\n",
       "    </tr>\n",
       "  </tbody>\n",
       "</table>\n",
       "</div>"
      ],
      "text/plain": [
       "    children  days_employed  dob_years            education  education_id  \\\n",
       "0          1   -8437.673028         42               высшее             0   \n",
       "1          1   -4024.803754         36              среднее             1   \n",
       "2          0   -5623.422610         33              Среднее             1   \n",
       "3          3   -4124.747207         32              среднее             1   \n",
       "4          0  340266.072047         53              среднее             1   \n",
       "5          0    -926.185831         27               высшее             0   \n",
       "6          0   -2879.202052         43               высшее             0   \n",
       "7          0    -152.779569         50              СРЕДНЕЕ             1   \n",
       "8          2   -6929.865299         35               ВЫСШЕЕ             0   \n",
       "9          0   -2188.756445         41              среднее             1   \n",
       "10         2   -4171.483647         36               высшее             0   \n",
       "11         0    -792.701887         40              среднее             1   \n",
       "12         0            NaN         65              среднее             1   \n",
       "13         0   -1846.641941         54  неоконченное высшее             2   \n",
       "14         0   -1844.956182         56               высшее             0   \n",
       "15         1    -972.364419         26              среднее             1   \n",
       "16         0   -1719.934226         35              среднее             1   \n",
       "17         0   -2369.999720         33               высшее             0   \n",
       "18         0  400281.136913         53              среднее             1   \n",
       "19         0  -10038.818549         48              СРЕДНЕЕ             1   \n",
       "\n",
       "       family_status  family_status_id gender income_type  debt  \\\n",
       "0    женат / замужем                 0      F   сотрудник     0   \n",
       "1    женат / замужем                 0      F   сотрудник     0   \n",
       "2    женат / замужем                 0      M   сотрудник     0   \n",
       "3    женат / замужем                 0      M   сотрудник     0   \n",
       "4   гражданский брак                 1      F   пенсионер     0   \n",
       "5   гражданский брак                 1      M   компаньон     0   \n",
       "6    женат / замужем                 0      F   компаньон     0   \n",
       "7    женат / замужем                 0      M   сотрудник     0   \n",
       "8   гражданский брак                 1      F   сотрудник     0   \n",
       "9    женат / замужем                 0      M   сотрудник     0   \n",
       "10   женат / замужем                 0      M   компаньон     0   \n",
       "11   женат / замужем                 0      F   сотрудник     0   \n",
       "12  гражданский брак                 1      M   пенсионер     0   \n",
       "13   женат / замужем                 0      F   сотрудник     0   \n",
       "14  гражданский брак                 1      F   компаньон     1   \n",
       "15   женат / замужем                 0      F   сотрудник     0   \n",
       "16   женат / замужем                 0      F   сотрудник     0   \n",
       "17  гражданский брак                 1      M   сотрудник     0   \n",
       "18    вдовец / вдова                 2      F   пенсионер     0   \n",
       "19         в разводе                 3      F   сотрудник     0   \n",
       "\n",
       "     total_income                                 purpose  \n",
       "0   253875.639453                           покупка жилья  \n",
       "1   112080.014102                 приобретение автомобиля  \n",
       "2   145885.952297                           покупка жилья  \n",
       "3   267628.550329              дополнительное образование  \n",
       "4   158616.077870                         сыграть свадьбу  \n",
       "5   255763.565419                           покупка жилья  \n",
       "6   240525.971920                       операции с жильем  \n",
       "7   135823.934197                             образование  \n",
       "8    95856.832424                   на проведение свадьбы  \n",
       "9   144425.938277                 покупка жилья для семьи  \n",
       "10  113943.491460                    покупка недвижимости  \n",
       "11   77069.234271       покупка коммерческой недвижимости  \n",
       "12            NaN                         сыграть свадьбу  \n",
       "13  130458.228857                 приобретение автомобиля  \n",
       "14  165127.911772              покупка жилой недвижимости  \n",
       "15  116820.904450  строительство собственной недвижимости  \n",
       "16  289202.704229                            недвижимость  \n",
       "17   90410.586745              строительство недвижимости  \n",
       "18   56823.777243      на покупку подержанного автомобиля  \n",
       "19  242831.107982            на покупку своего автомобиля  "
      ]
     },
     "execution_count": 2,
     "metadata": {},
     "output_type": "execute_result"
    }
   ],
   "source": [
    "data.head(20)"
   ]
  },
  {
   "cell_type": "markdown",
   "id": "e992bec8",
   "metadata": {
    "deletable": false,
    "editable": false,
    "id": "1c12e233"
   },
   "source": [
    "**Задание 3. Выведите основную информацию о датафрейме с помощью метода `info()`.**"
   ]
  },
  {
   "cell_type": "code",
   "execution_count": 3,
   "id": "7cb58ff1",
   "metadata": {
    "deletable": false,
    "id": "2b757bca",
    "outputId": "15376089-8dad-46c9-b520-c05248d43158"
   },
   "outputs": [
    {
     "name": "stdout",
     "output_type": "stream",
     "text": [
      "<class 'pandas.core.frame.DataFrame'>\n",
      "RangeIndex: 21525 entries, 0 to 21524\n",
      "Data columns (total 12 columns):\n",
      " #   Column            Non-Null Count  Dtype  \n",
      "---  ------            --------------  -----  \n",
      " 0   children          21525 non-null  int64  \n",
      " 1   days_employed     19351 non-null  float64\n",
      " 2   dob_years         21525 non-null  int64  \n",
      " 3   education         21525 non-null  object \n",
      " 4   education_id      21525 non-null  int64  \n",
      " 5   family_status     21525 non-null  object \n",
      " 6   family_status_id  21525 non-null  int64  \n",
      " 7   gender            21525 non-null  object \n",
      " 8   income_type       21525 non-null  object \n",
      " 9   debt              21525 non-null  int64  \n",
      " 10  total_income      19351 non-null  float64\n",
      " 11  purpose           21525 non-null  object \n",
      "dtypes: float64(2), int64(5), object(5)\n",
      "memory usage: 2.0+ MB\n"
     ]
    }
   ],
   "source": [
    "data.info()"
   ]
  },
  {
   "cell_type": "markdown",
   "id": "ced502a5",
   "metadata": {
    "deletable": false,
    "editable": false,
    "id": "333ec665"
   },
   "source": [
    "## Предобработка данных"
   ]
  },
  {
   "cell_type": "markdown",
   "id": "f8403268",
   "metadata": {
    "deletable": false,
    "editable": false,
    "id": "02d92d53"
   },
   "source": [
    "### Удаление пропусков"
   ]
  },
  {
   "cell_type": "markdown",
   "id": "f58cbdfc",
   "metadata": {
    "deletable": false,
    "editable": false,
    "id": "cd84967c"
   },
   "source": [
    "**Задание 4. Выведите количество пропущенных значений для каждого столбца. Используйте комбинацию двух методов.**"
   ]
  },
  {
   "cell_type": "code",
   "execution_count": 4,
   "id": "41bdfc65",
   "metadata": {
    "deletable": false,
    "id": "7f9b2309",
    "outputId": "81f4d817-781c-465c-ed15-91ce4446810d"
   },
   "outputs": [
    {
     "data": {
      "text/plain": [
       "children               0\n",
       "days_employed       2174\n",
       "dob_years              0\n",
       "education              0\n",
       "education_id           0\n",
       "family_status          0\n",
       "family_status_id       0\n",
       "gender                 0\n",
       "income_type            0\n",
       "debt                   0\n",
       "total_income        2174\n",
       "purpose                0\n",
       "dtype: int64"
      ]
     },
     "execution_count": 4,
     "metadata": {},
     "output_type": "execute_result"
    }
   ],
   "source": [
    "data.isna().sum()"
   ]
  },
  {
   "cell_type": "markdown",
   "id": "27115008",
   "metadata": {
    "deletable": false,
    "editable": false,
    "id": "db86e27b"
   },
   "source": [
    "**Задание 5. В двух столбцах есть пропущенные значения. Один из них — `days_employed`. Пропуски в этом столбце вы обработаете на следующем этапе. Другой столбец с пропущенными значениями — `total_income` — хранит данные о доходах. На сумму дохода сильнее всего влияет тип занятости, поэтому заполнить пропуски в этом столбце нужно медианным значением по каждому типу из столбца `income_type`. Например, у человека с типом занятости `сотрудник` пропуск в столбце `total_income` должен быть заполнен медианным доходом среди всех записей с тем же типом.**"
   ]
  },
  {
   "cell_type": "code",
   "execution_count": 5,
   "id": "99c2777c",
   "metadata": {
    "deletable": false,
    "id": "42006a93"
   },
   "outputs": [],
   "source": [
    "for t in data['income_type'].unique():\n",
    "    data.loc[(data['income_type'] == t) & (data['total_income'].isna()), 'total_income'] = \\\n",
    "    data.loc[(data['income_type'] == t), 'total_income'].median()"
   ]
  },
  {
   "cell_type": "markdown",
   "id": "0cabfc1e",
   "metadata": {
    "deletable": false,
    "editable": false,
    "id": "89da5ece"
   },
   "source": [
    "### Обработка аномальных значений"
   ]
  },
  {
   "cell_type": "markdown",
   "id": "a1655f79",
   "metadata": {
    "deletable": false,
    "editable": false,
    "id": "57964554"
   },
   "source": [
    "**Задание 6. В данных могут встречаться артефакты (аномалии) — значения, которые не отражают действительность и появились по какой-то ошибке. таким артефактом будет отрицательное количество дней трудового стажа в столбце `days_employed`. Для реальных данных это нормально. Обработайте значения в этом столбце: замените все отрицательные значения положительными с помощью метода `abs()`.**"
   ]
  },
  {
   "cell_type": "code",
   "execution_count": 6,
   "id": "9650202a",
   "metadata": {
    "deletable": false,
    "id": "f6f055bf"
   },
   "outputs": [],
   "source": [
    "data['days_employed'] = data['days_employed'].abs()"
   ]
  },
  {
   "cell_type": "markdown",
   "id": "5f041e97",
   "metadata": {
    "deletable": false,
    "editable": false,
    "id": "6107dd2f"
   },
   "source": [
    "**Задание 7. Для каждого типа занятости выведите медианное значение трудового стажа `days_employed` в днях.**"
   ]
  },
  {
   "cell_type": "code",
   "execution_count": 7,
   "id": "9c1c3f4c",
   "metadata": {
    "deletable": false,
    "id": "85a5faf6",
    "outputId": "801ef80e-522b-4668-f34e-565af7432bcf"
   },
   "outputs": [
    {
     "data": {
      "text/plain": [
       "income_type\n",
       "безработный        366413.652744\n",
       "в декрете            3296.759962\n",
       "госслужащий          2689.368353\n",
       "компаньон            1547.382223\n",
       "пенсионер          365213.306266\n",
       "предприниматель       520.848083\n",
       "сотрудник            1574.202821\n",
       "студент               578.751554\n",
       "Name: days_employed, dtype: float64"
      ]
     },
     "execution_count": 7,
     "metadata": {},
     "output_type": "execute_result"
    }
   ],
   "source": [
    "data.groupby('income_type')['days_employed'].agg('median')"
   ]
  },
  {
   "cell_type": "markdown",
   "id": "1f83a553",
   "metadata": {
    "deletable": false,
    "editable": false,
    "id": "38d1a030"
   },
   "source": [
    "У двух типов (безработные и пенсионеры) получатся аномально большие значения. Исправить такие значения сложно, поэтому оставьте их как есть. Тем более этот столбец не понадобится вам для исследования."
   ]
  },
  {
   "cell_type": "markdown",
   "id": "06a2102d",
   "metadata": {
    "deletable": false,
    "editable": false,
    "id": "d8a9f147"
   },
   "source": [
    "**Задание 8. Выведите перечень уникальных значений столбца `children`.**"
   ]
  },
  {
   "cell_type": "code",
   "execution_count": 8,
   "id": "2170c92d",
   "metadata": {
    "deletable": false,
    "id": "ef5056eb",
    "outputId": "6975b15c-7f95-4697-d16d-a0c79b657b03"
   },
   "outputs": [
    {
     "data": {
      "text/plain": [
       "array([ 1,  0,  3,  2, -1,  4, 20,  5])"
      ]
     },
     "execution_count": 8,
     "metadata": {},
     "output_type": "execute_result"
    }
   ],
   "source": [
    "data['children'].unique()"
   ]
  },
  {
   "cell_type": "markdown",
   "id": "b0fb71ea",
   "metadata": {
    "deletable": false,
    "editable": false,
    "id": "40b9ebf2"
   },
   "source": [
    "**Задание 9. В столбце `children` есть два аномальных значения. Удалите строки, в которых встречаются такие аномальные значения из датафрейма `data`.**"
   ]
  },
  {
   "cell_type": "code",
   "execution_count": 9,
   "id": "cc7bf9a6",
   "metadata": {
    "deletable": false,
    "id": "3ff9801d"
   },
   "outputs": [],
   "source": [
    "data = data[(data['children'] != -1) & (data['children'] != 20)]"
   ]
  },
  {
   "cell_type": "markdown",
   "id": "7878ef19",
   "metadata": {
    "deletable": false,
    "editable": false,
    "id": "bbc4d0ce"
   },
   "source": [
    "**Задание 10. Ещё раз выведите перечень уникальных значений столбца `children`, чтобы убедиться, что артефакты удалены.**"
   ]
  },
  {
   "cell_type": "code",
   "execution_count": 10,
   "id": "22666e3a",
   "metadata": {
    "deletable": false,
    "id": "ad4fa8b7",
    "outputId": "b2097101-d49d-44d9-901b-32a65c9463d1"
   },
   "outputs": [
    {
     "data": {
      "text/plain": [
       "array([1, 0, 3, 2, 4, 5])"
      ]
     },
     "execution_count": 10,
     "metadata": {},
     "output_type": "execute_result"
    }
   ],
   "source": [
    "data['children'].unique()"
   ]
  },
  {
   "cell_type": "markdown",
   "id": "d928ba96",
   "metadata": {
    "deletable": false,
    "editable": false,
    "id": "75440b63"
   },
   "source": [
    "### Удаление пропусков (продолжение)"
   ]
  },
  {
   "cell_type": "markdown",
   "id": "09b2d66b",
   "metadata": {
    "deletable": false,
    "editable": false,
    "id": "f4ea573f"
   },
   "source": [
    "**Задание 11. Заполните пропуски в столбце `days_employed` медианными значениями по каждого типа занятости `income_type`.**"
   ]
  },
  {
   "cell_type": "code",
   "execution_count": 11,
   "id": "b5dcdcf7",
   "metadata": {
    "deletable": false,
    "id": "af6b1a7e"
   },
   "outputs": [],
   "source": [
    "for t in data['income_type'].unique():\n",
    "    data.loc[(data['income_type'] == t) & (data['days_employed'].isna()), 'days_employed'] = \\\n",
    "    data.loc[(data['income_type'] == t), 'days_employed'].median()"
   ]
  },
  {
   "cell_type": "markdown",
   "id": "3c5fba38",
   "metadata": {
    "deletable": false,
    "editable": false,
    "id": "2753f40d"
   },
   "source": [
    "**Задание 12. Убедитесь, что все пропуски заполнены. Проверьте себя и ещё раз выведите количество пропущенных значений для каждого столбца с помощью двух методов.**"
   ]
  },
  {
   "cell_type": "code",
   "execution_count": 12,
   "id": "d03773ff",
   "metadata": {
    "deletable": false,
    "id": "55f78bc2",
    "outputId": "8da1e4e1-358e-4e87-98c9-f261bce0a7b2"
   },
   "outputs": [
    {
     "data": {
      "text/plain": [
       "children            0\n",
       "days_employed       0\n",
       "dob_years           0\n",
       "education           0\n",
       "education_id        0\n",
       "family_status       0\n",
       "family_status_id    0\n",
       "gender              0\n",
       "income_type         0\n",
       "debt                0\n",
       "total_income        0\n",
       "purpose             0\n",
       "dtype: int64"
      ]
     },
     "execution_count": 12,
     "metadata": {},
     "output_type": "execute_result"
    }
   ],
   "source": [
    "data.isna().sum()"
   ]
  },
  {
   "cell_type": "markdown",
   "id": "02b77b55",
   "metadata": {
    "deletable": false,
    "editable": false,
    "id": "ddc81e43"
   },
   "source": [
    "### Изменение типов данных"
   ]
  },
  {
   "cell_type": "markdown",
   "id": "627eda93",
   "metadata": {
    "deletable": false,
    "editable": false,
    "id": "42d19d24"
   },
   "source": [
    "**Задание 13. Замените вещественный тип данных в столбце `total_income` на целочисленный с помощью метода `astype()`.**"
   ]
  },
  {
   "cell_type": "code",
   "execution_count": 13,
   "id": "a090d166",
   "metadata": {
    "deletable": false,
    "id": "920b65ad"
   },
   "outputs": [],
   "source": [
    "data['total_income'] = data['total_income'].astype(int)"
   ]
  },
  {
   "cell_type": "markdown",
   "id": "7a5bf15c",
   "metadata": {
    "deletable": false,
    "editable": false,
    "id": "80c420ba"
   },
   "source": [
    "### Обработка дубликатов"
   ]
  },
  {
   "cell_type": "markdown",
   "id": "41cf1477",
   "metadata": {
    "deletable": false,
    "editable": false
   },
   "source": [
    "**Задание 14. Обработайте неявные дубликаты в столбце `education`. В этом столбце есть одни и те же значения, но записанные по-разному: с использованием заглавных и строчных букв. Приведите их к нижнему регистру. Проверьте остальные столбцы.**"
   ]
  },
  {
   "cell_type": "code",
   "execution_count": 14,
   "id": "45fd6039",
   "metadata": {
    "deletable": false
   },
   "outputs": [],
   "source": [
    "data['education'] = data['education'].str.lower()"
   ]
  },
  {
   "cell_type": "markdown",
   "id": "efdd99b5",
   "metadata": {
    "deletable": false,
    "editable": false,
    "id": "dc587695"
   },
   "source": [
    "**Задание 15. Выведите на экран количество строк-дубликатов в данных. Если такие строки присутствуют, удалите их.**"
   ]
  },
  {
   "cell_type": "code",
   "execution_count": 15,
   "id": "35fe3f96",
   "metadata": {
    "deletable": false,
    "id": "3ee445e4",
    "outputId": "9684deba-1934-42d1-99e1-cda61740f822"
   },
   "outputs": [
    {
     "data": {
      "text/plain": [
       "71"
      ]
     },
     "execution_count": 15,
     "metadata": {},
     "output_type": "execute_result"
    }
   ],
   "source": [
    "data.duplicated().sum()"
   ]
  },
  {
   "cell_type": "code",
   "execution_count": 16,
   "id": "59b41a7a",
   "metadata": {
    "deletable": false,
    "id": "8575fe05"
   },
   "outputs": [],
   "source": [
    "data = data.drop_duplicates()"
   ]
  },
  {
   "cell_type": "markdown",
   "id": "5e1975a0",
   "metadata": {
    "deletable": false,
    "editable": false,
    "id": "9904cf55"
   },
   "source": [
    "### Категоризация данных"
   ]
  },
  {
   "cell_type": "markdown",
   "id": "53b2eddd",
   "metadata": {
    "deletable": false,
    "editable": false,
    "id": "72fcc8a2"
   },
   "source": [
    "**Задание 16. На основании диапазонов, указанных ниже, создайте в датафрейме `data` столбец `total_income_category` с категориями:**\n",
    "\n",
    "- 0–30000 — `'E'`;\n",
    "- 30001–50000 — `'D'`;\n",
    "- 50001–200000 — `'C'`;\n",
    "- 200001–1000000 — `'B'`;\n",
    "- 1000001 и выше — `'A'`.\n",
    "\n",
    "\n",
    "**Например, кредитополучателю с доходом 25000 нужно назначить категорию `'E'`, а клиенту, получающему 235000, — `'B'`. Используйте собственную функцию с именем `categorize_income()` и метод `apply()`.**"
   ]
  },
  {
   "cell_type": "code",
   "execution_count": 17,
   "id": "e208d363",
   "metadata": {
    "deletable": false,
    "id": "e1771346"
   },
   "outputs": [],
   "source": [
    "def categorize_income(income):\n",
    "    try:\n",
    "        if 0 <= income <= 30000:\n",
    "            return 'E'\n",
    "        elif 30001 <= income <= 50000:\n",
    "            return 'D'\n",
    "        elif 50001 <= income <= 200000:\n",
    "            return 'C'\n",
    "        elif 200001 <= income <= 1000000:\n",
    "            return 'B'\n",
    "        elif income >= 1000001:\n",
    "            return 'A'\n",
    "    except:\n",
    "        pass"
   ]
  },
  {
   "cell_type": "code",
   "execution_count": 18,
   "id": "5863cd1f",
   "metadata": {
    "deletable": false,
    "id": "d5f3586d"
   },
   "outputs": [],
   "source": [
    "data['total_income_category'] = data['total_income'].apply(categorize_income)"
   ]
  },
  {
   "cell_type": "markdown",
   "id": "fe8cc7ae",
   "metadata": {
    "deletable": false,
    "editable": false,
    "id": "dde49b5c"
   },
   "source": [
    "**Задание 17. Выведите на экран перечень уникальных целей взятия кредита из столбца `purpose`.**"
   ]
  },
  {
   "cell_type": "code",
   "execution_count": 19,
   "id": "8cefcd12",
   "metadata": {
    "deletable": false,
    "id": "f67ce9b3",
    "outputId": "673c12d9-7d7e-4ae0-9812-c622c89dd244"
   },
   "outputs": [
    {
     "data": {
      "text/plain": [
       "array(['покупка жилья', 'приобретение автомобиля',\n",
       "       'дополнительное образование', 'сыграть свадьбу',\n",
       "       'операции с жильем', 'образование', 'на проведение свадьбы',\n",
       "       'покупка жилья для семьи', 'покупка недвижимости',\n",
       "       'покупка коммерческой недвижимости', 'покупка жилой недвижимости',\n",
       "       'строительство собственной недвижимости', 'недвижимость',\n",
       "       'строительство недвижимости', 'на покупку подержанного автомобиля',\n",
       "       'на покупку своего автомобиля',\n",
       "       'операции с коммерческой недвижимостью',\n",
       "       'строительство жилой недвижимости', 'жилье',\n",
       "       'операции со своей недвижимостью', 'автомобили',\n",
       "       'заняться образованием', 'сделка с подержанным автомобилем',\n",
       "       'получение образования', 'автомобиль', 'свадьба',\n",
       "       'получение дополнительного образования', 'покупка своего жилья',\n",
       "       'операции с недвижимостью', 'получение высшего образования',\n",
       "       'свой автомобиль', 'сделка с автомобилем',\n",
       "       'профильное образование', 'высшее образование',\n",
       "       'покупка жилья для сдачи', 'на покупку автомобиля', 'ремонт жилью',\n",
       "       'заняться высшим образованием'], dtype=object)"
      ]
     },
     "execution_count": 19,
     "metadata": {},
     "output_type": "execute_result"
    }
   ],
   "source": [
    "data['purpose'].unique()"
   ]
  },
  {
   "cell_type": "markdown",
   "id": "3d5ed436",
   "metadata": {
    "deletable": false,
    "editable": false,
    "id": "85d0aef0"
   },
   "source": [
    "**Задание 18. Создайте функцию, которая на основании данных из столбца `purpose` сформирует новый столбец `purpose_category`, в который войдут следующие категории:**\n",
    "\n",
    "- `'операции с автомобилем'`,\n",
    "- `'операции с недвижимостью'`,\n",
    "- `'проведение свадьбы'`,\n",
    "- `'получение образования'`.\n",
    "\n",
    "**Например, если в столбце `purpose` находится подстрока `'на покупку автомобиля'`, то в столбце `purpose_category` должна появиться строка `'операции с автомобилем'`.**\n",
    "\n",
    "**Используйте собственную функцию с именем `categorize_purpose()` и метод `apply()`. Изучите данные в столбце `purpose` и определите, какие подстроки помогут вам правильно определить категорию.**"
   ]
  },
  {
   "cell_type": "code",
   "execution_count": 20,
   "id": "95aeaa4f",
   "metadata": {
    "deletable": false,
    "id": "e149fab4"
   },
   "outputs": [],
   "source": [
    "def categorize_purpose(row):\n",
    "    try:\n",
    "        if 'автом' in row:\n",
    "            return 'операции с автомобилем'\n",
    "        elif 'жил' in row or 'недвиж' in row:\n",
    "            return 'операции с недвижимостью'\n",
    "        elif 'свад' in row:\n",
    "            return 'проведение свадьбы'\n",
    "        elif 'образов' in row:\n",
    "            return 'получение образования'\n",
    "    except:\n",
    "        return 'нет категории'"
   ]
  },
  {
   "cell_type": "code",
   "execution_count": 21,
   "id": "62ff5fd3",
   "metadata": {
    "deletable": false,
    "id": "bf36e69b"
   },
   "outputs": [],
   "source": [
    "data['purpose_category'] = data['purpose'].apply(categorize_purpose)"
   ]
  },
  {
   "cell_type": "markdown",
   "id": "f94c31b1",
   "metadata": {},
   "source": [
    "### 2.6.1. Дополнительная катерогизация данных"
   ]
  },
  {
   "cell_type": "markdown",
   "id": "a0b84d48",
   "metadata": {},
   "source": [
    "**Добавление 1. Создайте функцию, которая на основании данных из столбца `dob_years` сформирует новый столбец `years_category`, в который войдут следующие категории:**\n",
    "\n",
    "- `'молодые'` - до 35 лет включительно,\n",
    "- `'взрослые'` - с 36 до 50 лет включительно,\n",
    "- `'зрелые'` - с 51 до 65 лет включительно,\n",
    "- `'пожилые'` - с 66 и старше.\n",
    "\n",
    "**Например, если в столбце `dob_years` находится `'25'`, то в столбце `years_category` должна появиться строка `'молодые'`.**\n",
    "\n",
    "**Используйте собственную функцию с именем `categorize_age()` и метод `apply()`.**"
   ]
  },
  {
   "cell_type": "code",
   "execution_count": 22,
   "id": "206be565",
   "metadata": {},
   "outputs": [],
   "source": [
    "def categorize_age(age):\n",
    "    try:\n",
    "        if 0 <= age <= 35:\n",
    "            return 'молодые'\n",
    "        elif 36 <= age <= 50:\n",
    "            return 'взрослые'\n",
    "        elif 51 <= age <= 65:\n",
    "            return 'зрелые'\n",
    "        elif 66 <= age:\n",
    "            return 'пожилые'\n",
    "    except:\n",
    "        pass"
   ]
  },
  {
   "cell_type": "code",
   "execution_count": 23,
   "id": "ee9f7eeb",
   "metadata": {},
   "outputs": [],
   "source": [
    "data['years_category'] = data['dob_years'].apply(categorize_age)"
   ]
  },
  {
   "cell_type": "markdown",
   "id": "704aaac2",
   "metadata": {
    "deletable": false,
    "editable": false,
    "id": "09b242bf"
   },
   "source": [
    "### Шаг 3. Исследуйте данные и ответьте на вопросы"
   ]
  },
  {
   "cell_type": "code",
   "execution_count": 24,
   "id": "c40cd585",
   "metadata": {},
   "outputs": [],
   "source": [
    "import matplotlib.pyplot as plt\n",
    "import seaborn as sns\n",
    "%matplotlib inline"
   ]
  },
  {
   "cell_type": "code",
   "execution_count": 25,
   "id": "96d0c801",
   "metadata": {},
   "outputs": [
    {
     "name": "stdout",
     "output_type": "stream",
     "text": [
      "<class 'pandas.core.frame.DataFrame'>\n",
      "Int64Index: 21331 entries, 0 to 21524\n",
      "Data columns (total 15 columns):\n",
      " #   Column                 Non-Null Count  Dtype  \n",
      "---  ------                 --------------  -----  \n",
      " 0   children               21331 non-null  int64  \n",
      " 1   days_employed          21331 non-null  float64\n",
      " 2   dob_years              21331 non-null  int64  \n",
      " 3   education              21331 non-null  object \n",
      " 4   education_id           21331 non-null  int64  \n",
      " 5   family_status          21331 non-null  object \n",
      " 6   family_status_id       21331 non-null  int64  \n",
      " 7   gender                 21331 non-null  object \n",
      " 8   income_type            21331 non-null  object \n",
      " 9   debt                   21331 non-null  int64  \n",
      " 10  total_income           21331 non-null  int64  \n",
      " 11  purpose                21331 non-null  object \n",
      " 12  total_income_category  21331 non-null  object \n",
      " 13  purpose_category       21331 non-null  object \n",
      " 14  years_category         21331 non-null  object \n",
      "dtypes: float64(1), int64(6), object(8)\n",
      "memory usage: 2.6+ MB\n"
     ]
    }
   ],
   "source": [
    "data.info()"
   ]
  },
  {
   "cell_type": "code",
   "execution_count": 74,
   "id": "247640b9",
   "metadata": {},
   "outputs": [],
   "source": [
    "# сгруппируем данные по полу клиента\n",
    "debt_grouped = data.groupby('debt')\n",
    "# узнаем распределение клиентов по полу\n",
    "debt_distribution = debt_grouped['debt'].count()"
   ]
  },
  {
   "cell_type": "code",
   "execution_count": 79,
   "id": "a94ee80c",
   "metadata": {},
   "outputs": [
    {
     "data": {
      "text/plain": [
       "debt\n",
       "0    19599\n",
       "1     1732\n",
       "Name: debt, dtype: int64"
      ]
     },
     "execution_count": 79,
     "metadata": {},
     "output_type": "execute_result"
    }
   ],
   "source": [
    "debt_distribution"
   ]
  },
  {
   "cell_type": "code",
   "execution_count": 81,
   "id": "4845039f",
   "metadata": {},
   "outputs": [
    {
     "data": {
      "image/png": "[encoded data removed]",
      "text/plain": [
       "<Figure size 432x288 with 1 Axes>"
      ]
     },
     "metadata": {},
     "output_type": "display_data"
    }
   ],
   "source": [
    "# визуализируем долю задолжников среди клиентов\n",
    "# определим данные\n",
    "debt_data = [19599,  1732]\n",
    "labels = ['Без задолженности', 'С задолженностью']\n",
    "\n",
    "# определим палитру Seaborn\n",
    "colors = sns.color_palette('pastel')[ 0:5 ]\n",
    "\n",
    "# создаём кпуговую диаграмму\n",
    "plt.pie(debt_data, labels = labels, colors = colors, autopct='%.0f%%')\n",
    "plt.show()"
   ]
  },
  {
   "cell_type": "markdown",
   "id": "49c976f3",
   "metadata": {},
   "source": [
    "Средняя средняя доля задолжников среди клиентов банка составляет примерно `8%`.  Анализируя задолженности по категориям, мы будем иметь в виду, что если в определённом сегменте процент клиентов с просроченными кредитами выше, то это сигнал к тому, что клиенты этой категории может черыв нарушить сроки по выплате. И наоборот, - если ниже среднего, то клиент в соответсвующем сегменте с меньше долей вероятности просрочит выплату по кредиту."
   ]
  },
  {
   "cell_type": "markdown",
   "id": "7b68f291",
   "metadata": {},
   "source": [
    "#### 3.0. Предварительные исследования"
   ]
  },
  {
   "cell_type": "markdown",
   "id": "bb3171d0",
   "metadata": {},
   "source": [
    "В данной части работы находятся исследования, позволяющие уточнить выводы в основной части."
   ]
  },
  {
   "cell_type": "markdown",
   "id": "b2ba4a00",
   "metadata": {},
   "source": [
    "##### 3.0.1. Есть ли зависимость между полом и возвратом кредита в срок?"
   ]
  },
  {
   "cell_type": "code",
   "execution_count": 26,
   "id": "682133cc",
   "metadata": {},
   "outputs": [],
   "source": [
    "# сгруппируем данные по полу клиента\n",
    "gender_grouped = data.groupby('gender')\n",
    "# узнаем распределение клиентов по полу\n",
    "gender_distribution = gender_grouped['debt'].count()\n",
    "# узнаем распределение задолжкеностей по полу\n",
    "debt_gender_distribution = gender_grouped['debt'].sum()\n",
    "# узнаем процент задолженностей в каждой категории по полу\n",
    "percent_debt_gender_distribution = round(100 * debt_gender_distribution / gender_distribution, 2)"
   ]
  },
  {
   "cell_type": "code",
   "execution_count": 28,
   "id": "0cc4e061",
   "metadata": {},
   "outputs": [
    {
     "data": {
      "text/html": [
       "<div>\n",
       "<style scoped>\n",
       "    .dataframe tbody tr th:only-of-type {\n",
       "        vertical-align: middle;\n",
       "    }\n",
       "\n",
       "    .dataframe tbody tr th {\n",
       "        vertical-align: top;\n",
       "    }\n",
       "\n",
       "    .dataframe thead th {\n",
       "        text-align: right;\n",
       "    }\n",
       "</style>\n",
       "<table border=\"1\" class=\"dataframe\">\n",
       "  <thead>\n",
       "    <tr style=\"text-align: right;\">\n",
       "      <th></th>\n",
       "      <th>gender_distribution</th>\n",
       "      <th>debt_gender_distribution</th>\n",
       "      <th>percent_debt_gender_distribution</th>\n",
       "    </tr>\n",
       "    <tr>\n",
       "      <th>gender</th>\n",
       "      <th></th>\n",
       "      <th></th>\n",
       "      <th></th>\n",
       "    </tr>\n",
       "  </thead>\n",
       "  <tbody>\n",
       "    <tr>\n",
       "      <th>Женщины</th>\n",
       "      <td>14092</td>\n",
       "      <td>989</td>\n",
       "      <td>7.02</td>\n",
       "    </tr>\n",
       "    <tr>\n",
       "      <th>Мужчины</th>\n",
       "      <td>7238</td>\n",
       "      <td>743</td>\n",
       "      <td>10.27</td>\n",
       "    </tr>\n",
       "    <tr>\n",
       "      <th>Небинарные персоны</th>\n",
       "      <td>1</td>\n",
       "      <td>0</td>\n",
       "      <td>0.00</td>\n",
       "    </tr>\n",
       "  </tbody>\n",
       "</table>\n",
       "</div>"
      ],
      "text/plain": [
       "                    gender_distribution  debt_gender_distribution  \\\n",
       "gender                                                              \n",
       "Женщины                           14092                       989   \n",
       "Мужчины                            7238                       743   \n",
       "Небинарные персоны                    1                         0   \n",
       "\n",
       "                    percent_debt_gender_distribution  \n",
       "gender                                                \n",
       "Женщины                                         7.02  \n",
       "Мужчины                                        10.27  \n",
       "Небинарные персоны                              0.00  "
      ]
     },
     "execution_count": 28,
     "metadata": {},
     "output_type": "execute_result"
    }
   ],
   "source": [
    "# создадим на основе Series один DataFrame\n",
    "df_gender = pd.DataFrame()\n",
    "genger_list = ['Женщины', 'Мужчины', 'Небинарные персоны']\n",
    "df_gender['gender'] = genger_list\n",
    "\n",
    "df_gender['gender_distribution'] = list(gender_distribution)\n",
    "df_gender['debt_gender_distribution'] = list(debt_gender_distribution)\n",
    "df_gender['percent_debt_gender_distribution'] = list(percent_debt_gender_distribution)\n",
    "# назначим индексы\n",
    "df_gender.set_index('gender', inplace=True)\n",
    "df_gender"
   ]
  },
  {
   "cell_type": "code",
   "execution_count": 29,
   "id": "1707ddfe",
   "metadata": {},
   "outputs": [
    {
     "data": {
      "text/plain": [
       "<AxesSubplot:ylabel='gender_distribution'>"
      ]
     },
     "execution_count": 29,
     "metadata": {},
     "output_type": "execute_result"
    },
    {
     "data": {
      "image/png": "[encoded data removed]",
      "text/plain": [
       "<Figure size 432x288 with 1 Axes>"
      ]
     },
     "metadata": {
      "needs_background": "light"
     },
     "output_type": "display_data"
    }
   ],
   "source": [
    "# визуализируем распределение клентов по полу\n",
    "sns.barplot(x=genger_list, y=\"gender_distribution\", color='blue', data=df_gender)"
   ]
  },
  {
   "cell_type": "markdown",
   "id": "16214886",
   "metadata": {},
   "source": [
    "Из рисунка видно, что женщины примерно в два раза чалще берут кредмиы, чем мужчины. Можно сказать и так, что женщинам в 2 раза чаще одобряют кредиты, чем мужчинам."
   ]
  },
  {
   "cell_type": "code",
   "execution_count": 30,
   "id": "b393c8d1",
   "metadata": {},
   "outputs": [
    {
     "data": {
      "text/plain": [
       "<AxesSubplot:ylabel='debt_gender_distribution'>"
      ]
     },
     "execution_count": 30,
     "metadata": {},
     "output_type": "execute_result"
    },
    {
     "data": {
      "image/png": "[encoded data removed]",
      "text/plain": [
       "<Figure size 432x288 with 1 Axes>"
      ]
     },
     "metadata": {
      "needs_background": "light"
     },
     "output_type": "display_data"
    }
   ],
   "source": [
    "# визуализируем распределение должников по полу\n",
    "sns.barplot(x=genger_list, y=\"debt_gender_distribution\", color='blue', data=df_gender)"
   ]
  },
  {
   "cell_type": "markdown",
   "id": "2a4f9285",
   "metadata": {},
   "source": [
    "Количество должников среди представителей обоих полов примерно одинаковое."
   ]
  },
  {
   "cell_type": "code",
   "execution_count": 31,
   "id": "b3d6dab2",
   "metadata": {},
   "outputs": [
    {
     "data": {
      "text/plain": [
       "<AxesSubplot:ylabel='percent_debt_gender_distribution'>"
      ]
     },
     "execution_count": 31,
     "metadata": {},
     "output_type": "execute_result"
    },
    {
     "data": {
      "image/png": "[encoded data removed]",
      "text/plain": [
       "<Figure size 432x288 with 1 Axes>"
      ]
     },
     "metadata": {
      "needs_background": "light"
     },
     "output_type": "display_data"
    }
   ],
   "source": [
    "# визуализируем процент должников среди клиентов, рпсвределённое по полу\n",
    "sns.barplot(x=genger_list, y=\"percent_debt_gender_distribution\", color='blue', data=df_gender)"
   ]
  },
  {
   "cell_type": "markdown",
   "id": "dfcbcc93",
   "metadata": {},
   "source": [
    "Однако внутри своей категории мужчины становятся должниками намного чаще."
   ]
  },
  {
   "cell_type": "markdown",
   "id": "718fd41f",
   "metadata": {},
   "source": [
    "**Вывод.** Да, имеется зависимость межу полом клиента и и возвратом кредита в срок. Женщины с большей  вероятностью будут возвращая деньги в срок, чем мужчины."
   ]
  },
  {
   "cell_type": "markdown",
   "id": "9109e8a2",
   "metadata": {},
   "source": [
    "##### 3.0.2. Есть ли зависимость между возрастом и возвратом кредита в срок?"
   ]
  },
  {
   "cell_type": "code",
   "execution_count": 32,
   "id": "c484d3c1",
   "metadata": {},
   "outputs": [],
   "source": [
    "# Ваш код будет здесь. Вы можете создавать новые ячейки.\n",
    "years_category_grouped = data.groupby('years_category')\n",
    "# узнаем распределение клиентов по возрасту\n",
    "years_category_distribution = years_category_grouped['debt'].count()\n",
    "# узнаем распределение задолжкеностей по возрасту\n",
    "debt_years_category_distribution = years_category_grouped['debt'].sum()\n",
    "# узнаем процент задолженностей в каждой категории по возрасту\n",
    "percent_debt_years_category_distribution = round(100 * debt_years_category_distribution / years_category_distribution, 2)"
   ]
  },
  {
   "cell_type": "code",
   "execution_count": 33,
   "id": "03d6ec8c",
   "metadata": {},
   "outputs": [
    {
     "data": {
      "text/html": [
       "<div>\n",
       "<style scoped>\n",
       "    .dataframe tbody tr th:only-of-type {\n",
       "        vertical-align: middle;\n",
       "    }\n",
       "\n",
       "    .dataframe tbody tr th {\n",
       "        vertical-align: top;\n",
       "    }\n",
       "\n",
       "    .dataframe thead th {\n",
       "        text-align: right;\n",
       "    }\n",
       "</style>\n",
       "<table border=\"1\" class=\"dataframe\">\n",
       "  <thead>\n",
       "    <tr style=\"text-align: right;\">\n",
       "      <th></th>\n",
       "      <th>years_category_distribution</th>\n",
       "      <th>debt_years_category_distribution</th>\n",
       "      <th>percent_debt_years_category_distribution</th>\n",
       "    </tr>\n",
       "    <tr>\n",
       "      <th>age</th>\n",
       "      <th></th>\n",
       "      <th></th>\n",
       "      <th></th>\n",
       "    </tr>\n",
       "  </thead>\n",
       "  <tbody>\n",
       "    <tr>\n",
       "      <th>взрослые</th>\n",
       "      <td>8073</td>\n",
       "      <td>649</td>\n",
       "      <td>8.04</td>\n",
       "    </tr>\n",
       "    <tr>\n",
       "      <th>зрелые</th>\n",
       "      <td>5914</td>\n",
       "      <td>345</td>\n",
       "      <td>5.83</td>\n",
       "    </tr>\n",
       "    <tr>\n",
       "      <th>молодые</th>\n",
       "      <td>6644</td>\n",
       "      <td>703</td>\n",
       "      <td>10.58</td>\n",
       "    </tr>\n",
       "    <tr>\n",
       "      <th>пожилые</th>\n",
       "      <td>700</td>\n",
       "      <td>35</td>\n",
       "      <td>5.00</td>\n",
       "    </tr>\n",
       "  </tbody>\n",
       "</table>\n",
       "</div>"
      ],
      "text/plain": [
       "          years_category_distribution  debt_years_category_distribution  \\\n",
       "age                                                                       \n",
       "взрослые                         8073                               649   \n",
       "зрелые                           5914                               345   \n",
       "молодые                          6644                               703   \n",
       "пожилые                           700                                35   \n",
       "\n",
       "          percent_debt_years_category_distribution  \n",
       "age                                                 \n",
       "взрослые                                      8.04  \n",
       "зрелые                                        5.83  \n",
       "молодые                                      10.58  \n",
       "пожилые                                       5.00  "
      ]
     },
     "execution_count": 33,
     "metadata": {},
     "output_type": "execute_result"
    }
   ],
   "source": [
    "# создадим на основе Series один DataFrame\n",
    "df_age = pd.DataFrame()\n",
    "age_list = ['взрослые','зрелые', 'молодые', 'пожилые']\n",
    "df_age['age'] = age_list\n",
    "\n",
    "df_age['years_category_distribution'] = list(years_category_distribution)\n",
    "df_age['debt_years_category_distribution'] = list(debt_years_category_distribution)\n",
    "df_age['percent_debt_years_category_distribution'] = list(percent_debt_years_category_distribution)\n",
    "# назначим индексы\n",
    "df_age.set_index('age', inplace=True)\n",
    "df_age"
   ]
  },
  {
   "cell_type": "code",
   "execution_count": 34,
   "id": "4e23caa4",
   "metadata": {},
   "outputs": [
    {
     "data": {
      "text/plain": [
       "<AxesSubplot:ylabel='years_category_distribution'>"
      ]
     },
     "execution_count": 34,
     "metadata": {},
     "output_type": "execute_result"
    },
    {
     "data": {
      "image/png": "[encoded data removed]",
      "text/plain": [
       "<Figure size 432x288 with 1 Axes>"
      ]
     },
     "metadata": {
      "needs_background": "light"
     },
     "output_type": "display_data"
    }
   ],
   "source": [
    "# визуализируем распределение клентов по возрасту\n",
    "sns.barplot(x=age_list, \n",
    "            y=\"years_category_distribution\", \n",
    "            color='blue', \n",
    "            data=df_age, \n",
    "            order=['молодые', 'взрослые','зрелые', 'пожилые'])"
   ]
  },
  {
   "cell_type": "markdown",
   "id": "9ac46fc3",
   "metadata": {},
   "source": [
    "Из графика видно, что наиболее часто кредиты берут люди в возрастной группе 36-50 лет. Далее идут молодые и зрелые клиенты. Посмотрим, в какой из этих групп чаще наркшаются сроки возврата кредита."
   ]
  },
  {
   "cell_type": "code",
   "execution_count": 35,
   "id": "34b8b755",
   "metadata": {},
   "outputs": [
    {
     "data": {
      "text/plain": [
       "<AxesSubplot:ylabel='debt_years_category_distribution'>"
      ]
     },
     "execution_count": 35,
     "metadata": {},
     "output_type": "execute_result"
    },
    {
     "data": {
      "image/png": "[encoded data removed]",
      "text/plain": [
       "<Figure size 432x288 with 1 Axes>"
      ]
     },
     "metadata": {
      "needs_background": "light"
     },
     "output_type": "display_data"
    }
   ],
   "source": [
    "# визуализируем распределение должников по возрасту\n",
    "sns.barplot(x=age_list, \n",
    "            y=\"debt_years_category_distribution\", \n",
    "            color='blue', \n",
    "            data=df_age, \n",
    "            order=['молодые', 'взрослые','зрелые', 'пожилые'])"
   ]
  },
  {
   "cell_type": "markdown",
   "id": "a78641c2",
   "metadata": {},
   "source": [
    "Основная масса должников приходится на молодых и взрослных. зрелые и пожилые намного чаще не  сьпглаятся должниками."
   ]
  },
  {
   "cell_type": "code",
   "execution_count": 36,
   "id": "a3cf6266",
   "metadata": {},
   "outputs": [
    {
     "data": {
      "text/plain": [
       "<AxesSubplot:ylabel='percent_debt_years_category_distribution'>"
      ]
     },
     "execution_count": 36,
     "metadata": {},
     "output_type": "execute_result"
    },
    {
     "data": {
      "image/png": "[encoded data removed]",
      "text/plain": [
       "<Figure size 432x288 with 1 Axes>"
      ]
     },
     "metadata": {
      "needs_background": "light"
     },
     "output_type": "display_data"
    }
   ],
   "source": [
    "# визуализируем распределение должников по возрасту\n",
    "sns.barplot(x=age_list, \n",
    "            y=\"percent_debt_years_category_distribution\", \n",
    "            color='blue', \n",
    "            data=df_age, \n",
    "            order=['молодые', 'взрослые','зрелые', 'пожилые'])"
   ]
  },
  {
   "cell_type": "markdown",
   "id": "37d5af68",
   "metadata": {},
   "source": [
    "Чаще всего не возвращают кредиты в срок молодые люди. Чуть реже это делают взрослые. Пожилые люди реже всех становятся должниками. Возможно потому, что онм реже берут взаймы. Но если берут, то обязательно возвращают кредит."
   ]
  },
  {
   "cell_type": "markdown",
   "id": "fb5b873b",
   "metadata": {},
   "source": [
    "**Вывод.** Да, есть зависисость между возрастом клиента и возвратом кредита в срок. Более всего склонны пропускать сроки выплат молодые и чуть меньше взрослые люди. Зрелые и пожилые, напротив, являются более надёжными заёмщиками. Пожилые люди редко берут кредит а этом бпнке, за точно отдают деньги в срок. Видимо, жизненный опыт, осознанность помогают планировать позволяют более раззумно пвсарпяжаться своими финансами."
   ]
  },
  {
   "cell_type": "markdown",
   "id": "223dcca5",
   "metadata": {},
   "source": [
    "##### 3.0.3. Есть ли зависимость между уровнем образованием и возвратом кредита в срок?"
   ]
  },
  {
   "cell_type": "code",
   "execution_count": 82,
   "id": "990e8e86",
   "metadata": {},
   "outputs": [],
   "source": [
    "# сгруппируем данные по уровню образования\n",
    "education_grouped = data.groupby('education')\n",
    "# узнаем распределение семей по уровню образования\n",
    "education_distribution = education_grouped['debt'].count()\n",
    "# узнаем распределение задолжкеностей по уровню образования\n",
    "debt_education_distribution = education_grouped['debt'].sum()\n",
    "# узнаем процент задолженностей в каждой категории  по уровню образования\n",
    "percent_debt_education_distribution = round(100 * debt_education_distribution / education_distribution, 2)"
   ]
  },
  {
   "cell_type": "code",
   "execution_count": 84,
   "id": "b5aca9a5",
   "metadata": {},
   "outputs": [
    {
     "data": {
      "text/html": [
       "<div>\n",
       "<style scoped>\n",
       "    .dataframe tbody tr th:only-of-type {\n",
       "        vertical-align: middle;\n",
       "    }\n",
       "\n",
       "    .dataframe tbody tr th {\n",
       "        vertical-align: top;\n",
       "    }\n",
       "\n",
       "    .dataframe thead th {\n",
       "        text-align: right;\n",
       "    }\n",
       "</style>\n",
       "<table border=\"1\" class=\"dataframe\">\n",
       "  <thead>\n",
       "    <tr style=\"text-align: right;\">\n",
       "      <th></th>\n",
       "      <th>education</th>\n",
       "      <th>education_distribution</th>\n",
       "      <th>debt_education_distribution</th>\n",
       "      <th>percent_debt_education_distribution</th>\n",
       "    </tr>\n",
       "  </thead>\n",
       "  <tbody>\n",
       "    <tr>\n",
       "      <th>0</th>\n",
       "      <td>высшее</td>\n",
       "      <td>5227</td>\n",
       "      <td>278</td>\n",
       "      <td>5.32</td>\n",
       "    </tr>\n",
       "    <tr>\n",
       "      <th>1</th>\n",
       "      <td>начальное</td>\n",
       "      <td>282</td>\n",
       "      <td>31</td>\n",
       "      <td>10.99</td>\n",
       "    </tr>\n",
       "    <tr>\n",
       "      <th>2</th>\n",
       "      <td>неоконченное высшее</td>\n",
       "      <td>741</td>\n",
       "      <td>68</td>\n",
       "      <td>9.18</td>\n",
       "    </tr>\n",
       "    <tr>\n",
       "      <th>3</th>\n",
       "      <td>среднее</td>\n",
       "      <td>15075</td>\n",
       "      <td>1355</td>\n",
       "      <td>8.99</td>\n",
       "    </tr>\n",
       "    <tr>\n",
       "      <th>4</th>\n",
       "      <td>ученая степень</td>\n",
       "      <td>6</td>\n",
       "      <td>0</td>\n",
       "      <td>0.00</td>\n",
       "    </tr>\n",
       "  </tbody>\n",
       "</table>\n",
       "</div>"
      ],
      "text/plain": [
       "             education  education_distribution  debt_education_distribution  \\\n",
       "0               высшее                    5227                          278   \n",
       "1            начальное                     282                           31   \n",
       "2  неоконченное высшее                     741                           68   \n",
       "3              среднее                   15075                         1355   \n",
       "4       ученая степень                       6                            0   \n",
       "\n",
       "   percent_debt_education_distribution  \n",
       "0                                 5.32  \n",
       "1                                10.99  \n",
       "2                                 9.18  \n",
       "3                                 8.99  \n",
       "4                                 0.00  "
      ]
     },
     "execution_count": 84,
     "metadata": {},
     "output_type": "execute_result"
    }
   ],
   "source": [
    "# создадим на основе Series один DataFrame\n",
    "df_education = pd.DataFrame()\n",
    "education_list = ['высшее', 'начальное', 'неоконченное высшее', 'среднее', 'ученая степень']\n",
    "education_order = ['начальное', 'среднее', 'неоконченное высшее', 'высшее', 'ученая степень']\n",
    "# назначим индексы\n",
    "df_education['education'] = education_list\n",
    "\n",
    "df_education['education_distribution'] = list(education_distribution)\n",
    "df_education['debt_education_distribution'] = list(debt_education_distribution)\n",
    "df_education['percent_debt_education_distribution'] = list(percent_debt_education_distribution)\n",
    "df_education"
   ]
  },
  {
   "cell_type": "code",
   "execution_count": 85,
   "id": "20890b15",
   "metadata": {},
   "outputs": [
    {
     "data": {
      "text/plain": [
       "<AxesSubplot:xlabel='education_distribution'>"
      ]
     },
     "execution_count": 85,
     "metadata": {},
     "output_type": "execute_result"
    },
    {
     "data": {
      "image/png": "[encoded data removed]",
      "text/plain": [
       "<Figure size 432x288 with 1 Axes>"
      ]
     },
     "metadata": {
      "needs_background": "light"
     },
     "output_type": "display_data"
    }
   ],
   "source": [
    "# визуализируем распределение клиентов по уровню образования\n",
    "sns.barplot(y=education_list, \n",
    "            x=\"education_distribution\", \n",
    "            color='blue', \n",
    "            data=df_education, \n",
    "            order=education_order)"
   ]
  },
  {
   "cell_type": "markdown",
   "id": "6efc8d8e",
   "metadata": {},
   "source": [
    "Больше всего за кредитами обращаются люди со средним образованием. Люди с высшим образованием обращаются примерно в 3 раза реже. Людям без среднего образования редко дают кредиты. Люди с незаконченным высшим образованием, скорее всего, являются студентами, которым учёба может помегать зарабатывать достаточно для выплаты кредитов, поэтому они тоже представлены в небольшом количестве."
   ]
  },
  {
   "cell_type": "code",
   "execution_count": 41,
   "id": "a3a590a1",
   "metadata": {},
   "outputs": [
    {
     "data": {
      "text/plain": [
       "<AxesSubplot:xlabel='debt_education_distribution'>"
      ]
     },
     "execution_count": 41,
     "metadata": {},
     "output_type": "execute_result"
    },
    {
     "data": {
      "image/png": "[encoded data removed]",
      "text/plain": [
       "<Figure size 432x288 with 1 Axes>"
      ]
     },
     "metadata": {
      "needs_background": "light"
     },
     "output_type": "display_data"
    }
   ],
   "source": [
    "# визуализируем распределение должников по уровню образования\n",
    "sns.barplot(y=education_list, \n",
    "            x=\"debt_education_distribution\", \n",
    "            color='blue', \n",
    "            data=df_education, \n",
    "            order=education_order)"
   ]
  },
  {
   "cell_type": "markdown",
   "id": "fb0f87fb",
   "metadata": {},
   "source": [
    "Сооотношение задолжников примерно такое же, на первый взгляд. Посмртрим на данные более пристально."
   ]
  },
  {
   "cell_type": "code",
   "execution_count": 42,
   "id": "96dafeb1",
   "metadata": {},
   "outputs": [
    {
     "data": {
      "text/plain": [
       "<AxesSubplot:xlabel='percent_debt_education_distribution'>"
      ]
     },
     "execution_count": 42,
     "metadata": {},
     "output_type": "execute_result"
    },
    {
     "data": {
      "image/png": "[encoded data removed]",
      "text/plain": [
       "<Figure size 432x288 with 1 Axes>"
      ]
     },
     "metadata": {
      "needs_background": "light"
     },
     "output_type": "display_data"
    }
   ],
   "source": [
    "# визуализируем распределение процентов среди должников по уровню образования\n",
    "sns.barplot(y=education_list, \n",
    "            x=\"percent_debt_education_distribution\", \n",
    "            color='blue', \n",
    "            data=df_education, \n",
    "            order=education_order,\n",
    "           )"
   ]
  },
  {
   "cell_type": "markdown",
   "id": "d3e595dc",
   "metadata": {},
   "source": [
    "Среднее значение более `8%` задолжников составляют люди с начальным, средним и незаконченным высшим образованием. Люди с высшим образованием и учёной степенью гораздо чаще выалпчивают кредиты вовремя."
   ]
  },
  {
   "cell_type": "markdown",
   "id": "18f61025",
   "metadata": {},
   "source": [
    "**Вывод.** Да, зависимость между уровнем образованием и возвратом кредита в срок есть. Киленты, которые неимеют высшего образования, с большей вероятностью просрочат выплаты. Люди с высшим образованием и учёной степенью более надёжные заёмщики. Видимо, хорошее образование и высокая квалификация позволяют найти высокооплачиваемую работу, которая позволяет выплачивать кредиты вовремя или не брать их вовсе."
   ]
  },
  {
   "cell_type": "markdown",
   "id": "dfc4a536",
   "metadata": {},
   "source": [
    "##### 3.0.4. Есть ли зависимость между типом занятости и возвратом кредита в срок?"
   ]
  },
  {
   "cell_type": "code",
   "execution_count": 43,
   "id": "9e5004de",
   "metadata": {},
   "outputs": [],
   "source": [
    "# сгруппируем данные по типу занятости\n",
    "income_type_grouped = data.groupby('income_type')\n",
    "# узнаем распределение клиентов по типу занятости\n",
    "income_type_distribution = income_type_grouped['debt'].count()\n",
    "# узнаем распределение задолжкеностей по типу занятости\n",
    "debt_income_type_distribution = income_type_grouped['debt'].sum()\n",
    "# узнаем процент задолженностей в каждой категории по типу занятости\n",
    "percent_debt_income_type_distribution = round(100 * debt_income_type_distribution / income_type_distribution, 2)"
   ]
  },
  {
   "cell_type": "code",
   "execution_count": 44,
   "id": "e76587a2",
   "metadata": {},
   "outputs": [
    {
     "data": {
      "text/html": [
       "<div>\n",
       "<style scoped>\n",
       "    .dataframe tbody tr th:only-of-type {\n",
       "        vertical-align: middle;\n",
       "    }\n",
       "\n",
       "    .dataframe tbody tr th {\n",
       "        vertical-align: top;\n",
       "    }\n",
       "\n",
       "    .dataframe thead th {\n",
       "        text-align: right;\n",
       "    }\n",
       "</style>\n",
       "<table border=\"1\" class=\"dataframe\">\n",
       "  <thead>\n",
       "    <tr style=\"text-align: right;\">\n",
       "      <th></th>\n",
       "      <th>income_type</th>\n",
       "      <th>income_type_distribution</th>\n",
       "      <th>debt_income_type_distribution</th>\n",
       "      <th>percent_debt_income_type_distribution</th>\n",
       "    </tr>\n",
       "  </thead>\n",
       "  <tbody>\n",
       "    <tr>\n",
       "      <th>0</th>\n",
       "      <td>безработный</td>\n",
       "      <td>2</td>\n",
       "      <td>1</td>\n",
       "      <td>50.00</td>\n",
       "    </tr>\n",
       "    <tr>\n",
       "      <th>1</th>\n",
       "      <td>в декрете</td>\n",
       "      <td>1</td>\n",
       "      <td>1</td>\n",
       "      <td>100.00</td>\n",
       "    </tr>\n",
       "    <tr>\n",
       "      <th>2</th>\n",
       "      <td>госслужащий</td>\n",
       "      <td>1451</td>\n",
       "      <td>86</td>\n",
       "      <td>5.93</td>\n",
       "    </tr>\n",
       "    <tr>\n",
       "      <th>3</th>\n",
       "      <td>компаньон</td>\n",
       "      <td>5047</td>\n",
       "      <td>374</td>\n",
       "      <td>7.41</td>\n",
       "    </tr>\n",
       "    <tr>\n",
       "      <th>4</th>\n",
       "      <td>пенсионер</td>\n",
       "      <td>3812</td>\n",
       "      <td>216</td>\n",
       "      <td>5.67</td>\n",
       "    </tr>\n",
       "    <tr>\n",
       "      <th>5</th>\n",
       "      <td>предприниматель</td>\n",
       "      <td>2</td>\n",
       "      <td>0</td>\n",
       "      <td>0.00</td>\n",
       "    </tr>\n",
       "    <tr>\n",
       "      <th>6</th>\n",
       "      <td>сотрудник</td>\n",
       "      <td>11015</td>\n",
       "      <td>1054</td>\n",
       "      <td>9.57</td>\n",
       "    </tr>\n",
       "    <tr>\n",
       "      <th>7</th>\n",
       "      <td>студент</td>\n",
       "      <td>1</td>\n",
       "      <td>0</td>\n",
       "      <td>0.00</td>\n",
       "    </tr>\n",
       "  </tbody>\n",
       "</table>\n",
       "</div>"
      ],
      "text/plain": [
       "       income_type  income_type_distribution  debt_income_type_distribution  \\\n",
       "0      безработный                         2                              1   \n",
       "1        в декрете                         1                              1   \n",
       "2      госслужащий                      1451                             86   \n",
       "3        компаньон                      5047                            374   \n",
       "4        пенсионер                      3812                            216   \n",
       "5  предприниматель                         2                              0   \n",
       "6        сотрудник                     11015                           1054   \n",
       "7          студент                         1                              0   \n",
       "\n",
       "   percent_debt_income_type_distribution  \n",
       "0                                  50.00  \n",
       "1                                 100.00  \n",
       "2                                   5.93  \n",
       "3                                   7.41  \n",
       "4                                   5.67  \n",
       "5                                   0.00  \n",
       "6                                   9.57  \n",
       "7                                   0.00  "
      ]
     },
     "execution_count": 44,
     "metadata": {},
     "output_type": "execute_result"
    }
   ],
   "source": [
    "# создадим на основе Series один DataFrame\n",
    "df_income_type = pd.DataFrame()\n",
    "income_type_list = ['безработный', 'в декрете', 'госслужащий', 'компаньон', 'пенсионер', 'предприниматель', 'сотрудник', 'студент']\n",
    "income_type_order = ['пенсионер', 'безработный', 'студент', 'в декрете', 'сотрудник', 'компаньон', 'предприниматель', 'госслужащий']\n",
    "# назначим индексы\n",
    "df_income_type['income_type'] = income_type_list\n",
    "df_income_type['income_type_distribution'] = list(income_type_distribution)\n",
    "df_income_type['debt_income_type_distribution'] = list(debt_income_type_distribution)\n",
    "df_income_type['percent_debt_income_type_distribution'] = list(percent_debt_income_type_distribution)\n",
    "df_income_type"
   ]
  },
  {
   "cell_type": "code",
   "execution_count": 45,
   "id": "ab8aad28",
   "metadata": {},
   "outputs": [
    {
     "data": {
      "text/plain": [
       "<AxesSubplot:xlabel='income_type_distribution'>"
      ]
     },
     "execution_count": 45,
     "metadata": {},
     "output_type": "execute_result"
    },
    {
     "data": {
      "image/png": "[encoded data removed]",
      "text/plain": [
       "<Figure size 432x288 with 1 Axes>"
      ]
     },
     "metadata": {
      "needs_background": "light"
     },
     "output_type": "display_data"
    }
   ],
   "source": [
    "# визуализируем распределение клиентов по типу занятости\n",
    "sns.barplot(y=income_type_list, \n",
    "            x=\"income_type_distribution\", \n",
    "            color='blue', \n",
    "            data=df_income_type, \n",
    "            order=income_type_order)"
   ]
  },
  {
   "cell_type": "markdown",
   "id": "6d241f2a",
   "metadata": {},
   "source": [
    "Наиболее часто за кредитаит обращаются обычные сотрудники. Следом за ними госслужащие и пенсионеры. Реже всех за кредитами в этот банк обращаются прндприниматели. Безработным, студентам и людям в декрете редко выдают кредиты в этом учреждении. Предприниматели крайнк редко обращвются за кредитами. Возможно потому, что им они не нужны и потому, что ставка по кредиту намного выше предполагаемой прибыли, что делает кредит бессмысленным."
   ]
  },
  {
   "cell_type": "code",
   "execution_count": 46,
   "id": "f8c7767d",
   "metadata": {},
   "outputs": [
    {
     "data": {
      "text/plain": [
       "<AxesSubplot:xlabel='debt_income_type_distribution'>"
      ]
     },
     "execution_count": 46,
     "metadata": {},
     "output_type": "execute_result"
    },
    {
     "data": {
      "image/png": "[encoded data removed]",
      "text/plain": [
       "<Figure size 432x288 with 1 Axes>"
      ]
     },
     "metadata": {
      "needs_background": "light"
     },
     "output_type": "display_data"
    }
   ],
   "source": [
    "# визуализируем распределение должников по типу занятости\n",
    "sns.barplot(y=income_type_list, \n",
    "            x=\"debt_income_type_distribution\", \n",
    "            color='blue', \n",
    "            data=df_income_type, \n",
    "            order=income_type_order)"
   ]
  },
  {
   "cell_type": "markdown",
   "id": "bf4515bd",
   "metadata": {},
   "source": [
    "Каких-то резких контрастов в таком масштабе не наблюдается. Посмотрим на проценты."
   ]
  },
  {
   "cell_type": "code",
   "execution_count": 47,
   "id": "bb235f96",
   "metadata": {},
   "outputs": [
    {
     "data": {
      "text/plain": [
       "<AxesSubplot:xlabel='percent_debt_income_type_distribution'>"
      ]
     },
     "execution_count": 47,
     "metadata": {},
     "output_type": "execute_result"
    },
    {
     "data": {
      "image/png": "[encoded data removed]",
      "text/plain": [
       "<Figure size 432x288 with 1 Axes>"
      ]
     },
     "metadata": {
      "needs_background": "light"
     },
     "output_type": "display_data"
    }
   ],
   "source": [
    "sns.barplot(y=income_type_list, \n",
    "            x=\"percent_debt_income_type_distribution\", \n",
    "            color='blue', \n",
    "            data=df_income_type, \n",
    "            order=income_type_order)"
   ]
  },
  {
   "cell_type": "markdown",
   "id": "b64d8224",
   "metadata": {},
   "source": [
    "Наиболее ненадёжными заёмщиками, пропускающими сроки выплат по кредитам, являются люди без работы и в дикрете. Чуть лучше ситуация обстоит с сотрудниками, процент задолжников среди которых чуть выше среднего, `9%`. Видно, что имеющийся уровень заработной платы не позволяет наёмным работникам жить в достатке. Они вынуждены брать кредиты и не могут их регелярно выплачивать. Хорошо дела обстоят с госслужащими и пенсионерами."
   ]
  },
  {
   "cell_type": "markdown",
   "id": "7f068eb8",
   "metadata": {},
   "source": [
    "**Вывод.** Да, существует зависимость между типом занятости и возвратом кредита в срок. Больше всешл склонны к просрочке безработные и люди в декрете, а также рядовые сотрудники. Меньше всего пропускать сроки выплат пенсионеры и госслужащие."
   ]
  },
  {
   "cell_type": "markdown",
   "id": "1e4a3a4d",
   "metadata": {
    "deletable": false,
    "editable": false,
    "id": "c5d66278"
   },
   "source": [
    "#### 3.1 Есть ли зависимость между количеством детей и возвратом кредита в срок?"
   ]
  },
  {
   "cell_type": "code",
   "execution_count": 48,
   "id": "98f38b2a",
   "metadata": {
    "deletable": false,
    "id": "2cacfc4a"
   },
   "outputs": [],
   "source": [
    "# сгруппируем данные по количеству детей\n",
    "children_grouped = data.groupby('children')\n",
    "# узнаем распределение семей по количеству детей\n",
    "children_distribution = children_grouped['debt'].count()\n",
    "# узнаем распределение задолжкеностей по количеству детей\n",
    "debt_distribution = children_grouped['debt'].sum()\n",
    "# узнаем процент задолженностей в каждой категории по количеству детей\n",
    "percent_debt_distribution = round(100 * debt_distribution / children_distribution, 2)"
   ]
  },
  {
   "cell_type": "code",
   "execution_count": 49,
   "id": "83f88fc5",
   "metadata": {},
   "outputs": [
    {
     "data": {
      "text/html": [
       "<div>\n",
       "<style scoped>\n",
       "    .dataframe tbody tr th:only-of-type {\n",
       "        vertical-align: middle;\n",
       "    }\n",
       "\n",
       "    .dataframe tbody tr th {\n",
       "        vertical-align: top;\n",
       "    }\n",
       "\n",
       "    .dataframe thead th {\n",
       "        text-align: right;\n",
       "    }\n",
       "</style>\n",
       "<table border=\"1\" class=\"dataframe\">\n",
       "  <thead>\n",
       "    <tr style=\"text-align: right;\">\n",
       "      <th></th>\n",
       "      <th>children_distribution</th>\n",
       "      <th>debt_distribution</th>\n",
       "      <th>percent_debt_distribution</th>\n",
       "    </tr>\n",
       "  </thead>\n",
       "  <tbody>\n",
       "    <tr>\n",
       "      <th>0</th>\n",
       "      <td>14091</td>\n",
       "      <td>1063</td>\n",
       "      <td>7.54</td>\n",
       "    </tr>\n",
       "    <tr>\n",
       "      <th>1</th>\n",
       "      <td>4808</td>\n",
       "      <td>444</td>\n",
       "      <td>9.23</td>\n",
       "    </tr>\n",
       "    <tr>\n",
       "      <th>2</th>\n",
       "      <td>2052</td>\n",
       "      <td>194</td>\n",
       "      <td>9.45</td>\n",
       "    </tr>\n",
       "    <tr>\n",
       "      <th>3</th>\n",
       "      <td>330</td>\n",
       "      <td>27</td>\n",
       "      <td>8.18</td>\n",
       "    </tr>\n",
       "    <tr>\n",
       "      <th>4</th>\n",
       "      <td>41</td>\n",
       "      <td>4</td>\n",
       "      <td>9.76</td>\n",
       "    </tr>\n",
       "    <tr>\n",
       "      <th>5</th>\n",
       "      <td>9</td>\n",
       "      <td>0</td>\n",
       "      <td>0.00</td>\n",
       "    </tr>\n",
       "  </tbody>\n",
       "</table>\n",
       "</div>"
      ],
      "text/plain": [
       "   children_distribution  debt_distribution  percent_debt_distribution\n",
       "0                  14091               1063                       7.54\n",
       "1                   4808                444                       9.23\n",
       "2                   2052                194                       9.45\n",
       "3                    330                 27                       8.18\n",
       "4                     41                  4                       9.76\n",
       "5                      9                  0                       0.00"
      ]
     },
     "execution_count": 49,
     "metadata": {},
     "output_type": "execute_result"
    }
   ],
   "source": [
    "# создадим на основе Series один DataFrame\n",
    "df_children = pd.DataFrame()\n",
    "df_children['children_distribution'] = list(children_distribution)\n",
    "df_children['debt_distribution'] = list(debt_distribution)\n",
    "df_children['percent_debt_distribution'] = list(percent_debt_distribution)\n",
    "df_children"
   ]
  },
  {
   "cell_type": "code",
   "execution_count": 50,
   "id": "a34a49f6",
   "metadata": {},
   "outputs": [
    {
     "data": {
      "text/plain": [
       "<AxesSubplot:ylabel='children_distribution'>"
      ]
     },
     "execution_count": 50,
     "metadata": {},
     "output_type": "execute_result"
    },
    {
     "data": {
      "image/png": "[encoded data removed]",
      "text/plain": [
       "<Figure size 432x288 with 1 Axes>"
      ]
     },
     "metadata": {
      "needs_background": "light"
     },
     "output_type": "display_data"
    }
   ],
   "source": [
    "# визуализируем распределение клиентов по количеству\n",
    "sns.barplot(x=[0,1,2,3,4,5], y=\"children_distribution\", color='blue', data=df_children)"
   ]
  },
  {
   "cell_type": "markdown",
   "id": "0abc855e",
   "metadata": {},
   "source": [
    "Как можно видеть из рисунка, это степенное распределение. Чем больше детей, тем меньше клиентов, у которых они есть. Больше половины клиентов совсем не имеют детей. Лишь у малой их части более 4-5 детей. Теперь посмотрим, как много клиентов имеют задолженность."
   ]
  },
  {
   "cell_type": "code",
   "execution_count": 51,
   "id": "ded6875a",
   "metadata": {},
   "outputs": [
    {
     "data": {
      "text/plain": [
       "<AxesSubplot:ylabel='debt_distribution'>"
      ]
     },
     "execution_count": 51,
     "metadata": {},
     "output_type": "execute_result"
    },
    {
     "data": {
      "image/png": "[encoded data removed]",
      "text/plain": [
       "<Figure size 432x288 with 1 Axes>"
      ]
     },
     "metadata": {
      "needs_background": "light"
     },
     "output_type": "display_data"
    }
   ],
   "source": [
    "# визуализируем распределение должников по количеству детей\n",
    "sns.barplot(x=[0,1,2,3,4,5], y=\"debt_distribution\", color='blue', data=df_children)"
   ]
  },
  {
   "cell_type": "markdown",
   "id": "2ea83bcc",
   "metadata": {},
   "source": [
    "И количество должников тоже имеет степенное распределение. При этом у людей с 5 детьми совсем нет задолженостей. Видимо, подростающие дети помогают по хозяйству, в работе или материнский капитал позволяет не иметь долгов. Или выборка не совсем презентивна.\n",
    "Теперь рассмотрим процент должников в каждой категории по количеству детей."
   ]
  },
  {
   "cell_type": "code",
   "execution_count": 52,
   "id": "429cc17c",
   "metadata": {},
   "outputs": [
    {
     "data": {
      "text/plain": [
       "<AxesSubplot:ylabel='percent_debt_distribution'>"
      ]
     },
     "execution_count": 52,
     "metadata": {},
     "output_type": "execute_result"
    },
    {
     "data": {
      "image/png": "[encoded data removed]",
      "text/plain": [
       "<Figure size 432x288 with 1 Axes>"
      ]
     },
     "metadata": {
      "needs_background": "light"
     },
     "output_type": "display_data"
    }
   ],
   "source": [
    "# визуализируем процент должников среди клиентов, рпсвределённый по количеству детей\n",
    "sns.barplot(x=[0,1,2,3,4,5], y=\"percent_debt_distribution\", color='blue', data=df_children)"
   ]
  },
  {
   "cell_type": "markdown",
   "id": "2d06e613",
   "metadata": {},
   "source": [
    "Как можно видеть, процент должников среди бездетных ниже среднего и составляет `7,5%`. Остальные категории клиентов с детьми, кроме тех, у кого 5 детей, пропускают сроки выплат более, чем в `8%` случаев. У людей с тремя детьми ситуация близка к типичной. Взоможно, помогают выплаты м льготы государства или подросшие дети. "
   ]
  },
  {
   "cell_type": "markdown",
   "id": "03303d91",
   "metadata": {},
   "source": [
    "При этом у людей с 5 детьми совсем нет задолженостей. Видимо, подростающие дети помогают по хозяйству, в работе или материнский капитал позволяет не иметь долгов. Или выборка не совсем презентивна. Люди с большим количеством детей настолько редки, что просто не попали в число клиентов этого банка."
   ]
  },
  {
   "cell_type": "markdown",
   "id": "5fa7b496",
   "metadata": {
    "deletable": false,
    "id": "3a6b99ec"
   },
   "source": [
    "**Вывод:** Да, существует зависимость между количеством детей и возвратом кредита в срок. Люди бездетей менее склонны пропускать выплаты, чем клиенты с детьми. Наиболее хорошо справляются с кредитами люди, у которых трое детей."
   ]
  },
  {
   "cell_type": "markdown",
   "id": "2e06d193",
   "metadata": {
    "deletable": false,
    "editable": false,
    "id": "97be82ca"
   },
   "source": [
    "#### 3.2 Есть ли зависимость между семейным положением и возвратом кредита в срок?"
   ]
  },
  {
   "cell_type": "code",
   "execution_count": 53,
   "id": "dbb99a73",
   "metadata": {},
   "outputs": [],
   "source": [
    "# сгруппируем данные по семейному статусу клиента\n",
    "family_status_grouped = data.groupby('family_status')\n",
    "# узнаем распределение клиентов по семейному статусу\n",
    "family_status_distribution = family_status_grouped['debt'].count()\n",
    "# узнаем распределение задолжкеностей по семейному статусу\n",
    "debt_family_status_distribution = family_status_grouped['debt'].sum()\n",
    "# узнаем процент задолженностей в каждой категории по семейному статусу\n",
    "percent_family_status_debt_distribution = 100 * debt_family_status_distribution / family_status_distribution"
   ]
  },
  {
   "cell_type": "code",
   "execution_count": 54,
   "id": "64fa2a8a",
   "metadata": {
    "deletable": false,
    "id": "dc3f7ee8"
   },
   "outputs": [
    {
     "data": {
      "text/plain": [
       "['Не женат / не замужем',\n",
       " 'в разводе',\n",
       " 'вдовец / вдова',\n",
       " 'гражданский брак',\n",
       " 'женат / замужем']"
      ]
     },
     "execution_count": 54,
     "metadata": {},
     "output_type": "execute_result"
    }
   ],
   "source": [
    "# создадим список всех категорий семейного положения\n",
    "family_list = ['Не женат / не замужем','в разводе', 'вдовец / вдова', 'гражданский брак', 'женат / замужем']\n",
    "family_list"
   ]
  },
  {
   "cell_type": "code",
   "execution_count": 55,
   "id": "44438e6d",
   "metadata": {},
   "outputs": [],
   "source": [
    "family_order = ['Не женат / не замужем',\n",
    "                'гражданский брак', 'женат / замужем',\n",
    "                'в разводе', 'вдовец / вдова']"
   ]
  },
  {
   "cell_type": "code",
   "execution_count": 56,
   "id": "69610bd8",
   "metadata": {},
   "outputs": [
    {
     "data": {
      "text/html": [
       "<div>\n",
       "<style scoped>\n",
       "    .dataframe tbody tr th:only-of-type {\n",
       "        vertical-align: middle;\n",
       "    }\n",
       "\n",
       "    .dataframe tbody tr th {\n",
       "        vertical-align: top;\n",
       "    }\n",
       "\n",
       "    .dataframe thead th {\n",
       "        text-align: right;\n",
       "    }\n",
       "</style>\n",
       "<table border=\"1\" class=\"dataframe\">\n",
       "  <thead>\n",
       "    <tr style=\"text-align: right;\">\n",
       "      <th></th>\n",
       "      <th>family_status_distribution</th>\n",
       "      <th>debt_family_status_distribution</th>\n",
       "      <th>percent_family_status_debt_distribution</th>\n",
       "    </tr>\n",
       "    <tr>\n",
       "      <th>family_status</th>\n",
       "      <th></th>\n",
       "      <th></th>\n",
       "      <th></th>\n",
       "    </tr>\n",
       "  </thead>\n",
       "  <tbody>\n",
       "    <tr>\n",
       "      <th>Не женат / не замужем</th>\n",
       "      <td>2796</td>\n",
       "      <td>273</td>\n",
       "      <td>9.763948</td>\n",
       "    </tr>\n",
       "    <tr>\n",
       "      <th>в разводе</th>\n",
       "      <td>1189</td>\n",
       "      <td>84</td>\n",
       "      <td>7.064760</td>\n",
       "    </tr>\n",
       "    <tr>\n",
       "      <th>вдовец / вдова</th>\n",
       "      <td>951</td>\n",
       "      <td>63</td>\n",
       "      <td>6.624606</td>\n",
       "    </tr>\n",
       "    <tr>\n",
       "      <th>гражданский брак</th>\n",
       "      <td>4134</td>\n",
       "      <td>385</td>\n",
       "      <td>9.313014</td>\n",
       "    </tr>\n",
       "    <tr>\n",
       "      <th>женат / замужем</th>\n",
       "      <td>12261</td>\n",
       "      <td>927</td>\n",
       "      <td>7.560558</td>\n",
       "    </tr>\n",
       "  </tbody>\n",
       "</table>\n",
       "</div>"
      ],
      "text/plain": [
       "                       family_status_distribution  \\\n",
       "family_status                                       \n",
       "Не женат / не замужем                        2796   \n",
       "в разводе                                    1189   \n",
       "вдовец / вдова                                951   \n",
       "гражданский брак                             4134   \n",
       "женат / замужем                             12261   \n",
       "\n",
       "                       debt_family_status_distribution  \\\n",
       "family_status                                            \n",
       "Не женат / не замужем                              273   \n",
       "в разводе                                           84   \n",
       "вдовец / вдова                                      63   \n",
       "гражданский брак                                   385   \n",
       "женат / замужем                                    927   \n",
       "\n",
       "                       percent_family_status_debt_distribution  \n",
       "family_status                                                   \n",
       "Не женат / не замужем                                 9.763948  \n",
       "в разводе                                             7.064760  \n",
       "вдовец / вдова                                        6.624606  \n",
       "гражданский брак                                      9.313014  \n",
       "женат / замужем                                       7.560558  "
      ]
     },
     "execution_count": 56,
     "metadata": {},
     "output_type": "execute_result"
    }
   ],
   "source": [
    "# создадим DataFrame\n",
    "df_family_status = pd.DataFrame()\n",
    "# заполним столбец с перечнем категорий\n",
    "df_family_status['family_status'] = family_list\n",
    "# заполним DataFrame данными из Series\n",
    "df_family_status['family_status_distribution'] = list(family_status_distribution)\n",
    "df_family_status['debt_family_status_distribution'] = list(debt_family_status_distribution)\n",
    "df_family_status['percent_family_status_debt_distribution'] = list(percent_family_status_debt_distribution)\n",
    "# назначим индексы\n",
    "df_family_status.set_index('family_status', inplace=True)\n",
    "df_family_status"
   ]
  },
  {
   "cell_type": "code",
   "execution_count": 57,
   "id": "bd60dd39",
   "metadata": {},
   "outputs": [
    {
     "data": {
      "text/plain": [
       "<AxesSubplot:xlabel='family_status_distribution'>"
      ]
     },
     "execution_count": 57,
     "metadata": {},
     "output_type": "execute_result"
    },
    {
     "data": {
      "image/png": "[encoded data removed]",
      "text/plain": [
       "<Figure size 432x288 with 1 Axes>"
      ]
     },
     "metadata": {
      "needs_background": "light"
     },
     "output_type": "display_data"
    }
   ],
   "source": [
    "# визуализируем распределение процентов среди должников по уровню образования\n",
    "sns.barplot(y=family_list, \n",
    "            x=\"family_status_distribution\", \n",
    "            color='blue', \n",
    "            data=df_family_status, \n",
    "            order=family_order,\n",
    "           )"
   ]
  },
  {
   "cell_type": "markdown",
   "id": "f9b905fc",
   "metadata": {},
   "source": [
    "Больше всего за кредитами обращаются клиенты, состоящие официально зарегистрированных в отношениях, чуть далее за ними следуют люди, не оформившие отношения, но состоящие в них. Совместная жизнь, ведение хозяйство, возможная покупка общего жилья, воспитание детей - всё это может требовать больше расходов. Одинокие люди тоже тратятся и берут кредиты, но на собственные нужды. Люди, пережившие отношения, разведённые, вдовцы и вдовицы, меньше берут кредиты."
   ]
  },
  {
   "cell_type": "code",
   "execution_count": 58,
   "id": "718180c5",
   "metadata": {},
   "outputs": [
    {
     "data": {
      "text/plain": [
       "<AxesSubplot:xlabel='debt_family_status_distribution'>"
      ]
     },
     "execution_count": 58,
     "metadata": {},
     "output_type": "execute_result"
    },
    {
     "data": {
      "image/png": "[encoded data removed]",
      "text/plain": [
       "<Figure size 432x288 with 1 Axes>"
      ]
     },
     "metadata": {
      "needs_background": "light"
     },
     "output_type": "display_data"
    }
   ],
   "source": [
    "# визуализируем распределение клиентов по количеству\n",
    "sns.barplot(y=family_list, \n",
    "            x=\"debt_family_status_distribution\", \n",
    "            color='blue', \n",
    "            data=df_family_status, \n",
    "            order=family_order,\n",
    "           )"
   ]
  },
  {
   "cell_type": "markdown",
   "id": "46f91e63",
   "metadata": {},
   "source": [
    "Каких-то резких контрастов в таком масштабе не наблюдается. Посмотрим на проценты."
   ]
  },
  {
   "cell_type": "code",
   "execution_count": 59,
   "id": "d5a1b517",
   "metadata": {},
   "outputs": [
    {
     "data": {
      "text/plain": [
       "<AxesSubplot:xlabel='percent_family_status_debt_distribution'>"
      ]
     },
     "execution_count": 59,
     "metadata": {},
     "output_type": "execute_result"
    },
    {
     "data": {
      "image/png": "[encoded data removed]",
      "text/plain": [
       "<Figure size 432x288 with 1 Axes>"
      ]
     },
     "metadata": {
      "needs_background": "light"
     },
     "output_type": "display_data"
    }
   ],
   "source": [
    "# визуализируем распределение клиентов по количеству\n",
    "sns.barplot(y=family_list, \n",
    "            x=\"percent_family_status_debt_distribution\", \n",
    "            color='blue', \n",
    "            data=df_family_status, \n",
    "            order=family_order,\n",
    "           )"
   ]
  },
  {
   "cell_type": "markdown",
   "id": "e86c30fc",
   "metadata": {},
   "source": [
    "Из графика видно, что одинокие люди и те, кто не оформил свои отношения, несколько хуже справляются с долговыми обязаьтельствами. Немного обстоят дела у женатых клиентов. Ещё лучше с кредитаит справляются те, кто перестал быть в отношениях - разведённые и пережившие смерть второй половины."
   ]
  },
  {
   "cell_type": "markdown",
   "id": "008e78c5",
   "metadata": {},
   "source": [
    "Объяснения могут быть очень разные. Возможно те, кто одинок - это молодые и незрелые люди, которые не умеют ещё планировать свои расходы. Или этл малообщительнвн люди, у которых не получается постротьб ни личное, ни деловое общение. Люди в брачных отношениях, а тем более разведённые или вдовцы, - это с большей вероятностью взрослые и достаточно зрелые, сформировавшиеся личности."
   ]
  },
  {
   "cell_type": "markdown",
   "id": "25ff03b8",
   "metadata": {
    "deletable": false,
    "id": "1cef7837"
   },
   "source": [
    "**Вывод:** Да, есть зависимость между семейным положением и возвратом кредита в срок. Люди находящиеся в отношениях или пережившие развод или смерть партнёра с большей вероятностью отдают кредит, чем одинокие или люди в начинающихся отношениях."
   ]
  },
  {
   "cell_type": "markdown",
   "id": "7ed9f3d5",
   "metadata": {
    "deletable": false,
    "editable": false,
    "id": "1e8b2fca"
   },
   "source": [
    "#### 3.3 Есть ли зависимость между уровнем дохода и возвратом кредита в срок?"
   ]
  },
  {
   "cell_type": "code",
   "execution_count": 60,
   "id": "dae474b6",
   "metadata": {
    "deletable": false,
    "id": "cd7e3720"
   },
   "outputs": [],
   "source": [
    "# сгруппируем данные по уровню дохода\n",
    "income_category_grouped = data.groupby('total_income_category')\n",
    "# узнаем распределение клиентов по уровню дохода\n",
    "income_category_distribution = income_category_grouped['debt'].count()\n",
    "# узнаем распределение задолжкеностей по уровню дохода\n",
    "debt_income_distribution = income_category_grouped['debt'].sum()\n",
    "# узнаем процент задолженностей в каждой категории по уровню дохода\n",
    "percent_debt_income_distribution = round(100 * debt_income_distribution / income_category_distribution, 2)"
   ]
  },
  {
   "cell_type": "code",
   "execution_count": 62,
   "id": "c29a53de",
   "metadata": {},
   "outputs": [
    {
     "data": {
      "text/html": [
       "<div>\n",
       "<style scoped>\n",
       "    .dataframe tbody tr th:only-of-type {\n",
       "        vertical-align: middle;\n",
       "    }\n",
       "\n",
       "    .dataframe tbody tr th {\n",
       "        vertical-align: top;\n",
       "    }\n",
       "\n",
       "    .dataframe thead th {\n",
       "        text-align: right;\n",
       "    }\n",
       "</style>\n",
       "<table border=\"1\" class=\"dataframe\">\n",
       "  <thead>\n",
       "    <tr style=\"text-align: right;\">\n",
       "      <th></th>\n",
       "      <th>income_category_distribution</th>\n",
       "      <th>debt_distribution</th>\n",
       "      <th>percent_debt_distribution</th>\n",
       "    </tr>\n",
       "    <tr>\n",
       "      <th>income_category</th>\n",
       "      <th></th>\n",
       "      <th></th>\n",
       "      <th></th>\n",
       "    </tr>\n",
       "  </thead>\n",
       "  <tbody>\n",
       "    <tr>\n",
       "      <th>A</th>\n",
       "      <td>25</td>\n",
       "      <td>2</td>\n",
       "      <td>8.00</td>\n",
       "    </tr>\n",
       "    <tr>\n",
       "      <th>B</th>\n",
       "      <td>5014</td>\n",
       "      <td>354</td>\n",
       "      <td>7.06</td>\n",
       "    </tr>\n",
       "    <tr>\n",
       "      <th>C</th>\n",
       "      <td>15921</td>\n",
       "      <td>1353</td>\n",
       "      <td>8.50</td>\n",
       "    </tr>\n",
       "    <tr>\n",
       "      <th>D</th>\n",
       "      <td>349</td>\n",
       "      <td>21</td>\n",
       "      <td>6.02</td>\n",
       "    </tr>\n",
       "    <tr>\n",
       "      <th>E</th>\n",
       "      <td>22</td>\n",
       "      <td>2</td>\n",
       "      <td>9.09</td>\n",
       "    </tr>\n",
       "  </tbody>\n",
       "</table>\n",
       "</div>"
      ],
      "text/plain": [
       "                 income_category_distribution  debt_distribution  \\\n",
       "income_category                                                    \n",
       "A                                          25                  2   \n",
       "B                                        5014                354   \n",
       "C                                       15921               1353   \n",
       "D                                         349                 21   \n",
       "E                                          22                  2   \n",
       "\n",
       "                 percent_debt_distribution  \n",
       "income_category                             \n",
       "A                                     8.00  \n",
       "B                                     7.06  \n",
       "C                                     8.50  \n",
       "D                                     6.02  \n",
       "E                                     9.09  "
      ]
     },
     "execution_count": 62,
     "metadata": {},
     "output_type": "execute_result"
    }
   ],
   "source": [
    "# создадим на основе Series один DataFrame\n",
    "df_income_category = pd.DataFrame()\n",
    "df_income_category['income_category'] = ['A', 'B', 'C', 'D', 'E']\n",
    "# заполним DataFrame данными из Series\n",
    "df_income_category['income_category_distribution'] = list(income_category_distribution)\n",
    "df_income_category['debt_distribution'] = list(debt_income_distribution)\n",
    "df_income_category['percent_debt_distribution'] = list(percent_debt_income_distribution)\n",
    "# назначим индексы\n",
    "df_income_category.set_index('income_category', inplace=True)\n",
    "df_income_category"
   ]
  },
  {
   "cell_type": "code",
   "execution_count": 86,
   "id": "a706d0d8",
   "metadata": {},
   "outputs": [
    {
     "data": {
      "image/png": "[encoded data removed]",
      "text/plain": [
       "<Figure size 576x360 with 1 Axes>"
      ]
     },
     "metadata": {
      "needs_background": "light"
     },
     "output_type": "display_data"
    }
   ],
   "source": [
    "fig = plt.figure(figsize=(8, 5))\n",
    "# визуализируем данные распределение клиентов по уровню дохода \n",
    "plt.bar(['A', 'B', 'C', 'D', 'E'], list(income_category_distribution), color='blue', width=0.4)\n",
    "plt.xlabel(\"Уровень дохода\")\n",
    "plt.ylabel(\"Количество клиентов\")\n",
    "plt.show()"
   ]
  },
  {
   "cell_type": "markdown",
   "id": "9f49e287",
   "metadata": {},
   "source": [
    "Больше всего кредитов берут люди со средним достатком, Люди с очень высоким и очень низким уровнями доходо представлены мало. Первые  сами не нуждаются в кредитах, а вторым их не дают, хотя нужда у них есть."
   ]
  },
  {
   "cell_type": "code",
   "execution_count": 87,
   "id": "3e73c430",
   "metadata": {},
   "outputs": [
    {
     "data": {
      "image/png": "[encoded data removed]",
      "text/plain": [
       "<Figure size 576x360 with 1 Axes>"
      ]
     },
     "metadata": {
      "needs_background": "light"
     },
     "output_type": "display_data"
    }
   ],
   "source": [
    "fig = plt.figure(figsize=(8, 5))\n",
    "# визуализируем данные распределение задолжкеностей по уровню дохода \n",
    "plt.bar(['A', 'B', 'C', 'D', 'E'], list(debt_income_distribution), color='blue', width=0.4)\n",
    "plt.xlabel(\"Уровень дохода\")\n",
    "plt.ylabel(\"Количество должников\")\n",
    "plt.show()"
   ]
  },
  {
   "cell_type": "markdown",
   "id": "526b612e",
   "metadata": {},
   "source": [
    "Каких-то резких контрастов в таком масштабе не наблюдается. Посмотрим на проценты."
   ]
  },
  {
   "cell_type": "code",
   "execution_count": 88,
   "id": "4dcd6392",
   "metadata": {},
   "outputs": [
    {
     "data": {
      "image/png": "[encoded data removed]",
      "text/plain": [
       "<Figure size 576x360 with 1 Axes>"
      ]
     },
     "metadata": {
      "needs_background": "light"
     },
     "output_type": "display_data"
    }
   ],
   "source": [
    "fig = plt.figure(figsize=(8, 5))\n",
    "# визуализируем данные по процентам задолженностей в каждой категории по уровню дохода\n",
    "plt.bar(['A', 'B', 'C', 'D', 'E'], list(percent_debt_income_distribution), color='blue', width=0.4)\n",
    "plt.xlabel(\"Уровень дохода\")\n",
    "plt.ylabel(\"Процент должников\")\n",
    "plt.show()"
   ]
  },
  {
   "cell_type": "markdown",
   "id": "90e00a7d",
   "metadata": {},
   "source": [
    "При этом хуже всего с выплатами справляются люди с самым низким, средним и высоким доходом. Люди, уже зарабатывающие выше самого низшего, но ниже среднего, и выше среднего и ниже самого высокого, лучше справляется с кредитами."
   ]
  },
  {
   "cell_type": "markdown",
   "id": "b0160dbb",
   "metadata": {
    "deletable": false,
    "id": "e8593def"
   },
   "source": [
    "**Вывод:** Да, имеется частичная завмсимость между уровнем дохода и возвратом кредита в срок.\n",
    "Если сравнивать толькл две самые многочисленные категории - доход выше среднего (`B`) и средний доход (`C`), - можно сказать, что люди с доходом выше среднего (`B`) справляются с долговой нагрузкой лучше, чем люди со средним доходом (`C`).\n",
    "Явной зависимости между уровнем дохода и возвратом кредита в срок не имеется. Люди с высоким (`A`), средним (`C`) и низким (`E`) доходами одинаково не справляются с кредитной нагрузкой. Несколько лучше ситуация у тех, кто уже не беден (`D`) или ещё не богат (`B`)."
   ]
  },
  {
   "cell_type": "markdown",
   "id": "c35dcc11",
   "metadata": {
    "deletable": false,
    "editable": false,
    "id": "99ecbd1f"
   },
   "source": [
    "#### 3.4 Как разные цели кредита влияют на его возврат в срок?"
   ]
  },
  {
   "cell_type": "code",
   "execution_count": 66,
   "id": "04913aca",
   "metadata": {
    "deletable": false,
    "id": "2b687290"
   },
   "outputs": [],
   "source": [
    "# сгруппируем данные по уровню дохода\n",
    "purpose_category_grouped = data.groupby('purpose_category')\n",
    "# узнаем распределение клиентов по цели кредита\n",
    "purpose_category_distribution = purpose_category_grouped['debt'].count()\n",
    "# узнаем распределение задолжкеностей по цели кредита\n",
    "debt_purpose_distribution = purpose_category_grouped['debt'].sum()\n",
    "# узнаем процент задолженностей в каждой категории по цели кредита\n",
    "percent_debt_purpose_distribution = round(100 * debt_purpose_distribution / purpose_category_distribution, 2)"
   ]
  },
  {
   "cell_type": "code",
   "execution_count": 89,
   "id": "d3e1e240",
   "metadata": {},
   "outputs": [
    {
     "data": {
      "text/html": [
       "<div>\n",
       "<style scoped>\n",
       "    .dataframe tbody tr th:only-of-type {\n",
       "        vertical-align: middle;\n",
       "    }\n",
       "\n",
       "    .dataframe tbody tr th {\n",
       "        vertical-align: top;\n",
       "    }\n",
       "\n",
       "    .dataframe thead th {\n",
       "        text-align: right;\n",
       "    }\n",
       "</style>\n",
       "<table border=\"1\" class=\"dataframe\">\n",
       "  <thead>\n",
       "    <tr style=\"text-align: right;\">\n",
       "      <th></th>\n",
       "      <th>purpose_category_distribution</th>\n",
       "      <th>debt_purpose_distribution</th>\n",
       "      <th>percent_debt_purpose_distribution</th>\n",
       "    </tr>\n",
       "    <tr>\n",
       "      <th>income_category</th>\n",
       "      <th></th>\n",
       "      <th></th>\n",
       "      <th></th>\n",
       "    </tr>\n",
       "  </thead>\n",
       "  <tbody>\n",
       "    <tr>\n",
       "      <th>Автомобиль</th>\n",
       "      <td>4279</td>\n",
       "      <td>400</td>\n",
       "      <td>9.35</td>\n",
       "    </tr>\n",
       "    <tr>\n",
       "      <th>Недвижимость</th>\n",
       "      <td>10751</td>\n",
       "      <td>780</td>\n",
       "      <td>7.26</td>\n",
       "    </tr>\n",
       "    <tr>\n",
       "      <th>Образование</th>\n",
       "      <td>3988</td>\n",
       "      <td>369</td>\n",
       "      <td>9.25</td>\n",
       "    </tr>\n",
       "    <tr>\n",
       "      <th>Свадьба</th>\n",
       "      <td>2313</td>\n",
       "      <td>183</td>\n",
       "      <td>7.91</td>\n",
       "    </tr>\n",
       "  </tbody>\n",
       "</table>\n",
       "</div>"
      ],
      "text/plain": [
       "                 purpose_category_distribution  debt_purpose_distribution  \\\n",
       "income_category                                                             \n",
       "Автомобиль                                4279                        400   \n",
       "Недвижимость                             10751                        780   \n",
       "Образование                               3988                        369   \n",
       "Свадьба                                   2313                        183   \n",
       "\n",
       "                 percent_debt_purpose_distribution  \n",
       "income_category                                     \n",
       "Автомобиль                                    9.35  \n",
       "Недвижимость                                  7.26  \n",
       "Образование                                   9.25  \n",
       "Свадьба                                       7.91  "
      ]
     },
     "execution_count": 89,
     "metadata": {},
     "output_type": "execute_result"
    }
   ],
   "source": [
    "# создадим на основе Series один DataFrame\n",
    "df_purpose_category = pd.DataFrame()\n",
    "purpose = ['Автомобиль', 'Недвижимость', 'Образование', 'Свадьба']\n",
    "df_purpose_category['income_category'] = purpose\n",
    "# заполним DataFrame данными из Series\n",
    "df_purpose_category['purpose_category_distribution'] = list(purpose_category_distribution)\n",
    "df_purpose_category['debt_purpose_distribution'] = list(debt_purpose_distribution)\n",
    "df_purpose_category['percent_debt_purpose_distribution'] = list(percent_debt_purpose_distribution)\n",
    "# назначим индексы\n",
    "df_purpose_category.set_index('income_category', inplace=True)\n",
    "df_purpose_category"
   ]
  },
  {
   "cell_type": "code",
   "execution_count": 69,
   "id": "66708521",
   "metadata": {},
   "outputs": [
    {
     "data": {
      "text/plain": [
       "<AxesSubplot:ylabel='purpose_category_distribution'>"
      ]
     },
     "execution_count": 69,
     "metadata": {},
     "output_type": "execute_result"
    },
    {
     "data": {
      "image/png": "[encoded data removed]",
      "text/plain": [
       "<Figure size 432x288 with 1 Axes>"
      ]
     },
     "metadata": {
      "needs_background": "light"
     },
     "output_type": "display_data"
    }
   ],
   "source": [
    "# визуализируем распределение клиентов по цели кредита\n",
    "sns.barplot(x=purpose, y=\"purpose_category_distribution\", color='blue', data=df_purpose_category)"
   ]
  },
  {
   "cell_type": "markdown",
   "id": "d70428ad",
   "metadata": {},
   "source": [
    "Наибольшее число заёмщиков обращаются за кредитами для операций с недвижимостью. Примерно по 20-25% процентов обращается за средитами для получения образовани и покупки автомобиля. Меньше всего клиентов берут кредит на свадьбу."
   ]
  },
  {
   "cell_type": "code",
   "execution_count": 70,
   "id": "053d9d48",
   "metadata": {},
   "outputs": [
    {
     "data": {
      "text/plain": [
       "<AxesSubplot:ylabel='debt_purpose_distribution'>"
      ]
     },
     "execution_count": 70,
     "metadata": {},
     "output_type": "execute_result"
    },
    {
     "data": {
      "image/png": "[encoded data removed]",
      "text/plain": [
       "<Figure size 432x288 with 1 Axes>"
      ]
     },
     "metadata": {
      "needs_background": "light"
     },
     "output_type": "display_data"
    }
   ],
   "source": [
    "# визуализируем распределение задолжкеностей по цели кредита\n",
    "sns.barplot(x=purpose, y=\"debt_purpose_distribution\", color='blue', data=df_purpose_category)"
   ]
  },
  {
   "cell_type": "markdown",
   "id": "5c6bca57",
   "metadata": {},
   "source": [
    "Каких-то резких контрастов в таком масштабе не наблюдается. Посмотрим на проценты."
   ]
  },
  {
   "cell_type": "code",
   "execution_count": 71,
   "id": "fd248c68",
   "metadata": {},
   "outputs": [
    {
     "data": {
      "text/plain": [
       "<AxesSubplot:ylabel='percent_debt_purpose_distribution'>"
      ]
     },
     "execution_count": 71,
     "metadata": {},
     "output_type": "execute_result"
    },
    {
     "data": {
      "image/png": "[encoded data removed]",
      "text/plain": [
       "<Figure size 432x288 with 1 Axes>"
      ]
     },
     "metadata": {
      "needs_background": "light"
     },
     "output_type": "display_data"
    }
   ],
   "source": [
    "# визуализируем процент задолженностей в каждой категории по цели кредита\n",
    "sns.barplot(x=purpose, y=\"percent_debt_purpose_distribution\", color='blue', data=df_purpose_category)"
   ]
  },
  {
   "cell_type": "markdown",
   "id": "de1ee99f",
   "metadata": {},
   "source": [
    "<p>Лучше всего клинты банка справляются с выплатами за кредиты по недвижимости и на свадьбу. Приобретение недвижимости, помимо оплаты коммунальных услуг, ремонта пр. расходов, может приносить доход в видн сдачт в найи и аренды, организации бизнеса и т.п. Свадьба, как уже льинчадлмб выше, меняет семейный статус людей, тоже имеет как положительные, так и отрицательгын стороны для финансового благополучия.</p>\n",
    "<p>Хуже получается это у тех, кто берёт займы на образование и автомобиль. Видимр, беря кредит на образование, люди долгое время не имют возможность зарабатывать деньги на его оплату. Учёба и поиск работы не позволяют это делать в полной мере. Автомобиль - это актив, имеющий как положительные сторонф, так и отрицательные. С одной стороны, он может быть средством заработка и экономить время. С другой стороны, автовладельцы вынуждены тратить деньги на обслуживание автомобиля, его ремонт, азправку и выплаты страховых взносов.</p>"
   ]
  },
  {
   "cell_type": "markdown",
   "id": "db26fbd9",
   "metadata": {
    "deletable": false,
    "id": "b4bb2ce6"
   },
   "source": [
    "**Вывод:** Цели кредита влияют на его возврат в срок. Наилучшим потенциалом для возврата кредита являюься свадьбы и операции с недвижимостью. Образование и автомобиль - более рисковые."
   ]
  },
  {
   "cell_type": "markdown",
   "id": "b8b45119",
   "metadata": {
    "deletable": false,
    "editable": false,
    "id": "09c3ac4c"
   },
   "source": [
    "#### 3.5 Приведите возможные причины появления пропусков в исходных данных."
   ]
  },
  {
   "cell_type": "markdown",
   "id": "5714b931",
   "metadata": {
    "deletable": false,
    "id": "9da2ceda"
   },
   "source": [
    "*Ответ:* Пропкски были в основном у двух графах: общий трудовой стаж и ежемесячный доход. Обе они относятся к трудовой деятельности человека, её длительности (времени) и результату (деньгах). Возможно часть людей (эти пропуски составляют около 10% от всей выборки) трудно точно посчитать свой стаж в днях. Также можно предположить, что некоторые из них не могут указать месячный доход из-за того, что они находятся в т.н. \"серой\" зоне, т.е. имеют теневой доход. Возможно, что именно у этих людей произошёл технический сбой при заполнении заявки."
   ]
  },
  {
   "cell_type": "markdown",
   "id": "2f4d9447",
   "metadata": {},
   "source": [
    "О пропусках в графе о количестве детей, можно сказать, что или оператор случайно опечтался, или цифра не была неверно распозна системой расарзнавания образов. Так,например, значение `-1` могло быть получено в последнем случае. Значение в `20` детей маловероятно и, скорее всего, имела место опечатка."
   ]
  },
  {
   "cell_type": "markdown",
   "id": "04992af3",
   "metadata": {
    "deletable": false,
    "editable": false,
    "id": "7b0487d6"
   },
   "source": [
    "#### 3.6 Объясните, почему заполнить пропуски медианным значением — лучшее решение для количественных переменных."
   ]
  },
  {
   "cell_type": "markdown",
   "id": "41256d6d",
   "metadata": {
    "deletable": false,
    "id": "7ecf2b8e"
   },
   "source": [
    "*Ответ:* Заполнять пропуски в количественных переменных медианными значениями лучше, т.к. они броее точно отражают наиболее типичные и распространённые данные. Среднее значсение в этом плане справляется хуже. Так, если в обычный бар войдёт Билл Гейтс, то средний доход всех присутствующих очень сильно увеличится. Однако на самом деле к реальному доходу всех присуствующих будет не среднее арифметическое, а медианное значение."
   ]
  },
  {
   "cell_type": "markdown",
   "id": "ea7f33b5",
   "metadata": {
    "deletable": false,
    "editable": false,
    "id": "6db5255a"
   },
   "source": [
    "### Шаг 4: общий вывод."
   ]
  },
  {
   "cell_type": "markdown",
   "id": "d9c7322f",
   "metadata": {
    "deletable": false,
    "id": "bad65432"
   },
   "source": [
    "#### 2.9.1. Вывод по предобработке.\n",
    "\n",
    "В рамках предобработки данным мы:\n",
    "\n",
    "- заполнили пропуски в графах трудового стажа и ежемесячного дохода на соответсвующие им медианные для каждой категории типа занятости;\n",
    "- заменили тип данных в графе ежемесячный дохо на цнлочисленное, чьл сэкономит память и увеличит скорость работы алгоритма;\n",
    "- избавались от дублирующих данных;\n",
    "- провели категоризацию данных, получив 5 уровней дохода, 4 возрастные группы и 4 группы по цели кредитования;\n",
    "\n",
    "Из первой части видно, что тщательная и хорошо выполненная предобработка данных необходима для хорогего анализа данных. Заполнение пропусков делает данные более полными, устанение дубликатов и и поправка анрмальных значений - более корректными. Предобработка для реальных данных небоходима."
   ]
  },
  {
   "cell_type": "markdown",
   "id": "bc52e3bc",
   "metadata": {},
   "source": [
    "#### 2.9.2. Вывод по анализу данных.\n",
    "\n",
    "Анализ большей части признаков оказался успешным. Установлено множество случаев зависимости сроков возврата кредита от различных показателей:\n",
    "\n",
    "- возраст;\n",
    "- пол;\n",
    "- уровень образования;\n",
    "- тип занятости;\n",
    "- уровень дохода;\n",
    "- количество детей;\n",
    "- семейное положение;\n",
    "- цель кредита.\n",
    "\n",
    "Данные были сгруппированы по каждому из признаков. Для каждого признака сделаны визуализации и выявлена связь со способностью клиента к выплате кредита. Былм выявлкеы признамки надёжных и ненадёхных клиентов."
   ]
  },
  {
   "cell_type": "markdown",
   "id": "6d849bf9",
   "metadata": {},
   "source": [
    "Можно выявить условные прифили двух клиентов: *исполнительного плательщика* и *типичного должника*.\n",
    "\n",
    "**Исполнительный плательщик** - это зрелая женщина, предпенсионного возраста, разведённая или вдова, без детей. Она берёт кредит на операцию с жилплощадью или на свадьбу. Доход у неё чуть выше или среднего. Она хорошо образована и занимается предприниматеольством.\n",
    "\n",
    "**Типичный должник** - это молодой мужчина, входящий во взрослую жизнь, одинокий или находящийся в гражданском браке, начинающий семейную жизнь и имющий много детей. Он является наёмным сотрудником и имеет средний доход: или даже ниже или очень низкий. Он плохо образован, не имеет высщешо или даже среднего образования. Поэтому он берёт кредит на образование, а так же на автомобиль, который не может себе позволить.\n",
    "\n",
    "Чем больше у клиента черт того или иного профиля, тем яснее, сможет он выплачивать кредит в срок или нет."
   ]
  }
 ],
 "metadata": {
  "ExecuteTimeLog": [
   {
    "duration": 431,
    "start_time": "2022-09-27T22:25:04.808Z"
   },
   {
    "duration": 20,
    "start_time": "2022-09-27T22:25:10.195Z"
   },
   {
    "duration": 14,
    "start_time": "2022-09-27T22:25:15.584Z"
   },
   {
    "duration": 9,
    "start_time": "2022-09-27T22:25:18.802Z"
   },
   {
    "duration": 31,
    "start_time": "2022-09-27T22:25:23.197Z"
   },
   {
    "duration": 4,
    "start_time": "2022-09-27T22:25:25.880Z"
   },
   {
    "duration": 8,
    "start_time": "2022-09-27T22:25:27.411Z"
   },
   {
    "duration": 4,
    "start_time": "2022-09-27T22:25:31.726Z"
   },
   {
    "duration": 7,
    "start_time": "2022-09-27T22:25:40.739Z"
   },
   {
    "duration": 4,
    "start_time": "2022-09-27T22:25:43.590Z"
   },
   {
    "duration": 34,
    "start_time": "2022-09-27T22:25:46.977Z"
   },
   {
    "duration": 9,
    "start_time": "2022-09-27T22:25:49.591Z"
   },
   {
    "duration": 4,
    "start_time": "2022-09-27T22:25:52.486Z"
   },
   {
    "duration": 11,
    "start_time": "2022-09-27T22:25:54.957Z"
   },
   {
    "duration": 20,
    "start_time": "2022-09-27T22:25:56.442Z"
   },
   {
    "duration": 17,
    "start_time": "2022-09-27T22:25:57.783Z"
   },
   {
    "duration": 4,
    "start_time": "2022-09-27T22:26:12.228Z"
   },
   {
    "duration": 9,
    "start_time": "2022-09-27T22:26:14.776Z"
   },
   {
    "duration": 6,
    "start_time": "2022-09-27T22:26:16.631Z"
   },
   {
    "duration": 3,
    "start_time": "2022-09-27T22:26:32.351Z"
   },
   {
    "duration": 9,
    "start_time": "2022-09-27T22:26:35.470Z"
   },
   {
    "duration": 17,
    "start_time": "2022-09-27T22:29:49.689Z"
   },
   {
    "duration": 5,
    "start_time": "2022-09-27T22:34:16.456Z"
   },
   {
    "duration": 6,
    "start_time": "2022-09-27T22:34:24.597Z"
   },
   {
    "duration": 8,
    "start_time": "2022-09-27T22:35:16.989Z"
   },
   {
    "duration": 7,
    "start_time": "2022-09-27T22:40:08.291Z"
   },
   {
    "duration": 8,
    "start_time": "2022-09-27T22:40:16.103Z"
   },
   {
    "duration": 5,
    "start_time": "2022-09-27T22:44:02.663Z"
   },
   {
    "duration": 6,
    "start_time": "2022-09-27T22:46:46.295Z"
   },
   {
    "duration": 5,
    "start_time": "2022-09-27T22:47:55.816Z"
   },
   {
    "duration": 6,
    "start_time": "2022-09-27T22:50:07.506Z"
   },
   {
    "duration": 6,
    "start_time": "2022-09-27T22:52:34.847Z"
   },
   {
    "duration": 5,
    "start_time": "2022-09-27T22:52:46.554Z"
   },
   {
    "duration": 5,
    "start_time": "2022-09-27T22:53:04.963Z"
   },
   {
    "duration": 5,
    "start_time": "2022-09-27T22:54:05.695Z"
   },
   {
    "duration": 6,
    "start_time": "2022-09-27T22:55:38.891Z"
   },
   {
    "duration": 7,
    "start_time": "2022-09-27T22:57:47.063Z"
   },
   {
    "duration": 5,
    "start_time": "2022-09-27T22:59:21.684Z"
   },
   {
    "duration": 4,
    "start_time": "2022-09-27T22:59:32.024Z"
   },
   {
    "duration": 45,
    "start_time": "2022-09-28T09:11:41.821Z"
   },
   {
    "duration": 733,
    "start_time": "2022-09-28T09:12:12.276Z"
   },
   {
    "duration": 33,
    "start_time": "2022-09-28T09:12:14.570Z"
   },
   {
    "duration": 19,
    "start_time": "2022-09-28T09:12:16.007Z"
   },
   {
    "duration": 12,
    "start_time": "2022-09-28T09:12:19.528Z"
   },
   {
    "duration": 34,
    "start_time": "2022-09-28T09:12:20.302Z"
   },
   {
    "duration": 4,
    "start_time": "2022-09-28T09:12:21.112Z"
   },
   {
    "duration": 13,
    "start_time": "2022-09-28T09:12:21.712Z"
   },
   {
    "duration": 5,
    "start_time": "2022-09-28T09:12:22.703Z"
   },
   {
    "duration": 8,
    "start_time": "2022-09-28T09:12:23.698Z"
   },
   {
    "duration": 8,
    "start_time": "2022-09-28T09:12:24.566Z"
   },
   {
    "duration": 48,
    "start_time": "2022-09-28T09:12:25.418Z"
   },
   {
    "duration": 10,
    "start_time": "2022-09-28T09:12:26.057Z"
   },
   {
    "duration": 4,
    "start_time": "2022-09-28T09:12:29.198Z"
   },
   {
    "duration": 17,
    "start_time": "2022-09-28T09:12:31.006Z"
   },
   {
    "duration": 19,
    "start_time": "2022-09-28T09:12:32.206Z"
   },
   {
    "duration": 18,
    "start_time": "2022-09-28T09:12:32.664Z"
   },
   {
    "duration": 4,
    "start_time": "2022-09-28T09:12:34.622Z"
   },
   {
    "duration": 14,
    "start_time": "2022-09-28T09:12:35.118Z"
   },
   {
    "duration": 6,
    "start_time": "2022-09-28T09:12:36.430Z"
   },
   {
    "duration": 4,
    "start_time": "2022-09-28T09:12:38.614Z"
   },
   {
    "duration": 8,
    "start_time": "2022-09-28T09:12:40.415Z"
   },
   {
    "duration": 73,
    "start_time": "2022-09-28T09:12:44.461Z"
   },
   {
    "duration": 28,
    "start_time": "2022-09-28T09:12:57.470Z"
   },
   {
    "duration": 8,
    "start_time": "2022-09-28T09:12:59.785Z"
   },
   {
    "duration": 5,
    "start_time": "2022-09-28T09:13:00.763Z"
   },
   {
    "duration": 7,
    "start_time": "2022-09-28T09:13:02.110Z"
   },
   {
    "duration": 7,
    "start_time": "2022-09-28T09:13:04.972Z"
   },
   {
    "duration": 1006,
    "start_time": "2022-09-28T09:42:44.193Z"
   },
   {
    "duration": 18,
    "start_time": "2022-09-28T09:42:46.641Z"
   },
   {
    "duration": 718,
    "start_time": "2022-09-28T19:10:16.333Z"
   },
   {
    "duration": 24,
    "start_time": "2022-09-28T19:10:17.460Z"
   },
   {
    "duration": 15,
    "start_time": "2022-09-28T19:10:17.859Z"
   },
   {
    "duration": 10,
    "start_time": "2022-09-28T19:10:18.590Z"
   },
   {
    "duration": 42,
    "start_time": "2022-09-28T19:10:18.971Z"
   },
   {
    "duration": 4,
    "start_time": "2022-09-28T19:10:19.746Z"
   },
   {
    "duration": 9,
    "start_time": "2022-09-28T19:10:20.170Z"
   },
   {
    "duration": 5,
    "start_time": "2022-09-28T19:10:20.794Z"
   },
   {
    "duration": 7,
    "start_time": "2022-09-28T19:10:21.250Z"
   },
   {
    "duration": 4,
    "start_time": "2022-09-28T19:10:21.955Z"
   },
   {
    "duration": 36,
    "start_time": "2022-09-28T19:10:22.667Z"
   },
   {
    "duration": 10,
    "start_time": "2022-09-28T19:10:23.170Z"
   },
   {
    "duration": 4,
    "start_time": "2022-09-28T19:10:26.642Z"
   },
   {
    "duration": 13,
    "start_time": "2022-09-28T19:10:29.115Z"
   },
   {
    "duration": 21,
    "start_time": "2022-09-28T19:10:30.394Z"
   },
   {
    "duration": 20,
    "start_time": "2022-09-28T19:10:30.914Z"
   },
   {
    "duration": 4,
    "start_time": "2022-09-28T19:10:32.466Z"
   },
   {
    "duration": 10,
    "start_time": "2022-09-28T19:10:34.569Z"
   },
   {
    "duration": 7,
    "start_time": "2022-09-28T19:10:37.130Z"
   },
   {
    "duration": 4,
    "start_time": "2022-09-28T19:10:39.698Z"
   },
   {
    "duration": 12,
    "start_time": "2022-09-28T19:10:41.826Z"
   },
   {
    "duration": 1008,
    "start_time": "2022-09-28T19:10:48.978Z"
   },
   {
    "duration": 19,
    "start_time": "2022-09-28T19:10:55.738Z"
   },
   {
    "duration": 6,
    "start_time": "2022-09-28T19:10:57.418Z"
   },
   {
    "duration": 5,
    "start_time": "2022-09-28T19:10:57.970Z"
   },
   {
    "duration": 5,
    "start_time": "2022-09-28T19:10:58.378Z"
   },
   {
    "duration": 4,
    "start_time": "2022-09-28T19:10:58.762Z"
   },
   {
    "duration": 8,
    "start_time": "2022-09-28T19:10:59.068Z"
   },
   {
    "duration": 2,
    "start_time": "2022-09-28T19:11:00.594Z"
   },
   {
    "duration": 7,
    "start_time": "2022-09-28T19:11:01.219Z"
   },
   {
    "duration": 5,
    "start_time": "2022-09-28T19:11:01.834Z"
   },
   {
    "duration": 5,
    "start_time": "2022-09-28T19:11:02.570Z"
   },
   {
    "duration": 6,
    "start_time": "2022-09-28T19:11:03.458Z"
   },
   {
    "duration": 2,
    "start_time": "2022-09-28T19:11:07.042Z"
   },
   {
    "duration": 3,
    "start_time": "2022-09-28T19:11:10.770Z"
   },
   {
    "duration": 765,
    "start_time": "2022-09-29T09:53:28.077Z"
   },
   {
    "duration": 25,
    "start_time": "2022-09-29T09:53:31.142Z"
   },
   {
    "duration": 27,
    "start_time": "2022-09-29T09:53:45.587Z"
   },
   {
    "duration": 12,
    "start_time": "2022-09-29T09:53:48.892Z"
   },
   {
    "duration": 39,
    "start_time": "2022-09-29T09:53:50.365Z"
   },
   {
    "duration": 4,
    "start_time": "2022-09-29T09:53:52.669Z"
   },
   {
    "duration": 8,
    "start_time": "2022-09-29T09:53:53.950Z"
   },
   {
    "duration": 5,
    "start_time": "2022-09-29T09:53:56.180Z"
   },
   {
    "duration": 8,
    "start_time": "2022-09-29T09:53:57.844Z"
   },
   {
    "duration": 5,
    "start_time": "2022-09-29T09:53:58.885Z"
   },
   {
    "duration": 48,
    "start_time": "2022-09-29T09:54:00.237Z"
   },
   {
    "duration": 14,
    "start_time": "2022-09-29T09:54:01.122Z"
   },
   {
    "duration": 4,
    "start_time": "2022-09-29T09:54:05.940Z"
   },
   {
    "duration": 12,
    "start_time": "2022-09-29T09:54:08.212Z"
   },
   {
    "duration": 22,
    "start_time": "2022-09-29T09:54:09.588Z"
   },
   {
    "duration": 20,
    "start_time": "2022-09-29T09:54:10.156Z"
   },
   {
    "duration": 3,
    "start_time": "2022-09-29T09:54:11.980Z"
   },
   {
    "duration": 11,
    "start_time": "2022-09-29T09:54:12.589Z"
   },
   {
    "duration": 9,
    "start_time": "2022-09-29T09:54:13.900Z"
   },
   {
    "duration": 5,
    "start_time": "2022-09-29T09:54:15.788Z"
   },
   {
    "duration": 12,
    "start_time": "2022-09-29T09:54:16.652Z"
   },
   {
    "duration": 1030,
    "start_time": "2022-09-29T09:54:24.883Z"
   },
   {
    "duration": 21,
    "start_time": "2022-09-29T09:54:26.709Z"
   },
   {
    "duration": 17,
    "start_time": "2022-09-29T09:56:32.442Z"
   },
   {
    "duration": 115,
    "start_time": "2022-09-29T10:15:44.615Z"
   },
   {
    "duration": 16,
    "start_time": "2022-09-29T10:17:30.695Z"
   },
   {
    "duration": 13,
    "start_time": "2022-09-29T10:17:56.289Z"
   },
   {
    "duration": 14,
    "start_time": "2022-09-29T10:18:15.192Z"
   },
   {
    "duration": 18,
    "start_time": "2022-09-29T10:22:30.381Z"
   },
   {
    "duration": 15,
    "start_time": "2022-09-29T12:13:05.110Z"
   },
   {
    "duration": 14,
    "start_time": "2022-09-29T12:13:24.444Z"
   },
   {
    "duration": 14,
    "start_time": "2022-09-29T12:18:58.050Z"
   },
   {
    "duration": 14,
    "start_time": "2022-09-29T12:19:38.318Z"
   },
   {
    "duration": 20,
    "start_time": "2022-09-29T12:34:19.638Z"
   },
   {
    "duration": 61,
    "start_time": "2022-09-29T12:44:16.667Z"
   },
   {
    "duration": 11,
    "start_time": "2022-09-29T12:44:34.147Z"
   },
   {
    "duration": 15,
    "start_time": "2022-09-29T12:45:10.104Z"
   },
   {
    "duration": 17,
    "start_time": "2022-09-29T12:47:30.523Z"
   },
   {
    "duration": 7,
    "start_time": "2022-09-29T12:48:24.320Z"
   },
   {
    "duration": 11,
    "start_time": "2022-09-29T12:48:29.817Z"
   },
   {
    "duration": 4,
    "start_time": "2022-09-29T12:51:46.843Z"
   },
   {
    "duration": 3,
    "start_time": "2022-09-29T12:52:02.763Z"
   },
   {
    "duration": 15,
    "start_time": "2022-09-29T12:54:12.169Z"
   },
   {
    "duration": 149,
    "start_time": "2022-09-29T12:54:34.749Z"
   },
   {
    "duration": 138,
    "start_time": "2022-09-29T12:55:13.562Z"
   },
   {
    "duration": 5,
    "start_time": "2022-09-29T18:33:16.275Z"
   },
   {
    "duration": 17,
    "start_time": "2022-09-29T18:33:18.008Z"
   },
   {
    "duration": 144,
    "start_time": "2022-09-29T18:34:10.316Z"
   },
   {
    "duration": 117,
    "start_time": "2022-09-29T18:34:56.001Z"
   },
   {
    "duration": 146,
    "start_time": "2022-09-29T18:37:11.685Z"
   },
   {
    "duration": 8,
    "start_time": "2022-09-29T19:04:24.215Z"
   },
   {
    "duration": 8,
    "start_time": "2022-09-29T19:07:36.074Z"
   },
   {
    "duration": 13,
    "start_time": "2022-09-29T19:07:38.656Z"
   },
   {
    "duration": 12,
    "start_time": "2022-09-29T19:10:46.018Z"
   },
   {
    "duration": 11,
    "start_time": "2022-09-29T19:10:49.908Z"
   },
   {
    "duration": 10,
    "start_time": "2022-09-29T19:13:13.399Z"
   },
   {
    "duration": 11,
    "start_time": "2022-09-29T19:13:27.839Z"
   },
   {
    "duration": 5,
    "start_time": "2022-09-29T19:28:33.207Z"
   },
   {
    "duration": 6,
    "start_time": "2022-09-29T19:28:39.730Z"
   },
   {
    "duration": 6,
    "start_time": "2022-09-29T19:29:11.531Z"
   },
   {
    "duration": 6,
    "start_time": "2022-09-29T19:31:01.586Z"
   },
   {
    "duration": 17,
    "start_time": "2022-09-29T19:31:09.249Z"
   },
   {
    "duration": 11,
    "start_time": "2022-09-29T19:31:52.371Z"
   },
   {
    "duration": 12,
    "start_time": "2022-09-29T19:33:04.791Z"
   },
   {
    "duration": 14,
    "start_time": "2022-09-29T19:34:33.072Z"
   },
   {
    "duration": 10,
    "start_time": "2022-09-29T19:34:52.537Z"
   },
   {
    "duration": 156,
    "start_time": "2022-09-29T19:35:30.856Z"
   },
   {
    "duration": 222,
    "start_time": "2022-09-29T19:37:01.720Z"
   },
   {
    "duration": 133,
    "start_time": "2022-09-29T19:59:27.489Z"
   },
   {
    "duration": 144,
    "start_time": "2022-09-29T19:59:41.761Z"
   },
   {
    "duration": 134,
    "start_time": "2022-09-29T20:00:46.634Z"
   },
   {
    "duration": 134,
    "start_time": "2022-09-29T20:02:05.365Z"
   },
   {
    "duration": 9,
    "start_time": "2022-09-29T20:09:36.245Z"
   },
   {
    "duration": 9,
    "start_time": "2022-09-29T20:10:20.938Z"
   },
   {
    "duration": 6,
    "start_time": "2022-09-29T20:12:50.081Z"
   },
   {
    "duration": 5,
    "start_time": "2022-09-29T20:13:05.051Z"
   },
   {
    "duration": 5,
    "start_time": "2022-09-29T20:13:14.633Z"
   },
   {
    "duration": 51,
    "start_time": "2022-09-29T20:17:30.329Z"
   },
   {
    "duration": 19,
    "start_time": "2022-09-29T20:18:06.659Z"
   },
   {
    "duration": 6,
    "start_time": "2022-09-29T20:19:01.397Z"
   },
   {
    "duration": 5,
    "start_time": "2022-09-29T20:19:15.701Z"
   },
   {
    "duration": 5,
    "start_time": "2022-09-29T20:19:20.797Z"
   },
   {
    "duration": 5,
    "start_time": "2022-09-29T20:19:38.924Z"
   },
   {
    "duration": 5,
    "start_time": "2022-09-29T20:20:05.662Z"
   },
   {
    "duration": 5,
    "start_time": "2022-09-29T20:20:40.515Z"
   },
   {
    "duration": 8,
    "start_time": "2022-09-29T20:22:05.204Z"
   },
   {
    "duration": 6,
    "start_time": "2022-09-29T20:22:06.742Z"
   },
   {
    "duration": 16,
    "start_time": "2022-09-29T20:22:16.325Z"
   },
   {
    "duration": 12,
    "start_time": "2022-09-29T20:22:37.952Z"
   },
   {
    "duration": 13,
    "start_time": "2022-09-29T20:25:04.734Z"
   },
   {
    "duration": 132,
    "start_time": "2022-09-29T20:28:16.936Z"
   },
   {
    "duration": 124,
    "start_time": "2022-09-29T20:28:51.115Z"
   },
   {
    "duration": 138,
    "start_time": "2022-09-29T20:29:28.650Z"
   },
   {
    "duration": 108,
    "start_time": "2022-09-29T20:31:07.747Z"
   },
   {
    "duration": 8,
    "start_time": "2022-09-29T20:36:33.821Z"
   },
   {
    "duration": 6,
    "start_time": "2022-09-29T20:38:14.657Z"
   },
   {
    "duration": 8,
    "start_time": "2022-09-29T20:38:25.656Z"
   },
   {
    "duration": 5,
    "start_time": "2022-09-29T20:38:34.797Z"
   },
   {
    "duration": 8,
    "start_time": "2022-09-29T20:39:01.164Z"
   },
   {
    "duration": 6,
    "start_time": "2022-09-29T20:39:03.501Z"
   },
   {
    "duration": 17,
    "start_time": "2022-09-29T20:42:31.468Z"
   },
   {
    "duration": 121,
    "start_time": "2022-09-29T20:45:16.770Z"
   },
   {
    "duration": 131,
    "start_time": "2022-09-29T20:48:25.860Z"
   },
   {
    "duration": 119,
    "start_time": "2022-09-29T20:48:34.381Z"
   },
   {
    "duration": 8,
    "start_time": "2022-09-29T20:52:43.034Z"
   },
   {
    "duration": 141,
    "start_time": "2022-09-29T20:53:45.956Z"
   },
   {
    "duration": 210,
    "start_time": "2022-09-29T20:58:38.062Z"
   },
   {
    "duration": 127,
    "start_time": "2022-09-29T20:58:48.942Z"
   },
   {
    "duration": 124,
    "start_time": "2022-09-29T20:58:55.909Z"
   },
   {
    "duration": 5,
    "start_time": "2022-09-29T21:03:11.096Z"
   },
   {
    "duration": 13,
    "start_time": "2022-09-29T21:34:32.507Z"
   },
   {
    "duration": 16,
    "start_time": "2022-09-29T21:38:29.649Z"
   },
   {
    "duration": 18,
    "start_time": "2022-09-29T21:38:47.638Z"
   },
   {
    "duration": 140,
    "start_time": "2022-09-29T21:39:20.856Z"
   },
   {
    "duration": 3,
    "start_time": "2022-09-29T22:03:12.528Z"
   },
   {
    "duration": 3,
    "start_time": "2022-09-29T22:04:48.491Z"
   },
   {
    "duration": 4,
    "start_time": "2022-09-29T22:22:36.027Z"
   },
   {
    "duration": 10,
    "start_time": "2022-09-29T22:23:37.648Z"
   },
   {
    "duration": 4,
    "start_time": "2022-09-29T22:23:47.012Z"
   },
   {
    "duration": 18,
    "start_time": "2022-09-29T22:23:48.477Z"
   },
   {
    "duration": 10,
    "start_time": "2022-09-29T22:31:29.043Z"
   },
   {
    "duration": 5,
    "start_time": "2022-09-29T22:32:56.983Z"
   },
   {
    "duration": 8,
    "start_time": "2022-09-29T22:33:17.762Z"
   },
   {
    "duration": 5,
    "start_time": "2022-09-29T22:33:19.225Z"
   },
   {
    "duration": 15,
    "start_time": "2022-09-29T22:34:03.547Z"
   },
   {
    "duration": 14,
    "start_time": "2022-09-29T22:35:07.493Z"
   },
   {
    "duration": 11,
    "start_time": "2022-09-29T22:35:37.216Z"
   },
   {
    "duration": 5,
    "start_time": "2022-09-29T22:38:32.036Z"
   },
   {
    "duration": 14,
    "start_time": "2022-09-29T22:41:06.544Z"
   },
   {
    "duration": 118,
    "start_time": "2022-09-29T22:42:11.322Z"
   },
   {
    "duration": 113,
    "start_time": "2022-09-29T22:46:37.777Z"
   },
   {
    "duration": 103,
    "start_time": "2022-09-29T22:47:38.140Z"
   },
   {
    "duration": 111,
    "start_time": "2022-09-29T22:51:30.164Z"
   },
   {
    "duration": 8,
    "start_time": "2022-09-29T22:59:35.610Z"
   },
   {
    "duration": 8,
    "start_time": "2022-09-29T23:00:45.304Z"
   },
   {
    "duration": 6,
    "start_time": "2022-09-29T23:00:46.695Z"
   },
   {
    "duration": 8,
    "start_time": "2022-09-29T23:00:58.176Z"
   },
   {
    "duration": 6,
    "start_time": "2022-09-29T23:01:08.076Z"
   },
   {
    "duration": 4,
    "start_time": "2022-09-29T23:01:30.384Z"
   },
   {
    "duration": 7,
    "start_time": "2022-09-29T23:02:30.277Z"
   },
   {
    "duration": 4,
    "start_time": "2022-09-29T23:04:13.440Z"
   },
   {
    "duration": 3,
    "start_time": "2022-09-29T23:04:17.184Z"
   },
   {
    "duration": 7,
    "start_time": "2022-09-29T23:04:36.477Z"
   },
   {
    "duration": 6,
    "start_time": "2022-09-29T23:04:38.433Z"
   },
   {
    "duration": 8,
    "start_time": "2022-09-29T23:05:03.535Z"
   },
   {
    "duration": 6,
    "start_time": "2022-09-29T23:05:07.647Z"
   },
   {
    "duration": 18,
    "start_time": "2022-09-29T23:05:26.005Z"
   },
   {
    "duration": 8,
    "start_time": "2022-09-29T23:05:43.701Z"
   },
   {
    "duration": 6,
    "start_time": "2022-09-29T23:05:47.188Z"
   },
   {
    "duration": 7,
    "start_time": "2022-09-29T23:05:57.167Z"
   },
   {
    "duration": 6,
    "start_time": "2022-09-29T23:05:59.603Z"
   },
   {
    "duration": 4,
    "start_time": "2022-09-29T23:06:03.840Z"
   },
   {
    "duration": 6,
    "start_time": "2022-09-29T23:06:19.150Z"
   },
   {
    "duration": 14,
    "start_time": "2022-09-29T23:10:35.189Z"
   },
   {
    "duration": 13,
    "start_time": "2022-09-29T23:12:13.084Z"
   },
   {
    "duration": 156,
    "start_time": "2022-09-29T23:20:51.492Z"
   },
   {
    "duration": 124,
    "start_time": "2022-09-29T23:22:05.993Z"
   },
   {
    "duration": 117,
    "start_time": "2022-09-29T23:23:44.810Z"
   },
   {
    "duration": 6,
    "start_time": "2022-09-29T23:44:02.470Z"
   },
   {
    "duration": 11,
    "start_time": "2022-09-29T23:47:40.496Z"
   },
   {
    "duration": 6,
    "start_time": "2022-09-29T23:48:59.483Z"
   },
   {
    "duration": 8,
    "start_time": "2022-09-29T23:49:36.869Z"
   },
   {
    "duration": 6,
    "start_time": "2022-09-29T23:49:39.002Z"
   },
   {
    "duration": 11,
    "start_time": "2022-09-29T23:49:48.330Z"
   },
   {
    "duration": 633,
    "start_time": "2022-09-29T23:55:12.180Z"
   },
   {
    "duration": 13,
    "start_time": "2022-09-29T23:55:42.116Z"
   },
   {
    "duration": 7,
    "start_time": "2022-09-29T23:58:17.587Z"
   },
   {
    "duration": 15,
    "start_time": "2022-09-29T23:59:35.229Z"
   },
   {
    "duration": 14,
    "start_time": "2022-09-30T00:00:25.691Z"
   },
   {
    "duration": 124,
    "start_time": "2022-09-30T00:00:47.973Z"
   },
   {
    "duration": 141,
    "start_time": "2022-09-30T00:01:23.851Z"
   },
   {
    "duration": 16,
    "start_time": "2022-09-30T00:02:06.950Z"
   },
   {
    "duration": 137,
    "start_time": "2022-09-30T00:02:49.909Z"
   },
   {
    "duration": 245,
    "start_time": "2022-09-30T00:03:10.633Z"
   },
   {
    "duration": 139,
    "start_time": "2022-09-30T00:04:07.643Z"
   },
   {
    "duration": 142,
    "start_time": "2022-09-30T00:04:28.460Z"
   },
   {
    "duration": 3,
    "start_time": "2022-09-30T00:08:50.020Z"
   },
   {
    "duration": 135,
    "start_time": "2022-09-30T00:09:22.510Z"
   },
   {
    "duration": 130,
    "start_time": "2022-09-30T00:09:49.225Z"
   },
   {
    "duration": 121,
    "start_time": "2022-09-30T00:10:34.998Z"
   },
   {
    "duration": 129,
    "start_time": "2022-09-30T00:11:33.326Z"
   },
   {
    "duration": 9,
    "start_time": "2022-09-30T00:18:04.644Z"
   },
   {
    "duration": 5,
    "start_time": "2022-09-30T00:19:17.714Z"
   },
   {
    "duration": 14,
    "start_time": "2022-09-30T00:24:43.283Z"
   },
   {
    "duration": 15,
    "start_time": "2022-09-30T00:26:08.250Z"
   },
   {
    "duration": 162,
    "start_time": "2022-09-30T00:31:11.844Z"
   },
   {
    "duration": 147,
    "start_time": "2022-09-30T00:32:14.874Z"
   },
   {
    "duration": 147,
    "start_time": "2022-09-30T00:32:47.266Z"
   },
   {
    "duration": 867,
    "start_time": "2022-09-30T07:54:32.705Z"
   },
   {
    "duration": 51,
    "start_time": "2022-09-30T07:54:33.575Z"
   },
   {
    "duration": 15,
    "start_time": "2022-09-30T07:54:34.124Z"
   },
   {
    "duration": 24,
    "start_time": "2022-09-30T07:54:36.104Z"
   },
   {
    "duration": 39,
    "start_time": "2022-09-30T07:54:36.729Z"
   },
   {
    "duration": 4,
    "start_time": "2022-09-30T07:54:37.767Z"
   },
   {
    "duration": 20,
    "start_time": "2022-09-30T07:54:38.279Z"
   },
   {
    "duration": 7,
    "start_time": "2022-09-30T07:54:39.017Z"
   },
   {
    "duration": 10,
    "start_time": "2022-09-30T07:54:39.502Z"
   },
   {
    "duration": 4,
    "start_time": "2022-09-30T07:54:39.927Z"
   },
   {
    "duration": 65,
    "start_time": "2022-09-30T07:54:40.545Z"
   },
   {
    "duration": 13,
    "start_time": "2022-09-30T07:54:40.942Z"
   },
   {
    "duration": 10,
    "start_time": "2022-09-30T07:54:41.535Z"
   },
   {
    "duration": 11,
    "start_time": "2022-09-30T07:54:42.262Z"
   },
   {
    "duration": 26,
    "start_time": "2022-09-30T07:54:42.742Z"
   },
   {
    "duration": 24,
    "start_time": "2022-09-30T07:54:43.231Z"
   },
   {
    "duration": 4,
    "start_time": "2022-09-30T07:54:43.943Z"
   },
   {
    "duration": 21,
    "start_time": "2022-09-30T07:54:44.200Z"
   },
   {
    "duration": 12,
    "start_time": "2022-09-30T07:54:44.712Z"
   },
   {
    "duration": 16,
    "start_time": "2022-09-30T07:54:45.214Z"
   },
   {
    "duration": 13,
    "start_time": "2022-09-30T07:54:45.441Z"
   },
   {
    "duration": 3,
    "start_time": "2022-09-30T07:54:46.158Z"
   },
   {
    "duration": 16,
    "start_time": "2022-09-30T07:54:46.405Z"
   },
   {
    "duration": 1084,
    "start_time": "2022-09-30T07:54:46.872Z"
   },
   {
    "duration": 20,
    "start_time": "2022-09-30T07:54:47.957Z"
   },
   {
    "duration": 9,
    "start_time": "2022-09-30T07:54:48.112Z"
   },
   {
    "duration": 11,
    "start_time": "2022-09-30T07:54:48.306Z"
   },
   {
    "duration": 14,
    "start_time": "2022-09-30T07:54:48.514Z"
   },
   {
    "duration": 139,
    "start_time": "2022-09-30T07:54:49.010Z"
   },
   {
    "duration": 127,
    "start_time": "2022-09-30T07:54:49.504Z"
   },
   {
    "duration": 134,
    "start_time": "2022-09-30T07:54:49.911Z"
   },
   {
    "duration": 7,
    "start_time": "2022-09-30T07:54:50.838Z"
   },
   {
    "duration": 19,
    "start_time": "2022-09-30T07:54:51.106Z"
   },
   {
    "duration": 156,
    "start_time": "2022-09-30T07:54:51.819Z"
   },
   {
    "duration": 149,
    "start_time": "2022-09-30T07:54:52.247Z"
   },
   {
    "duration": 138,
    "start_time": "2022-09-30T07:54:52.759Z"
   },
   {
    "duration": 7,
    "start_time": "2022-09-30T07:54:53.559Z"
   },
   {
    "duration": 10,
    "start_time": "2022-09-30T07:54:53.811Z"
   },
   {
    "duration": 24,
    "start_time": "2022-09-30T07:54:54.071Z"
   },
   {
    "duration": 179,
    "start_time": "2022-09-30T07:54:54.561Z"
   },
   {
    "duration": 228,
    "start_time": "2022-09-30T07:54:55.043Z"
   },
   {
    "duration": 162,
    "start_time": "2022-09-30T07:54:55.568Z"
   },
   {
    "duration": 11,
    "start_time": "2022-09-30T07:54:56.367Z"
   },
   {
    "duration": 12,
    "start_time": "2022-09-30T07:54:56.855Z"
   },
   {
    "duration": 166,
    "start_time": "2022-09-30T07:54:57.327Z"
   },
   {
    "duration": 185,
    "start_time": "2022-09-30T07:54:57.871Z"
   },
   {
    "duration": 185,
    "start_time": "2022-09-30T07:54:58.366Z"
   },
   {
    "duration": 7,
    "start_time": "2022-09-30T07:54:59.119Z"
   },
   {
    "duration": 10,
    "start_time": "2022-09-30T07:54:59.359Z"
   },
   {
    "duration": 146,
    "start_time": "2022-09-30T07:54:59.606Z"
   },
   {
    "duration": 135,
    "start_time": "2022-09-30T07:55:00.108Z"
   },
   {
    "duration": 135,
    "start_time": "2022-09-30T07:55:00.631Z"
   },
   {
    "duration": 14,
    "start_time": "2022-09-30T07:55:02.007Z"
   },
   {
    "duration": 4,
    "start_time": "2022-09-30T07:55:02.231Z"
   },
   {
    "duration": 5,
    "start_time": "2022-09-30T07:55:02.489Z"
   },
   {
    "duration": 11,
    "start_time": "2022-09-30T07:55:02.751Z"
   },
   {
    "duration": 156,
    "start_time": "2022-09-30T07:55:03.255Z"
   },
   {
    "duration": 213,
    "start_time": "2022-09-30T07:55:05.202Z"
   },
   {
    "duration": 142,
    "start_time": "2022-09-30T07:55:06.116Z"
   },
   {
    "duration": 14,
    "start_time": "2022-09-30T07:55:08.408Z"
   },
   {
    "duration": 5,
    "start_time": "2022-09-30T07:55:09.046Z"
   },
   {
    "duration": 14,
    "start_time": "2022-09-30T07:55:09.655Z"
   },
   {
    "duration": 237,
    "start_time": "2022-09-30T07:55:10.327Z"
   },
   {
    "duration": 174,
    "start_time": "2022-09-30T07:55:10.959Z"
   },
   {
    "duration": 138,
    "start_time": "2022-09-30T07:55:11.823Z"
   },
   {
    "duration": 9,
    "start_time": "2022-09-30T07:55:14.216Z"
   },
   {
    "duration": 5,
    "start_time": "2022-09-30T07:55:14.536Z"
   },
   {
    "duration": 19,
    "start_time": "2022-09-30T07:55:15.403Z"
   },
   {
    "duration": 134,
    "start_time": "2022-09-30T07:55:16.134Z"
   },
   {
    "duration": 133,
    "start_time": "2022-09-30T07:55:16.628Z"
   },
   {
    "duration": 129,
    "start_time": "2022-09-30T07:55:17.160Z"
   },
   {
    "duration": 4,
    "start_time": "2022-09-30T08:45:21.308Z"
   },
   {
    "duration": 5,
    "start_time": "2022-09-30T08:45:34.138Z"
   },
   {
    "duration": 8,
    "start_time": "2022-09-30T08:45:45.806Z"
   },
   {
    "duration": 10,
    "start_time": "2022-09-30T08:45:47.777Z"
   },
   {
    "duration": 146,
    "start_time": "2022-09-30T08:47:47.038Z"
   },
   {
    "duration": 14,
    "start_time": "2022-09-30T08:47:59.905Z"
   },
   {
    "duration": 4,
    "start_time": "2022-09-30T08:48:05.017Z"
   },
   {
    "duration": 6,
    "start_time": "2022-09-30T08:48:19.404Z"
   },
   {
    "duration": 101,
    "start_time": "2022-09-30T08:51:42.137Z"
   },
   {
    "duration": 100,
    "start_time": "2022-09-30T08:52:52.164Z"
   },
   {
    "duration": 8,
    "start_time": "2022-09-30T09:26:34.358Z"
   },
   {
    "duration": 5,
    "start_time": "2022-09-30T09:26:36.457Z"
   },
   {
    "duration": 12,
    "start_time": "2022-09-30T09:26:40.354Z"
   },
   {
    "duration": 174,
    "start_time": "2022-09-30T09:26:47.496Z"
   },
   {
    "duration": 126,
    "start_time": "2022-09-30T11:44:31.340Z"
   },
   {
    "duration": 128,
    "start_time": "2022-09-30T11:46:03.855Z"
   },
   {
    "duration": 106,
    "start_time": "2022-09-30T11:47:08.433Z"
   },
   {
    "duration": 36,
    "start_time": "2022-09-30T12:14:47.568Z"
   },
   {
    "duration": 96,
    "start_time": "2022-09-30T20:17:05.394Z"
   },
   {
    "duration": 81,
    "start_time": "2022-09-30T20:17:12.533Z"
   },
   {
    "duration": 96,
    "start_time": "2022-09-30T20:17:19.016Z"
   },
   {
    "duration": 71,
    "start_time": "2022-09-30T20:17:37.534Z"
   },
   {
    "duration": 91,
    "start_time": "2022-09-30T20:18:25.241Z"
   }
  ],
  "colab": {
   "name": "dpp_template_part2.ipynb",
   "provenance": []
  },
  "kernelspec": {
   "display_name": "Python 3 (ipykernel)",
   "language": "python",
   "name": "python3"
  },
  "language_info": {
   "codemirror_mode": {
    "name": "ipython",
    "version": 3
   },
   "file_extension": ".py",
   "mimetype": "text/x-python",
   "name": "python",
   "nbconvert_exporter": "python",
   "pygments_lexer": "ipython3",
   "version": "3.9.12"
  },
  "toc": {
   "base_numbering": 1,
   "nav_menu": {},
   "number_sections": true,
   "sideBar": true,
   "skip_h1_title": true,
   "title_cell": "Table of Contents",
   "title_sidebar": "Contents",
   "toc_cell": false,
   "toc_position": {
    "height": "calc(100% - 180px)",
    "left": "10px",
    "top": "150px",
    "width": "506.594px"
   },
   "toc_section_display": true,
   "toc_window_display": true
  }
 },
 "nbformat": 4,
 "nbformat_minor": 5
}
