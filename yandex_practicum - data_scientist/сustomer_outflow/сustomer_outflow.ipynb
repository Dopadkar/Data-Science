{
 "cells": [
  {
   "cell_type": "markdown",
   "metadata": {},
   "source": [
    "# Отток клиентов"
   ]
  },
  {
   "cell_type": "markdown",
   "metadata": {},
   "source": [
    "Из «Бета-Банка» стали уходить клиенты. Каждый месяц. Немного, но заметно. Банковские маркетологи посчитали: сохранять текущих клиентов дешевле, чем привлекать новых.\n",
    "\n",
    "Нужно спрогнозировать, уйдёт клиент из банка в ближайшее время или нет. Вам предоставлены исторические данные о поведении клиентов и расторжении договоров с банком. \n",
    "\n",
    "Постройте модель с предельно большим значением *F1*-меры. Чтобы сдать проект успешно, нужно довести метрику до 0.59. Проверьте *F1*-меру на тестовой выборке самостоятельно.\n",
    "\n",
    "Дополнительно измеряйте *AUC-ROC*, сравнивайте её значение с *F1*-мерой.\n",
    "\n",
    "Источник данных: [https://www.kaggle.com/barelydedicated/bank-customer-churn-modeling](https://www.kaggle.com/barelydedicated/bank-customer-churn-modeling)"
   ]
  },
  {
   "cell_type": "markdown",
   "metadata": {
    "toc": true
   },
   "source": [
    "<h1>Содержание<span class=\"tocSkip\"></span></h1>\n",
    "<div class=\"toc\"><ul class=\"toc-item\"><li><span><a href=\"#Подготовка-данных\" data-toc-modified-id=\"Подготовка-данных-1\"><span class=\"toc-item-num\">1&nbsp;&nbsp;</span>Подготовка данных</a></span><ul class=\"toc-item\"><li><span><a href=\"#Кодирование\" data-toc-modified-id=\"Кодирование-1.1\"><span class=\"toc-item-num\">1.1&nbsp;&nbsp;</span>Кодирование</a></span></li><li><span><a href=\"#Разделение-выборки-на-три-части\" data-toc-modified-id=\"Разделение-выборки-на-три-части-1.2\"><span class=\"toc-item-num\">1.2&nbsp;&nbsp;</span>Разделение выборки на три части</a></span></li><li><span><a href=\"#Масштабирование\" data-toc-modified-id=\"Масштабирование-1.3\"><span class=\"toc-item-num\">1.3&nbsp;&nbsp;</span>Масштабирование</a></span></li><li><span><a href=\"#Разделение-выборки-на-обучающие-признаки-и-целевой\" data-toc-modified-id=\"Разделение-выборки-на-обучающие-признаки-и-целевой-1.4\"><span class=\"toc-item-num\">1.4&nbsp;&nbsp;</span>Разделение выборки на обучающие признаки и целевой</a></span></li><li><span><a href=\"#Выводы\" data-toc-modified-id=\"Выводы-1.5\"><span class=\"toc-item-num\">1.5&nbsp;&nbsp;</span>Выводы</a></span></li></ul></li><li><span><a href=\"#Исследование-задачи\" data-toc-modified-id=\"Исследование-задачи-2\"><span class=\"toc-item-num\">2&nbsp;&nbsp;</span>Исследование задачи</a></span><ul class=\"toc-item\"><li><span><a href=\"#Логистическая-регрессия\" data-toc-modified-id=\"Логистическая-регрессия-2.1\"><span class=\"toc-item-num\">2.1&nbsp;&nbsp;</span>Логистическая регрессия</a></span><ul class=\"toc-item\"><li><ul class=\"toc-item\"><li><span><a href=\"#Метрики\" data-toc-modified-id=\"Метрики-2.1.0.1\"><span class=\"toc-item-num\">2.1.0.1&nbsp;&nbsp;</span>Метрики</a></span></li><li><span><a href=\"#ROC-кривая\" data-toc-modified-id=\"ROC-кривая-2.1.0.2\"><span class=\"toc-item-num\">2.1.0.2&nbsp;&nbsp;</span>ROC-кривая</a></span></li><li><span><a href=\"#AUC-ROC\" data-toc-modified-id=\"AUC-ROC-2.1.0.3\"><span class=\"toc-item-num\">2.1.0.3&nbsp;&nbsp;</span>AUC-ROC</a></span></li></ul></li><li><span><a href=\"#Решающие-деревья\" data-toc-modified-id=\"Решающие-деревья-2.1.1\"><span class=\"toc-item-num\">2.1.1&nbsp;&nbsp;</span>Решающие деревья</a></span></li><li><span><a href=\"#Метрики\" data-toc-modified-id=\"Метрики-2.1.2\"><span class=\"toc-item-num\">2.1.2&nbsp;&nbsp;</span>Метрики</a></span></li><li><span><a href=\"#ROC-кривая\" data-toc-modified-id=\"ROC-кривая-2.1.3\"><span class=\"toc-item-num\">2.1.3&nbsp;&nbsp;</span>ROC-кривая</a></span></li><li><span><a href=\"#AUC-ROC\" data-toc-modified-id=\"AUC-ROC-2.1.4\"><span class=\"toc-item-num\">2.1.4&nbsp;&nbsp;</span>AUC-ROC</a></span></li></ul></li><li><span><a href=\"#Случайный-лес\" data-toc-modified-id=\"Случайный-лес-2.2\"><span class=\"toc-item-num\">2.2&nbsp;&nbsp;</span>Случайный лес</a></span><ul class=\"toc-item\"><li><span><a href=\"#Метрики\" data-toc-modified-id=\"Метрики-2.2.1\"><span class=\"toc-item-num\">2.2.1&nbsp;&nbsp;</span>Метрики</a></span></li><li><span><a href=\"#ROC-кривая\" data-toc-modified-id=\"ROC-кривая-2.2.2\"><span class=\"toc-item-num\">2.2.2&nbsp;&nbsp;</span>ROC-кривая</a></span></li><li><span><a href=\"#AUC-ROC\" data-toc-modified-id=\"AUC-ROC-2.2.3\"><span class=\"toc-item-num\">2.2.3&nbsp;&nbsp;</span>AUC-ROC</a></span></li></ul></li></ul></li><li><span><a href=\"#Борьба-с-дисбалансом\" data-toc-modified-id=\"Борьба-с-дисбалансом-3\"><span class=\"toc-item-num\">3&nbsp;&nbsp;</span>Борьба с дисбалансом</a></span><ul class=\"toc-item\"><li><span><a href=\"#Уменьшение-выборки\" data-toc-modified-id=\"Уменьшение-выборки-3.1\"><span class=\"toc-item-num\">3.1&nbsp;&nbsp;</span>Уменьшение выборки</a></span></li><li><span><a href=\"#Увеличение-выборки\" data-toc-modified-id=\"Увеличение-выборки-3.2\"><span class=\"toc-item-num\">3.2&nbsp;&nbsp;</span>Увеличение выборки</a></span></li><li><span><a href=\"#Выводы:\" data-toc-modified-id=\"Выводы:-3.3\"><span class=\"toc-item-num\">3.3&nbsp;&nbsp;</span>Выводы:</a></span></li></ul></li><li><span><a href=\"#Валидация-моделей-в-балансе\" data-toc-modified-id=\"Валидация-моделей-в-балансе-4\"><span class=\"toc-item-num\">4&nbsp;&nbsp;</span>Валидация моделей в балансе</a></span><ul class=\"toc-item\"><li><span><a href=\"#Способ-борьбы-с-дисбалансом---upsample\" data-toc-modified-id=\"Способ-борьбы-с-дисбалансом---upsample-4.1\"><span class=\"toc-item-num\">4.1&nbsp;&nbsp;</span>Способ борьбы с дисбалансом - upsample</a></span><ul class=\"toc-item\"><li><span><a href=\"#Логистическая-регрессия\" data-toc-modified-id=\"Логистическая-регрессия-4.1.1\"><span class=\"toc-item-num\">4.1.1&nbsp;&nbsp;</span>Логистическая регрессия</a></span><ul class=\"toc-item\"><li><span><a href=\"#Метрики\" data-toc-modified-id=\"Метрики-4.1.1.1\"><span class=\"toc-item-num\">4.1.1.1&nbsp;&nbsp;</span>Метрики</a></span></li><li><span><a href=\"#ROC-кривая\" data-toc-modified-id=\"ROC-кривая-4.1.1.2\"><span class=\"toc-item-num\">4.1.1.2&nbsp;&nbsp;</span>ROC-кривая</a></span></li><li><span><a href=\"#AUC-ROC\" data-toc-modified-id=\"AUC-ROC-4.1.1.3\"><span class=\"toc-item-num\">4.1.1.3&nbsp;&nbsp;</span>AUC-ROC</a></span></li></ul></li><li><span><a href=\"#Решающие-деревья\" data-toc-modified-id=\"Решающие-деревья-4.1.2\"><span class=\"toc-item-num\">4.1.2&nbsp;&nbsp;</span>Решающие деревья</a></span><ul class=\"toc-item\"><li><span><a href=\"#Метрики\" data-toc-modified-id=\"Метрики-4.1.2.1\"><span class=\"toc-item-num\">4.1.2.1&nbsp;&nbsp;</span>Метрики</a></span></li><li><span><a href=\"#ROC-кривая\" data-toc-modified-id=\"ROC-кривая-4.1.2.2\"><span class=\"toc-item-num\">4.1.2.2&nbsp;&nbsp;</span>ROC-кривая</a></span></li><li><span><a href=\"#AUC-ROC\" data-toc-modified-id=\"AUC-ROC-4.1.2.3\"><span class=\"toc-item-num\">4.1.2.3&nbsp;&nbsp;</span>AUC-ROC</a></span></li></ul></li><li><span><a href=\"#Случайный-лес\" data-toc-modified-id=\"Случайный-лес-4.1.3\"><span class=\"toc-item-num\">4.1.3&nbsp;&nbsp;</span>Случайный лес</a></span><ul class=\"toc-item\"><li><span><a href=\"#Метрики\" data-toc-modified-id=\"Метрики-4.1.3.1\"><span class=\"toc-item-num\">4.1.3.1&nbsp;&nbsp;</span>Метрики</a></span></li><li><span><a href=\"#ROC-кривая\" data-toc-modified-id=\"ROC-кривая-4.1.3.2\"><span class=\"toc-item-num\">4.1.3.2&nbsp;&nbsp;</span>ROC-кривая</a></span></li><li><span><a href=\"#AUC-ROC\" data-toc-modified-id=\"AUC-ROC-4.1.3.3\"><span class=\"toc-item-num\">4.1.3.3&nbsp;&nbsp;</span>AUC-ROC</a></span></li></ul></li></ul></li><li><span><a href=\"#Способ-борьбы-с-дисбалансом---downsample\" data-toc-modified-id=\"Способ-борьбы-с-дисбалансом---downsample-4.2\"><span class=\"toc-item-num\">4.2&nbsp;&nbsp;</span>Способ борьбы с дисбалансом - downsample</a></span><ul class=\"toc-item\"><li><span><a href=\"#Логистическая-регрессия\" data-toc-modified-id=\"Логистическая-регрессия-4.2.1\"><span class=\"toc-item-num\">4.2.1&nbsp;&nbsp;</span>Логистическая регрессия</a></span><ul class=\"toc-item\"><li><span><a href=\"#Метрики\" data-toc-modified-id=\"Метрики-4.2.1.1\"><span class=\"toc-item-num\">4.2.1.1&nbsp;&nbsp;</span>Метрики</a></span></li><li><span><a href=\"#ROC-кривая\" data-toc-modified-id=\"ROC-кривая-4.2.1.2\"><span class=\"toc-item-num\">4.2.1.2&nbsp;&nbsp;</span>ROC-кривая</a></span></li><li><span><a href=\"#AUC-ROC\" data-toc-modified-id=\"AUC-ROC-4.2.1.3\"><span class=\"toc-item-num\">4.2.1.3&nbsp;&nbsp;</span>AUC-ROC</a></span></li></ul></li><li><span><a href=\"#Решающие-деревья\" data-toc-modified-id=\"Решающие-деревья-4.2.2\"><span class=\"toc-item-num\">4.2.2&nbsp;&nbsp;</span>Решающие деревья</a></span><ul class=\"toc-item\"><li><span><a href=\"#Метрики\" data-toc-modified-id=\"Метрики-4.2.2.1\"><span class=\"toc-item-num\">4.2.2.1&nbsp;&nbsp;</span>Метрики</a></span></li><li><span><a href=\"#ROC-кривая\" data-toc-modified-id=\"ROC-кривая-4.2.2.2\"><span class=\"toc-item-num\">4.2.2.2&nbsp;&nbsp;</span>ROC-кривая</a></span></li><li><span><a href=\"#AUC-ROC\" data-toc-modified-id=\"AUC-ROC-4.2.2.3\"><span class=\"toc-item-num\">4.2.2.3&nbsp;&nbsp;</span>AUC-ROC</a></span></li></ul></li><li><span><a href=\"#Случайный-лес\" data-toc-modified-id=\"Случайный-лес-4.2.3\"><span class=\"toc-item-num\">4.2.3&nbsp;&nbsp;</span>Случайный лес</a></span><ul class=\"toc-item\"><li><span><a href=\"#Метрики\" data-toc-modified-id=\"Метрики-4.2.3.1\"><span class=\"toc-item-num\">4.2.3.1&nbsp;&nbsp;</span>Метрики</a></span></li><li><span><a href=\"#ROC-кривая\" data-toc-modified-id=\"ROC-кривая-4.2.3.2\"><span class=\"toc-item-num\">4.2.3.2&nbsp;&nbsp;</span>ROC-кривая</a></span></li><li><span><a href=\"#AUC-ROC\" data-toc-modified-id=\"AUC-ROC-4.2.3.3\"><span class=\"toc-item-num\">4.2.3.3&nbsp;&nbsp;</span>AUC-ROC</a></span></li></ul></li></ul></li><li><span><a href=\"#Выводы\" data-toc-modified-id=\"Выводы-4.3\"><span class=\"toc-item-num\">4.3&nbsp;&nbsp;</span>Выводы</a></span></li></ul></li><li><span><a href=\"#Тестирование-модели\" data-toc-modified-id=\"Тестирование-модели-5\"><span class=\"toc-item-num\">5&nbsp;&nbsp;</span>Тестирование модели</a></span><ul class=\"toc-item\"><li><ul class=\"toc-item\"><li><span><a href=\"#Метрики\" data-toc-modified-id=\"Метрики-5.0.1\"><span class=\"toc-item-num\">5.0.1&nbsp;&nbsp;</span>Метрики</a></span></li><li><span><a href=\"#ROC-кривая\" data-toc-modified-id=\"ROC-кривая-5.0.2\"><span class=\"toc-item-num\">5.0.2&nbsp;&nbsp;</span>ROC-кривая</a></span></li><li><span><a href=\"#AUC-ROC\" data-toc-modified-id=\"AUC-ROC-5.0.3\"><span class=\"toc-item-num\">5.0.3&nbsp;&nbsp;</span>AUC-ROC</a></span></li></ul></li><li><span><a href=\"#Выводы:\" data-toc-modified-id=\"Выводы:-5.1\"><span class=\"toc-item-num\">5.1&nbsp;&nbsp;</span>Выводы:</a></span></li></ul></li><li><span><a href=\"#Выводы\" data-toc-modified-id=\"Выводы-6\"><span class=\"toc-item-num\">6&nbsp;&nbsp;</span>Выводы</a></span></li><li><span><a href=\"#Чек-лист-готовности-проекта\" data-toc-modified-id=\"Чек-лист-готовности-проекта-7\"><span class=\"toc-item-num\">7&nbsp;&nbsp;</span>Чек-лист готовности проекта</a></span></li></ul></div>"
   ]
  },
  {
   "cell_type": "code",
   "execution_count": 2,
   "metadata": {},
   "outputs": [],
   "source": [
    "# импортируем библиотеки\n",
    "import pandas as pd\n",
    "import numpy as np\n",
    "from sklearn.preprocessing import OrdinalEncoder\n",
    "from sklearn.preprocessing import StandardScaler\n",
    "from sklearn.utils import shuffle\n",
    "# импортируем библиотеки визуализации\n",
    "import seaborn as sns\n",
    "import matplotlib.pyplot as plt\n",
    "%matplotlib inline\n",
    "# импортируем алгоритмы для машинного обучения\n",
    "from sklearn.tree import DecisionTreeClassifier\n",
    "from sklearn.ensemble import RandomForestClassifier\n",
    "from sklearn.linear_model import LogisticRegression\n",
    "from sklearn.linear_model import LinearRegression\n",
    "\n",
    "# импортируем модуль для выделения выборок\n",
    "from sklearn.model_selection import train_test_split\n",
    "# импортируем метрики качества\n",
    "from sklearn.metrics import accuracy_score\n",
    "from sklearn.metrics import precision_score\n",
    "from sklearn.metrics import recall_score\n",
    "from sklearn.metrics import f1_score\n",
    "from sklearn.metrics import roc_curve\n",
    "from sklearn.metrics import roc_auc_score"
   ]
  },
  {
   "cell_type": "markdown",
   "metadata": {},
   "source": [
    "## Подготовка данных"
   ]
  },
  {
   "cell_type": "code",
   "execution_count": 3,
   "metadata": {},
   "outputs": [],
   "source": [
    "try:\n",
    "    data = pd.read_csv('/datasets/Churn.csv')\n",
    "except:\n",
    "    data = pd.read_csv('https://code.s3.yandex.net/datasets/Churn.csv')"
   ]
  },
  {
   "cell_type": "code",
   "execution_count": 4,
   "metadata": {},
   "outputs": [
    {
     "data": {
      "text/html": [
       "<div>\n",
       "<style scoped>\n",
       "    .dataframe tbody tr th:only-of-type {\n",
       "        vertical-align: middle;\n",
       "    }\n",
       "\n",
       "    .dataframe tbody tr th {\n",
       "        vertical-align: top;\n",
       "    }\n",
       "\n",
       "    .dataframe thead th {\n",
       "        text-align: right;\n",
       "    }\n",
       "</style>\n",
       "<table border=\"1\" class=\"dataframe\">\n",
       "  <thead>\n",
       "    <tr style=\"text-align: right;\">\n",
       "      <th></th>\n",
       "      <th>RowNumber</th>\n",
       "      <th>CustomerId</th>\n",
       "      <th>Surname</th>\n",
       "      <th>CreditScore</th>\n",
       "      <th>Geography</th>\n",
       "      <th>Gender</th>\n",
       "      <th>Age</th>\n",
       "      <th>Tenure</th>\n",
       "      <th>Balance</th>\n",
       "      <th>NumOfProducts</th>\n",
       "      <th>HasCrCard</th>\n",
       "      <th>IsActiveMember</th>\n",
       "      <th>EstimatedSalary</th>\n",
       "      <th>Exited</th>\n",
       "    </tr>\n",
       "  </thead>\n",
       "  <tbody>\n",
       "    <tr>\n",
       "      <th>0</th>\n",
       "      <td>1</td>\n",
       "      <td>15634602</td>\n",
       "      <td>Hargrave</td>\n",
       "      <td>619</td>\n",
       "      <td>France</td>\n",
       "      <td>Female</td>\n",
       "      <td>42</td>\n",
       "      <td>2.0</td>\n",
       "      <td>0.00</td>\n",
       "      <td>1</td>\n",
       "      <td>1</td>\n",
       "      <td>1</td>\n",
       "      <td>101348.88</td>\n",
       "      <td>1</td>\n",
       "    </tr>\n",
       "    <tr>\n",
       "      <th>1</th>\n",
       "      <td>2</td>\n",
       "      <td>15647311</td>\n",
       "      <td>Hill</td>\n",
       "      <td>608</td>\n",
       "      <td>Spain</td>\n",
       "      <td>Female</td>\n",
       "      <td>41</td>\n",
       "      <td>1.0</td>\n",
       "      <td>83807.86</td>\n",
       "      <td>1</td>\n",
       "      <td>0</td>\n",
       "      <td>1</td>\n",
       "      <td>112542.58</td>\n",
       "      <td>0</td>\n",
       "    </tr>\n",
       "    <tr>\n",
       "      <th>2</th>\n",
       "      <td>3</td>\n",
       "      <td>15619304</td>\n",
       "      <td>Onio</td>\n",
       "      <td>502</td>\n",
       "      <td>France</td>\n",
       "      <td>Female</td>\n",
       "      <td>42</td>\n",
       "      <td>8.0</td>\n",
       "      <td>159660.80</td>\n",
       "      <td>3</td>\n",
       "      <td>1</td>\n",
       "      <td>0</td>\n",
       "      <td>113931.57</td>\n",
       "      <td>1</td>\n",
       "    </tr>\n",
       "    <tr>\n",
       "      <th>3</th>\n",
       "      <td>4</td>\n",
       "      <td>15701354</td>\n",
       "      <td>Boni</td>\n",
       "      <td>699</td>\n",
       "      <td>France</td>\n",
       "      <td>Female</td>\n",
       "      <td>39</td>\n",
       "      <td>1.0</td>\n",
       "      <td>0.00</td>\n",
       "      <td>2</td>\n",
       "      <td>0</td>\n",
       "      <td>0</td>\n",
       "      <td>93826.63</td>\n",
       "      <td>0</td>\n",
       "    </tr>\n",
       "    <tr>\n",
       "      <th>4</th>\n",
       "      <td>5</td>\n",
       "      <td>15737888</td>\n",
       "      <td>Mitchell</td>\n",
       "      <td>850</td>\n",
       "      <td>Spain</td>\n",
       "      <td>Female</td>\n",
       "      <td>43</td>\n",
       "      <td>2.0</td>\n",
       "      <td>125510.82</td>\n",
       "      <td>1</td>\n",
       "      <td>1</td>\n",
       "      <td>1</td>\n",
       "      <td>79084.10</td>\n",
       "      <td>0</td>\n",
       "    </tr>\n",
       "  </tbody>\n",
       "</table>\n",
       "</div>"
      ],
      "text/plain": [
       "   RowNumber  CustomerId   Surname  CreditScore Geography  Gender  Age  \\\n",
       "0          1    15634602  Hargrave          619    France  Female   42   \n",
       "1          2    15647311      Hill          608     Spain  Female   41   \n",
       "2          3    15619304      Onio          502    France  Female   42   \n",
       "3          4    15701354      Boni          699    France  Female   39   \n",
       "4          5    15737888  Mitchell          850     Spain  Female   43   \n",
       "\n",
       "   Tenure    Balance  NumOfProducts  HasCrCard  IsActiveMember  \\\n",
       "0     2.0       0.00              1          1               1   \n",
       "1     1.0   83807.86              1          0               1   \n",
       "2     8.0  159660.80              3          1               0   \n",
       "3     1.0       0.00              2          0               0   \n",
       "4     2.0  125510.82              1          1               1   \n",
       "\n",
       "   EstimatedSalary  Exited  \n",
       "0        101348.88       1  \n",
       "1        112542.58       0  \n",
       "2        113931.57       1  \n",
       "3         93826.63       0  \n",
       "4         79084.10       0  "
      ]
     },
     "execution_count": 4,
     "metadata": {},
     "output_type": "execute_result"
    }
   ],
   "source": [
    "data.head()"
   ]
  },
  {
   "cell_type": "code",
   "execution_count": 5,
   "metadata": {},
   "outputs": [
    {
     "name": "stdout",
     "output_type": "stream",
     "text": [
      "<class 'pandas.core.frame.DataFrame'>\n",
      "RangeIndex: 10000 entries, 0 to 9999\n",
      "Data columns (total 14 columns):\n",
      " #   Column           Non-Null Count  Dtype  \n",
      "---  ------           --------------  -----  \n",
      " 0   RowNumber        10000 non-null  int64  \n",
      " 1   CustomerId       10000 non-null  int64  \n",
      " 2   Surname          10000 non-null  object \n",
      " 3   CreditScore      10000 non-null  int64  \n",
      " 4   Geography        10000 non-null  object \n",
      " 5   Gender           10000 non-null  object \n",
      " 6   Age              10000 non-null  int64  \n",
      " 7   Tenure           9091 non-null   float64\n",
      " 8   Balance          10000 non-null  float64\n",
      " 9   NumOfProducts    10000 non-null  int64  \n",
      " 10  HasCrCard        10000 non-null  int64  \n",
      " 11  IsActiveMember   10000 non-null  int64  \n",
      " 12  EstimatedSalary  10000 non-null  float64\n",
      " 13  Exited           10000 non-null  int64  \n",
      "dtypes: float64(3), int64(8), object(3)\n",
      "memory usage: 1.1+ MB\n"
     ]
    }
   ],
   "source": [
    "data.info()"
   ]
  },
  {
   "cell_type": "markdown",
   "metadata": {},
   "source": [
    "В признаке `Tenure` есть пропуски."
   ]
  },
  {
   "cell_type": "code",
   "execution_count": 6,
   "metadata": {},
   "outputs": [
    {
     "data": {
      "text/plain": [
       "RowNumber            0\n",
       "CustomerId           0\n",
       "Surname              0\n",
       "CreditScore          0\n",
       "Geography            0\n",
       "Gender               0\n",
       "Age                  0\n",
       "Tenure             909\n",
       "Balance              0\n",
       "NumOfProducts        0\n",
       "HasCrCard            0\n",
       "IsActiveMember       0\n",
       "EstimatedSalary      0\n",
       "Exited               0\n",
       "dtype: int64"
      ]
     },
     "execution_count": 6,
     "metadata": {},
     "output_type": "execute_result"
    }
   ],
   "source": [
    "data.isna().sum()"
   ]
  },
  {
   "cell_type": "code",
   "execution_count": 7,
   "metadata": {},
   "outputs": [
    {
     "data": {
      "text/plain": [
       "<AxesSubplot:>"
      ]
     },
     "execution_count": 7,
     "metadata": {},
     "output_type": "execute_result"
    },
    {
     "data": {
      "image/png": "[encoded data removed]",
      "text/plain": [
       "<Figure size 432x288 with 1 Axes>"
      ]
     },
     "metadata": {
      "needs_background": "light"
     },
     "output_type": "display_data"
    }
   ],
   "source": [
    "data['Tenure'].hist()"
   ]
  },
  {
   "cell_type": "code",
   "execution_count": 8,
   "metadata": {},
   "outputs": [
    {
     "data": {
      "image/png": "[encoded data removed]",
      "text/plain": [
       "<Figure size 432x288 with 1 Axes>"
      ]
     },
     "metadata": {
      "needs_background": "light"
     },
     "output_type": "display_data"
    }
   ],
   "source": [
    "data.groupby('Exited')['Tenure'].plot(kind='hist', bins=10, alpha=0.5)\n",
    "plt.legend(['0', '1'])\n",
    "# plt.xlabel('Количество лет в банке')\n",
    "# plt.ylabel('Частота')\n",
    "plt.show()"
   ]
  },
  {
   "cell_type": "code",
   "execution_count": 9,
   "metadata": {},
   "outputs": [
    {
     "data": {
      "text/plain": [
       "5.0"
      ]
     },
     "execution_count": 9,
     "metadata": {},
     "output_type": "execute_result"
    }
   ],
   "source": [
    "# получаем медианное значение общего числа Tenure\n",
    "median_tenure = data['Tenure'].median()\n",
    "median_tenure"
   ]
  },
  {
   "cell_type": "markdown",
   "metadata": {},
   "source": [
    "Заполним пропуски медианным значением."
   ]
  },
  {
   "cell_type": "markdown",
   "metadata": {},
   "source": [
    "Просто удалить эти 10% данных - плохая идея. Лучше заполнить пропуски медианными значениями."
   ]
  },
  {
   "cell_type": "code",
   "execution_count": 10,
   "metadata": {},
   "outputs": [],
   "source": [
    "# data = data.dropna()\n",
    "# заполним пропуски в категрии 'ceiling_height' на медианное\n",
    "data['Tenure'] = data['Tenure'].fillna(median_tenure)"
   ]
  },
  {
   "cell_type": "markdown",
   "metadata": {},
   "source": [
    "Пронверим результат."
   ]
  },
  {
   "cell_type": "code",
   "execution_count": 11,
   "metadata": {},
   "outputs": [
    {
     "data": {
      "text/plain": [
       "RowNumber          0\n",
       "CustomerId         0\n",
       "Surname            0\n",
       "CreditScore        0\n",
       "Geography          0\n",
       "Gender             0\n",
       "Age                0\n",
       "Tenure             0\n",
       "Balance            0\n",
       "NumOfProducts      0\n",
       "HasCrCard          0\n",
       "IsActiveMember     0\n",
       "EstimatedSalary    0\n",
       "Exited             0\n",
       "dtype: int64"
      ]
     },
     "execution_count": 11,
     "metadata": {},
     "output_type": "execute_result"
    }
   ],
   "source": [
    "data.isna().sum()"
   ]
  },
  {
   "cell_type": "code",
   "execution_count": 12,
   "metadata": {},
   "outputs": [
    {
     "name": "stdout",
     "output_type": "stream",
     "text": [
      "<class 'pandas.core.frame.DataFrame'>\n",
      "RangeIndex: 10000 entries, 0 to 9999\n",
      "Data columns (total 14 columns):\n",
      " #   Column           Non-Null Count  Dtype  \n",
      "---  ------           --------------  -----  \n",
      " 0   RowNumber        10000 non-null  int64  \n",
      " 1   CustomerId       10000 non-null  int64  \n",
      " 2   Surname          10000 non-null  object \n",
      " 3   CreditScore      10000 non-null  int64  \n",
      " 4   Geography        10000 non-null  object \n",
      " 5   Gender           10000 non-null  object \n",
      " 6   Age              10000 non-null  int64  \n",
      " 7   Tenure           10000 non-null  float64\n",
      " 8   Balance          10000 non-null  float64\n",
      " 9   NumOfProducts    10000 non-null  int64  \n",
      " 10  HasCrCard        10000 non-null  int64  \n",
      " 11  IsActiveMember   10000 non-null  int64  \n",
      " 12  EstimatedSalary  10000 non-null  float64\n",
      " 13  Exited           10000 non-null  int64  \n",
      "dtypes: float64(3), int64(8), object(3)\n",
      "memory usage: 1.1+ MB\n"
     ]
    }
   ],
   "source": [
    "data.info()"
   ]
  },
  {
   "cell_type": "markdown",
   "metadata": {},
   "source": [
    "**Описание данных**\n",
    "\n",
    "Данные находятся в файле /datasets/Churn.csv (англ. «отток клиентов»). Скачать датасет\n",
    "\n",
    "**Признаки:**\n",
    "- `RowNumber` — индекс строки в данных\n",
    "- `CustomerId` — уникальный идентификатор клиента\n",
    "- `Surname` — фамилия\n",
    "- `CreditScore` — кредитный рейтинг\n",
    "- `Geography` — страна проживания\n",
    "- `Gender` — пол\n",
    "- `Age` — возраст\n",
    "- `Tenure` — сколько лет человек является клиентом банка\n",
    "- `Balance` — баланс на счёте\n",
    "- `NumOfProducts` — количество продуктов банка, используемых клиентом\n",
    "- `HasCrCard` — наличие кредитной карты\n",
    "- `sActiveMember` — активность клиента\n",
    "- `EstimatedSalary` — предполагаемая зарплата\n",
    "\n",
    "**Целевой признак:**\n",
    "\n",
    "- `Exited` — факт ухода клиента"
   ]
  },
  {
   "cell_type": "markdown",
   "metadata": {},
   "source": [
    "### Кодирование"
   ]
  },
  {
   "cell_type": "code",
   "execution_count": 13,
   "metadata": {},
   "outputs": [
    {
     "data": {
      "text/plain": [
       "RowNumber            int64\n",
       "CustomerId           int64\n",
       "Surname             object\n",
       "CreditScore          int64\n",
       "Geography           object\n",
       "Gender              object\n",
       "Age                  int64\n",
       "Tenure             float64\n",
       "Balance            float64\n",
       "NumOfProducts        int64\n",
       "HasCrCard            int64\n",
       "IsActiveMember       int64\n",
       "EstimatedSalary    float64\n",
       "Exited               int64\n",
       "dtype: object"
      ]
     },
     "execution_count": 13,
     "metadata": {},
     "output_type": "execute_result"
    }
   ],
   "source": [
    "data.dtypes"
   ]
  },
  {
   "cell_type": "code",
   "execution_count": 14,
   "metadata": {},
   "outputs": [
    {
     "name": "stdout",
     "output_type": "stream",
     "text": [
      "RowNumber\n",
      "      1      2      3      4      5      6      7      8      9      10     \\\n",
      "0         1      0      0      0      0      0      0      0      0      0   \n",
      "1         0      1      0      0      0      0      0      0      0      0   \n",
      "2         0      0      1      0      0      0      0      0      0      0   \n",
      "3         0      0      0      1      0      0      0      0      0      0   \n",
      "4         0      0      0      0      1      0      0      0      0      0   \n",
      "...     ...    ...    ...    ...    ...    ...    ...    ...    ...    ...   \n",
      "9995      0      0      0      0      0      0      0      0      0      0   \n",
      "9996      0      0      0      0      0      0      0      0      0      0   \n",
      "9997      0      0      0      0      0      0      0      0      0      0   \n",
      "9998      0      0      0      0      0      0      0      0      0      0   \n",
      "9999      0      0      0      0      0      0      0      0      0      0   \n",
      "\n",
      "      ...  9991   9992   9993   9994   9995   9996   9997   9998   9999   \\\n",
      "0     ...      0      0      0      0      0      0      0      0      0   \n",
      "1     ...      0      0      0      0      0      0      0      0      0   \n",
      "2     ...      0      0      0      0      0      0      0      0      0   \n",
      "3     ...      0      0      0      0      0      0      0      0      0   \n",
      "4     ...      0      0      0      0      0      0      0      0      0   \n",
      "...   ...    ...    ...    ...    ...    ...    ...    ...    ...    ...   \n",
      "9995  ...      0      0      0      0      0      1      0      0      0   \n",
      "9996  ...      0      0      0      0      0      0      1      0      0   \n",
      "9997  ...      0      0      0      0      0      0      0      1      0   \n",
      "9998  ...      0      0      0      0      0      0      0      0      1   \n",
      "9999  ...      0      0      0      0      0      0      0      0      0   \n",
      "\n",
      "      10000  \n",
      "0         0  \n",
      "1         0  \n",
      "2         0  \n",
      "3         0  \n",
      "4         0  \n",
      "...     ...  \n",
      "9995      0  \n",
      "9996      0  \n",
      "9997      0  \n",
      "9998      0  \n",
      "9999      1  \n",
      "\n",
      "[10000 rows x 10000 columns]\n",
      "CustomerId\n",
      "      15565701  15565706  15565714  15565779  15565796  15565806  15565878  \\\n",
      "0            0         0         0         0         0         0         0   \n",
      "1            0         0         0         0         0         0         0   \n",
      "2            0         0         0         0         0         0         0   \n",
      "3            0         0         0         0         0         0         0   \n",
      "4            0         0         0         0         0         0         0   \n",
      "...        ...       ...       ...       ...       ...       ...       ...   \n",
      "9995         0         0         0         0         0         0         0   \n",
      "9996         0         0         0         0         0         0         0   \n",
      "9997         0         0         0         0         0         0         0   \n",
      "9998         0         0         0         0         0         0         0   \n",
      "9999         0         0         0         0         0         0         0   \n",
      "\n",
      "      15565879  15565891  15565996  ...  15815534  15815552  15815560  \\\n",
      "0            0         0         0  ...         0         0         0   \n",
      "1            0         0         0  ...         0         0         0   \n",
      "2            0         0         0  ...         0         0         0   \n",
      "3            0         0         0  ...         0         0         0   \n",
      "4            0         0         0  ...         0         0         0   \n",
      "...        ...       ...       ...  ...       ...       ...       ...   \n",
      "9995         0         0         0  ...         0         0         0   \n",
      "9996         0         0         0  ...         0         0         0   \n",
      "9997         0         0         0  ...         0         0         0   \n",
      "9998         0         0         0  ...         0         0         0   \n",
      "9999         0         0         0  ...         0         0         0   \n",
      "\n",
      "      15815615  15815626  15815628  15815645  15815656  15815660  15815690  \n",
      "0            0         0         0         0         0         0         0  \n",
      "1            0         0         0         0         0         0         0  \n",
      "2            0         0         0         0         0         0         0  \n",
      "3            0         0         0         0         0         0         0  \n",
      "4            0         0         0         0         0         0         0  \n",
      "...        ...       ...       ...       ...       ...       ...       ...  \n",
      "9995         0         0         0         0         0         0         0  \n",
      "9996         0         0         0         0         0         0         0  \n",
      "9997         0         0         0         0         0         0         0  \n",
      "9998         0         0         0         0         0         0         0  \n",
      "9999         0         0         0         0         0         0         0  \n",
      "\n",
      "[10000 rows x 10000 columns]\n",
      "Surname\n",
      "      Abazu  Abbie  Abbott  Abdullah  Abdulov  Abel  Abernathy  Abramov  \\\n",
      "0         0      0       0         0        0     0          0        0   \n",
      "1         0      0       0         0        0     0          0        0   \n",
      "2         0      0       0         0        0     0          0        0   \n",
      "3         0      0       0         0        0     0          0        0   \n",
      "4         0      0       0         0        0     0          0        0   \n",
      "...     ...    ...     ...       ...      ...   ...        ...      ...   \n",
      "9995      0      0       0         0        0     0          0        0   \n",
      "9996      0      0       0         0        0     0          0        0   \n",
      "9997      0      0       0         0        0     0          0        0   \n",
      "9998      0      0       0         0        0     0          0        0   \n",
      "9999      0      0       0         0        0     0          0        0   \n",
      "\n",
      "      Abramova  Abramovich  ...  Zinachukwudi  Zito  Zotov  Zotova  Zox  \\\n",
      "0            0           0  ...             0     0      0       0    0   \n",
      "1            0           0  ...             0     0      0       0    0   \n",
      "2            0           0  ...             0     0      0       0    0   \n",
      "3            0           0  ...             0     0      0       0    0   \n",
      "4            0           0  ...             0     0      0       0    0   \n",
      "...        ...         ...  ...           ...   ...    ...     ...  ...   \n",
      "9995         0           0  ...             0     0      0       0    0   \n",
      "9996         0           0  ...             0     0      0       0    0   \n",
      "9997         0           0  ...             0     0      0       0    0   \n",
      "9998         0           0  ...             0     0      0       0    0   \n",
      "9999         0           0  ...             0     0      0       0    0   \n",
      "\n",
      "      Zubarev  Zubareva  Zuev  Zuyev  Zuyeva  \n",
      "0           0         0     0      0       0  \n",
      "1           0         0     0      0       0  \n",
      "2           0         0     0      0       0  \n",
      "3           0         0     0      0       0  \n",
      "4           0         0     0      0       0  \n",
      "...       ...       ...   ...    ...     ...  \n",
      "9995        0         0     0      0       0  \n",
      "9996        0         0     0      0       0  \n",
      "9997        0         0     0      0       0  \n",
      "9998        0         0     0      0       0  \n",
      "9999        0         0     0      0       0  \n",
      "\n",
      "[10000 rows x 2932 columns]\n",
      "CreditScore\n",
      "      350  351  358  359  363  365  367  373  376  382  ...  841  842  843  \\\n",
      "0       0    0    0    0    0    0    0    0    0    0  ...    0    0    0   \n",
      "1       0    0    0    0    0    0    0    0    0    0  ...    0    0    0   \n",
      "2       0    0    0    0    0    0    0    0    0    0  ...    0    0    0   \n",
      "3       0    0    0    0    0    0    0    0    0    0  ...    0    0    0   \n",
      "4       0    0    0    0    0    0    0    0    0    0  ...    0    0    0   \n",
      "...   ...  ...  ...  ...  ...  ...  ...  ...  ...  ...  ...  ...  ...  ...   \n",
      "9995    0    0    0    0    0    0    0    0    0    0  ...    0    0    0   \n",
      "9996    0    0    0    0    0    0    0    0    0    0  ...    0    0    0   \n",
      "9997    0    0    0    0    0    0    0    0    0    0  ...    0    0    0   \n",
      "9998    0    0    0    0    0    0    0    0    0    0  ...    0    0    0   \n",
      "9999    0    0    0    0    0    0    0    0    0    0  ...    0    0    0   \n",
      "\n",
      "      844  845  846  847  848  849  850  \n",
      "0       0    0    0    0    0    0    0  \n",
      "1       0    0    0    0    0    0    0  \n",
      "2       0    0    0    0    0    0    0  \n",
      "3       0    0    0    0    0    0    0  \n",
      "4       0    0    0    0    0    0    1  \n",
      "...   ...  ...  ...  ...  ...  ...  ...  \n",
      "9995    0    0    0    0    0    0    0  \n",
      "9996    0    0    0    0    0    0    0  \n",
      "9997    0    0    0    0    0    0    0  \n",
      "9998    0    0    0    0    0    0    0  \n",
      "9999    0    0    0    0    0    0    0  \n",
      "\n",
      "[10000 rows x 460 columns]\n",
      "Geography\n",
      "      France  Germany  Spain\n",
      "0          1        0      0\n",
      "1          0        0      1\n",
      "2          1        0      0\n",
      "3          1        0      0\n",
      "4          0        0      1\n",
      "...      ...      ...    ...\n",
      "9995       1        0      0\n",
      "9996       1        0      0\n",
      "9997       1        0      0\n",
      "9998       0        1      0\n",
      "9999       1        0      0\n",
      "\n",
      "[10000 rows x 3 columns]\n",
      "Gender\n",
      "      Female  Male\n",
      "0          1     0\n",
      "1          1     0\n",
      "2          1     0\n",
      "3          1     0\n",
      "4          1     0\n",
      "...      ...   ...\n",
      "9995       0     1\n",
      "9996       0     1\n",
      "9997       1     0\n",
      "9998       0     1\n",
      "9999       1     0\n",
      "\n",
      "[10000 rows x 2 columns]\n",
      "Age\n",
      "      18  19  20  21  22  23  24  25  26  27  ...  78  79  80  81  82  83  84  \\\n",
      "0      0   0   0   0   0   0   0   0   0   0  ...   0   0   0   0   0   0   0   \n",
      "1      0   0   0   0   0   0   0   0   0   0  ...   0   0   0   0   0   0   0   \n",
      "2      0   0   0   0   0   0   0   0   0   0  ...   0   0   0   0   0   0   0   \n",
      "3      0   0   0   0   0   0   0   0   0   0  ...   0   0   0   0   0   0   0   \n",
      "4      0   0   0   0   0   0   0   0   0   0  ...   0   0   0   0   0   0   0   \n",
      "...   ..  ..  ..  ..  ..  ..  ..  ..  ..  ..  ...  ..  ..  ..  ..  ..  ..  ..   \n",
      "9995   0   0   0   0   0   0   0   0   0   0  ...   0   0   0   0   0   0   0   \n",
      "9996   0   0   0   0   0   0   0   0   0   0  ...   0   0   0   0   0   0   0   \n",
      "9997   0   0   0   0   0   0   0   0   0   0  ...   0   0   0   0   0   0   0   \n",
      "9998   0   0   0   0   0   0   0   0   0   0  ...   0   0   0   0   0   0   0   \n",
      "9999   0   0   0   0   0   0   0   0   0   0  ...   0   0   0   0   0   0   0   \n",
      "\n",
      "      85  88  92  \n",
      "0      0   0   0  \n",
      "1      0   0   0  \n",
      "2      0   0   0  \n",
      "3      0   0   0  \n",
      "4      0   0   0  \n",
      "...   ..  ..  ..  \n",
      "9995   0   0   0  \n",
      "9996   0   0   0  \n",
      "9997   0   0   0  \n",
      "9998   0   0   0  \n",
      "9999   0   0   0  \n",
      "\n",
      "[10000 rows x 70 columns]\n",
      "Tenure\n",
      "      0.0   1.0   2.0   3.0   4.0   5.0   6.0   7.0   8.0   9.0   10.0\n",
      "0        0     0     1     0     0     0     0     0     0     0     0\n",
      "1        0     1     0     0     0     0     0     0     0     0     0\n",
      "2        0     0     0     0     0     0     0     0     1     0     0\n",
      "3        0     1     0     0     0     0     0     0     0     0     0\n",
      "4        0     0     1     0     0     0     0     0     0     0     0\n",
      "...    ...   ...   ...   ...   ...   ...   ...   ...   ...   ...   ...\n",
      "9995     0     0     0     0     0     1     0     0     0     0     0\n",
      "9996     0     0     0     0     0     0     0     0     0     0     1\n",
      "9997     0     0     0     0     0     0     0     1     0     0     0\n",
      "9998     0     0     0     1     0     0     0     0     0     0     0\n",
      "9999     0     0     0     0     0     1     0     0     0     0     0\n",
      "\n",
      "[10000 rows x 11 columns]\n",
      "Balance\n",
      "      0.00       3768.69    12459.19   14262.80   16893.59   23503.31   \\\n",
      "0             1          0          0          0          0          0   \n",
      "1             0          0          0          0          0          0   \n",
      "2             0          0          0          0          0          0   \n",
      "3             1          0          0          0          0          0   \n",
      "4             0          0          0          0          0          0   \n",
      "...         ...        ...        ...        ...        ...        ...   \n",
      "9995          1          0          0          0          0          0   \n",
      "9996          0          0          0          0          0          0   \n",
      "9997          1          0          0          0          0          0   \n",
      "9998          0          0          0          0          0          0   \n",
      "9999          0          0          0          0          0          0   \n",
      "\n",
      "      24043.45   27288.43   27517.15   27755.97   ...  212692.97  212696.32  \\\n",
      "0             0          0          0          0  ...          0          0   \n",
      "1             0          0          0          0  ...          0          0   \n",
      "2             0          0          0          0  ...          0          0   \n",
      "3             0          0          0          0  ...          0          0   \n",
      "4             0          0          0          0  ...          0          0   \n",
      "...         ...        ...        ...        ...  ...        ...        ...   \n",
      "9995          0          0          0          0  ...          0          0   \n",
      "9996          0          0          0          0  ...          0          0   \n",
      "9997          0          0          0          0  ...          0          0   \n",
      "9998          0          0          0          0  ...          0          0   \n",
      "9999          0          0          0          0  ...          0          0   \n",
      "\n",
      "      212778.20  213146.20  214346.96  216109.88  221532.80  222267.63  \\\n",
      "0             0          0          0          0          0          0   \n",
      "1             0          0          0          0          0          0   \n",
      "2             0          0          0          0          0          0   \n",
      "3             0          0          0          0          0          0   \n",
      "4             0          0          0          0          0          0   \n",
      "...         ...        ...        ...        ...        ...        ...   \n",
      "9995          0          0          0          0          0          0   \n",
      "9996          0          0          0          0          0          0   \n",
      "9997          0          0          0          0          0          0   \n",
      "9998          0          0          0          0          0          0   \n",
      "9999          0          0          0          0          0          0   \n",
      "\n",
      "      238387.56  250898.09  \n",
      "0             0          0  \n",
      "1             0          0  \n",
      "2             0          0  \n",
      "3             0          0  \n",
      "4             0          0  \n",
      "...         ...        ...  \n",
      "9995          0          0  \n",
      "9996          0          0  \n",
      "9997          0          0  \n",
      "9998          0          0  \n",
      "9999          0          0  \n",
      "\n",
      "[10000 rows x 6382 columns]\n",
      "NumOfProducts\n",
      "      1  2  3  4\n",
      "0     1  0  0  0\n",
      "1     1  0  0  0\n",
      "2     0  0  1  0\n",
      "3     0  1  0  0\n",
      "4     1  0  0  0\n",
      "...  .. .. .. ..\n",
      "9995  0  1  0  0\n",
      "9996  1  0  0  0\n",
      "9997  1  0  0  0\n",
      "9998  0  1  0  0\n",
      "9999  1  0  0  0\n",
      "\n",
      "[10000 rows x 4 columns]\n",
      "HasCrCard\n",
      "      0  1\n",
      "0     0  1\n",
      "1     1  0\n",
      "2     0  1\n",
      "3     1  0\n",
      "4     0  1\n",
      "...  .. ..\n",
      "9995  0  1\n",
      "9996  0  1\n",
      "9997  1  0\n",
      "9998  0  1\n",
      "9999  0  1\n",
      "\n",
      "[10000 rows x 2 columns]\n",
      "IsActiveMember\n",
      "      0  1\n",
      "0     0  1\n",
      "1     0  1\n",
      "2     1  0\n",
      "3     1  0\n",
      "4     0  1\n",
      "...  .. ..\n",
      "9995  1  0\n",
      "9996  0  1\n",
      "9997  0  1\n",
      "9998  1  0\n",
      "9999  1  0\n",
      "\n",
      "[10000 rows x 2 columns]\n",
      "EstimatedSalary\n",
      "      11.58      90.07      91.75      96.27      106.67     123.07     \\\n",
      "0             0          0          0          0          0          0   \n",
      "1             0          0          0          0          0          0   \n",
      "2             0          0          0          0          0          0   \n",
      "3             0          0          0          0          0          0   \n",
      "4             0          0          0          0          0          0   \n",
      "...         ...        ...        ...        ...        ...        ...   \n",
      "9995          0          0          0          0          0          0   \n",
      "9996          0          0          0          0          0          0   \n",
      "9997          0          0          0          0          0          0   \n",
      "9998          0          0          0          0          0          0   \n",
      "9999          0          0          0          0          0          0   \n",
      "\n",
      "      142.81     143.34     178.19     216.27     ...  199805.63  199808.10  \\\n",
      "0             0          0          0          0  ...          0          0   \n",
      "1             0          0          0          0  ...          0          0   \n",
      "2             0          0          0          0  ...          0          0   \n",
      "3             0          0          0          0  ...          0          0   \n",
      "4             0          0          0          0  ...          0          0   \n",
      "...         ...        ...        ...        ...  ...        ...        ...   \n",
      "9995          0          0          0          0  ...          0          0   \n",
      "9996          0          0          0          0  ...          0          0   \n",
      "9997          0          0          0          0  ...          0          0   \n",
      "9998          0          0          0          0  ...          0          0   \n",
      "9999          0          0          0          0  ...          0          0   \n",
      "\n",
      "      199841.32  199857.47  199862.75  199909.32  199929.17  199953.33  \\\n",
      "0             0          0          0          0          0          0   \n",
      "1             0          0          0          0          0          0   \n",
      "2             0          0          0          0          0          0   \n",
      "3             0          0          0          0          0          0   \n",
      "4             0          0          0          0          0          0   \n",
      "...         ...        ...        ...        ...        ...        ...   \n",
      "9995          0          0          0          0          0          0   \n",
      "9996          0          0          0          0          0          0   \n",
      "9997          0          0          0          0          0          0   \n",
      "9998          0          0          0          0          0          0   \n",
      "9999          0          0          0          0          0          0   \n",
      "\n",
      "      199970.74  199992.48  \n",
      "0             0          0  \n",
      "1             0          0  \n",
      "2             0          0  \n",
      "3             0          0  \n",
      "4             0          0  \n",
      "...         ...        ...  \n",
      "9995          0          0  \n",
      "9996          0          0  \n",
      "9997          0          0  \n",
      "9998          0          0  \n",
      "9999          0          0  \n",
      "\n",
      "[10000 rows x 9999 columns]\n",
      "Exited\n",
      "      0  1\n",
      "0     0  1\n",
      "1     1  0\n",
      "2     0  1\n",
      "3     1  0\n",
      "4     1  0\n",
      "...  .. ..\n",
      "9995  1  0\n",
      "9996  1  0\n",
      "9997  0  1\n",
      "9998  0  1\n",
      "9999  1  0\n",
      "\n",
      "[10000 rows x 2 columns]\n"
     ]
    }
   ],
   "source": [
    "for c in data.columns:\n",
    "    print(c)\n",
    "    print(pd.get_dummies(data[c]))"
   ]
  },
  {
   "cell_type": "markdown",
   "metadata": {},
   "source": [
    "`CreditScore`, `Balance`, `Age`, `Tenure`, `NumOfProducts`, `EstimatedSalary` - количественные, поэтому их не нужно кодировать.\n",
    "\n",
    "`RowNumber`, `CustomerId`, `Surname` - категориальные, но их не нужно кодировать, т.к. они уникальны. `HasCrCard` и `IsActiveMember` тоже качественные, но их не нужно кодировать, т.к. они бинарные и выраженны в числах.\n",
    "\n",
    "`Geography` и `Gender` два категориальных признака, которые лучше закодировать."
   ]
  },
  {
   "cell_type": "code",
   "execution_count": 15,
   "metadata": {},
   "outputs": [
    {
     "name": "stdout",
     "output_type": "stream",
     "text": [
      "      France  Germany  Spain\n",
      "0          1        0      0\n",
      "1          0        0      1\n",
      "2          1        0      0\n",
      "3          1        0      0\n",
      "4          0        0      1\n",
      "...      ...      ...    ...\n",
      "9995       1        0      0\n",
      "9996       1        0      0\n",
      "9997       1        0      0\n",
      "9998       0        1      0\n",
      "9999       1        0      0\n",
      "\n",
      "[10000 rows x 3 columns]\n"
     ]
    }
   ],
   "source": [
    "print(pd.get_dummies(data['Geography']))"
   ]
  },
  {
   "cell_type": "code",
   "execution_count": 16,
   "metadata": {},
   "outputs": [
    {
     "name": "stdout",
     "output_type": "stream",
     "text": [
      "      Female  Male\n",
      "0          1     0\n",
      "1          1     0\n",
      "2          1     0\n",
      "3          1     0\n",
      "4          1     0\n",
      "...      ...   ...\n",
      "9995       0     1\n",
      "9996       0     1\n",
      "9997       1     0\n",
      "9998       0     1\n",
      "9999       1     0\n",
      "\n",
      "[10000 rows x 2 columns]\n"
     ]
    }
   ],
   "source": [
    "print(pd.get_dummies(data['Gender']))"
   ]
  },
  {
   "cell_type": "markdown",
   "metadata": {},
   "source": [
    "При этом для `Gender` лучше использовать порядкоаое кодиолание, чтоб сделать его как и остальне традиционно бинарные в одном столбике. `Geography` иы используем OHE-кодирование."
   ]
  },
  {
   "cell_type": "code",
   "execution_count": 17,
   "metadata": {},
   "outputs": [
    {
     "name": "stdout",
     "output_type": "stream",
     "text": [
      "      0.0  1.0\n",
      "0       1    0\n",
      "1       1    0\n",
      "2       1    0\n",
      "3       1    0\n",
      "4       1    0\n",
      "...   ...  ...\n",
      "9995    0    1\n",
      "9996    0    1\n",
      "9997    1    0\n",
      "9998    0    1\n",
      "9999    1    0\n",
      "\n",
      "[10000 rows x 2 columns]\n"
     ]
    }
   ],
   "source": [
    "encoder = OrdinalEncoder()\n",
    "data_ordinal = pd.DataFrame(encoder.fit_transform(data), columns=data.columns)\n",
    "data_ordinal\n",
    "print(pd.get_dummies(data_ordinal['Gender']))"
   ]
  },
  {
   "cell_type": "code",
   "execution_count": 18,
   "metadata": {},
   "outputs": [
    {
     "data": {
      "text/plain": [
       "(10000, 14)"
      ]
     },
     "execution_count": 18,
     "metadata": {},
     "output_type": "execute_result"
    }
   ],
   "source": [
    "data_ordinal.shape"
   ]
  },
  {
   "cell_type": "code",
   "execution_count": 19,
   "metadata": {},
   "outputs": [
    {
     "data": {
      "text/plain": [
       "(10000, 14)"
      ]
     },
     "execution_count": 19,
     "metadata": {},
     "output_type": "execute_result"
    }
   ],
   "source": [
    "data.shape"
   ]
  },
  {
   "cell_type": "code",
   "execution_count": 20,
   "metadata": {},
   "outputs": [
    {
     "data": {
      "text/html": [
       "<div>\n",
       "<style scoped>\n",
       "    .dataframe tbody tr th:only-of-type {\n",
       "        vertical-align: middle;\n",
       "    }\n",
       "\n",
       "    .dataframe tbody tr th {\n",
       "        vertical-align: top;\n",
       "    }\n",
       "\n",
       "    .dataframe thead th {\n",
       "        text-align: right;\n",
       "    }\n",
       "</style>\n",
       "<table border=\"1\" class=\"dataframe\">\n",
       "  <thead>\n",
       "    <tr style=\"text-align: right;\">\n",
       "      <th></th>\n",
       "      <th>RowNumber</th>\n",
       "      <th>CustomerId</th>\n",
       "      <th>Surname</th>\n",
       "      <th>CreditScore</th>\n",
       "      <th>Geography</th>\n",
       "      <th>Gender</th>\n",
       "      <th>Age</th>\n",
       "      <th>Tenure</th>\n",
       "      <th>Balance</th>\n",
       "      <th>NumOfProducts</th>\n",
       "      <th>HasCrCard</th>\n",
       "      <th>IsActiveMember</th>\n",
       "      <th>EstimatedSalary</th>\n",
       "      <th>Exited</th>\n",
       "    </tr>\n",
       "  </thead>\n",
       "  <tbody>\n",
       "    <tr>\n",
       "      <th>0</th>\n",
       "      <td>0.0</td>\n",
       "      <td>2736.0</td>\n",
       "      <td>1115.0</td>\n",
       "      <td>228.0</td>\n",
       "      <td>0.0</td>\n",
       "      <td>0.0</td>\n",
       "      <td>24.0</td>\n",
       "      <td>2.0</td>\n",
       "      <td>0.0</td>\n",
       "      <td>0.0</td>\n",
       "      <td>1.0</td>\n",
       "      <td>1.0</td>\n",
       "      <td>5068.0</td>\n",
       "      <td>1.0</td>\n",
       "    </tr>\n",
       "    <tr>\n",
       "      <th>1</th>\n",
       "      <td>1.0</td>\n",
       "      <td>3258.0</td>\n",
       "      <td>1177.0</td>\n",
       "      <td>217.0</td>\n",
       "      <td>2.0</td>\n",
       "      <td>0.0</td>\n",
       "      <td>23.0</td>\n",
       "      <td>1.0</td>\n",
       "      <td>743.0</td>\n",
       "      <td>0.0</td>\n",
       "      <td>0.0</td>\n",
       "      <td>1.0</td>\n",
       "      <td>5639.0</td>\n",
       "      <td>0.0</td>\n",
       "    </tr>\n",
       "    <tr>\n",
       "      <th>2</th>\n",
       "      <td>2.0</td>\n",
       "      <td>2104.0</td>\n",
       "      <td>2040.0</td>\n",
       "      <td>111.0</td>\n",
       "      <td>0.0</td>\n",
       "      <td>0.0</td>\n",
       "      <td>24.0</td>\n",
       "      <td>8.0</td>\n",
       "      <td>5793.0</td>\n",
       "      <td>2.0</td>\n",
       "      <td>1.0</td>\n",
       "      <td>0.0</td>\n",
       "      <td>5707.0</td>\n",
       "      <td>1.0</td>\n",
       "    </tr>\n",
       "    <tr>\n",
       "      <th>3</th>\n",
       "      <td>3.0</td>\n",
       "      <td>5435.0</td>\n",
       "      <td>289.0</td>\n",
       "      <td>308.0</td>\n",
       "      <td>0.0</td>\n",
       "      <td>0.0</td>\n",
       "      <td>21.0</td>\n",
       "      <td>1.0</td>\n",
       "      <td>0.0</td>\n",
       "      <td>1.0</td>\n",
       "      <td>0.0</td>\n",
       "      <td>0.0</td>\n",
       "      <td>4704.0</td>\n",
       "      <td>0.0</td>\n",
       "    </tr>\n",
       "    <tr>\n",
       "      <th>4</th>\n",
       "      <td>4.0</td>\n",
       "      <td>6899.0</td>\n",
       "      <td>1822.0</td>\n",
       "      <td>459.0</td>\n",
       "      <td>2.0</td>\n",
       "      <td>0.0</td>\n",
       "      <td>25.0</td>\n",
       "      <td>2.0</td>\n",
       "      <td>3696.0</td>\n",
       "      <td>0.0</td>\n",
       "      <td>1.0</td>\n",
       "      <td>1.0</td>\n",
       "      <td>3925.0</td>\n",
       "      <td>0.0</td>\n",
       "    </tr>\n",
       "    <tr>\n",
       "      <th>...</th>\n",
       "      <td>...</td>\n",
       "      <td>...</td>\n",
       "      <td>...</td>\n",
       "      <td>...</td>\n",
       "      <td>...</td>\n",
       "      <td>...</td>\n",
       "      <td>...</td>\n",
       "      <td>...</td>\n",
       "      <td>...</td>\n",
       "      <td>...</td>\n",
       "      <td>...</td>\n",
       "      <td>...</td>\n",
       "      <td>...</td>\n",
       "      <td>...</td>\n",
       "    </tr>\n",
       "    <tr>\n",
       "      <th>9995</th>\n",
       "      <td>9995.0</td>\n",
       "      <td>1599.0</td>\n",
       "      <td>1999.0</td>\n",
       "      <td>380.0</td>\n",
       "      <td>0.0</td>\n",
       "      <td>1.0</td>\n",
       "      <td>21.0</td>\n",
       "      <td>5.0</td>\n",
       "      <td>0.0</td>\n",
       "      <td>1.0</td>\n",
       "      <td>1.0</td>\n",
       "      <td>0.0</td>\n",
       "      <td>4827.0</td>\n",
       "      <td>0.0</td>\n",
       "    </tr>\n",
       "    <tr>\n",
       "      <th>9996</th>\n",
       "      <td>9996.0</td>\n",
       "      <td>161.0</td>\n",
       "      <td>1336.0</td>\n",
       "      <td>125.0</td>\n",
       "      <td>0.0</td>\n",
       "      <td>1.0</td>\n",
       "      <td>17.0</td>\n",
       "      <td>10.0</td>\n",
       "      <td>124.0</td>\n",
       "      <td>0.0</td>\n",
       "      <td>1.0</td>\n",
       "      <td>1.0</td>\n",
       "      <td>5087.0</td>\n",
       "      <td>0.0</td>\n",
       "    </tr>\n",
       "    <tr>\n",
       "      <th>9997</th>\n",
       "      <td>9997.0</td>\n",
       "      <td>717.0</td>\n",
       "      <td>1570.0</td>\n",
       "      <td>318.0</td>\n",
       "      <td>0.0</td>\n",
       "      <td>0.0</td>\n",
       "      <td>18.0</td>\n",
       "      <td>7.0</td>\n",
       "      <td>0.0</td>\n",
       "      <td>0.0</td>\n",
       "      <td>0.0</td>\n",
       "      <td>1.0</td>\n",
       "      <td>2062.0</td>\n",
       "      <td>1.0</td>\n",
       "    </tr>\n",
       "    <tr>\n",
       "      <th>9998</th>\n",
       "      <td>9998.0</td>\n",
       "      <td>4656.0</td>\n",
       "      <td>2345.0</td>\n",
       "      <td>381.0</td>\n",
       "      <td>1.0</td>\n",
       "      <td>1.0</td>\n",
       "      <td>24.0</td>\n",
       "      <td>3.0</td>\n",
       "      <td>427.0</td>\n",
       "      <td>1.0</td>\n",
       "      <td>1.0</td>\n",
       "      <td>0.0</td>\n",
       "      <td>4639.0</td>\n",
       "      <td>1.0</td>\n",
       "    </tr>\n",
       "    <tr>\n",
       "      <th>9999</th>\n",
       "      <td>9999.0</td>\n",
       "      <td>2497.0</td>\n",
       "      <td>2751.0</td>\n",
       "      <td>401.0</td>\n",
       "      <td>0.0</td>\n",
       "      <td>0.0</td>\n",
       "      <td>10.0</td>\n",
       "      <td>5.0</td>\n",
       "      <td>4112.0</td>\n",
       "      <td>0.0</td>\n",
       "      <td>1.0</td>\n",
       "      <td>0.0</td>\n",
       "      <td>1878.0</td>\n",
       "      <td>0.0</td>\n",
       "    </tr>\n",
       "  </tbody>\n",
       "</table>\n",
       "<p>10000 rows × 14 columns</p>\n",
       "</div>"
      ],
      "text/plain": [
       "      RowNumber  CustomerId  Surname  CreditScore  Geography  Gender   Age  \\\n",
       "0           0.0      2736.0   1115.0        228.0        0.0     0.0  24.0   \n",
       "1           1.0      3258.0   1177.0        217.0        2.0     0.0  23.0   \n",
       "2           2.0      2104.0   2040.0        111.0        0.0     0.0  24.0   \n",
       "3           3.0      5435.0    289.0        308.0        0.0     0.0  21.0   \n",
       "4           4.0      6899.0   1822.0        459.0        2.0     0.0  25.0   \n",
       "...         ...         ...      ...          ...        ...     ...   ...   \n",
       "9995     9995.0      1599.0   1999.0        380.0        0.0     1.0  21.0   \n",
       "9996     9996.0       161.0   1336.0        125.0        0.0     1.0  17.0   \n",
       "9997     9997.0       717.0   1570.0        318.0        0.0     0.0  18.0   \n",
       "9998     9998.0      4656.0   2345.0        381.0        1.0     1.0  24.0   \n",
       "9999     9999.0      2497.0   2751.0        401.0        0.0     0.0  10.0   \n",
       "\n",
       "      Tenure  Balance  NumOfProducts  HasCrCard  IsActiveMember  \\\n",
       "0        2.0      0.0            0.0        1.0             1.0   \n",
       "1        1.0    743.0            0.0        0.0             1.0   \n",
       "2        8.0   5793.0            2.0        1.0             0.0   \n",
       "3        1.0      0.0            1.0        0.0             0.0   \n",
       "4        2.0   3696.0            0.0        1.0             1.0   \n",
       "...      ...      ...            ...        ...             ...   \n",
       "9995     5.0      0.0            1.0        1.0             0.0   \n",
       "9996    10.0    124.0            0.0        1.0             1.0   \n",
       "9997     7.0      0.0            0.0        0.0             1.0   \n",
       "9998     3.0    427.0            1.0        1.0             0.0   \n",
       "9999     5.0   4112.0            0.0        1.0             0.0   \n",
       "\n",
       "      EstimatedSalary  Exited  \n",
       "0              5068.0     1.0  \n",
       "1              5639.0     0.0  \n",
       "2              5707.0     1.0  \n",
       "3              4704.0     0.0  \n",
       "4              3925.0     0.0  \n",
       "...               ...     ...  \n",
       "9995           4827.0     0.0  \n",
       "9996           5087.0     0.0  \n",
       "9997           2062.0     1.0  \n",
       "9998           4639.0     1.0  \n",
       "9999           1878.0     0.0  \n",
       "\n",
       "[10000 rows x 14 columns]"
      ]
     },
     "execution_count": 20,
     "metadata": {},
     "output_type": "execute_result"
    }
   ],
   "source": [
    "data_ordinal"
   ]
  },
  {
   "cell_type": "markdown",
   "metadata": {},
   "source": [
    "Заменим старые значения на новые."
   ]
  },
  {
   "cell_type": "code",
   "execution_count": 21,
   "metadata": {},
   "outputs": [
    {
     "data": {
      "text/html": [
       "<div>\n",
       "<style scoped>\n",
       "    .dataframe tbody tr th:only-of-type {\n",
       "        vertical-align: middle;\n",
       "    }\n",
       "\n",
       "    .dataframe tbody tr th {\n",
       "        vertical-align: top;\n",
       "    }\n",
       "\n",
       "    .dataframe thead th {\n",
       "        text-align: right;\n",
       "    }\n",
       "</style>\n",
       "<table border=\"1\" class=\"dataframe\">\n",
       "  <thead>\n",
       "    <tr style=\"text-align: right;\">\n",
       "      <th></th>\n",
       "      <th>RowNumber</th>\n",
       "      <th>CustomerId</th>\n",
       "      <th>Surname</th>\n",
       "      <th>CreditScore</th>\n",
       "      <th>Geography</th>\n",
       "      <th>Gender</th>\n",
       "      <th>Age</th>\n",
       "      <th>Tenure</th>\n",
       "      <th>Balance</th>\n",
       "      <th>NumOfProducts</th>\n",
       "      <th>HasCrCard</th>\n",
       "      <th>IsActiveMember</th>\n",
       "      <th>EstimatedSalary</th>\n",
       "      <th>Exited</th>\n",
       "    </tr>\n",
       "  </thead>\n",
       "  <tbody>\n",
       "    <tr>\n",
       "      <th>0</th>\n",
       "      <td>1</td>\n",
       "      <td>15634602</td>\n",
       "      <td>Hargrave</td>\n",
       "      <td>619</td>\n",
       "      <td>France</td>\n",
       "      <td>0.0</td>\n",
       "      <td>42</td>\n",
       "      <td>2.0</td>\n",
       "      <td>0.00</td>\n",
       "      <td>1</td>\n",
       "      <td>1</td>\n",
       "      <td>1</td>\n",
       "      <td>101348.88</td>\n",
       "      <td>1</td>\n",
       "    </tr>\n",
       "    <tr>\n",
       "      <th>1</th>\n",
       "      <td>2</td>\n",
       "      <td>15647311</td>\n",
       "      <td>Hill</td>\n",
       "      <td>608</td>\n",
       "      <td>Spain</td>\n",
       "      <td>0.0</td>\n",
       "      <td>41</td>\n",
       "      <td>1.0</td>\n",
       "      <td>83807.86</td>\n",
       "      <td>1</td>\n",
       "      <td>0</td>\n",
       "      <td>1</td>\n",
       "      <td>112542.58</td>\n",
       "      <td>0</td>\n",
       "    </tr>\n",
       "    <tr>\n",
       "      <th>2</th>\n",
       "      <td>3</td>\n",
       "      <td>15619304</td>\n",
       "      <td>Onio</td>\n",
       "      <td>502</td>\n",
       "      <td>France</td>\n",
       "      <td>0.0</td>\n",
       "      <td>42</td>\n",
       "      <td>8.0</td>\n",
       "      <td>159660.80</td>\n",
       "      <td>3</td>\n",
       "      <td>1</td>\n",
       "      <td>0</td>\n",
       "      <td>113931.57</td>\n",
       "      <td>1</td>\n",
       "    </tr>\n",
       "    <tr>\n",
       "      <th>3</th>\n",
       "      <td>4</td>\n",
       "      <td>15701354</td>\n",
       "      <td>Boni</td>\n",
       "      <td>699</td>\n",
       "      <td>France</td>\n",
       "      <td>0.0</td>\n",
       "      <td>39</td>\n",
       "      <td>1.0</td>\n",
       "      <td>0.00</td>\n",
       "      <td>2</td>\n",
       "      <td>0</td>\n",
       "      <td>0</td>\n",
       "      <td>93826.63</td>\n",
       "      <td>0</td>\n",
       "    </tr>\n",
       "    <tr>\n",
       "      <th>4</th>\n",
       "      <td>5</td>\n",
       "      <td>15737888</td>\n",
       "      <td>Mitchell</td>\n",
       "      <td>850</td>\n",
       "      <td>Spain</td>\n",
       "      <td>0.0</td>\n",
       "      <td>43</td>\n",
       "      <td>2.0</td>\n",
       "      <td>125510.82</td>\n",
       "      <td>1</td>\n",
       "      <td>1</td>\n",
       "      <td>1</td>\n",
       "      <td>79084.10</td>\n",
       "      <td>0</td>\n",
       "    </tr>\n",
       "    <tr>\n",
       "      <th>...</th>\n",
       "      <td>...</td>\n",
       "      <td>...</td>\n",
       "      <td>...</td>\n",
       "      <td>...</td>\n",
       "      <td>...</td>\n",
       "      <td>...</td>\n",
       "      <td>...</td>\n",
       "      <td>...</td>\n",
       "      <td>...</td>\n",
       "      <td>...</td>\n",
       "      <td>...</td>\n",
       "      <td>...</td>\n",
       "      <td>...</td>\n",
       "      <td>...</td>\n",
       "    </tr>\n",
       "    <tr>\n",
       "      <th>9995</th>\n",
       "      <td>9996</td>\n",
       "      <td>15606229</td>\n",
       "      <td>Obijiaku</td>\n",
       "      <td>771</td>\n",
       "      <td>France</td>\n",
       "      <td>1.0</td>\n",
       "      <td>39</td>\n",
       "      <td>5.0</td>\n",
       "      <td>0.00</td>\n",
       "      <td>2</td>\n",
       "      <td>1</td>\n",
       "      <td>0</td>\n",
       "      <td>96270.64</td>\n",
       "      <td>0</td>\n",
       "    </tr>\n",
       "    <tr>\n",
       "      <th>9996</th>\n",
       "      <td>9997</td>\n",
       "      <td>15569892</td>\n",
       "      <td>Johnstone</td>\n",
       "      <td>516</td>\n",
       "      <td>France</td>\n",
       "      <td>1.0</td>\n",
       "      <td>35</td>\n",
       "      <td>10.0</td>\n",
       "      <td>57369.61</td>\n",
       "      <td>1</td>\n",
       "      <td>1</td>\n",
       "      <td>1</td>\n",
       "      <td>101699.77</td>\n",
       "      <td>0</td>\n",
       "    </tr>\n",
       "    <tr>\n",
       "      <th>9997</th>\n",
       "      <td>9998</td>\n",
       "      <td>15584532</td>\n",
       "      <td>Liu</td>\n",
       "      <td>709</td>\n",
       "      <td>France</td>\n",
       "      <td>0.0</td>\n",
       "      <td>36</td>\n",
       "      <td>7.0</td>\n",
       "      <td>0.00</td>\n",
       "      <td>1</td>\n",
       "      <td>0</td>\n",
       "      <td>1</td>\n",
       "      <td>42085.58</td>\n",
       "      <td>1</td>\n",
       "    </tr>\n",
       "    <tr>\n",
       "      <th>9998</th>\n",
       "      <td>9999</td>\n",
       "      <td>15682355</td>\n",
       "      <td>Sabbatini</td>\n",
       "      <td>772</td>\n",
       "      <td>Germany</td>\n",
       "      <td>1.0</td>\n",
       "      <td>42</td>\n",
       "      <td>3.0</td>\n",
       "      <td>75075.31</td>\n",
       "      <td>2</td>\n",
       "      <td>1</td>\n",
       "      <td>0</td>\n",
       "      <td>92888.52</td>\n",
       "      <td>1</td>\n",
       "    </tr>\n",
       "    <tr>\n",
       "      <th>9999</th>\n",
       "      <td>10000</td>\n",
       "      <td>15628319</td>\n",
       "      <td>Walker</td>\n",
       "      <td>792</td>\n",
       "      <td>France</td>\n",
       "      <td>0.0</td>\n",
       "      <td>28</td>\n",
       "      <td>5.0</td>\n",
       "      <td>130142.79</td>\n",
       "      <td>1</td>\n",
       "      <td>1</td>\n",
       "      <td>0</td>\n",
       "      <td>38190.78</td>\n",
       "      <td>0</td>\n",
       "    </tr>\n",
       "  </tbody>\n",
       "</table>\n",
       "<p>10000 rows × 14 columns</p>\n",
       "</div>"
      ],
      "text/plain": [
       "      RowNumber  CustomerId    Surname  CreditScore Geography  Gender  Age  \\\n",
       "0             1    15634602   Hargrave          619    France     0.0   42   \n",
       "1             2    15647311       Hill          608     Spain     0.0   41   \n",
       "2             3    15619304       Onio          502    France     0.0   42   \n",
       "3             4    15701354       Boni          699    France     0.0   39   \n",
       "4             5    15737888   Mitchell          850     Spain     0.0   43   \n",
       "...         ...         ...        ...          ...       ...     ...  ...   \n",
       "9995       9996    15606229   Obijiaku          771    France     1.0   39   \n",
       "9996       9997    15569892  Johnstone          516    France     1.0   35   \n",
       "9997       9998    15584532        Liu          709    France     0.0   36   \n",
       "9998       9999    15682355  Sabbatini          772   Germany     1.0   42   \n",
       "9999      10000    15628319     Walker          792    France     0.0   28   \n",
       "\n",
       "      Tenure    Balance  NumOfProducts  HasCrCard  IsActiveMember  \\\n",
       "0        2.0       0.00              1          1               1   \n",
       "1        1.0   83807.86              1          0               1   \n",
       "2        8.0  159660.80              3          1               0   \n",
       "3        1.0       0.00              2          0               0   \n",
       "4        2.0  125510.82              1          1               1   \n",
       "...      ...        ...            ...        ...             ...   \n",
       "9995     5.0       0.00              2          1               0   \n",
       "9996    10.0   57369.61              1          1               1   \n",
       "9997     7.0       0.00              1          0               1   \n",
       "9998     3.0   75075.31              2          1               0   \n",
       "9999     5.0  130142.79              1          1               0   \n",
       "\n",
       "      EstimatedSalary  Exited  \n",
       "0           101348.88       1  \n",
       "1           112542.58       0  \n",
       "2           113931.57       1  \n",
       "3            93826.63       0  \n",
       "4            79084.10       0  \n",
       "...               ...     ...  \n",
       "9995         96270.64       0  \n",
       "9996        101699.77       0  \n",
       "9997         42085.58       1  \n",
       "9998         92888.52       1  \n",
       "9999         38190.78       0  \n",
       "\n",
       "[10000 rows x 14 columns]"
      ]
     },
     "execution_count": 21,
     "metadata": {},
     "output_type": "execute_result"
    }
   ],
   "source": [
    "# заменим старые значения на новые: 0 - женщины, 1 - мужчины\n",
    "data['Gender'] = data_ordinal['Gender']\n",
    "data"
   ]
  },
  {
   "cell_type": "markdown",
   "metadata": {},
   "source": [
    "Кодируем `Geography`."
   ]
  },
  {
   "cell_type": "code",
   "execution_count": 22,
   "metadata": {},
   "outputs": [
    {
     "data": {
      "text/html": [
       "<div>\n",
       "<style scoped>\n",
       "    .dataframe tbody tr th:only-of-type {\n",
       "        vertical-align: middle;\n",
       "    }\n",
       "\n",
       "    .dataframe tbody tr th {\n",
       "        vertical-align: top;\n",
       "    }\n",
       "\n",
       "    .dataframe thead th {\n",
       "        text-align: right;\n",
       "    }\n",
       "</style>\n",
       "<table border=\"1\" class=\"dataframe\">\n",
       "  <thead>\n",
       "    <tr style=\"text-align: right;\">\n",
       "      <th></th>\n",
       "      <th>RowNumber</th>\n",
       "      <th>CustomerId</th>\n",
       "      <th>Surname</th>\n",
       "      <th>CreditScore</th>\n",
       "      <th>Gender</th>\n",
       "      <th>Age</th>\n",
       "      <th>Tenure</th>\n",
       "      <th>Balance</th>\n",
       "      <th>NumOfProducts</th>\n",
       "      <th>HasCrCard</th>\n",
       "      <th>IsActiveMember</th>\n",
       "      <th>EstimatedSalary</th>\n",
       "      <th>Exited</th>\n",
       "      <th>Geography_France</th>\n",
       "      <th>Geography_Germany</th>\n",
       "      <th>Geography_Spain</th>\n",
       "    </tr>\n",
       "  </thead>\n",
       "  <tbody>\n",
       "    <tr>\n",
       "      <th>0</th>\n",
       "      <td>1</td>\n",
       "      <td>15634602</td>\n",
       "      <td>Hargrave</td>\n",
       "      <td>619</td>\n",
       "      <td>0.0</td>\n",
       "      <td>42</td>\n",
       "      <td>2.0</td>\n",
       "      <td>0.00</td>\n",
       "      <td>1</td>\n",
       "      <td>1</td>\n",
       "      <td>1</td>\n",
       "      <td>101348.88</td>\n",
       "      <td>1</td>\n",
       "      <td>1</td>\n",
       "      <td>0</td>\n",
       "      <td>0</td>\n",
       "    </tr>\n",
       "    <tr>\n",
       "      <th>1</th>\n",
       "      <td>2</td>\n",
       "      <td>15647311</td>\n",
       "      <td>Hill</td>\n",
       "      <td>608</td>\n",
       "      <td>0.0</td>\n",
       "      <td>41</td>\n",
       "      <td>1.0</td>\n",
       "      <td>83807.86</td>\n",
       "      <td>1</td>\n",
       "      <td>0</td>\n",
       "      <td>1</td>\n",
       "      <td>112542.58</td>\n",
       "      <td>0</td>\n",
       "      <td>0</td>\n",
       "      <td>0</td>\n",
       "      <td>1</td>\n",
       "    </tr>\n",
       "    <tr>\n",
       "      <th>2</th>\n",
       "      <td>3</td>\n",
       "      <td>15619304</td>\n",
       "      <td>Onio</td>\n",
       "      <td>502</td>\n",
       "      <td>0.0</td>\n",
       "      <td>42</td>\n",
       "      <td>8.0</td>\n",
       "      <td>159660.80</td>\n",
       "      <td>3</td>\n",
       "      <td>1</td>\n",
       "      <td>0</td>\n",
       "      <td>113931.57</td>\n",
       "      <td>1</td>\n",
       "      <td>1</td>\n",
       "      <td>0</td>\n",
       "      <td>0</td>\n",
       "    </tr>\n",
       "    <tr>\n",
       "      <th>3</th>\n",
       "      <td>4</td>\n",
       "      <td>15701354</td>\n",
       "      <td>Boni</td>\n",
       "      <td>699</td>\n",
       "      <td>0.0</td>\n",
       "      <td>39</td>\n",
       "      <td>1.0</td>\n",
       "      <td>0.00</td>\n",
       "      <td>2</td>\n",
       "      <td>0</td>\n",
       "      <td>0</td>\n",
       "      <td>93826.63</td>\n",
       "      <td>0</td>\n",
       "      <td>1</td>\n",
       "      <td>0</td>\n",
       "      <td>0</td>\n",
       "    </tr>\n",
       "    <tr>\n",
       "      <th>4</th>\n",
       "      <td>5</td>\n",
       "      <td>15737888</td>\n",
       "      <td>Mitchell</td>\n",
       "      <td>850</td>\n",
       "      <td>0.0</td>\n",
       "      <td>43</td>\n",
       "      <td>2.0</td>\n",
       "      <td>125510.82</td>\n",
       "      <td>1</td>\n",
       "      <td>1</td>\n",
       "      <td>1</td>\n",
       "      <td>79084.10</td>\n",
       "      <td>0</td>\n",
       "      <td>0</td>\n",
       "      <td>0</td>\n",
       "      <td>1</td>\n",
       "    </tr>\n",
       "    <tr>\n",
       "      <th>...</th>\n",
       "      <td>...</td>\n",
       "      <td>...</td>\n",
       "      <td>...</td>\n",
       "      <td>...</td>\n",
       "      <td>...</td>\n",
       "      <td>...</td>\n",
       "      <td>...</td>\n",
       "      <td>...</td>\n",
       "      <td>...</td>\n",
       "      <td>...</td>\n",
       "      <td>...</td>\n",
       "      <td>...</td>\n",
       "      <td>...</td>\n",
       "      <td>...</td>\n",
       "      <td>...</td>\n",
       "      <td>...</td>\n",
       "    </tr>\n",
       "    <tr>\n",
       "      <th>9995</th>\n",
       "      <td>9996</td>\n",
       "      <td>15606229</td>\n",
       "      <td>Obijiaku</td>\n",
       "      <td>771</td>\n",
       "      <td>1.0</td>\n",
       "      <td>39</td>\n",
       "      <td>5.0</td>\n",
       "      <td>0.00</td>\n",
       "      <td>2</td>\n",
       "      <td>1</td>\n",
       "      <td>0</td>\n",
       "      <td>96270.64</td>\n",
       "      <td>0</td>\n",
       "      <td>1</td>\n",
       "      <td>0</td>\n",
       "      <td>0</td>\n",
       "    </tr>\n",
       "    <tr>\n",
       "      <th>9996</th>\n",
       "      <td>9997</td>\n",
       "      <td>15569892</td>\n",
       "      <td>Johnstone</td>\n",
       "      <td>516</td>\n",
       "      <td>1.0</td>\n",
       "      <td>35</td>\n",
       "      <td>10.0</td>\n",
       "      <td>57369.61</td>\n",
       "      <td>1</td>\n",
       "      <td>1</td>\n",
       "      <td>1</td>\n",
       "      <td>101699.77</td>\n",
       "      <td>0</td>\n",
       "      <td>1</td>\n",
       "      <td>0</td>\n",
       "      <td>0</td>\n",
       "    </tr>\n",
       "    <tr>\n",
       "      <th>9997</th>\n",
       "      <td>9998</td>\n",
       "      <td>15584532</td>\n",
       "      <td>Liu</td>\n",
       "      <td>709</td>\n",
       "      <td>0.0</td>\n",
       "      <td>36</td>\n",
       "      <td>7.0</td>\n",
       "      <td>0.00</td>\n",
       "      <td>1</td>\n",
       "      <td>0</td>\n",
       "      <td>1</td>\n",
       "      <td>42085.58</td>\n",
       "      <td>1</td>\n",
       "      <td>1</td>\n",
       "      <td>0</td>\n",
       "      <td>0</td>\n",
       "    </tr>\n",
       "    <tr>\n",
       "      <th>9998</th>\n",
       "      <td>9999</td>\n",
       "      <td>15682355</td>\n",
       "      <td>Sabbatini</td>\n",
       "      <td>772</td>\n",
       "      <td>1.0</td>\n",
       "      <td>42</td>\n",
       "      <td>3.0</td>\n",
       "      <td>75075.31</td>\n",
       "      <td>2</td>\n",
       "      <td>1</td>\n",
       "      <td>0</td>\n",
       "      <td>92888.52</td>\n",
       "      <td>1</td>\n",
       "      <td>0</td>\n",
       "      <td>1</td>\n",
       "      <td>0</td>\n",
       "    </tr>\n",
       "    <tr>\n",
       "      <th>9999</th>\n",
       "      <td>10000</td>\n",
       "      <td>15628319</td>\n",
       "      <td>Walker</td>\n",
       "      <td>792</td>\n",
       "      <td>0.0</td>\n",
       "      <td>28</td>\n",
       "      <td>5.0</td>\n",
       "      <td>130142.79</td>\n",
       "      <td>1</td>\n",
       "      <td>1</td>\n",
       "      <td>0</td>\n",
       "      <td>38190.78</td>\n",
       "      <td>0</td>\n",
       "      <td>1</td>\n",
       "      <td>0</td>\n",
       "      <td>0</td>\n",
       "    </tr>\n",
       "  </tbody>\n",
       "</table>\n",
       "<p>10000 rows × 16 columns</p>\n",
       "</div>"
      ],
      "text/plain": [
       "      RowNumber  CustomerId    Surname  CreditScore  Gender  Age  Tenure  \\\n",
       "0             1    15634602   Hargrave          619     0.0   42     2.0   \n",
       "1             2    15647311       Hill          608     0.0   41     1.0   \n",
       "2             3    15619304       Onio          502     0.0   42     8.0   \n",
       "3             4    15701354       Boni          699     0.0   39     1.0   \n",
       "4             5    15737888   Mitchell          850     0.0   43     2.0   \n",
       "...         ...         ...        ...          ...     ...  ...     ...   \n",
       "9995       9996    15606229   Obijiaku          771     1.0   39     5.0   \n",
       "9996       9997    15569892  Johnstone          516     1.0   35    10.0   \n",
       "9997       9998    15584532        Liu          709     0.0   36     7.0   \n",
       "9998       9999    15682355  Sabbatini          772     1.0   42     3.0   \n",
       "9999      10000    15628319     Walker          792     0.0   28     5.0   \n",
       "\n",
       "        Balance  NumOfProducts  HasCrCard  IsActiveMember  EstimatedSalary  \\\n",
       "0          0.00              1          1               1        101348.88   \n",
       "1      83807.86              1          0               1        112542.58   \n",
       "2     159660.80              3          1               0        113931.57   \n",
       "3          0.00              2          0               0         93826.63   \n",
       "4     125510.82              1          1               1         79084.10   \n",
       "...         ...            ...        ...             ...              ...   \n",
       "9995       0.00              2          1               0         96270.64   \n",
       "9996   57369.61              1          1               1        101699.77   \n",
       "9997       0.00              1          0               1         42085.58   \n",
       "9998   75075.31              2          1               0         92888.52   \n",
       "9999  130142.79              1          1               0         38190.78   \n",
       "\n",
       "      Exited  Geography_France  Geography_Germany  Geography_Spain  \n",
       "0          1                 1                  0                0  \n",
       "1          0                 0                  0                1  \n",
       "2          1                 1                  0                0  \n",
       "3          0                 1                  0                0  \n",
       "4          0                 0                  0                1  \n",
       "...      ...               ...                ...              ...  \n",
       "9995       0                 1                  0                0  \n",
       "9996       0                 1                  0                0  \n",
       "9997       1                 1                  0                0  \n",
       "9998       1                 0                  1                0  \n",
       "9999       0                 1                  0                0  \n",
       "\n",
       "[10000 rows x 16 columns]"
      ]
     },
     "execution_count": 22,
     "metadata": {},
     "output_type": "execute_result"
    }
   ],
   "source": [
    "# кодируем Geography.\n",
    "data_ohe = pd.get_dummies(data, columns=['Geography'], drop_first=False)\n",
    "data_ohe"
   ]
  },
  {
   "cell_type": "code",
   "execution_count": 23,
   "metadata": {
    "scrolled": true
   },
   "outputs": [
    {
     "data": {
      "text/html": [
       "<div>\n",
       "<style scoped>\n",
       "    .dataframe tbody tr th:only-of-type {\n",
       "        vertical-align: middle;\n",
       "    }\n",
       "\n",
       "    .dataframe tbody tr th {\n",
       "        vertical-align: top;\n",
       "    }\n",
       "\n",
       "    .dataframe thead th {\n",
       "        text-align: right;\n",
       "    }\n",
       "</style>\n",
       "<table border=\"1\" class=\"dataframe\">\n",
       "  <thead>\n",
       "    <tr style=\"text-align: right;\">\n",
       "      <th></th>\n",
       "      <th>RowNumber</th>\n",
       "      <th>CustomerId</th>\n",
       "      <th>Surname</th>\n",
       "      <th>CreditScore</th>\n",
       "      <th>Gender</th>\n",
       "      <th>Age</th>\n",
       "      <th>Tenure</th>\n",
       "      <th>Balance</th>\n",
       "      <th>NumOfProducts</th>\n",
       "      <th>HasCrCard</th>\n",
       "      <th>IsActiveMember</th>\n",
       "      <th>EstimatedSalary</th>\n",
       "      <th>Exited</th>\n",
       "      <th>France</th>\n",
       "      <th>Germany</th>\n",
       "      <th>Spain</th>\n",
       "    </tr>\n",
       "  </thead>\n",
       "  <tbody>\n",
       "    <tr>\n",
       "      <th>0</th>\n",
       "      <td>1</td>\n",
       "      <td>15634602</td>\n",
       "      <td>Hargrave</td>\n",
       "      <td>619</td>\n",
       "      <td>0.0</td>\n",
       "      <td>42</td>\n",
       "      <td>2.0</td>\n",
       "      <td>0.00</td>\n",
       "      <td>1</td>\n",
       "      <td>1</td>\n",
       "      <td>1</td>\n",
       "      <td>101348.88</td>\n",
       "      <td>1</td>\n",
       "      <td>1</td>\n",
       "      <td>0</td>\n",
       "      <td>0</td>\n",
       "    </tr>\n",
       "    <tr>\n",
       "      <th>1</th>\n",
       "      <td>2</td>\n",
       "      <td>15647311</td>\n",
       "      <td>Hill</td>\n",
       "      <td>608</td>\n",
       "      <td>0.0</td>\n",
       "      <td>41</td>\n",
       "      <td>1.0</td>\n",
       "      <td>83807.86</td>\n",
       "      <td>1</td>\n",
       "      <td>0</td>\n",
       "      <td>1</td>\n",
       "      <td>112542.58</td>\n",
       "      <td>0</td>\n",
       "      <td>0</td>\n",
       "      <td>0</td>\n",
       "      <td>1</td>\n",
       "    </tr>\n",
       "    <tr>\n",
       "      <th>2</th>\n",
       "      <td>3</td>\n",
       "      <td>15619304</td>\n",
       "      <td>Onio</td>\n",
       "      <td>502</td>\n",
       "      <td>0.0</td>\n",
       "      <td>42</td>\n",
       "      <td>8.0</td>\n",
       "      <td>159660.80</td>\n",
       "      <td>3</td>\n",
       "      <td>1</td>\n",
       "      <td>0</td>\n",
       "      <td>113931.57</td>\n",
       "      <td>1</td>\n",
       "      <td>1</td>\n",
       "      <td>0</td>\n",
       "      <td>0</td>\n",
       "    </tr>\n",
       "    <tr>\n",
       "      <th>3</th>\n",
       "      <td>4</td>\n",
       "      <td>15701354</td>\n",
       "      <td>Boni</td>\n",
       "      <td>699</td>\n",
       "      <td>0.0</td>\n",
       "      <td>39</td>\n",
       "      <td>1.0</td>\n",
       "      <td>0.00</td>\n",
       "      <td>2</td>\n",
       "      <td>0</td>\n",
       "      <td>0</td>\n",
       "      <td>93826.63</td>\n",
       "      <td>0</td>\n",
       "      <td>1</td>\n",
       "      <td>0</td>\n",
       "      <td>0</td>\n",
       "    </tr>\n",
       "    <tr>\n",
       "      <th>4</th>\n",
       "      <td>5</td>\n",
       "      <td>15737888</td>\n",
       "      <td>Mitchell</td>\n",
       "      <td>850</td>\n",
       "      <td>0.0</td>\n",
       "      <td>43</td>\n",
       "      <td>2.0</td>\n",
       "      <td>125510.82</td>\n",
       "      <td>1</td>\n",
       "      <td>1</td>\n",
       "      <td>1</td>\n",
       "      <td>79084.10</td>\n",
       "      <td>0</td>\n",
       "      <td>0</td>\n",
       "      <td>0</td>\n",
       "      <td>1</td>\n",
       "    </tr>\n",
       "    <tr>\n",
       "      <th>...</th>\n",
       "      <td>...</td>\n",
       "      <td>...</td>\n",
       "      <td>...</td>\n",
       "      <td>...</td>\n",
       "      <td>...</td>\n",
       "      <td>...</td>\n",
       "      <td>...</td>\n",
       "      <td>...</td>\n",
       "      <td>...</td>\n",
       "      <td>...</td>\n",
       "      <td>...</td>\n",
       "      <td>...</td>\n",
       "      <td>...</td>\n",
       "      <td>...</td>\n",
       "      <td>...</td>\n",
       "      <td>...</td>\n",
       "    </tr>\n",
       "    <tr>\n",
       "      <th>9995</th>\n",
       "      <td>9996</td>\n",
       "      <td>15606229</td>\n",
       "      <td>Obijiaku</td>\n",
       "      <td>771</td>\n",
       "      <td>1.0</td>\n",
       "      <td>39</td>\n",
       "      <td>5.0</td>\n",
       "      <td>0.00</td>\n",
       "      <td>2</td>\n",
       "      <td>1</td>\n",
       "      <td>0</td>\n",
       "      <td>96270.64</td>\n",
       "      <td>0</td>\n",
       "      <td>1</td>\n",
       "      <td>0</td>\n",
       "      <td>0</td>\n",
       "    </tr>\n",
       "    <tr>\n",
       "      <th>9996</th>\n",
       "      <td>9997</td>\n",
       "      <td>15569892</td>\n",
       "      <td>Johnstone</td>\n",
       "      <td>516</td>\n",
       "      <td>1.0</td>\n",
       "      <td>35</td>\n",
       "      <td>10.0</td>\n",
       "      <td>57369.61</td>\n",
       "      <td>1</td>\n",
       "      <td>1</td>\n",
       "      <td>1</td>\n",
       "      <td>101699.77</td>\n",
       "      <td>0</td>\n",
       "      <td>1</td>\n",
       "      <td>0</td>\n",
       "      <td>0</td>\n",
       "    </tr>\n",
       "    <tr>\n",
       "      <th>9997</th>\n",
       "      <td>9998</td>\n",
       "      <td>15584532</td>\n",
       "      <td>Liu</td>\n",
       "      <td>709</td>\n",
       "      <td>0.0</td>\n",
       "      <td>36</td>\n",
       "      <td>7.0</td>\n",
       "      <td>0.00</td>\n",
       "      <td>1</td>\n",
       "      <td>0</td>\n",
       "      <td>1</td>\n",
       "      <td>42085.58</td>\n",
       "      <td>1</td>\n",
       "      <td>1</td>\n",
       "      <td>0</td>\n",
       "      <td>0</td>\n",
       "    </tr>\n",
       "    <tr>\n",
       "      <th>9998</th>\n",
       "      <td>9999</td>\n",
       "      <td>15682355</td>\n",
       "      <td>Sabbatini</td>\n",
       "      <td>772</td>\n",
       "      <td>1.0</td>\n",
       "      <td>42</td>\n",
       "      <td>3.0</td>\n",
       "      <td>75075.31</td>\n",
       "      <td>2</td>\n",
       "      <td>1</td>\n",
       "      <td>0</td>\n",
       "      <td>92888.52</td>\n",
       "      <td>1</td>\n",
       "      <td>0</td>\n",
       "      <td>1</td>\n",
       "      <td>0</td>\n",
       "    </tr>\n",
       "    <tr>\n",
       "      <th>9999</th>\n",
       "      <td>10000</td>\n",
       "      <td>15628319</td>\n",
       "      <td>Walker</td>\n",
       "      <td>792</td>\n",
       "      <td>0.0</td>\n",
       "      <td>28</td>\n",
       "      <td>5.0</td>\n",
       "      <td>130142.79</td>\n",
       "      <td>1</td>\n",
       "      <td>1</td>\n",
       "      <td>0</td>\n",
       "      <td>38190.78</td>\n",
       "      <td>0</td>\n",
       "      <td>1</td>\n",
       "      <td>0</td>\n",
       "      <td>0</td>\n",
       "    </tr>\n",
       "  </tbody>\n",
       "</table>\n",
       "<p>10000 rows × 16 columns</p>\n",
       "</div>"
      ],
      "text/plain": [
       "      RowNumber  CustomerId    Surname  CreditScore  Gender  Age  Tenure  \\\n",
       "0             1    15634602   Hargrave          619     0.0   42     2.0   \n",
       "1             2    15647311       Hill          608     0.0   41     1.0   \n",
       "2             3    15619304       Onio          502     0.0   42     8.0   \n",
       "3             4    15701354       Boni          699     0.0   39     1.0   \n",
       "4             5    15737888   Mitchell          850     0.0   43     2.0   \n",
       "...         ...         ...        ...          ...     ...  ...     ...   \n",
       "9995       9996    15606229   Obijiaku          771     1.0   39     5.0   \n",
       "9996       9997    15569892  Johnstone          516     1.0   35    10.0   \n",
       "9997       9998    15584532        Liu          709     0.0   36     7.0   \n",
       "9998       9999    15682355  Sabbatini          772     1.0   42     3.0   \n",
       "9999      10000    15628319     Walker          792     0.0   28     5.0   \n",
       "\n",
       "        Balance  NumOfProducts  HasCrCard  IsActiveMember  EstimatedSalary  \\\n",
       "0          0.00              1          1               1        101348.88   \n",
       "1      83807.86              1          0               1        112542.58   \n",
       "2     159660.80              3          1               0        113931.57   \n",
       "3          0.00              2          0               0         93826.63   \n",
       "4     125510.82              1          1               1         79084.10   \n",
       "...         ...            ...        ...             ...              ...   \n",
       "9995       0.00              2          1               0         96270.64   \n",
       "9996   57369.61              1          1               1        101699.77   \n",
       "9997       0.00              1          0               1         42085.58   \n",
       "9998   75075.31              2          1               0         92888.52   \n",
       "9999  130142.79              1          1               0         38190.78   \n",
       "\n",
       "      Exited  France  Germany  Spain  \n",
       "0          1       1        0      0  \n",
       "1          0       0        0      1  \n",
       "2          1       1        0      0  \n",
       "3          0       1        0      0  \n",
       "4          0       0        0      1  \n",
       "...      ...     ...      ...    ...  \n",
       "9995       0       1        0      0  \n",
       "9996       0       1        0      0  \n",
       "9997       1       1        0      0  \n",
       "9998       1       0        1      0  \n",
       "9999       0       1        0      0  \n",
       "\n",
       "[10000 rows x 16 columns]"
      ]
     },
     "execution_count": 23,
     "metadata": {},
     "output_type": "execute_result"
    }
   ],
   "source": [
    "# вставим новые значения\n",
    "data['France'] = data_ohe['Geography_France']\n",
    "data['Germany'] = data_ohe['Geography_Germany']\n",
    "data['Spain'] = data_ohe['Geography_Spain']\n",
    "data = data.drop('Geography', axis=1)\n",
    "data"
   ]
  },
  {
   "cell_type": "markdown",
   "metadata": {},
   "source": [
    "Уберём такие лишние данные, как индекс строки в данных (`RowNumber`),\n",
    "уникальный идентификатор клиента (`CustomerId`), фамилия (`Surname`)."
   ]
  },
  {
   "cell_type": "code",
   "execution_count": 24,
   "metadata": {},
   "outputs": [
    {
     "data": {
      "text/html": [
       "<div>\n",
       "<style scoped>\n",
       "    .dataframe tbody tr th:only-of-type {\n",
       "        vertical-align: middle;\n",
       "    }\n",
       "\n",
       "    .dataframe tbody tr th {\n",
       "        vertical-align: top;\n",
       "    }\n",
       "\n",
       "    .dataframe thead th {\n",
       "        text-align: right;\n",
       "    }\n",
       "</style>\n",
       "<table border=\"1\" class=\"dataframe\">\n",
       "  <thead>\n",
       "    <tr style=\"text-align: right;\">\n",
       "      <th></th>\n",
       "      <th>CreditScore</th>\n",
       "      <th>Gender</th>\n",
       "      <th>Age</th>\n",
       "      <th>Tenure</th>\n",
       "      <th>Balance</th>\n",
       "      <th>NumOfProducts</th>\n",
       "      <th>HasCrCard</th>\n",
       "      <th>IsActiveMember</th>\n",
       "      <th>EstimatedSalary</th>\n",
       "      <th>Exited</th>\n",
       "      <th>France</th>\n",
       "      <th>Germany</th>\n",
       "      <th>Spain</th>\n",
       "    </tr>\n",
       "  </thead>\n",
       "  <tbody>\n",
       "    <tr>\n",
       "      <th>0</th>\n",
       "      <td>619</td>\n",
       "      <td>0.0</td>\n",
       "      <td>42</td>\n",
       "      <td>2.0</td>\n",
       "      <td>0.00</td>\n",
       "      <td>1</td>\n",
       "      <td>1</td>\n",
       "      <td>1</td>\n",
       "      <td>101348.88</td>\n",
       "      <td>1</td>\n",
       "      <td>1</td>\n",
       "      <td>0</td>\n",
       "      <td>0</td>\n",
       "    </tr>\n",
       "    <tr>\n",
       "      <th>1</th>\n",
       "      <td>608</td>\n",
       "      <td>0.0</td>\n",
       "      <td>41</td>\n",
       "      <td>1.0</td>\n",
       "      <td>83807.86</td>\n",
       "      <td>1</td>\n",
       "      <td>0</td>\n",
       "      <td>1</td>\n",
       "      <td>112542.58</td>\n",
       "      <td>0</td>\n",
       "      <td>0</td>\n",
       "      <td>0</td>\n",
       "      <td>1</td>\n",
       "    </tr>\n",
       "    <tr>\n",
       "      <th>2</th>\n",
       "      <td>502</td>\n",
       "      <td>0.0</td>\n",
       "      <td>42</td>\n",
       "      <td>8.0</td>\n",
       "      <td>159660.80</td>\n",
       "      <td>3</td>\n",
       "      <td>1</td>\n",
       "      <td>0</td>\n",
       "      <td>113931.57</td>\n",
       "      <td>1</td>\n",
       "      <td>1</td>\n",
       "      <td>0</td>\n",
       "      <td>0</td>\n",
       "    </tr>\n",
       "    <tr>\n",
       "      <th>3</th>\n",
       "      <td>699</td>\n",
       "      <td>0.0</td>\n",
       "      <td>39</td>\n",
       "      <td>1.0</td>\n",
       "      <td>0.00</td>\n",
       "      <td>2</td>\n",
       "      <td>0</td>\n",
       "      <td>0</td>\n",
       "      <td>93826.63</td>\n",
       "      <td>0</td>\n",
       "      <td>1</td>\n",
       "      <td>0</td>\n",
       "      <td>0</td>\n",
       "    </tr>\n",
       "    <tr>\n",
       "      <th>4</th>\n",
       "      <td>850</td>\n",
       "      <td>0.0</td>\n",
       "      <td>43</td>\n",
       "      <td>2.0</td>\n",
       "      <td>125510.82</td>\n",
       "      <td>1</td>\n",
       "      <td>1</td>\n",
       "      <td>1</td>\n",
       "      <td>79084.10</td>\n",
       "      <td>0</td>\n",
       "      <td>0</td>\n",
       "      <td>0</td>\n",
       "      <td>1</td>\n",
       "    </tr>\n",
       "    <tr>\n",
       "      <th>...</th>\n",
       "      <td>...</td>\n",
       "      <td>...</td>\n",
       "      <td>...</td>\n",
       "      <td>...</td>\n",
       "      <td>...</td>\n",
       "      <td>...</td>\n",
       "      <td>...</td>\n",
       "      <td>...</td>\n",
       "      <td>...</td>\n",
       "      <td>...</td>\n",
       "      <td>...</td>\n",
       "      <td>...</td>\n",
       "      <td>...</td>\n",
       "    </tr>\n",
       "    <tr>\n",
       "      <th>9995</th>\n",
       "      <td>771</td>\n",
       "      <td>1.0</td>\n",
       "      <td>39</td>\n",
       "      <td>5.0</td>\n",
       "      <td>0.00</td>\n",
       "      <td>2</td>\n",
       "      <td>1</td>\n",
       "      <td>0</td>\n",
       "      <td>96270.64</td>\n",
       "      <td>0</td>\n",
       "      <td>1</td>\n",
       "      <td>0</td>\n",
       "      <td>0</td>\n",
       "    </tr>\n",
       "    <tr>\n",
       "      <th>9996</th>\n",
       "      <td>516</td>\n",
       "      <td>1.0</td>\n",
       "      <td>35</td>\n",
       "      <td>10.0</td>\n",
       "      <td>57369.61</td>\n",
       "      <td>1</td>\n",
       "      <td>1</td>\n",
       "      <td>1</td>\n",
       "      <td>101699.77</td>\n",
       "      <td>0</td>\n",
       "      <td>1</td>\n",
       "      <td>0</td>\n",
       "      <td>0</td>\n",
       "    </tr>\n",
       "    <tr>\n",
       "      <th>9997</th>\n",
       "      <td>709</td>\n",
       "      <td>0.0</td>\n",
       "      <td>36</td>\n",
       "      <td>7.0</td>\n",
       "      <td>0.00</td>\n",
       "      <td>1</td>\n",
       "      <td>0</td>\n",
       "      <td>1</td>\n",
       "      <td>42085.58</td>\n",
       "      <td>1</td>\n",
       "      <td>1</td>\n",
       "      <td>0</td>\n",
       "      <td>0</td>\n",
       "    </tr>\n",
       "    <tr>\n",
       "      <th>9998</th>\n",
       "      <td>772</td>\n",
       "      <td>1.0</td>\n",
       "      <td>42</td>\n",
       "      <td>3.0</td>\n",
       "      <td>75075.31</td>\n",
       "      <td>2</td>\n",
       "      <td>1</td>\n",
       "      <td>0</td>\n",
       "      <td>92888.52</td>\n",
       "      <td>1</td>\n",
       "      <td>0</td>\n",
       "      <td>1</td>\n",
       "      <td>0</td>\n",
       "    </tr>\n",
       "    <tr>\n",
       "      <th>9999</th>\n",
       "      <td>792</td>\n",
       "      <td>0.0</td>\n",
       "      <td>28</td>\n",
       "      <td>5.0</td>\n",
       "      <td>130142.79</td>\n",
       "      <td>1</td>\n",
       "      <td>1</td>\n",
       "      <td>0</td>\n",
       "      <td>38190.78</td>\n",
       "      <td>0</td>\n",
       "      <td>1</td>\n",
       "      <td>0</td>\n",
       "      <td>0</td>\n",
       "    </tr>\n",
       "  </tbody>\n",
       "</table>\n",
       "<p>10000 rows × 13 columns</p>\n",
       "</div>"
      ],
      "text/plain": [
       "      CreditScore  Gender  Age  Tenure    Balance  NumOfProducts  HasCrCard  \\\n",
       "0             619     0.0   42     2.0       0.00              1          1   \n",
       "1             608     0.0   41     1.0   83807.86              1          0   \n",
       "2             502     0.0   42     8.0  159660.80              3          1   \n",
       "3             699     0.0   39     1.0       0.00              2          0   \n",
       "4             850     0.0   43     2.0  125510.82              1          1   \n",
       "...           ...     ...  ...     ...        ...            ...        ...   \n",
       "9995          771     1.0   39     5.0       0.00              2          1   \n",
       "9996          516     1.0   35    10.0   57369.61              1          1   \n",
       "9997          709     0.0   36     7.0       0.00              1          0   \n",
       "9998          772     1.0   42     3.0   75075.31              2          1   \n",
       "9999          792     0.0   28     5.0  130142.79              1          1   \n",
       "\n",
       "      IsActiveMember  EstimatedSalary  Exited  France  Germany  Spain  \n",
       "0                  1        101348.88       1       1        0      0  \n",
       "1                  1        112542.58       0       0        0      1  \n",
       "2                  0        113931.57       1       1        0      0  \n",
       "3                  0         93826.63       0       1        0      0  \n",
       "4                  1         79084.10       0       0        0      1  \n",
       "...              ...              ...     ...     ...      ...    ...  \n",
       "9995               0         96270.64       0       1        0      0  \n",
       "9996               1        101699.77       0       1        0      0  \n",
       "9997               1         42085.58       1       1        0      0  \n",
       "9998               0         92888.52       1       0        1      0  \n",
       "9999               0         38190.78       0       1        0      0  \n",
       "\n",
       "[10000 rows x 13 columns]"
      ]
     },
     "execution_count": 24,
     "metadata": {},
     "output_type": "execute_result"
    }
   ],
   "source": [
    "# убираем лишние данные\n",
    "data = data.drop('RowNumber', axis=1)\n",
    "data = data.drop('CustomerId', axis=1)\n",
    "data = data.drop('Surname', axis=1)\n",
    "data"
   ]
  },
  {
   "cell_type": "markdown",
   "metadata": {},
   "source": [
    "### Разделение выборки на три части\n",
    "\n",
    "Разделяем признаки и целевой признак"
   ]
  },
  {
   "cell_type": "code",
   "execution_count": 26,
   "metadata": {},
   "outputs": [],
   "source": [
    "# разделяем последовательно на три части\n",
    "train, data_ = train_test_split(data, test_size=0.4, random_state=12345) \n",
    "valid, test = train_test_split(data_, test_size=0.5, random_state=12345)"
   ]
  },
  {
   "cell_type": "markdown",
   "metadata": {},
   "source": [
    "### Масштабирование"
   ]
  },
  {
   "cell_type": "code",
   "execution_count": 27,
   "metadata": {},
   "outputs": [],
   "source": [
    "# разделяем последовательно на три части\n",
    "train, data_ = train_test_split(data, test_size=0.4, random_state=12345) \n",
    "valid, test = train_test_split(data_, test_size=0.5, random_state=12345)"
   ]
  },
  {
   "cell_type": "markdown",
   "metadata": {},
   "source": [
    "Обучим на тренировочной выборке и промасштабируем весь датасет."
   ]
  },
  {
   "cell_type": "code",
   "execution_count": 29,
   "metadata": {},
   "outputs": [
    {
     "name": "stdout",
     "output_type": "stream",
     "text": [
      "   CreditScore  Gender       Age  Tenure   Balance  NumOfProducts  HasCrCard  \\\n",
      "0    -0.346740     0.0  0.291132     2.0 -1.233163              1          1   \n",
      "1    -0.460973     0.0  0.196229     1.0  0.116098              1          0   \n",
      "2    -1.561764     0.0  0.291132     8.0  1.337288              3          1   \n",
      "3     0.484045     0.0  0.006422     1.0 -1.233163              2          0   \n",
      "4     2.052152     0.0  0.386035     2.0  0.787493              1          1   \n",
      "\n",
      "   IsActiveMember  EstimatedSalary  Exited  France  Germany  Spain  \n",
      "0               1         0.032070       1       1        0      0  \n",
      "1               1         0.225935       0       0        0      1  \n",
      "2               0         0.249991       1       1        0      0  \n",
      "3               0        -0.098208       0       1        0      0  \n",
      "4               1        -0.353535       0       0        0      1  \n"
     ]
    }
   ],
   "source": [
    "numeric = ['CreditScore', 'Age', 'Balance', 'EstimatedSalary']\n",
    "pd.options.mode.chained_assignment = None\n",
    "\n",
    "scaler = StandardScaler()\n",
    "\n",
    "scaler.fit(train[numeric])\n",
    "\n",
    "data[numeric] = scaler.transform(data[numeric])\n",
    "\n",
    "# data = scaler.transform(data[numeric])\n",
    "\n",
    "print(data.head())"
   ]
  },
  {
   "cell_type": "markdown",
   "metadata": {},
   "source": [
    "Всё масштабируется нормально."
   ]
  },
  {
   "cell_type": "markdown",
   "metadata": {},
   "source": [
    "### Разделение выборки на обучающие признаки и целевой\n",
    "\n",
    "Разделение выборки на обучающие признаки и целевой"
   ]
  },
  {
   "cell_type": "code",
   "execution_count": 32,
   "metadata": {},
   "outputs": [],
   "source": [
    "# разделяем последовательно на три части\n",
    "train, data_ = train_test_split(data, test_size=0.4, random_state=12345) \n",
    "valid, test = train_test_split(data_, test_size=0.5, random_state=12345)\n",
    "\n",
    "# создаём обучающую выборку\n",
    "features_train = train.drop(['Exited'], axis=1)\n",
    "target_train = train['Exited']\n",
    "# создаём валидационную выборку\n",
    "features_valid = valid.drop(['Exited'], axis=1)\n",
    "target_valid = valid['Exited']\n",
    "# создаём тестовую выборку\n",
    "features_test = test.drop(['Exited'], axis=1)\n",
    "target_test = test['Exited']"
   ]
  },
  {
   "cell_type": "markdown",
   "metadata": {},
   "source": [
    "Проверим результат."
   ]
  },
  {
   "cell_type": "code",
   "execution_count": 34,
   "metadata": {},
   "outputs": [
    {
     "name": "stdout",
     "output_type": "stream",
     "text": [
      "Проверим разделение.\n",
      "Обучающая выборка 6000 60 %\n",
      "Валидационная выборка 2000 20 %\n",
      "Тестовая выборка 2000 20 %\n",
      "Вся выборка 6000 100 %\n"
     ]
    }
   ],
   "source": [
    "a1 = features_train.shape[0]\n",
    "a2 = features_valid.shape[0]\n",
    "a3 = features_test.shape[0]\n",
    "a = data.shape[0]\n",
    "print('Проверим разделение.')\n",
    "print('Обучающая выборка', a1, round(100 * a1 / a), '%')\n",
    "print('Валидационная выборка', a2, round(100 * a2 / a), '%')\n",
    "print('Тестовая выборка', a3, round(100 * a3 / a), '%')\n",
    "print('Вся выборка', a1, round(100 * (a1+a2+a3) / a), '%')"
   ]
  },
  {
   "cell_type": "markdown",
   "metadata": {},
   "source": [
    "Всё данные разделены правильно."
   ]
  },
  {
   "cell_type": "markdown",
   "metadata": {},
   "source": [
    "### Выводы\n",
    "\n",
    "Мы загрузили данные и подготовили их, проведя кодирование и масштабирование. Всё, данные готовы к анализу."
   ]
  },
  {
   "cell_type": "markdown",
   "metadata": {},
   "source": [
    "## Исследование задачи\n",
    "\n",
    "Исследуем, имеется ли у нас дисбаланс в классах."
   ]
  },
  {
   "cell_type": "code",
   "execution_count": 31,
   "metadata": {
    "scrolled": true
   },
   "outputs": [
    {
     "data": {
      "text/plain": [
       "<AxesSubplot:>"
      ]
     },
     "execution_count": 31,
     "metadata": {},
     "output_type": "execute_result"
    },
    {
     "data": {
      "image/png": "[encoded data removed]",
      "text/plain": [
       "<Figure size 432x288 with 1 Axes>"
      ]
     },
     "metadata": {
      "needs_background": "light"
     },
     "output_type": "display_data"
    }
   ],
   "source": [
    "data['Exited'].hist()"
   ]
  },
  {
   "cell_type": "markdown",
   "metadata": {},
   "source": [
    "### Логистическая регрессия\n",
    "\n",
    "Используем модель логистической регрессии."
   ]
  },
  {
   "cell_type": "code",
   "execution_count": 115,
   "metadata": {},
   "outputs": [],
   "source": [
    "model = LogisticRegression(solver=\"liblinear\", random_state=0)\n",
    "model.fit(features_train, target_train)\n",
    "predictions = model.predict(features_valid)"
   ]
  },
  {
   "cell_type": "markdown",
   "metadata": {},
   "source": [
    "##### Метрики"
   ]
  },
  {
   "cell_type": "code",
   "execution_count": 116,
   "metadata": {},
   "outputs": [
    {
     "name": "stdout",
     "output_type": "stream",
     "text": [
      "Полнота: 0.19626168224299065\n",
      "Точность: 0.5769230769230769\n",
      "F1-мера: 0.2928870292887029\n"
     ]
    }
   ],
   "source": [
    "precision = precision_score(target_valid, predictions)\n",
    "recall = recall_score(target_valid, predictions)\n",
    "f1 = f1_score(target_valid, predictions)\n",
    "\n",
    "print(\"Полнота:\", recall)\n",
    "print(\"Точность:\", precision)\n",
    "print('F1-мера:', f1)"
   ]
  },
  {
   "cell_type": "markdown",
   "metadata": {},
   "source": [
    "##### ROC-кривая\n",
    "\n",
    "Построим ROC-кривую."
   ]
  },
  {
   "cell_type": "code",
   "execution_count": 119,
   "metadata": {},
   "outputs": [
    {
     "name": "stdout",
     "output_type": "stream",
     "text": [
      "(10000, 2)\n"
     ]
    },
    {
     "data": {
      "image/png": "[encoded data removed]",
      "text/plain": [
       "<Figure size 432x288 with 1 Axes>"
      ]
     },
     "metadata": {
      "needs_background": "light"
     },
     "output_type": "display_data"
    }
   ],
   "source": [
    "probabilities_valid = model.predict_proba(features_valid)\n",
    "probabilities_one_valid = probabilities_valid[:, 1]\n",
    "\n",
    "probabilities = model.predict_proba(features) \n",
    "print(probabilities.shape)\n",
    "\n",
    "fpr, tpr, thresholds = roc_curve(target_valid, probabilities_one_valid)\n",
    "\n",
    "plt.figure()\n",
    "plt.plot(fpr, tpr)\n",
    "plt.xlim([0.0, 1.0])\n",
    "plt.ylim([0.0, 1.0])\n",
    "plt.xlabel('False Positive Rate')\n",
    "plt.ylabel('True Positive Rate')\n",
    "plt.title('ROC-кривая')\n",
    "plt.show()"
   ]
  },
  {
   "cell_type": "markdown",
   "metadata": {},
   "source": [
    "##### AUC-ROC\n",
    "\n",
    "Посчитаем AUC-ROC"
   ]
  },
  {
   "cell_type": "code",
   "execution_count": 118,
   "metadata": {},
   "outputs": [
    {
     "name": "stdout",
     "output_type": "stream",
     "text": [
      "AUC-ROC 0.7585588927730613\n"
     ]
    }
   ],
   "source": [
    "probabilities_valid = model.predict_proba(features_valid)\n",
    "probabilities_one_valid = probabilities_valid[:, 1]\n",
    "\n",
    "auc_roc = roc_auc_score(target_valid, probabilities_one_valid)\n",
    "\n",
    "print('AUC-ROC', auc_roc)"
   ]
  },
  {
   "cell_type": "markdown",
   "metadata": {},
   "source": [
    "#### Решающие деревья\n",
    "\n",
    "Используем модель решающих деревьев."
   ]
  },
  {
   "cell_type": "code",
   "execution_count": 123,
   "metadata": {},
   "outputs": [
    {
     "name": "stdout",
     "output_type": "stream",
     "text": [
      "Лучшая модель: 2  - макс.глубина. F1-мера: 0.5287846481876333\n",
      "Лучшая модель: 5  - макс.глубина. F1-мера: 0.5707762557077625\n"
     ]
    },
    {
     "data": {
      "image/png": "[encoded data removed]",
      "text/plain": [
       "<Figure size 432x288 with 1 Axes>"
      ]
     },
     "metadata": {
      "needs_background": "light"
     },
     "output_type": "display_data"
    }
   ],
   "source": [
    "x = []\n",
    "y = []\n",
    "best_depth = 0\n",
    "best_f1 = 0\n",
    "for depth in range(1, 100):\n",
    "    model = DecisionTreeClassifier(max_depth=depth, random_state=12345)\n",
    "    model.fit(features_train, target_train)\n",
    "    predictions = model.predict(features_valid)\n",
    "    x.append(depth)\n",
    "    f1 = f1_score(target_valid, predictions)\n",
    "    y.append(f1)\n",
    "    if f1 > best_f1:\n",
    "        best_depth = depth\n",
    "        best_f1 = f1\n",
    "        print('Лучшая модель:', depth, ' - макс.глубина. F1-мера:', f1)\n",
    "    \n",
    "plt.figure()\n",
    "plt.plot(x, y)\n",
    "plt.xlabel('Максимальная глубина дерева')\n",
    "plt.ylabel('F1-мера')\n",
    "plt.title('Зависимость F1-меры от максимальной глубины')\n",
    "plt.show()"
   ]
  },
  {
   "cell_type": "code",
   "execution_count": 124,
   "metadata": {},
   "outputs": [],
   "source": [
    "model = DecisionTreeClassifier(max_depth=5, random_state=12345)\n",
    "model.fit(features_train, target_train)\n",
    "predictions = model.predict(features_valid)"
   ]
  },
  {
   "cell_type": "markdown",
   "metadata": {},
   "source": [
    "#### Метрики"
   ]
  },
  {
   "cell_type": "code",
   "execution_count": 125,
   "metadata": {},
   "outputs": [
    {
     "name": "stdout",
     "output_type": "stream",
     "text": [
      "Полнота: 0.4672897196261682\n",
      "Точность: 0.7331378299120235\n",
      "F1-мера: 0.5707762557077625\n"
     ]
    }
   ],
   "source": [
    "precision = precision_score(target_valid, predictions)\n",
    "recall = recall_score(target_valid, predictions)\n",
    "f1 = f1_score(target_valid, predictions)\n",
    "\n",
    "print(\"Полнота:\", recall)\n",
    "print(\"Точность:\", precision)\n",
    "print('F1-мера:', f1)"
   ]
  },
  {
   "cell_type": "code",
   "execution_count": null,
   "metadata": {},
   "outputs": [],
   "source": []
  },
  {
   "cell_type": "markdown",
   "metadata": {},
   "source": [
    "#### ROC-кривая\n",
    "\n",
    "Построим ROC-кривую."
   ]
  },
  {
   "cell_type": "code",
   "execution_count": 126,
   "metadata": {
    "scrolled": true
   },
   "outputs": [
    {
     "name": "stdout",
     "output_type": "stream",
     "text": [
      "(10000, 2)\n"
     ]
    },
    {
     "data": {
      "image/png": "[encoded data removed]",
      "text/plain": [
       "<Figure size 432x288 with 1 Axes>"
      ]
     },
     "metadata": {
      "needs_background": "light"
     },
     "output_type": "display_data"
    }
   ],
   "source": [
    "probabilities_valid = model.predict_proba(features_valid)\n",
    "probabilities_one_valid = probabilities_valid[:, 1]\n",
    "\n",
    "probabilities = model.predict_proba(features) \n",
    "print(probabilities.shape)\n",
    "\n",
    "fpr, tpr, thresholds = roc_curve(target_valid, probabilities_one_valid)\n",
    "\n",
    "plt.figure()\n",
    "plt.plot(fpr, tpr)\n",
    "plt.xlim([0.0, 1.0])\n",
    "plt.ylim([0.0, 1.0])\n",
    "plt.xlabel('False Positive Rate')\n",
    "plt.ylabel('True Positive Rate')\n",
    "plt.title('ROC-кривая')\n",
    "plt.show()"
   ]
  },
  {
   "cell_type": "markdown",
   "metadata": {},
   "source": [
    "#### AUC-ROC\n",
    "\n",
    "Посчитаем AUC-ROC/"
   ]
  },
  {
   "cell_type": "code",
   "execution_count": 127,
   "metadata": {},
   "outputs": [
    {
     "name": "stdout",
     "output_type": "stream",
     "text": [
      "AUC-ROC 0.8439946731350028\n"
     ]
    }
   ],
   "source": [
    "probabilities_valid = model.predict_proba(features_valid)\n",
    "probabilities_one_valid = probabilities_valid[:, 1]\n",
    "\n",
    "auc_roc = roc_auc_score(target_valid, probabilities_one_valid)\n",
    "\n",
    "print('AUC-ROC', auc_roc)"
   ]
  },
  {
   "cell_type": "markdown",
   "metadata": {},
   "source": [
    "### Случайный лес\n",
    "\n",
    "Используем модель случайного леса."
   ]
  },
  {
   "cell_type": "code",
   "execution_count": 130,
   "metadata": {},
   "outputs": [
    {
     "name": "stdout",
     "output_type": "stream",
     "text": [
      "Лучшая модель: 1  - макс.глубина. F1-мера: 0.3286516853932585\n",
      "Лучшая модель: 2  - макс.глубина. F1-мера: 0.4644295302013422\n",
      "Лучшая модель: 3  - макс.глубина. F1-мера: 0.4727755644090305\n",
      "Лучшая модель: 5  - макс.глубина. F1-мера: 0.48128342245989303\n"
     ]
    },
    {
     "data": {
      "image/png": "[encoded data removed]",
      "text/plain": [
       "<Figure size 432x288 with 1 Axes>"
      ]
     },
     "metadata": {
      "needs_background": "light"
     },
     "output_type": "display_data"
    }
   ],
   "source": [
    "x = []\n",
    "y = []\n",
    "best_n = 0\n",
    "best_f1 = 0\n",
    "for n in range(1, 100):\n",
    "    model = RandomForestClassifier(n_estimators=n,max_depth=5, random_state=12345)\n",
    "    model.fit(features_train, target_train)\n",
    "    predictions = model.predict(features_valid)\n",
    "    x.append(n)\n",
    "    f1 = f1_score(target_valid, predictions)\n",
    "    y.append(f1)\n",
    "    if f1 > best_f1:\n",
    "        best_n = n\n",
    "        best_f1 = f1\n",
    "        print('Лучшая модель:', n, ' - количество деревьев. F1-мера:', f1)\n",
    "    \n",
    "plt.figure()\n",
    "plt.plot(x, y)\n",
    "plt.xlabel('Количество деревьев')\n",
    "plt.ylabel('F1-мера')\n",
    "plt.title('Зависимость F1-меры от количества деревьев')\n",
    "plt.show()"
   ]
  },
  {
   "cell_type": "code",
   "execution_count": 134,
   "metadata": {},
   "outputs": [
    {
     "name": "stdout",
     "output_type": "stream",
     "text": [
      "Лучшая модель: 5  - количество деревьев. F1-мера: 5  - макс.глубина. F1-мера: 0.481\n",
      "Лучшая модель: 5  - количество деревьев. F1-мера: 10  - макс.глубина. F1-мера: 0.522\n",
      "Лучшая модель: 5  - количество деревьев. F1-мера: 20  - макс.глубина. F1-мера: 0.526\n",
      "Лучшая модель: 10  - количество деревьев. F1-мера: 10  - макс.глубина. F1-мера: 0.549\n",
      "Лучшая модель: 15  - количество деревьев. F1-мера: 15  - макс.глубина. F1-мера: 0.559\n",
      "Лучшая модель: 15  - количество деревьев. F1-мера: 20  - макс.глубина. F1-мера: 0.581\n",
      "Лучшая модель: 55  - количество деревьев. F1-мера: 20  - макс.глубина. F1-мера: 0.584\n",
      "Лучшая модель: 55  - количество деревьев. F1-мера: 25  - макс.глубина. F1-мера: 0.584\n",
      "Итоговая модель: 55  - количество деревьев. F1-мера: 25  - макс.глубина. F1-мера: 0.584\n"
     ]
    }
   ],
   "source": [
    "x = []\n",
    "y = []\n",
    "best_n = 0\n",
    "best_f1 = 0\n",
    "best_depth = 0\n",
    "for n in range(5, 100, 5):\n",
    "    for depth in range(5, 100, 5):\n",
    "        model = RandomForestClassifier(n_estimators=n,max_depth=depth, random_state=12345)\n",
    "        model.fit(features_train, target_train)\n",
    "        predictions = model.predict(features_valid)\n",
    "        f1 = f1_score(target_valid, predictions)\n",
    "        if f1 > best_f1:\n",
    "            best_depth = depth\n",
    "            best_n = n\n",
    "            best_f1 = f1\n",
    "            print('Лучшая модель:', best_n, ' - количество деревьев. F1-мера:', best_depth, ' - макс.глубина. F1-мера:',round(best_f1, 3))\n",
    "\n",
    "print('Итоговая модель:', best_n, ' - количество деревьев. F1-мера:', best_depth, ' - макс.глубина. F1-мера:',round(best_f1, 3))"
   ]
  },
  {
   "cell_type": "code",
   "execution_count": 135,
   "metadata": {},
   "outputs": [
    {
     "name": "stdout",
     "output_type": "stream",
     "text": [
      "Лучшая модель: 40  - количество деревьев. F1-мера: 10  - макс.глубина. F1-мера: 0.548\n",
      "Лучшая модель: 40  - количество деревьев. F1-мера: 11  - макс.глубина. F1-мера: 0.553\n",
      "Лучшая модель: 40  - количество деревьев. F1-мера: 12  - макс.глубина. F1-мера: 0.555\n",
      "Лучшая модель: 40  - количество деревьев. F1-мера: 13  - макс.глубина. F1-мера: 0.567\n",
      "Лучшая модель: 40  - количество деревьев. F1-мера: 14  - макс.глубина. F1-мера: 0.576\n",
      "Лучшая модель: 40  - количество деревьев. F1-мера: 18  - макс.глубина. F1-мера: 0.579\n",
      "Лучшая модель: 41  - количество деревьев. F1-мера: 18  - макс.глубина. F1-мера: 0.584\n",
      "Лучшая модель: 42  - количество деревьев. F1-мера: 18  - макс.глубина. F1-мера: 0.589\n",
      "Лучшая модель: 43  - количество деревьев. F1-мера: 18  - макс.глубина. F1-мера: 0.594\n",
      "Лучшая модель: 47  - количество деревьев. F1-мера: 18  - макс.глубина. F1-мера: 0.596\n",
      "Итоговая модель: 47  - количество деревьев. F1-мера: 18  - макс.глубина. F1-мера: 0.596\n"
     ]
    }
   ],
   "source": [
    "x = []\n",
    "y = []\n",
    "best_n = 0\n",
    "best_f1 = 0\n",
    "best_depth = 0\n",
    "for n in range(40, 60):\n",
    "    for depth in range(10, 30):\n",
    "        model = RandomForestClassifier(n_estimators=n,max_depth=depth, random_state=12345)\n",
    "        model.fit(features_train, target_train)\n",
    "        predictions = model.predict(features_valid)\n",
    "        f1 = f1_score(target_valid, predictions)\n",
    "        if f1 > best_f1:\n",
    "            best_depth = depth\n",
    "            best_n = n\n",
    "            best_f1 = f1\n",
    "            print('Лучшая модель:', best_n, ' - количество деревьев. F1-мера:', best_depth, ' - макс.глубина. F1-мера:',round(best_f1, 3))\n",
    "\n",
    "print('Итоговая модель:', best_n, ' - количество деревьев. F1-мера:', best_depth, ' - макс.глубина. F1-мера:',round(best_f1, 3))"
   ]
  },
  {
   "cell_type": "code",
   "execution_count": 136,
   "metadata": {},
   "outputs": [],
   "source": [
    "model = RandomForestClassifier(n_estimators=47,max_depth=18, random_state=12345)\n",
    "model.fit(features_train, target_train)\n",
    "predictions = model.predict(features_valid)"
   ]
  },
  {
   "cell_type": "markdown",
   "metadata": {},
   "source": [
    "#### Метрики"
   ]
  },
  {
   "cell_type": "code",
   "execution_count": 137,
   "metadata": {},
   "outputs": [
    {
     "name": "stdout",
     "output_type": "stream",
     "text": [
      "Полнота: 0.4803738317757009\n",
      "Точность: 0.7835365853658537\n",
      "F1-мера: 0.5955967555040556\n"
     ]
    }
   ],
   "source": [
    "precision = precision_score(target_valid, predictions)\n",
    "recall = recall_score(target_valid, predictions)\n",
    "f1 = f1_score(target_valid, predictions)\n",
    "\n",
    "print(\"Полнота:\", recall)\n",
    "print(\"Точность:\", precision)\n",
    "print('F1-мера:', f1)"
   ]
  },
  {
   "cell_type": "markdown",
   "metadata": {},
   "source": [
    "#### ROC-кривая\n",
    "\n",
    "Построим ROC-кривую."
   ]
  },
  {
   "cell_type": "code",
   "execution_count": 138,
   "metadata": {},
   "outputs": [
    {
     "name": "stdout",
     "output_type": "stream",
     "text": [
      "(10000, 2)\n"
     ]
    },
    {
     "data": {
      "image/png": "[encoded data removed]",
      "text/plain": [
       "<Figure size 432x288 with 1 Axes>"
      ]
     },
     "metadata": {
      "needs_background": "light"
     },
     "output_type": "display_data"
    }
   ],
   "source": [
    "probabilities_valid = model.predict_proba(features_valid)\n",
    "probabilities_one_valid = probabilities_valid[:, 1]\n",
    "\n",
    "probabilities = model.predict_proba(features) \n",
    "print(probabilities.shape)\n",
    "\n",
    "fpr, tpr, thresholds = roc_curve(target_valid, probabilities_one_valid)\n",
    "\n",
    "plt.figure()\n",
    "plt.plot(fpr, tpr)\n",
    "plt.xlim([0.0, 1.0])\n",
    "plt.ylim([0.0, 1.0])\n",
    "plt.xlabel('False Positive Rate')\n",
    "plt.ylabel('True Positive Rate')\n",
    "plt.title('ROC-кривая')\n",
    "plt.show()\n",
    "#roc_auc = roc_auc_score(target_valid, model.decision_function(features_valid))\n",
    "#print('AUC-ROC', roc_auc)"
   ]
  },
  {
   "cell_type": "markdown",
   "metadata": {},
   "source": [
    "#### AUC-ROC\n",
    "\n",
    "Посчитаем AUC-ROC."
   ]
  },
  {
   "cell_type": "code",
   "execution_count": 139,
   "metadata": {},
   "outputs": [
    {
     "name": "stdout",
     "output_type": "stream",
     "text": [
      "AUC-ROC 0.8482785189412856\n"
     ]
    }
   ],
   "source": [
    "probabilities_valid = model.predict_proba(features_valid)\n",
    "probabilities_one_valid = probabilities_valid[:, 1]\n",
    "\n",
    "auc_roc = roc_auc_score(target_valid, probabilities_one_valid)\n",
    "\n",
    "print('AUC-ROC', auc_roc)"
   ]
  },
  {
   "cell_type": "markdown",
   "metadata": {},
   "source": [
    "**Выводы:** Хороших показателей модели могут достигаить и без учёта дмсбаласа. Однако лучше всё-таки это исправить."
   ]
  },
  {
   "cell_type": "markdown",
   "metadata": {},
   "source": [
    "## Борьба с дисбалансом"
   ]
  },
  {
   "cell_type": "code",
   "execution_count": 35,
   "metadata": {},
   "outputs": [],
   "source": [
    "target = data['Exited']\n",
    "features = data.drop('Exited', axis=1)"
   ]
  },
  {
   "cell_type": "markdown",
   "metadata": {},
   "source": [
    "Посмотрим на сбалансированность класса."
   ]
  },
  {
   "cell_type": "code",
   "execution_count": 36,
   "metadata": {},
   "outputs": [
    {
     "data": {
      "text/plain": [
       "<AxesSubplot:>"
      ]
     },
     "execution_count": 36,
     "metadata": {},
     "output_type": "execute_result"
    },
    {
     "data": {
      "image/png": "[encoded data removed]",
      "text/plain": [
       "<Figure size 432x288 with 1 Axes>"
      ]
     },
     "metadata": {
      "needs_background": "light"
     },
     "output_type": "display_data"
    }
   ],
   "source": [
    "target.hist()"
   ]
  },
  {
   "cell_type": "markdown",
   "metadata": {},
   "source": [
    "Как видим, классы сильно несбалансированы."
   ]
  },
  {
   "cell_type": "markdown",
   "metadata": {},
   "source": [
    "### Уменьшение выборки"
   ]
  },
  {
   "cell_type": "markdown",
   "metadata": {},
   "source": [
    "Построим функцию для уменьшение выборки."
   ]
  },
  {
   "cell_type": "code",
   "execution_count": 37,
   "metadata": {},
   "outputs": [],
   "source": [
    "def downsample(features, target, fraction):\n",
    "    features_zeros = features[target == 0]\n",
    "    features_ones = features[target == 1]\n",
    "    target_zeros = target[target == 0]\n",
    "    target_ones = target[target == 1]\n",
    "\n",
    "    features_downsampled = pd.concat(\n",
    "        [features_zeros.sample(frac=fraction, random_state=12345)] + [features_ones])\n",
    "    target_downsampled = pd.concat(\n",
    "        [target_zeros.sample(frac=fraction, random_state=12345)] + [target_ones])\n",
    "    \n",
    "    features_downsampled, target_downsampled = shuffle(\n",
    "        features_downsampled, target_downsampled, random_state=12345)\n",
    "    \n",
    "    return features_downsampled, target_downsampled"
   ]
  },
  {
   "cell_type": "code",
   "execution_count": 38,
   "metadata": {},
   "outputs": [],
   "source": [
    "features_train, target_train = downsample(features_train, target_train, 0.25)"
   ]
  },
  {
   "cell_type": "code",
   "execution_count": 39,
   "metadata": {},
   "outputs": [
    {
     "data": {
      "text/plain": [
       "<AxesSubplot:>"
      ]
     },
     "execution_count": 39,
     "metadata": {},
     "output_type": "execute_result"
    },
    {
     "data": {
      "image/png": "[encoded data removed]",
      "text/plain": [
       "<Figure size 432x288 with 1 Axes>"
      ]
     },
     "metadata": {
      "needs_background": "light"
     },
     "output_type": "display_data"
    }
   ],
   "source": [
    "target_train.hist()"
   ]
  },
  {
   "cell_type": "markdown",
   "metadata": {},
   "source": [
    "Баланс классов изменяетя верно."
   ]
  },
  {
   "cell_type": "markdown",
   "metadata": {},
   "source": [
    "### Увеличение выборки"
   ]
  },
  {
   "cell_type": "markdown",
   "metadata": {},
   "source": [
    "Восстановим изначальные данные."
   ]
  },
  {
   "cell_type": "code",
   "execution_count": 58,
   "metadata": {},
   "outputs": [],
   "source": [
    "# разделяем последовательно на три части\n",
    "train, data_ = train_test_split(data, test_size=0.4, random_state=12345) \n",
    "valid, test = train_test_split(data_, test_size=0.5, random_state=12345)\n",
    "\n",
    "# создаём обучающую выборку\n",
    "features_train = train.drop(['Exited'], axis=1)\n",
    "target_train = train['Exited']\n",
    "# создаём валидационную выборку\n",
    "features_valid = valid.drop(['Exited'], axis=1)\n",
    "target_valid = valid['Exited']\n",
    "# создаём тестовую выборку\n",
    "features_test = test.drop(['Exited'], axis=1)\n",
    "target_test = test['Exited']"
   ]
  },
  {
   "cell_type": "markdown",
   "metadata": {},
   "source": [
    "Посмотрим на сбалансированность класса."
   ]
  },
  {
   "cell_type": "code",
   "execution_count": 54,
   "metadata": {},
   "outputs": [
    {
     "data": {
      "text/plain": [
       "<AxesSubplot:>"
      ]
     },
     "execution_count": 54,
     "metadata": {},
     "output_type": "execute_result"
    },
    {
     "data": {
      "image/png": "[encoded data removed]",
      "text/plain": [
       "<Figure size 432x288 with 1 Axes>"
      ]
     },
     "metadata": {
      "needs_background": "light"
     },
     "output_type": "display_data"
    }
   ],
   "source": [
    "target.hist()"
   ]
  },
  {
   "cell_type": "markdown",
   "metadata": {},
   "source": [
    "Как видим, классы сильно несбалансированы."
   ]
  },
  {
   "cell_type": "markdown",
   "metadata": {},
   "source": [
    "Построим функцию для уменьшение выборки."
   ]
  },
  {
   "cell_type": "code",
   "execution_count": 55,
   "metadata": {},
   "outputs": [],
   "source": [
    "def upsample(features, target, repeat):\n",
    "    features_zeros = features[target == 0]\n",
    "    features_ones = features[target == 1]\n",
    "    target_zeros = target[target == 0]\n",
    "    target_ones = target[target == 1]\n",
    "\n",
    "    features_upsampled = pd.concat([features_zeros] + [features_ones] * repeat)\n",
    "    target_upsampled = pd.concat([target_zeros] + [target_ones] * repeat)\n",
    "    \n",
    "    features_upsampled, target_upsampled = shuffle(\n",
    "        features_upsampled, target_upsampled, random_state=12345)\n",
    "    \n",
    "    return features_upsampled, target_upsampled"
   ]
  },
  {
   "cell_type": "markdown",
   "metadata": {},
   "source": [
    "Увеличим выборку."
   ]
  },
  {
   "cell_type": "code",
   "execution_count": 56,
   "metadata": {},
   "outputs": [],
   "source": [
    "features_train, target_train = upsample(features_train, target_train, 4)"
   ]
  },
  {
   "cell_type": "markdown",
   "metadata": {},
   "source": [
    "Проверим результат."
   ]
  },
  {
   "cell_type": "code",
   "execution_count": 57,
   "metadata": {},
   "outputs": [
    {
     "data": {
      "text/plain": [
       "<AxesSubplot:>"
      ]
     },
     "execution_count": 57,
     "metadata": {},
     "output_type": "execute_result"
    },
    {
     "data": {
      "image/png": "[encoded data removed]",
      "text/plain": [
       "<Figure size 432x288 with 1 Axes>"
      ]
     },
     "metadata": {
      "needs_background": "light"
     },
     "output_type": "display_data"
    }
   ],
   "source": [
    "target_train.hist()"
   ]
  },
  {
   "cell_type": "markdown",
   "metadata": {},
   "source": [
    "Классы сбалансировались.\n",
    "\n",
    "### Выводы:\n",
    "\n",
    "- Все способы балансировки классов работают верно.\n",
    "\n",
    "- Мы можем выбирать любой из них. В дальнейшем будем испозльзовать увеличение выборки."
   ]
  },
  {
   "cell_type": "markdown",
   "metadata": {},
   "source": [
    "## Валидация моделей в балансе"
   ]
  },
  {
   "cell_type": "markdown",
   "metadata": {},
   "source": [
    "### Способ борьбы с дисбалансом - upsample"
   ]
  },
  {
   "cell_type": "code",
   "execution_count": 152,
   "metadata": {},
   "outputs": [],
   "source": [
    "# разделяем последовательно на три части\n",
    "train, data_ = train_test_split(data, test_size=0.4, random_state=12345) \n",
    "valid, test = train_test_split(data_, test_size=0.5, random_state=12345)\n",
    "\n",
    "# создаём обучающую выборку\n",
    "features_train = train.drop(['Exited'], axis=1)\n",
    "target_train = train['Exited']\n",
    "# создаём валидационную выборку\n",
    "features_valid = valid.drop(['Exited'], axis=1)\n",
    "target_valid = valid['Exited']\n",
    "# создаём тестовую выборку\n",
    "features_test = test.drop(['Exited'], axis=1)\n",
    "target_test = test['Exited']\n",
    "\n",
    "features_train, target_train = upsample(features_train, target_train, 4)"
   ]
  },
  {
   "cell_type": "markdown",
   "metadata": {},
   "source": [
    "<div class=\"alert alert-warning\">\n",
    "<h2>Комментарий ревьюера v2<a class=\"tocSkip\"></a></h2>\n",
    "    \n",
    "**Есть совет** ⚠️: но повторно разбивать выборку не нужно, достаточно это сделать только один раз в начале</div>"
   ]
  },
  {
   "cell_type": "markdown",
   "metadata": {},
   "source": [
    "#### Логистическая регрессия\n",
    "\n",
    "Используем модель логистической регрессии."
   ]
  },
  {
   "cell_type": "code",
   "execution_count": 153,
   "metadata": {},
   "outputs": [],
   "source": [
    "model = LogisticRegression(solver=\"liblinear\", random_state=0)\n",
    "model.fit(features_train, target_train)\n",
    "predictions = model.predict(features_valid)"
   ]
  },
  {
   "cell_type": "markdown",
   "metadata": {},
   "source": [
    "##### Метрики"
   ]
  },
  {
   "cell_type": "code",
   "execution_count": 154,
   "metadata": {},
   "outputs": [
    {
     "name": "stdout",
     "output_type": "stream",
     "text": [
      "Полнота: 0.6818181818181818\n",
      "Точность: 0.3810160427807487\n",
      "F1-мера: 0.4888507718696398\n"
     ]
    }
   ],
   "source": [
    "precision = precision_score(target_valid, predictions)\n",
    "recall = recall_score(target_valid, predictions)\n",
    "f1 = f1_score(target_valid, predictions)\n",
    "\n",
    "print(\"Полнота:\", recall)\n",
    "print(\"Точность:\", precision)\n",
    "print('F1-мера:', f1)"
   ]
  },
  {
   "cell_type": "markdown",
   "metadata": {},
   "source": [
    "##### ROC-кривая\n",
    "\n",
    "Построим ROC-кривую."
   ]
  },
  {
   "cell_type": "code",
   "execution_count": 155,
   "metadata": {},
   "outputs": [
    {
     "name": "stdout",
     "output_type": "stream",
     "text": [
      "(10000, 2)\n"
     ]
    },
    {
     "data": {
      "image/png": "[encoded data removed]",
      "text/plain": [
       "<Figure size 432x288 with 1 Axes>"
      ]
     },
     "metadata": {
      "needs_background": "light"
     },
     "output_type": "display_data"
    }
   ],
   "source": [
    "probabilities_valid = model.predict_proba(features_valid)\n",
    "probabilities_one_valid = probabilities_valid[:, 1]\n",
    "\n",
    "probabilities = model.predict_proba(features) \n",
    "print(probabilities.shape)\n",
    "\n",
    "fpr, tpr, thresholds = roc_curve(target_valid, probabilities_one_valid)\n",
    "\n",
    "plt.figure()\n",
    "plt.plot(fpr, tpr)\n",
    "plt.xlim([0.0, 1.0])\n",
    "plt.ylim([0.0, 1.0])\n",
    "plt.xlabel('False Positive Rate')\n",
    "plt.ylabel('True Positive Rate')\n",
    "plt.title('ROC-кривая')\n",
    "plt.show()"
   ]
  },
  {
   "cell_type": "markdown",
   "metadata": {},
   "source": [
    "##### AUC-ROC\n",
    "\n",
    "Посчитаем AUC-ROC."
   ]
  },
  {
   "cell_type": "code",
   "execution_count": 156,
   "metadata": {},
   "outputs": [
    {
     "name": "stdout",
     "output_type": "stream",
     "text": [
      "AUC-ROC 0.763656929935458\n"
     ]
    }
   ],
   "source": [
    "probabilities_valid = model.predict_proba(features_valid)\n",
    "probabilities_one_valid = probabilities_valid[:, 1]\n",
    "\n",
    "auc_roc = roc_auc_score(target_valid, probabilities_one_valid)\n",
    "\n",
    "print('AUC-ROC', auc_roc)"
   ]
  },
  {
   "cell_type": "markdown",
   "metadata": {},
   "source": [
    "#### Решающие деревья\n",
    "\n",
    "Используем модель решающих деревьев."
   ]
  },
  {
   "cell_type": "code",
   "execution_count": 157,
   "metadata": {},
   "outputs": [
    {
     "name": "stdout",
     "output_type": "stream",
     "text": [
      "Лучшая модель: 1  - макс.глубина. F1-мера: 0.4994903160040775\n",
      "Лучшая модель: 2  - макс.глубина. F1-мера: 0.541015625\n",
      "Лучшая модель: 5  - макс.глубина. F1-мера: 0.5963791267305644\n"
     ]
    },
    {
     "data": {
      "image/png": "[encoded data removed]",
      "text/plain": [
       "<Figure size 432x288 with 1 Axes>"
      ]
     },
     "metadata": {
      "needs_background": "light"
     },
     "output_type": "display_data"
    }
   ],
   "source": [
    "x = []\n",
    "y = []\n",
    "best_depth = 0\n",
    "best_f1 = 0\n",
    "for depth in range(1, 100):\n",
    "    model = DecisionTreeClassifier(max_depth=depth, random_state=12345)\n",
    "    model.fit(features_train, target_train)\n",
    "    predictions = model.predict(features_valid)\n",
    "    x.append(depth)\n",
    "    f1 = f1_score(target_valid, predictions)\n",
    "    y.append(f1)\n",
    "    if f1 > best_f1:\n",
    "        best_depth = depth\n",
    "        best_f1 = f1\n",
    "        print('Лучшая модель:', depth, ' - макс.глубина. F1-мера:', f1)\n",
    "    \n",
    "plt.figure()\n",
    "plt.plot(x, y)\n",
    "plt.xlabel('Максимальная глубина дерева')\n",
    "plt.ylabel('F1-мера')\n",
    "plt.title('Зависимость F1-меры от максимальной глубины')\n",
    "plt.show()"
   ]
  },
  {
   "cell_type": "code",
   "execution_count": 158,
   "metadata": {},
   "outputs": [],
   "source": [
    "model = DecisionTreeClassifier(max_depth=best_depth, random_state=12345)\n",
    "model.fit(features_train, target_train)\n",
    "predictions = model.predict(features_valid)"
   ]
  },
  {
   "cell_type": "markdown",
   "metadata": {},
   "source": [
    "##### Метрики"
   ]
  },
  {
   "cell_type": "code",
   "execution_count": 159,
   "metadata": {},
   "outputs": [
    {
     "name": "stdout",
     "output_type": "stream",
     "text": [
      "Полнота: 0.6698564593301436\n",
      "Точность: 0.5374280230326296\n",
      "F1-мера: 0.5963791267305644\n"
     ]
    }
   ],
   "source": [
    "precision = precision_score(target_valid, predictions)\n",
    "recall = recall_score(target_valid, predictions)\n",
    "f1 = f1_score(target_valid, predictions)\n",
    "\n",
    "print(\"Полнота:\", recall)\n",
    "print(\"Точность:\", precision)\n",
    "print('F1-мера:', f1)"
   ]
  },
  {
   "cell_type": "markdown",
   "metadata": {},
   "source": [
    "##### ROC-кривая\n",
    "\n",
    "Построим ROC-кривую."
   ]
  },
  {
   "cell_type": "code",
   "execution_count": 160,
   "metadata": {},
   "outputs": [
    {
     "name": "stdout",
     "output_type": "stream",
     "text": [
      "(10000, 2)\n"
     ]
    },
    {
     "data": {
      "image/png": "[encoded data removed]",
      "text/plain": [
       "<Figure size 432x288 with 1 Axes>"
      ]
     },
     "metadata": {
      "needs_background": "light"
     },
     "output_type": "display_data"
    }
   ],
   "source": [
    "probabilities_valid = model.predict_proba(features_valid)\n",
    "probabilities_one_valid = probabilities_valid[:, 1]\n",
    "\n",
    "probabilities = model.predict_proba(features) \n",
    "print(probabilities.shape)\n",
    "\n",
    "fpr, tpr, thresholds = roc_curve(target_valid, probabilities_one_valid)\n",
    "\n",
    "plt.figure()\n",
    "plt.plot(fpr, tpr)\n",
    "plt.xlim([0.0, 1.0])\n",
    "plt.ylim([0.0, 1.0])\n",
    "plt.xlabel('False Positive Rate')\n",
    "plt.ylabel('True Positive Rate')\n",
    "plt.title('ROC-кривая')\n",
    "plt.show()"
   ]
  },
  {
   "cell_type": "markdown",
   "metadata": {},
   "source": [
    "##### AUC-ROC\n",
    "\n",
    "Посчитаем AUC-ROC."
   ]
  },
  {
   "cell_type": "code",
   "execution_count": 161,
   "metadata": {},
   "outputs": [
    {
     "name": "stdout",
     "output_type": "stream",
     "text": [
      "AUC-ROC 0.8310244134068074\n"
     ]
    }
   ],
   "source": [
    "probabilities_valid = model.predict_proba(features_valid)\n",
    "probabilities_one_valid = probabilities_valid[:, 1]\n",
    "\n",
    "auc_roc = roc_auc_score(target_valid, probabilities_one_valid)\n",
    "\n",
    "print('AUC-ROC', auc_roc)"
   ]
  },
  {
   "cell_type": "markdown",
   "metadata": {},
   "source": [
    "#### Случайный лес\n",
    "\n",
    "Используем модель случайного леса."
   ]
  },
  {
   "cell_type": "code",
   "execution_count": 162,
   "metadata": {},
   "outputs": [
    {
     "name": "stdout",
     "output_type": "stream",
     "text": [
      "Лучшая модель: 1  - количество деревьев. F1-мера: 0.5063559322033898\n",
      "Лучшая модель: 2  - количество деревьев. F1-мера: 0.5615079365079365\n",
      "Лучшая модель: 3  - количество деревьев. F1-мера: 0.5914315569487983\n",
      "Лучшая модель: 5  - количество деревьев. F1-мера: 0.5916585838991271\n",
      "Лучшая модель: 7  - количество деревьев. F1-мера: 0.5942744323790721\n",
      "Лучшая модель: 8  - количество деревьев. F1-мера: 0.6027944111776445\n",
      "Лучшая модель: 9  - количество деревьев. F1-мера: 0.6045589692765113\n",
      "Лучшая модель: 10  - количество деревьев. F1-мера: 0.6119096509240246\n",
      "Лучшая модель: 12  - количество деревьев. F1-мера: 0.6122860020140987\n",
      "Лучшая модель: 17  - количество деревьев. F1-мера: 0.6125760649087221\n",
      "Лучшая модель: 22  - количество деревьев. F1-мера: 0.6150712830957231\n",
      "Лучшая модель: 23  - количество деревьев. F1-мера: 0.6180344478216818\n",
      "Лучшая модель: 24  - количество деревьев. F1-мера: 0.6190954773869346\n"
     ]
    },
    {
     "data": {
      "image/png": "[encoded data removed]",
      "text/plain": [
       "<Figure size 432x288 with 1 Axes>"
      ]
     },
     "metadata": {
      "needs_background": "light"
     },
     "output_type": "display_data"
    }
   ],
   "source": [
    "x = []\n",
    "y = []\n",
    "best_n = 0\n",
    "best_f1 = 0\n",
    "for n in range(1, 100):\n",
    "    model = RandomForestClassifier(n_estimators=n,max_depth=5, random_state=12345)\n",
    "    model.fit(features_train, target_train)\n",
    "    predictions = model.predict(features_valid)\n",
    "    x.append(n)\n",
    "    f1 = f1_score(target_valid, predictions)\n",
    "    y.append(f1)\n",
    "    if f1 > best_f1:\n",
    "        best_n = n\n",
    "        best_f1 = f1\n",
    "        print('Лучшая модель:', n, ' - количество деревьев. F1-мера:', f1)\n",
    "    \n",
    "plt.figure()\n",
    "plt.plot(x, y)\n",
    "plt.xlabel('Количество деревьев')\n",
    "plt.ylabel('F1-мера')\n",
    "plt.title('Зависимость F1-меры от количества деревьев')\n",
    "plt.show()"
   ]
  },
  {
   "cell_type": "code",
   "execution_count": 165,
   "metadata": {},
   "outputs": [
    {
     "name": "stdout",
     "output_type": "stream",
     "text": [
      "Лучшая модель: 10  - количество деревьев. F1-мера: 10  - макс.глубина. F1-мера: 0.596\n",
      "Лучшая модель: 15  - количество деревьев. F1-мера: 10  - макс.глубина. F1-мера: 0.603\n",
      "Лучшая модель: 15  - количество деревьев. F1-мера: 15  - макс.глубина. F1-мера: 0.613\n",
      "Лучшая модель: 35  - количество деревьев. F1-мера: 25  - макс.глубина. F1-мера: 0.618\n",
      "Лучшая модель: 40  - количество деревьев. F1-мера: 15  - макс.глубина. F1-мера: 0.62\n",
      "Итоговая модель: 40  - количество деревьев. F1-мера: 15  - макс.глубина. F1-мера: 0.62\n"
     ]
    }
   ],
   "source": [
    "x = []\n",
    "y = []\n",
    "best_n = 0\n",
    "best_f1 = 0\n",
    "best_depth = 0\n",
    "for n in range(10, 100, 5):\n",
    "    for depth in range(10, 100, 5):\n",
    "        model = RandomForestClassifier(n_estimators=n,max_depth=depth, random_state=12345)\n",
    "        model.fit(features_train, target_train)\n",
    "        predictions = model.predict(features_valid)\n",
    "        f1 = f1_score(target_valid, predictions)\n",
    "        x.append(n)\n",
    "        y.append(f1)\n",
    "        if f1 > best_f1:\n",
    "            best_depth = depth\n",
    "            best_n = n\n",
    "            best_f1 = f1\n",
    "            print('Лучшая модель:', best_n, ' - количество деревьев. F1-мера:', best_depth, ' - макс.глубина. F1-мера:',round(best_f1, 3))\n",
    "\n",
    "print('Итоговая модель:', best_n, ' - количество деревьев. F1-мера:', best_depth, ' - макс.глубина. F1-мера:',round(best_f1, 3))"
   ]
  },
  {
   "cell_type": "markdown",
   "metadata": {},
   "source": [
    "Подберём более точные параметры."
   ]
  },
  {
   "cell_type": "code",
   "execution_count": 166,
   "metadata": {},
   "outputs": [
    {
     "name": "stdout",
     "output_type": "stream",
     "text": [
      "Лучшая модель: 30  - кол-во деревьев. 10  - макс.глуб. 10 - листьев. F1-мера: 0.614\n",
      "Лучшая модель: 30  - кол-во деревьев. 10  - макс.глуб. 12 - листьев. F1-мера: 0.619\n",
      "Лучшая модель: 30  - кол-во деревьев. 10  - макс.глуб. 15 - листьев. F1-мера: 0.622\n",
      "Лучшая модель: 30  - кол-во деревьев. 11  - макс.глуб. 21 - листьев. F1-мера: 0.623\n",
      "Лучшая модель: 30  - кол-во деревьев. 13  - макс.глуб. 14 - листьев. F1-мера: 0.624\n",
      "Лучшая модель: 30  - кол-во деревьев. 14  - макс.глуб. 10 - листьев. F1-мера: 0.626\n",
      "Лучшая модель: 31  - кол-во деревьев. 13  - макс.глуб. 14 - листьев. F1-мера: 0.626\n",
      "Лучшая модель: 33  - кол-во деревьев. 16  - макс.глуб. 14 - листьев. F1-мера: 0.63\n",
      "Лучшая модель: 38  - кол-во деревьев. 10  - макс.глуб. 18 - листьев. F1-мера: 0.63\n",
      "Итоговая модель: 38  - кол-во деревьев. 10  - макс.глуб. 18 - листьев. F1-мера: 0.63\n"
     ]
    }
   ],
   "source": [
    "x = []\n",
    "y = []\n",
    "best_n = 0\n",
    "best_f1 = 0\n",
    "best_depth = 0\n",
    "best_leaf = 0 \n",
    "for n in range(30, 50):\n",
    "    for depth in range(10, 30):\n",
    "        for leaf in range(10, 50):\n",
    "            model = RandomForestClassifier(min_samples_leaf=leaf, n_estimators=n,max_depth=depth, random_state=12345)\n",
    "            model.fit(features_train, target_train)\n",
    "            predictions = model.predict(features_valid)\n",
    "            f1 = f1_score(target_valid, predictions)\n",
    "            x.append(n)\n",
    "            y.append(f1)\n",
    "            if f1 > best_f1:\n",
    "                best_depth = depth\n",
    "                best_n = n\n",
    "                best_f1 = f1\n",
    "                best_leaf = leaf\n",
    "                print('Лучшая модель:', best_n, ' - кол-во деревьев.', best_depth, ' - макс.глуб.', best_leaf, '- листьев.', 'F1-мера:',round(best_f1, 3))\n",
    "\n",
    "print('Итоговая модель:', best_n, ' - кол-во деревьев.', best_depth, ' - макс.глуб.', best_leaf, '- листьев.', 'F1-мера:',round(best_f1, 3))"
   ]
  },
  {
   "cell_type": "markdown",
   "metadata": {},
   "source": [
    "Выберем модель с более оптимальными параметрами."
   ]
  },
  {
   "cell_type": "code",
   "execution_count": 123,
   "metadata": {},
   "outputs": [],
   "source": [
    "model = RandomForestClassifier(n_estimators=44,max_depth=12, random_state=12345)\n",
    "model.fit(features_train, target_train)\n",
    "predictions = model.predict(features_valid)"
   ]
  },
  {
   "cell_type": "code",
   "execution_count": 167,
   "metadata": {},
   "outputs": [],
   "source": [
    "\n",
    "model = RandomForestClassifier(min_samples_leaf=18,n_estimators=38,max_depth=10, random_state=12345)\n",
    "model.fit(features_train, target_train)\n",
    "predictions = model.predict(features_valid)"
   ]
  },
  {
   "cell_type": "markdown",
   "metadata": {},
   "source": [
    "##### Метрики"
   ]
  },
  {
   "cell_type": "code",
   "execution_count": 168,
   "metadata": {},
   "outputs": [
    {
     "name": "stdout",
     "output_type": "stream",
     "text": [
      "Полнота: 0.7368421052631579\n",
      "Точность: 0.55\n",
      "F1-мера: 0.6298568507157465\n"
     ]
    }
   ],
   "source": [
    "precision = precision_score(target_valid, predictions)\n",
    "recall = recall_score(target_valid, predictions)\n",
    "f1 = f1_score(target_valid, predictions)\n",
    "\n",
    "print(\"Полнота:\", recall)\n",
    "print(\"Точность:\", precision)\n",
    "print('F1-мера:', f1)"
   ]
  },
  {
   "cell_type": "markdown",
   "metadata": {},
   "source": [
    "##### ROC-кривая\n",
    "\n",
    "Построим ROC-кривую."
   ]
  },
  {
   "cell_type": "code",
   "execution_count": 169,
   "metadata": {},
   "outputs": [
    {
     "name": "stdout",
     "output_type": "stream",
     "text": [
      "(10000, 2)\n"
     ]
    },
    {
     "data": {
      "image/png": "[encoded data removed]",
      "text/plain": [
       "<Figure size 432x288 with 1 Axes>"
      ]
     },
     "metadata": {
      "needs_background": "light"
     },
     "output_type": "display_data"
    }
   ],
   "source": [
    "probabilities_valid = model.predict_proba(features_valid)\n",
    "probabilities_one_valid = probabilities_valid[:, 1]\n",
    "\n",
    "probabilities = model.predict_proba(features) \n",
    "print(probabilities.shape)\n",
    "\n",
    "fpr, tpr, thresholds = roc_curve(target_valid, probabilities_one_valid)\n",
    "\n",
    "plt.figure()\n",
    "plt.plot(fpr, tpr)\n",
    "plt.xlim([0.0, 1.0])\n",
    "plt.ylim([0.0, 1.0])\n",
    "plt.xlabel('False Positive Rate')\n",
    "plt.ylabel('True Positive Rate')\n",
    "plt.title('ROC-кривая')\n",
    "plt.show()"
   ]
  },
  {
   "cell_type": "markdown",
   "metadata": {},
   "source": [
    "##### AUC-ROC\n",
    "\n",
    "Посчитаем AUC-ROC."
   ]
  },
  {
   "cell_type": "code",
   "execution_count": 170,
   "metadata": {},
   "outputs": [
    {
     "name": "stdout",
     "output_type": "stream",
     "text": [
      "AUC-ROC 0.8508519891845462\n"
     ]
    }
   ],
   "source": [
    "probabilities_valid = model.predict_proba(features_valid)\n",
    "probabilities_one_valid = probabilities_valid[:, 1]\n",
    "\n",
    "auc_roc = roc_auc_score(target_valid, probabilities_one_valid)\n",
    "\n",
    "print('AUC-ROC', auc_roc)"
   ]
  },
  {
   "cell_type": "markdown",
   "metadata": {},
   "source": [
    "### Способ борьбы с дисбалансом - downsample"
   ]
  },
  {
   "cell_type": "code",
   "execution_count": 127,
   "metadata": {},
   "outputs": [],
   "source": [
    "# разделяем последовательно на три части\n",
    "train, data_ = train_test_split(data, test_size=0.4, random_state=12345) \n",
    "valid, test = train_test_split(data_, test_size=0.5, random_state=12345)\n",
    "\n",
    "# создаём обучающую выборку\n",
    "features_train = train.drop(['Exited'], axis=1)\n",
    "target_train = train['Exited']\n",
    "# создаём валидационную выборку\n",
    "features_valid = valid.drop(['Exited'], axis=1)\n",
    "target_valid = valid['Exited']\n",
    "# создаём тестовую выборку\n",
    "features_test = test.drop(['Exited'], axis=1)\n",
    "target_test = test['Exited']\n",
    "\n",
    "features_train, target_train = downsample(features_train, target_train, 0.25)"
   ]
  },
  {
   "cell_type": "markdown",
   "metadata": {},
   "source": [
    "#### Логистическая регрессия\n",
    "\n",
    "Используем модель логистической регрессии."
   ]
  },
  {
   "cell_type": "code",
   "execution_count": 128,
   "metadata": {},
   "outputs": [],
   "source": [
    "model = LogisticRegression(solver=\"liblinear\", random_state=0)\n",
    "model.fit(features_train, target_train)\n",
    "predictions = model.predict(features_valid)"
   ]
  },
  {
   "cell_type": "markdown",
   "metadata": {},
   "source": [
    "##### Метрики"
   ]
  },
  {
   "cell_type": "code",
   "execution_count": 129,
   "metadata": {},
   "outputs": [
    {
     "name": "stdout",
     "output_type": "stream",
     "text": [
      "Полнота: 0.6722488038277512\n",
      "Точность: 0.3781965006729475\n",
      "F1-мера: 0.48406546080964685\n"
     ]
    }
   ],
   "source": [
    "precision = precision_score(target_valid, predictions)\n",
    "recall = recall_score(target_valid, predictions)\n",
    "f1 = f1_score(target_valid, predictions)\n",
    "\n",
    "print(\"Полнота:\", recall)\n",
    "print(\"Точность:\", precision)\n",
    "print('F1-мера:', f1)"
   ]
  },
  {
   "cell_type": "markdown",
   "metadata": {},
   "source": [
    "##### ROC-кривая\n",
    "\n",
    "Построим ROC-кривую."
   ]
  },
  {
   "cell_type": "code",
   "execution_count": 130,
   "metadata": {},
   "outputs": [
    {
     "name": "stdout",
     "output_type": "stream",
     "text": [
      "(10000, 2)\n"
     ]
    },
    {
     "data": {
      "image/png": "[encoded data removed]",
      "text/plain": [
       "<Figure size 432x288 with 1 Axes>"
      ]
     },
     "metadata": {
      "needs_background": "light"
     },
     "output_type": "display_data"
    }
   ],
   "source": [
    "probabilities_valid = model.predict_proba(features_valid)\n",
    "probabilities_one_valid = probabilities_valid[:, 1]\n",
    "\n",
    "probabilities = model.predict_proba(features) \n",
    "print(probabilities.shape)\n",
    "\n",
    "fpr, tpr, thresholds = roc_curve(target_valid, probabilities_one_valid)\n",
    "\n",
    "plt.figure()\n",
    "plt.plot(fpr, tpr)\n",
    "plt.xlim([0.0, 1.0])\n",
    "plt.ylim([0.0, 1.0])\n",
    "plt.xlabel('False Positive Rate')\n",
    "plt.ylabel('True Positive Rate')\n",
    "plt.title('ROC-кривая')\n",
    "plt.show()"
   ]
  },
  {
   "cell_type": "markdown",
   "metadata": {},
   "source": [
    "##### AUC-ROC\n",
    "\n",
    "Посчитаем AUC-ROC."
   ]
  },
  {
   "cell_type": "code",
   "execution_count": 131,
   "metadata": {},
   "outputs": [
    {
     "name": "stdout",
     "output_type": "stream",
     "text": [
      "AUC-ROC 0.7621764588462305\n"
     ]
    }
   ],
   "source": [
    "probabilities_valid = model.predict_proba(features_valid)\n",
    "probabilities_one_valid = probabilities_valid[:, 1]\n",
    "\n",
    "auc_roc = roc_auc_score(target_valid, probabilities_one_valid)\n",
    "\n",
    "print('AUC-ROC', auc_roc)"
   ]
  },
  {
   "cell_type": "markdown",
   "metadata": {},
   "source": [
    "#### Решающие деревья\n",
    "\n",
    "Используем модель решающих деревьев."
   ]
  },
  {
   "cell_type": "code",
   "execution_count": 132,
   "metadata": {},
   "outputs": [
    {
     "name": "stdout",
     "output_type": "stream",
     "text": [
      "Лучшая модель: 1  - макс.глубина. F1-мера: 0.5061845861084681\n",
      "Лучшая модель: 2  - макс.глубина. F1-мера: 0.5394495412844036\n",
      "Лучшая модель: 3  - макс.глубина. F1-мера: 0.5555555555555556\n",
      "Лучшая модель: 5  - макс.глубина. F1-мера: 0.5738161559888579\n",
      "Лучшая модель: 6  - макс.глубина. F1-мера: 0.5794920037629351\n"
     ]
    },
    {
     "data": {
      "image/png": "[encoded data removed]",
      "text/plain": [
       "<Figure size 432x288 with 1 Axes>"
      ]
     },
     "metadata": {
      "needs_background": "light"
     },
     "output_type": "display_data"
    }
   ],
   "source": [
    "x = []\n",
    "y = []\n",
    "best_depth = 0\n",
    "best_f1 = 0\n",
    "for depth in range(1, 100):\n",
    "    model = DecisionTreeClassifier(max_depth=depth, random_state=12345)\n",
    "    model.fit(features_train, target_train)\n",
    "    predictions = model.predict(features_valid)\n",
    "    x.append(depth)\n",
    "    f1 = f1_score(target_valid, predictions)\n",
    "    y.append(f1)\n",
    "    if f1 > best_f1:\n",
    "        best_depth = depth\n",
    "        best_f1 = f1\n",
    "        print('Лучшая модель:', depth, ' - макс.глубина. F1-мера:', f1)\n",
    "    \n",
    "plt.figure()\n",
    "plt.plot(x, y)\n",
    "plt.xlabel('Максимальная глубина дерева')\n",
    "plt.ylabel('F1-мера')\n",
    "plt.title('Зависимость F1-меры от максимальной глубины')\n",
    "plt.show()"
   ]
  },
  {
   "cell_type": "markdown",
   "metadata": {},
   "source": [
    "##### Метрики"
   ]
  },
  {
   "cell_type": "code",
   "execution_count": 136,
   "metadata": {},
   "outputs": [
    {
     "name": "stdout",
     "output_type": "stream",
     "text": [
      "Полнота: 0.7033492822966507\n",
      "Точность: 0.3838120104438642\n",
      "F1-мера: 0.4966216216216216\n"
     ]
    }
   ],
   "source": [
    "model = DecisionTreeClassifier(max_depth=6, random_state=12345)\n",
    "model.fit(features_train, target_train)\n",
    "\n",
    "precision = precision_score(target_valid, predictions)\n",
    "recall = recall_score(target_valid, predictions)\n",
    "f1 = f1_score(target_valid, predictions)\n",
    "\n",
    "print(\"Полнота:\", recall)\n",
    "print(\"Точность:\", precision)\n",
    "print('F1-мера:', f1)"
   ]
  },
  {
   "cell_type": "markdown",
   "metadata": {},
   "source": [
    "##### ROC-кривая\n",
    "\n",
    "Построим ROC-кривую."
   ]
  },
  {
   "cell_type": "code",
   "execution_count": 137,
   "metadata": {},
   "outputs": [
    {
     "name": "stdout",
     "output_type": "stream",
     "text": [
      "(10000, 2)\n"
     ]
    },
    {
     "data": {
      "image/png": "[encoded data removed]",
      "text/plain": [
       "<Figure size 432x288 with 1 Axes>"
      ]
     },
     "metadata": {
      "needs_background": "light"
     },
     "output_type": "display_data"
    }
   ],
   "source": [
    "probabilities_valid = model.predict_proba(features_valid)\n",
    "probabilities_one_valid = probabilities_valid[:, 1]\n",
    "\n",
    "probabilities = model.predict_proba(features) \n",
    "print(probabilities.shape)\n",
    "\n",
    "fpr, tpr, thresholds = roc_curve(target_valid, probabilities_one_valid)\n",
    "\n",
    "plt.figure()\n",
    "plt.plot(fpr, tpr)\n",
    "plt.xlim([0.0, 1.0])\n",
    "plt.ylim([0.0, 1.0])\n",
    "plt.xlabel('False Positive Rate')\n",
    "plt.ylabel('True Positive Rate')\n",
    "plt.title('ROC-кривая')\n",
    "plt.show()"
   ]
  },
  {
   "cell_type": "markdown",
   "metadata": {},
   "source": [
    "##### AUC-ROC\n",
    "\n",
    "Посчитаем AUC-ROC."
   ]
  },
  {
   "cell_type": "code",
   "execution_count": 138,
   "metadata": {},
   "outputs": [
    {
     "name": "stdout",
     "output_type": "stream",
     "text": [
      "AUC-ROC 0.8233710281334875\n"
     ]
    }
   ],
   "source": [
    "probabilities_valid = model.predict_proba(features_valid)\n",
    "probabilities_one_valid = probabilities_valid[:, 1]\n",
    "\n",
    "auc_roc = roc_auc_score(target_valid, probabilities_one_valid)\n",
    "\n",
    "print('AUC-ROC', auc_roc)"
   ]
  },
  {
   "cell_type": "markdown",
   "metadata": {},
   "source": [
    "#### Случайный лес\n",
    "\n",
    "Используем модель случайного леса."
   ]
  },
  {
   "cell_type": "code",
   "execution_count": 139,
   "metadata": {},
   "outputs": [
    {
     "name": "stdout",
     "output_type": "stream",
     "text": [
      "Лучшая модель: 1  - количество деревьев. F1-мера: 0.46942446043165464\n",
      "Лучшая модель: 2  - количество деревьев. F1-мера: 0.541740674955595\n",
      "Лучшая модель: 3  - количество деревьев. F1-мера: 0.5505716798592787\n",
      "Лучшая модель: 4  - количество деревьев. F1-мера: 0.5564892623716153\n",
      "Лучшая модель: 5  - количество деревьев. F1-мера: 0.5584299732381802\n",
      "Лучшая модель: 6  - количество деревьев. F1-мера: 0.563302752293578\n",
      "Лучшая модель: 8  - количество деревьев. F1-мера: 0.5674676524953789\n",
      "Лучшая модель: 9  - количество деревьев. F1-мера: 0.5703703703703703\n",
      "Лучшая модель: 10  - количество деревьев. F1-мера: 0.5722379603399433\n",
      "Лучшая модель: 12  - количество деревьев. F1-мера: 0.5903846153846154\n",
      "Лучшая модель: 20  - количество деревьев. F1-мера: 0.5924528301886793\n",
      "Лучшая модель: 22  - количество деревьев. F1-мера: 0.5948026948989412\n",
      "Лучшая модель: 23  - количество деревьев. F1-мера: 0.5957854406130269\n",
      "Лучшая модель: 24  - количество деревьев. F1-мера: 0.5977229601518026\n"
     ]
    },
    {
     "data": {
      "image/png": "[encoded data removed]",
      "text/plain": [
       "<Figure size 432x288 with 1 Axes>"
      ]
     },
     "metadata": {
      "needs_background": "light"
     },
     "output_type": "display_data"
    }
   ],
   "source": [
    "x = []\n",
    "y = []\n",
    "best_n = 0\n",
    "best_f1 = 0\n",
    "for n in range(1, 100):\n",
    "    model = RandomForestClassifier(n_estimators=n,max_depth=5, random_state=12345)\n",
    "    model.fit(features_train, target_train)\n",
    "    predictions = model.predict(features_valid)\n",
    "    x.append(n)\n",
    "    f1 = f1_score(target_valid, predictions)\n",
    "    y.append(f1)\n",
    "    if f1 > best_f1:\n",
    "        best_n = n\n",
    "        best_f1 = f1\n",
    "        print('Лучшая модель:', n, ' - количество деревьев. F1-мера:', f1)\n",
    "    \n",
    "plt.figure()\n",
    "plt.plot(x, y)\n",
    "plt.xlabel('Количество деревьев')\n",
    "plt.ylabel('F1-мера')\n",
    "plt.title('Зависимость F1-меры от количества деревьев')\n",
    "plt.show()"
   ]
  },
  {
   "cell_type": "code",
   "execution_count": 140,
   "metadata": {},
   "outputs": [
    {
     "name": "stdout",
     "output_type": "stream",
     "text": [
      "Лучшая модель: 10  - количество деревьев. F1-мера: 10  - макс.глубина. F1-мера: 0.568\n",
      "Лучшая модель: 10  - количество деревьев. F1-мера: 25  - макс.глубина. F1-мера: 0.574\n",
      "Лучшая модель: 15  - количество деревьев. F1-мера: 10  - макс.глубина. F1-мера: 0.58\n",
      "Лучшая модель: 40  - количество деревьев. F1-мера: 10  - макс.глубина. F1-мера: 0.584\n",
      "Лучшая модель: 60  - количество деревьев. F1-мера: 10  - макс.глубина. F1-мера: 0.584\n",
      "Лучшая модель: 65  - количество деревьев. F1-мера: 10  - макс.глубина. F1-мера: 0.586\n",
      "Лучшая модель: 70  - количество деревьев. F1-мера: 10  - макс.глубина. F1-мера: 0.587\n",
      "Лучшая модель: 80  - количество деревьев. F1-мера: 10  - макс.глубина. F1-мера: 0.588\n",
      "Лучшая модель: 95  - количество деревьев. F1-мера: 10  - макс.глубина. F1-мера: 0.591\n",
      "Итоговая модель: 95  - количество деревьев. F1-мера: 10  - макс.глубина. F1-мера: 0.591\n"
     ]
    }
   ],
   "source": [
    "x = []\n",
    "y = []\n",
    "best_n = 0\n",
    "best_f1 = 0\n",
    "best_depth = 0\n",
    "for n in range(10, 100, 5):\n",
    "    for depth in range(10, 100, 5):\n",
    "        model = RandomForestClassifier(n_estimators=n,max_depth=depth, random_state=12345)\n",
    "        model.fit(features_train, target_train)\n",
    "        predictions = model.predict(features_valid)\n",
    "        f1 = f1_score(target_valid, predictions)\n",
    "        if f1 > best_f1:\n",
    "            best_depth = depth\n",
    "            best_n = n\n",
    "            best_f1 = f1\n",
    "            print('Лучшая модель:', best_n, ' - количество деревьев. F1-мера:', best_depth, ' - макс.глубина. F1-мера:',round(best_f1, 3))\n",
    "\n",
    "print('Итоговая модель:', best_n, ' - количество деревьев. F1-мера:', best_depth, ' - макс.глубина. F1-мера:',round(best_f1, 3))"
   ]
  },
  {
   "cell_type": "markdown",
   "metadata": {},
   "source": [
    "Подберём более точные параметры."
   ]
  },
  {
   "cell_type": "code",
   "execution_count": 141,
   "metadata": {},
   "outputs": [
    {
     "name": "stdout",
     "output_type": "stream",
     "text": [
      "Лучшая модель: 90  - количество деревьев. F1-мера: 1  - макс.глубина. F1-мера: 0.511\n",
      "Лучшая модель: 90  - количество деревьев. F1-мера: 2  - макс.глубина. F1-мера: 0.573\n",
      "Лучшая модель: 90  - количество деревьев. F1-мера: 4  - макс.глубина. F1-мера: 0.579\n",
      "Лучшая модель: 90  - количество деревьев. F1-мера: 5  - макс.глубина. F1-мера: 0.588\n",
      "Лучшая модель: 90  - количество деревьев. F1-мера: 6  - макс.глубина. F1-мера: 0.591\n",
      "Лучшая модель: 90  - количество деревьев. F1-мера: 7  - макс.глубина. F1-мера: 0.593\n",
      "Лучшая модель: 90  - количество деревьев. F1-мера: 9  - макс.глубина. F1-мера: 0.595\n",
      "Лучшая модель: 92  - количество деревьев. F1-мера: 9  - макс.глубина. F1-мера: 0.596\n",
      "Итоговая модель: 92  - количество деревьев. F1-мера: 9  - макс.глубина. F1-мера: 0.596\n"
     ]
    }
   ],
   "source": [
    "x = []\n",
    "y = []\n",
    "best_n = 0\n",
    "best_f1 = 0\n",
    "best_depth = 0\n",
    "for n in range(90, 100):\n",
    "    for depth in range(1, 20):\n",
    "        model = RandomForestClassifier(n_estimators=n,max_depth=depth, random_state=12345)\n",
    "        model.fit(features_train, target_train)\n",
    "        predictions = model.predict(features_valid)\n",
    "        f1 = f1_score(target_valid, predictions)\n",
    "        if f1 > best_f1:\n",
    "            best_depth = depth\n",
    "            best_n = n\n",
    "            best_f1 = f1\n",
    "            print('Лучшая модель:', best_n, ' - количество деревьев. F1-мера:', best_depth, ' - макс.глубина. F1-мера:',round(best_f1, 3))\n",
    "\n",
    "print('Итоговая модель:', best_n, ' - количество деревьев. F1-мера:', best_depth, ' - макс.глубина. F1-мера:',round(best_f1, 3))"
   ]
  },
  {
   "cell_type": "markdown",
   "metadata": {},
   "source": [
    "Выберем модель с более оптимальными параметрами."
   ]
  },
  {
   "cell_type": "code",
   "execution_count": 142,
   "metadata": {},
   "outputs": [],
   "source": [
    "model = RandomForestClassifier(n_estimators=best_n,max_depth=best_depth, random_state=12345)\n",
    "model.fit(features_train, target_train)\n",
    "predictions = model.predict(features_valid)"
   ]
  },
  {
   "cell_type": "markdown",
   "metadata": {},
   "source": [
    "##### Метрики"
   ]
  },
  {
   "cell_type": "code",
   "execution_count": 143,
   "metadata": {},
   "outputs": [
    {
     "name": "stdout",
     "output_type": "stream",
     "text": [
      "Полнота: 0.7488038277511961\n",
      "Точность: 0.495253164556962\n",
      "F1-мера: 0.5961904761904762\n"
     ]
    }
   ],
   "source": [
    "precision = precision_score(target_valid, predictions)\n",
    "recall = recall_score(target_valid, predictions)\n",
    "f1 = f1_score(target_valid, predictions)\n",
    "\n",
    "print(\"Полнота:\", recall)\n",
    "print(\"Точность:\", precision)\n",
    "print('F1-мера:', f1)"
   ]
  },
  {
   "cell_type": "markdown",
   "metadata": {},
   "source": [
    "##### ROC-кривая\n",
    "\n",
    "Построим ROC-кривую."
   ]
  },
  {
   "cell_type": "code",
   "execution_count": 144,
   "metadata": {},
   "outputs": [
    {
     "name": "stdout",
     "output_type": "stream",
     "text": [
      "(10000, 2)\n"
     ]
    },
    {
     "data": {
      "image/png": "[encoded data removed]",
      "text/plain": [
       "<Figure size 432x288 with 1 Axes>"
      ]
     },
     "metadata": {
      "needs_background": "light"
     },
     "output_type": "display_data"
    }
   ],
   "source": [
    "probabilities_valid = model.predict_proba(features_valid)\n",
    "probabilities_one_valid = probabilities_valid[:, 1]\n",
    "\n",
    "probabilities = model.predict_proba(features) \n",
    "print(probabilities.shape)\n",
    "\n",
    "fpr, tpr, thresholds = roc_curve(target_valid, probabilities_one_valid)\n",
    "\n",
    "plt.figure()\n",
    "plt.plot(fpr, tpr)\n",
    "plt.xlim([0.0, 1.0])\n",
    "plt.ylim([0.0, 1.0])\n",
    "plt.xlabel('False Positive Rate')\n",
    "plt.ylabel('True Positive Rate')\n",
    "plt.title('ROC-кривая')\n",
    "plt.show()"
   ]
  },
  {
   "cell_type": "markdown",
   "metadata": {},
   "source": [
    "##### AUC-ROC\n",
    "\n",
    "Посчитаем AUC-ROC."
   ]
  },
  {
   "cell_type": "code",
   "execution_count": 145,
   "metadata": {},
   "outputs": [
    {
     "name": "stdout",
     "output_type": "stream",
     "text": [
      "AUC-ROC 0.8445792679607305\n"
     ]
    }
   ],
   "source": [
    "probabilities_valid = model.predict_proba(features_valid)\n",
    "probabilities_one_valid = probabilities_valid[:, 1]\n",
    "\n",
    "auc_roc = roc_auc_score(target_valid, probabilities_one_valid)\n",
    "\n",
    "print('AUC-ROC', auc_roc)"
   ]
  },
  {
   "cell_type": "code",
   "execution_count": null,
   "metadata": {},
   "outputs": [],
   "source": []
  },
  {
   "cell_type": "markdown",
   "metadata": {},
   "source": [
    "### Выводы\n",
    "\n",
    "После балансировки классов, метрики моделей стали намного лучше. Все с уровнем F1-меры значительно выше 0.59.\n",
    "\n",
    "**Увеличение выборки**\n",
    "\n",
    "*Логистическая регрессия:*\n",
    "\n",
    "**F1-мера:** 0.4888507718696398\n",
    "\n",
    "*Решающие деревья:*\n",
    "\n",
    "**F1-мера:** 0.5963791267305644\n",
    "\n",
    "*Случайный лес:*\n",
    "\n",
    "**F1-мера:** 0.624263839811543\n",
    "\n",
    "**Уменьшение выборки**\n",
    "\n",
    "*Логистическая регрессия:*\n",
    "\n",
    "**F1-мера:** 0.48406546080964685\n",
    "\n",
    "*Решающие деревья:*\n",
    "\n",
    "**F1-мера:** 0.4966216216216216\n",
    "\n",
    "*Случайный лес:*\n",
    "\n",
    "**F1-мера:** 0.5961904761904762"
   ]
  },
  {
   "cell_type": "markdown",
   "metadata": {},
   "source": [
    "## Тестирование модели"
   ]
  },
  {
   "cell_type": "markdown",
   "metadata": {},
   "source": [
    "Лучшие данные были получены при увеличении данных в обучающей выборке."
   ]
  },
  {
   "cell_type": "code",
   "execution_count": null,
   "metadata": {},
   "outputs": [],
   "source": [
    "# разделяем последовательно на три части\n",
    "train, data_ = train_test_split(data, test_size=0.4, random_state=12345) \n",
    "valid, test = train_test_split(data_, test_size=0.5, random_state=12345)\n",
    "\n",
    "# создаём обучающую выборку\n",
    "features_train = train.drop(['Exited'], axis=1)\n",
    "target_train = train['Exited']\n",
    "# создаём валидационную выборку\n",
    "features_valid = valid.drop(['Exited'], axis=1)\n",
    "target_valid = valid['Exited']\n",
    "# создаём тестовую выборку\n",
    "features_test = test.drop(['Exited'], axis=1)\n",
    "target_test = test['Exited']\n",
    "\n",
    "features_train, target_train = upsample(features_train, target_train, 4)"
   ]
  },
  {
   "cell_type": "markdown",
   "metadata": {},
   "source": [
    "Самой лучшей моделью оказался случайный лес с 44-я деревьями с максимальной глубиной 12."
   ]
  },
  {
   "cell_type": "code",
   "execution_count": 198,
   "metadata": {},
   "outputs": [],
   "source": [
    "model = RandomForestClassifier(n_estimators=44,max_depth=12, random_state=12345)\n",
    "model.fit(features_train, target_train)\n",
    "predictions = model.predict(features_test)"
   ]
  },
  {
   "cell_type": "code",
   "execution_count": 188,
   "metadata": {},
   "outputs": [],
   "source": [
    "'''\n",
    "model = RandomForestClassifier(min_samples_leaf=18,n_estimators=38,max_depth=10, random_state=12345)\n",
    "model.fit(features_train, target_train)\n",
    "predictions = model.predict(features_valid)'''"
   ]
  },
  {
   "cell_type": "markdown",
   "metadata": {},
   "source": [
    "#### Метрики"
   ]
  },
  {
   "cell_type": "code",
   "execution_count": 200,
   "metadata": {},
   "outputs": [
    {
     "name": "stdout",
     "output_type": "stream",
     "text": [
      "Полнота: 0.6099290780141844\n",
      "Точность: 0.591743119266055\n",
      "F1-мера: 0.6006984866123398\n"
     ]
    }
   ],
   "source": [
    "precision = precision_score(target_test, predictions)\n",
    "recall = recall_score(target_test, predictions)\n",
    "f1 = f1_score(target_test, predictions)\n",
    "\n",
    "print(\"Полнота:\", recall)\n",
    "print(\"Точность:\", precision)\n",
    "print('F1-мера:', f1)"
   ]
  },
  {
   "cell_type": "markdown",
   "metadata": {},
   "source": [
    "#### ROC-кривая\n",
    "\n",
    "Построим ROC-кривую."
   ]
  },
  {
   "cell_type": "code",
   "execution_count": 201,
   "metadata": {},
   "outputs": [
    {
     "name": "stdout",
     "output_type": "stream",
     "text": [
      "(10000, 2)\n"
     ]
    },
    {
     "data": {
      "image/png": "[encoded data removed]",
      "text/plain": [
       "<Figure size 432x288 with 1 Axes>"
      ]
     },
     "metadata": {
      "needs_background": "light"
     },
     "output_type": "display_data"
    }
   ],
   "source": [
    "probabilities_valid = model.predict_proba(features_valid)\n",
    "probabilities_one_valid = probabilities_valid[:, 1]\n",
    "\n",
    "probabilities = model.predict_proba(features) \n",
    "print(probabilities.shape)\n",
    "\n",
    "fpr, tpr, thresholds = roc_curve(target_valid, probabilities_one_valid)\n",
    "\n",
    "plt.figure()\n",
    "plt.plot(fpr, tpr)\n",
    "plt.xlim([0.0, 1.0])\n",
    "plt.ylim([0.0, 1.0])\n",
    "plt.xlabel('False Positive Rate')\n",
    "plt.ylabel('True Positive Rate')\n",
    "plt.title('ROC-кривая')\n",
    "plt.show()"
   ]
  },
  {
   "cell_type": "markdown",
   "metadata": {},
   "source": [
    "#### AUC-ROC\n",
    "\n",
    "Посчитаем AUC-ROC."
   ]
  },
  {
   "cell_type": "code",
   "execution_count": 202,
   "metadata": {},
   "outputs": [
    {
     "name": "stdout",
     "output_type": "stream",
     "text": [
      "AUC-ROC 0.8441664297509663\n"
     ]
    }
   ],
   "source": [
    "probabilities_valid = model.predict_proba(features_valid)\n",
    "probabilities_one_valid = probabilities_valid[:, 1]\n",
    "\n",
    "auc_roc = roc_auc_score(target_valid, probabilities_one_valid)\n",
    "\n",
    "print('AUC-ROC', auc_roc)"
   ]
  },
  {
   "cell_type": "markdown",
   "metadata": {},
   "source": [
    "### Выводы:\n",
    "\n",
    "Наилучшей моделью оказался *Случайный лес:*\n",
    "**F1-мера:** 0.9507735583684952"
   ]
  },
  {
   "cell_type": "markdown",
   "metadata": {},
   "source": [
    "## Выводы\n",
    "\n",
    "Мы загрузили данные и подготовили их, проведя кодирование и масштабирование.\n",
    "\n",
    "До исправления дисбаланса все модели показывали не самык лучшие результаты.\n",
    "\n",
    "В выборке наблюдаелся дисбаланс классов. Для исправления дисбаланса классов можно использовать как уменьшение, так и увеличение выборки. Для дальнейшей работы мы использовали уменьшение и увеличение выборки. Послндннн оказалось эффективней.\n",
    "\n",
    "После балансировки классов, метрики моделей стали намного лучше. Все с уровнем F1-меры значительно выше 0.59.\n",
    "\n",
    "Наилучшей моделью оказался *Случайный лес:* с\n",
    "\n",
    "**F1-мера:** 0.6006984866123398"
   ]
  }
 ],
 "metadata": {
  "ExecuteTimeLog": [
   {
    "duration": 1717,
    "start_time": "2022-12-07T11:42:06.218Z"
   },
   {
    "duration": 175,
    "start_time": "2022-12-07T11:46:14.512Z"
   },
   {
    "duration": 26,
    "start_time": "2022-12-07T11:46:32.303Z"
   },
   {
    "duration": 24,
    "start_time": "2022-12-07T11:46:48.172Z"
   },
   {
    "duration": 114,
    "start_time": "2022-12-07T18:20:23.038Z"
   },
   {
    "duration": 11,
    "start_time": "2022-12-07T18:20:53.863Z"
   },
   {
    "duration": 48,
    "start_time": "2022-12-08T12:05:01.218Z"
   },
   {
    "duration": 1572,
    "start_time": "2022-12-08T12:05:21.954Z"
   },
   {
    "duration": 173,
    "start_time": "2022-12-08T12:05:25.359Z"
   },
   {
    "duration": 19,
    "start_time": "2022-12-08T12:05:27.293Z"
   },
   {
    "duration": 13,
    "start_time": "2022-12-08T12:05:38.280Z"
   },
   {
    "duration": 8,
    "start_time": "2022-12-08T12:05:41.772Z"
   },
   {
    "duration": 3,
    "start_time": "2022-12-08T12:09:39.394Z"
   },
   {
    "duration": 5,
    "start_time": "2022-12-08T12:10:17.262Z"
   },
   {
    "duration": 176,
    "start_time": "2022-12-08T12:11:14.976Z"
   },
   {
    "duration": 147,
    "start_time": "2022-12-08T12:18:24.691Z"
   },
   {
    "duration": 79,
    "start_time": "2022-12-08T15:12:01.840Z"
   },
   {
    "duration": 283,
    "start_time": "2022-12-08T15:12:26.924Z"
   },
   {
    "duration": 277,
    "start_time": "2022-12-08T15:12:52.891Z"
   },
   {
    "duration": 139,
    "start_time": "2022-12-08T15:13:16.051Z"
   },
   {
    "duration": 178,
    "start_time": "2022-12-08T15:13:23.927Z"
   },
   {
    "duration": 5,
    "start_time": "2022-12-08T15:13:26.771Z"
   },
   {
    "duration": 4,
    "start_time": "2022-12-08T15:13:33.726Z"
   },
   {
    "duration": 188,
    "start_time": "2022-12-08T15:13:41.467Z"
   },
   {
    "duration": 41,
    "start_time": "2022-12-08T19:13:54.245Z"
   },
   {
    "duration": 13,
    "start_time": "2022-12-08T19:14:08.606Z"
   },
   {
    "duration": 12,
    "start_time": "2022-12-08T19:17:44.426Z"
   },
   {
    "duration": 6,
    "start_time": "2022-12-08T19:18:10.493Z"
   },
   {
    "duration": 41,
    "start_time": "2022-12-08T19:18:13.571Z"
   },
   {
    "duration": 14,
    "start_time": "2022-12-08T19:18:15.988Z"
   },
   {
    "duration": 13,
    "start_time": "2022-12-08T19:18:18.653Z"
   },
   {
    "duration": 7,
    "start_time": "2022-12-08T19:18:24.367Z"
   },
   {
    "duration": 159,
    "start_time": "2022-12-08T19:18:30.475Z"
   },
   {
    "duration": 157,
    "start_time": "2022-12-08T19:18:37.308Z"
   },
   {
    "duration": 175,
    "start_time": "2022-12-08T19:18:41.127Z"
   },
   {
    "duration": 13,
    "start_time": "2022-12-08T19:18:47.110Z"
   },
   {
    "duration": 30,
    "start_time": "2022-12-08T19:18:50.180Z"
   },
   {
    "duration": 9,
    "start_time": "2022-12-08T19:18:58.220Z"
   },
   {
    "duration": 8,
    "start_time": "2022-12-08T19:19:13.631Z"
   },
   {
    "duration": 7,
    "start_time": "2022-12-08T19:19:18.508Z"
   },
   {
    "duration": 13,
    "start_time": "2022-12-08T19:19:22.169Z"
   },
   {
    "duration": 9,
    "start_time": "2022-12-08T19:19:57.757Z"
   },
   {
    "duration": 6,
    "start_time": "2022-12-08T19:54:59.434Z"
   },
   {
    "duration": 7,
    "start_time": "2022-12-08T19:55:12.507Z"
   },
   {
    "duration": 7,
    "start_time": "2022-12-08T19:56:02.026Z"
   },
   {
    "duration": 13,
    "start_time": "2022-12-08T19:57:43.970Z"
   },
   {
    "duration": 5,
    "start_time": "2022-12-08T19:57:46.917Z"
   },
   {
    "duration": 5,
    "start_time": "2022-12-08T19:59:39.794Z"
   },
   {
    "duration": 318,
    "start_time": "2022-12-08T20:00:14.062Z"
   },
   {
    "duration": 312,
    "start_time": "2022-12-08T20:00:34.126Z"
   },
   {
    "duration": 5,
    "start_time": "2022-12-08T20:44:18.758Z"
   },
   {
    "duration": 164,
    "start_time": "2022-12-08T20:58:40.969Z"
   },
   {
    "duration": 247,
    "start_time": "2022-12-08T20:58:56.931Z"
   },
   {
    "duration": 27,
    "start_time": "2022-12-08T21:03:28.522Z"
   },
   {
    "duration": 25,
    "start_time": "2022-12-08T21:04:41.472Z"
   },
   {
    "duration": 8,
    "start_time": "2022-12-08T21:05:13.465Z"
   },
   {
    "duration": 27,
    "start_time": "2022-12-08T21:13:32.868Z"
   },
   {
    "duration": 7,
    "start_time": "2022-12-08T21:16:21.517Z"
   },
   {
    "duration": 5,
    "start_time": "2022-12-08T21:16:32.028Z"
   },
   {
    "duration": 47,
    "start_time": "2022-12-08T21:16:33.938Z"
   },
   {
    "duration": 13,
    "start_time": "2022-12-08T21:16:36.037Z"
   },
   {
    "duration": 13,
    "start_time": "2022-12-08T21:16:38.776Z"
   },
   {
    "duration": 9,
    "start_time": "2022-12-08T21:16:41.770Z"
   },
   {
    "duration": 129,
    "start_time": "2022-12-08T21:16:44.362Z"
   },
   {
    "duration": 146,
    "start_time": "2022-12-08T21:16:46.306Z"
   },
   {
    "duration": 170,
    "start_time": "2022-12-08T21:16:53.767Z"
   },
   {
    "duration": 277,
    "start_time": "2022-12-08T21:17:45.449Z"
   },
   {
    "duration": 6,
    "start_time": "2022-12-08T21:17:50.245Z"
   },
   {
    "duration": 7,
    "start_time": "2022-12-08T21:17:53.200Z"
   },
   {
    "duration": 8,
    "start_time": "2022-12-08T21:17:55.000Z"
   },
   {
    "duration": 12,
    "start_time": "2022-12-08T21:17:57.521Z"
   },
   {
    "duration": 5,
    "start_time": "2022-12-08T21:18:02.649Z"
   },
   {
    "duration": 330,
    "start_time": "2022-12-08T21:18:12.026Z"
   },
   {
    "duration": 8,
    "start_time": "2022-12-08T21:18:22.419Z"
   },
   {
    "duration": 8,
    "start_time": "2022-12-08T21:18:25.806Z"
   },
   {
    "duration": 46,
    "start_time": "2022-12-08T21:24:14.211Z"
   },
   {
    "duration": 35,
    "start_time": "2022-12-08T21:35:02.901Z"
   },
   {
    "duration": 28,
    "start_time": "2022-12-08T21:35:23.161Z"
   },
   {
    "duration": 54,
    "start_time": "2022-12-08T21:36:28.540Z"
   },
   {
    "duration": 8,
    "start_time": "2022-12-08T21:38:25.408Z"
   },
   {
    "duration": 27,
    "start_time": "2022-12-08T21:38:29.583Z"
   },
   {
    "duration": 18,
    "start_time": "2022-12-08T21:40:05.438Z"
   },
   {
    "duration": 7,
    "start_time": "2022-12-08T21:40:20.856Z"
   },
   {
    "duration": 37,
    "start_time": "2022-12-08T21:40:23.213Z"
   },
   {
    "duration": 17,
    "start_time": "2022-12-08T21:40:24.665Z"
   },
   {
    "duration": 12,
    "start_time": "2022-12-08T21:40:30.874Z"
   },
   {
    "duration": 7,
    "start_time": "2022-12-08T21:40:33.062Z"
   },
   {
    "duration": 130,
    "start_time": "2022-12-08T21:40:33.797Z"
   },
   {
    "duration": 155,
    "start_time": "2022-12-08T21:40:34.733Z"
   },
   {
    "duration": 171,
    "start_time": "2022-12-08T21:40:35.497Z"
   },
   {
    "duration": 6,
    "start_time": "2022-12-08T21:40:36.222Z"
   },
   {
    "duration": 9,
    "start_time": "2022-12-08T21:40:38.782Z"
   },
   {
    "duration": 8,
    "start_time": "2022-12-08T21:40:41.205Z"
   },
   {
    "duration": 12,
    "start_time": "2022-12-08T21:40:42.510Z"
   },
   {
    "duration": 6,
    "start_time": "2022-12-08T21:40:46.941Z"
   },
   {
    "duration": 316,
    "start_time": "2022-12-08T21:40:47.957Z"
   },
   {
    "duration": 7,
    "start_time": "2022-12-08T21:40:59.366Z"
   },
   {
    "duration": 6,
    "start_time": "2022-12-08T21:41:00.510Z"
   },
   {
    "duration": 54,
    "start_time": "2022-12-08T21:41:27.034Z"
   },
   {
    "duration": 29,
    "start_time": "2022-12-08T21:42:49.563Z"
   },
   {
    "duration": 7,
    "start_time": "2022-12-08T21:44:10.454Z"
   },
   {
    "duration": 7,
    "start_time": "2022-12-08T21:44:15.503Z"
   },
   {
    "duration": 12,
    "start_time": "2022-12-08T21:44:18.396Z"
   },
   {
    "duration": 6,
    "start_time": "2022-12-08T21:44:27.915Z"
   },
   {
    "duration": 36,
    "start_time": "2022-12-08T21:44:29.948Z"
   },
   {
    "duration": 12,
    "start_time": "2022-12-08T21:44:31.939Z"
   },
   {
    "duration": 12,
    "start_time": "2022-12-08T21:44:34.373Z"
   },
   {
    "duration": 7,
    "start_time": "2022-12-08T21:44:37.455Z"
   },
   {
    "duration": 7,
    "start_time": "2022-12-08T21:44:39.895Z"
   },
   {
    "duration": 126,
    "start_time": "2022-12-08T21:44:40.597Z"
   },
   {
    "duration": 145,
    "start_time": "2022-12-08T21:44:40.940Z"
   },
   {
    "duration": 173,
    "start_time": "2022-12-08T21:44:41.307Z"
   },
   {
    "duration": 6,
    "start_time": "2022-12-08T21:44:41.763Z"
   },
   {
    "duration": 7,
    "start_time": "2022-12-08T21:44:43.147Z"
   },
   {
    "duration": 7,
    "start_time": "2022-12-08T21:44:43.902Z"
   },
   {
    "duration": 12,
    "start_time": "2022-12-08T21:44:44.419Z"
   },
   {
    "duration": 6,
    "start_time": "2022-12-08T21:44:45.923Z"
   },
   {
    "duration": 323,
    "start_time": "2022-12-08T21:44:46.738Z"
   },
   {
    "duration": 7,
    "start_time": "2022-12-08T21:44:51.163Z"
   },
   {
    "duration": 7,
    "start_time": "2022-12-08T21:44:58.715Z"
   },
   {
    "duration": 36,
    "start_time": "2022-12-08T21:45:43.560Z"
   },
   {
    "duration": 25,
    "start_time": "2022-12-08T21:45:53.246Z"
   },
   {
    "duration": 3,
    "start_time": "2022-12-08T21:46:46.403Z"
   },
   {
    "duration": 5,
    "start_time": "2022-12-08T21:47:04.863Z"
   },
   {
    "duration": 20,
    "start_time": "2022-12-08T21:48:05.418Z"
   },
   {
    "duration": 17,
    "start_time": "2022-12-08T21:51:05.008Z"
   },
   {
    "duration": 6,
    "start_time": "2022-12-08T21:51:17.699Z"
   },
   {
    "duration": 37,
    "start_time": "2022-12-08T21:51:20.962Z"
   },
   {
    "duration": 13,
    "start_time": "2022-12-08T21:51:22.666Z"
   },
   {
    "duration": 19,
    "start_time": "2022-12-08T21:51:25.692Z"
   },
   {
    "duration": 8,
    "start_time": "2022-12-08T21:51:28.014Z"
   },
   {
    "duration": 168,
    "start_time": "2022-12-08T21:51:30.280Z"
   },
   {
    "duration": 183,
    "start_time": "2022-12-08T21:51:33.093Z"
   },
   {
    "duration": 221,
    "start_time": "2022-12-08T21:51:35.505Z"
   },
   {
    "duration": 6,
    "start_time": "2022-12-08T21:51:51.730Z"
   },
   {
    "duration": 8,
    "start_time": "2022-12-08T21:51:55.103Z"
   },
   {
    "duration": 8,
    "start_time": "2022-12-08T21:51:57.796Z"
   },
   {
    "duration": 12,
    "start_time": "2022-12-08T21:53:49.226Z"
   },
   {
    "duration": 7,
    "start_time": "2022-12-08T21:53:55.655Z"
   },
   {
    "duration": 359,
    "start_time": "2022-12-08T21:53:59.975Z"
   },
   {
    "duration": 8,
    "start_time": "2022-12-08T21:54:19.815Z"
   },
   {
    "duration": 8,
    "start_time": "2022-12-08T21:54:35.829Z"
   },
   {
    "duration": 38,
    "start_time": "2022-12-08T21:54:42.529Z"
   },
   {
    "duration": 4,
    "start_time": "2022-12-08T21:55:56.772Z"
   },
   {
    "duration": 4,
    "start_time": "2022-12-08T21:56:00.246Z"
   },
   {
    "duration": 25,
    "start_time": "2022-12-08T21:56:17.108Z"
   },
   {
    "duration": 1863,
    "start_time": "2022-12-09T13:03:26.618Z"
   },
   {
    "duration": 370,
    "start_time": "2022-12-09T13:03:28.483Z"
   },
   {
    "duration": 26,
    "start_time": "2022-12-09T13:03:28.855Z"
   },
   {
    "duration": 17,
    "start_time": "2022-12-09T13:03:29.667Z"
   },
   {
    "duration": 11,
    "start_time": "2022-12-09T13:03:30.899Z"
   },
   {
    "duration": 214,
    "start_time": "2022-12-09T13:03:31.626Z"
   },
   {
    "duration": 208,
    "start_time": "2022-12-09T13:03:32.648Z"
   },
   {
    "duration": 315,
    "start_time": "2022-12-09T13:03:33.522Z"
   },
   {
    "duration": 17,
    "start_time": "2022-12-09T13:03:35.819Z"
   },
   {
    "duration": 14,
    "start_time": "2022-12-09T13:03:40.371Z"
   },
   {
    "duration": 10,
    "start_time": "2022-12-09T13:04:04.966Z"
   },
   {
    "duration": 23,
    "start_time": "2022-12-09T13:04:26.418Z"
   },
   {
    "duration": 6,
    "start_time": "2022-12-09T13:04:35.674Z"
   },
   {
    "duration": 388,
    "start_time": "2022-12-09T13:04:36.604Z"
   },
   {
    "duration": 18,
    "start_time": "2022-12-09T13:04:44.578Z"
   },
   {
    "duration": 8,
    "start_time": "2022-12-09T13:05:39.447Z"
   },
   {
    "duration": 64,
    "start_time": "2022-12-09T13:05:49.111Z"
   },
   {
    "duration": 4,
    "start_time": "2022-12-09T13:05:53.956Z"
   },
   {
    "duration": 5,
    "start_time": "2022-12-09T13:05:55.347Z"
   },
   {
    "duration": 36,
    "start_time": "2022-12-09T13:06:22.657Z"
   },
   {
    "duration": 27,
    "start_time": "2022-12-09T13:06:36.696Z"
   },
   {
    "duration": 52,
    "start_time": "2022-12-09T13:06:47.720Z"
   },
   {
    "duration": 4,
    "start_time": "2022-12-09T16:52:16.616Z"
   },
   {
    "duration": 7,
    "start_time": "2022-12-09T16:52:20.325Z"
   },
   {
    "duration": 5,
    "start_time": "2022-12-09T16:52:33.676Z"
   },
   {
    "duration": 36,
    "start_time": "2022-12-09T16:52:36.423Z"
   },
   {
    "duration": 12,
    "start_time": "2022-12-09T16:52:38.540Z"
   },
   {
    "duration": 12,
    "start_time": "2022-12-09T16:52:41.284Z"
   },
   {
    "duration": 6,
    "start_time": "2022-12-09T16:52:44.257Z"
   },
   {
    "duration": 123,
    "start_time": "2022-12-09T16:52:47.465Z"
   },
   {
    "duration": 131,
    "start_time": "2022-12-09T16:52:51.099Z"
   },
   {
    "duration": 164,
    "start_time": "2022-12-09T16:52:55.489Z"
   },
   {
    "duration": 5,
    "start_time": "2022-12-09T16:53:02.595Z"
   },
   {
    "duration": 4,
    "start_time": "2022-12-09T16:53:08.226Z"
   },
   {
    "duration": 9,
    "start_time": "2022-12-09T16:53:11.655Z"
   },
   {
    "duration": 11,
    "start_time": "2022-12-09T16:53:15.197Z"
   },
   {
    "duration": 4,
    "start_time": "2022-12-09T16:53:23.948Z"
   },
   {
    "duration": 378,
    "start_time": "2022-12-09T16:53:29.500Z"
   },
   {
    "duration": 7,
    "start_time": "2022-12-09T16:53:35.747Z"
   },
   {
    "duration": 6,
    "start_time": "2022-12-09T16:53:37.949Z"
   },
   {
    "duration": 38,
    "start_time": "2022-12-09T16:53:51.801Z"
   },
   {
    "duration": 3,
    "start_time": "2022-12-09T16:53:58.579Z"
   },
   {
    "duration": 4,
    "start_time": "2022-12-09T16:54:01.003Z"
   },
   {
    "duration": 24,
    "start_time": "2022-12-09T16:54:05.139Z"
   },
   {
    "duration": 22,
    "start_time": "2022-12-09T16:54:25.668Z"
   },
   {
    "duration": 27,
    "start_time": "2022-12-09T16:58:14.551Z"
   },
   {
    "duration": 23,
    "start_time": "2022-12-09T17:01:32.848Z"
   },
   {
    "duration": 23,
    "start_time": "2022-12-09T17:05:25.478Z"
   },
   {
    "duration": 23,
    "start_time": "2022-12-09T17:05:34.327Z"
   },
   {
    "duration": 21,
    "start_time": "2022-12-09T17:11:55.042Z"
   },
   {
    "duration": 5,
    "start_time": "2022-12-09T17:19:30.498Z"
   },
   {
    "duration": 21,
    "start_time": "2022-12-09T17:25:29.608Z"
   },
   {
    "duration": 5,
    "start_time": "2022-12-09T17:29:01.009Z"
   },
   {
    "duration": 113,
    "start_time": "2022-12-09T19:21:59.323Z"
   },
   {
    "duration": 7,
    "start_time": "2022-12-09T19:22:21.123Z"
   },
   {
    "duration": 47,
    "start_time": "2022-12-09T19:22:28.172Z"
   },
   {
    "duration": 6,
    "start_time": "2022-12-09T19:23:03.141Z"
   },
   {
    "duration": 6,
    "start_time": "2022-12-09T19:25:37.191Z"
   },
   {
    "duration": 45,
    "start_time": "2022-12-09T19:31:47.246Z"
   },
   {
    "duration": 794,
    "start_time": "2022-12-09T19:32:29.720Z"
   },
   {
    "duration": 394,
    "start_time": "2022-12-09T19:33:46.640Z"
   },
   {
    "duration": 205,
    "start_time": "2022-12-09T19:33:50.827Z"
   },
   {
    "duration": 9,
    "start_time": "2022-12-09T19:46:29.788Z"
   },
   {
    "duration": 400,
    "start_time": "2022-12-09T19:46:47.830Z"
   },
   {
    "duration": 97,
    "start_time": "2022-12-09T19:46:54.133Z"
   },
   {
    "duration": 6,
    "start_time": "2022-12-09T19:47:28.978Z"
   },
   {
    "duration": 282,
    "start_time": "2022-12-09T19:48:15.647Z"
   },
   {
    "duration": 274,
    "start_time": "2022-12-09T19:57:21.848Z"
   },
   {
    "duration": 37,
    "start_time": "2022-12-09T19:58:45.694Z"
   },
   {
    "duration": 9,
    "start_time": "2022-12-09T20:00:18.809Z"
   },
   {
    "duration": 805,
    "start_time": "2022-12-09T20:07:00.784Z"
   },
   {
    "duration": 9,
    "start_time": "2022-12-09T20:07:38.529Z"
   },
   {
    "duration": 322,
    "start_time": "2022-12-09T20:09:51.009Z"
   },
   {
    "duration": 831,
    "start_time": "2022-12-09T20:10:01.472Z"
   },
   {
    "duration": 8,
    "start_time": "2022-12-09T20:10:04.341Z"
   },
   {
    "duration": 316,
    "start_time": "2022-12-09T20:10:09.890Z"
   },
   {
    "duration": 445,
    "start_time": "2022-12-09T20:12:12.378Z"
   },
   {
    "duration": 413,
    "start_time": "2022-12-09T20:12:30.815Z"
   },
   {
    "duration": 11,
    "start_time": "2022-12-09T20:12:45.802Z"
   },
   {
    "duration": 295,
    "start_time": "2022-12-09T20:12:51.915Z"
   },
   {
    "duration": 12,
    "start_time": "2022-12-09T20:21:24.124Z"
   },
   {
    "duration": 19,
    "start_time": "2022-12-09T20:21:34.872Z"
   },
   {
    "duration": 8,
    "start_time": "2022-12-09T20:21:38.594Z"
   },
   {
    "duration": 292,
    "start_time": "2022-12-09T20:21:46.318Z"
   },
   {
    "duration": 281,
    "start_time": "2022-12-09T20:24:43.430Z"
   },
   {
    "duration": 6,
    "start_time": "2022-12-09T20:25:06.445Z"
   },
   {
    "duration": 296,
    "start_time": "2022-12-09T20:25:16.945Z"
   },
   {
    "duration": 397,
    "start_time": "2022-12-09T20:27:11.903Z"
   },
   {
    "duration": 288,
    "start_time": "2022-12-09T20:31:15.515Z"
   },
   {
    "duration": 268,
    "start_time": "2022-12-09T20:31:37.156Z"
   },
   {
    "duration": 292,
    "start_time": "2022-12-09T20:32:10.632Z"
   },
   {
    "duration": 39,
    "start_time": "2022-12-09T20:32:24.812Z"
   },
   {
    "duration": 8,
    "start_time": "2022-12-09T20:32:27.215Z"
   },
   {
    "duration": 127,
    "start_time": "2022-12-09T20:32:31.809Z"
   },
   {
    "duration": 38,
    "start_time": "2022-12-09T20:32:44.424Z"
   },
   {
    "duration": 9,
    "start_time": "2022-12-09T20:32:47.286Z"
   },
   {
    "duration": 119,
    "start_time": "2022-12-09T20:32:58.543Z"
   },
   {
    "duration": 106,
    "start_time": "2022-12-09T20:33:39.466Z"
   },
   {
    "duration": 758,
    "start_time": "2022-12-09T20:33:45.396Z"
   },
   {
    "duration": 12,
    "start_time": "2022-12-09T20:33:49.374Z"
   },
   {
    "duration": 331,
    "start_time": "2022-12-09T20:34:01.330Z"
   },
   {
    "duration": 311,
    "start_time": "2022-12-09T20:34:10.925Z"
   },
   {
    "duration": 318,
    "start_time": "2022-12-09T20:36:51.578Z"
   },
   {
    "duration": 5,
    "start_time": "2022-12-09T20:39:35.833Z"
   },
   {
    "duration": 4,
    "start_time": "2022-12-09T20:42:18.471Z"
   },
   {
    "duration": 10,
    "start_time": "2022-12-09T20:44:34.921Z"
   },
   {
    "duration": 4,
    "start_time": "2022-12-09T20:44:50.938Z"
   },
   {
    "duration": 61,
    "start_time": "2022-12-09T20:46:22.324Z"
   },
   {
    "duration": 62,
    "start_time": "2022-12-09T20:46:57.851Z"
   },
   {
    "duration": 311,
    "start_time": "2022-12-09T20:47:19.062Z"
   },
   {
    "duration": 38,
    "start_time": "2022-12-09T20:47:26.948Z"
   },
   {
    "duration": 9,
    "start_time": "2022-12-09T20:47:29.351Z"
   },
   {
    "duration": 123,
    "start_time": "2022-12-09T20:47:34.145Z"
   },
   {
    "duration": 8,
    "start_time": "2022-12-09T20:47:43.287Z"
   },
   {
    "duration": 24,
    "start_time": "2022-12-09T20:49:19.298Z"
   },
   {
    "duration": 8,
    "start_time": "2022-12-09T20:49:21.613Z"
   },
   {
    "duration": 257,
    "start_time": "2022-12-09T20:49:25.870Z"
   },
   {
    "duration": 9,
    "start_time": "2022-12-09T20:49:31.158Z"
   },
   {
    "duration": 257,
    "start_time": "2022-12-09T20:49:43.878Z"
   },
   {
    "duration": 12,
    "start_time": "2022-12-09T21:00:06.423Z"
   },
   {
    "duration": 3437,
    "start_time": "2022-12-09T21:00:53.275Z"
   },
   {
    "duration": 3624,
    "start_time": "2022-12-09T21:06:52.572Z"
   },
   {
    "duration": 3331,
    "start_time": "2022-12-09T21:07:30.072Z"
   },
   {
    "duration": 19,
    "start_time": "2022-12-09T21:10:41.397Z"
   },
   {
    "duration": 10,
    "start_time": "2022-12-09T21:10:44.626Z"
   },
   {
    "duration": 114,
    "start_time": "2022-12-09T21:10:55.323Z"
   },
   {
    "duration": 9,
    "start_time": "2022-12-09T21:11:01.338Z"
   },
   {
    "duration": 20966,
    "start_time": "2022-12-09T21:15:20.135Z"
   },
   {
    "duration": 21032,
    "start_time": "2022-12-09T21:15:52.060Z"
   },
   {
    "duration": 20953,
    "start_time": "2022-12-09T21:17:07.951Z"
   },
   {
    "duration": 0,
    "start_time": "2022-12-09T21:29:27.504Z"
   },
   {
    "duration": 2081606,
    "start_time": "2022-12-09T21:30:06.240Z"
   },
   {
    "duration": 119996,
    "start_time": "2022-12-09T22:05:13.865Z"
   },
   {
    "duration": 136515,
    "start_time": "2022-12-09T22:07:18.167Z"
   },
   {
    "duration": 151225,
    "start_time": "2022-12-09T22:11:31.253Z"
   },
   {
    "duration": 350,
    "start_time": "2022-12-09T22:17:07.124Z"
   },
   {
    "duration": 10,
    "start_time": "2022-12-09T22:17:12.384Z"
   },
   {
    "duration": 198,
    "start_time": "2022-12-09T22:17:17.814Z"
   },
   {
    "duration": 33,
    "start_time": "2022-12-09T22:17:58.020Z"
   },
   {
    "duration": 20,
    "start_time": "2022-12-09T22:28:20.273Z"
   },
   {
    "duration": 126,
    "start_time": "2022-12-09T22:28:28.591Z"
   },
   {
    "duration": 7,
    "start_time": "2022-12-09T22:29:26.602Z"
   },
   {
    "duration": 13,
    "start_time": "2022-12-09T22:29:38.490Z"
   },
   {
    "duration": 126,
    "start_time": "2022-12-09T22:29:42.829Z"
   },
   {
    "duration": 1417,
    "start_time": "2022-12-09T22:30:20.095Z"
   },
   {
    "duration": 121,
    "start_time": "2022-12-09T22:30:27.694Z"
   },
   {
    "duration": 123,
    "start_time": "2022-12-09T22:31:27.269Z"
   },
   {
    "duration": 6,
    "start_time": "2022-12-09T22:32:04.498Z"
   },
   {
    "duration": 35,
    "start_time": "2022-12-09T22:32:06.316Z"
   },
   {
    "duration": 12,
    "start_time": "2022-12-09T22:32:06.959Z"
   },
   {
    "duration": 11,
    "start_time": "2022-12-09T22:32:07.634Z"
   },
   {
    "duration": 7,
    "start_time": "2022-12-09T22:32:09.338Z"
   },
   {
    "duration": 121,
    "start_time": "2022-12-09T22:32:10.482Z"
   },
   {
    "duration": 162,
    "start_time": "2022-12-09T22:32:11.473Z"
   },
   {
    "duration": 5,
    "start_time": "2022-12-09T22:32:13.769Z"
   },
   {
    "duration": 4,
    "start_time": "2022-12-09T22:32:17.154Z"
   },
   {
    "duration": 7,
    "start_time": "2022-12-09T22:32:23.507Z"
   },
   {
    "duration": 11,
    "start_time": "2022-12-09T22:32:26.682Z"
   },
   {
    "duration": 5,
    "start_time": "2022-12-09T22:32:37.301Z"
   },
   {
    "duration": 360,
    "start_time": "2022-12-09T22:32:41.567Z"
   },
   {
    "duration": 7,
    "start_time": "2022-12-09T22:32:44.849Z"
   },
   {
    "duration": 6,
    "start_time": "2022-12-09T22:32:45.579Z"
   },
   {
    "duration": 36,
    "start_time": "2022-12-09T22:32:46.897Z"
   },
   {
    "duration": 4,
    "start_time": "2022-12-09T22:32:47.529Z"
   },
   {
    "duration": 4,
    "start_time": "2022-12-09T22:32:48.146Z"
   },
   {
    "duration": 21,
    "start_time": "2022-12-09T22:32:48.722Z"
   },
   {
    "duration": 21,
    "start_time": "2022-12-09T22:32:49.946Z"
   },
   {
    "duration": 24,
    "start_time": "2022-12-09T22:32:51.291Z"
   },
   {
    "duration": 22,
    "start_time": "2022-12-09T22:32:52.026Z"
   },
   {
    "duration": 20,
    "start_time": "2022-12-09T22:32:56.170Z"
   },
   {
    "duration": 22,
    "start_time": "2022-12-09T22:33:00.787Z"
   },
   {
    "duration": 4,
    "start_time": "2022-12-09T22:33:01.402Z"
   },
   {
    "duration": 7,
    "start_time": "2022-12-09T22:33:03.210Z"
   },
   {
    "duration": 4,
    "start_time": "2022-12-09T22:37:14.983Z"
   },
   {
    "duration": 4,
    "start_time": "2022-12-09T22:38:12.502Z"
   },
   {
    "duration": 13,
    "start_time": "2022-12-09T22:38:19.003Z"
   },
   {
    "duration": 7,
    "start_time": "2022-12-09T22:38:23.404Z"
   },
   {
    "duration": 122,
    "start_time": "2022-12-09T22:38:31.404Z"
   },
   {
    "duration": 4,
    "start_time": "2022-12-09T22:38:53.000Z"
   },
   {
    "duration": 18,
    "start_time": "2022-12-09T22:38:57.082Z"
   },
   {
    "duration": 11,
    "start_time": "2022-12-09T22:39:02.750Z"
   },
   {
    "duration": 125,
    "start_time": "2022-12-09T22:39:05.553Z"
   },
   {
    "duration": 4,
    "start_time": "2022-12-09T22:39:24.580Z"
   },
   {
    "duration": 22,
    "start_time": "2022-12-09T22:39:27.415Z"
   },
   {
    "duration": 15,
    "start_time": "2022-12-09T22:39:31.870Z"
   },
   {
    "duration": 125,
    "start_time": "2022-12-09T22:39:34.181Z"
   },
   {
    "duration": 4,
    "start_time": "2022-12-09T22:39:49.021Z"
   },
   {
    "duration": 117,
    "start_time": "2022-12-09T22:40:13.336Z"
   },
   {
    "duration": 4,
    "start_time": "2022-12-09T22:40:47.641Z"
   },
   {
    "duration": 61,
    "start_time": "2022-12-09T22:40:57.650Z"
   },
   {
    "duration": 37,
    "start_time": "2022-12-09T22:41:02.486Z"
   },
   {
    "duration": 210,
    "start_time": "2022-12-09T22:41:15.232Z"
   },
   {
    "duration": 4,
    "start_time": "2022-12-09T22:41:26.920Z"
   },
   {
    "duration": 11,
    "start_time": "2022-12-09T22:41:44.750Z"
   },
   {
    "duration": 124,
    "start_time": "2022-12-09T22:41:51.281Z"
   },
   {
    "duration": 134,
    "start_time": "2022-12-09T22:43:30.642Z"
   },
   {
    "duration": 4,
    "start_time": "2022-12-09T22:44:18.206Z"
   },
   {
    "duration": 142,
    "start_time": "2022-12-09T22:44:21.553Z"
   },
   {
    "duration": 4,
    "start_time": "2022-12-09T22:46:58.847Z"
   },
   {
    "duration": 207,
    "start_time": "2022-12-09T22:47:09.294Z"
   },
   {
    "duration": 192,
    "start_time": "2022-12-09T22:47:50.615Z"
   },
   {
    "duration": 114,
    "start_time": "2022-12-09T22:47:57.295Z"
   },
   {
    "duration": 144,
    "start_time": "2022-12-09T22:48:05.840Z"
   },
   {
    "duration": 4,
    "start_time": "2022-12-09T22:48:23.026Z"
   },
   {
    "duration": 122,
    "start_time": "2022-12-09T22:48:24.346Z"
   },
   {
    "duration": 5,
    "start_time": "2022-12-09T22:57:57.732Z"
   },
   {
    "duration": 136,
    "start_time": "2022-12-09T22:57:59.117Z"
   },
   {
    "duration": 4,
    "start_time": "2022-12-09T22:58:47.712Z"
   },
   {
    "duration": 4,
    "start_time": "2022-12-09T22:59:21.876Z"
   },
   {
    "duration": 124,
    "start_time": "2022-12-09T22:59:23.059Z"
   },
   {
    "duration": 4,
    "start_time": "2022-12-09T22:59:28.094Z"
   },
   {
    "duration": 760,
    "start_time": "2022-12-09T22:59:31.903Z"
   },
   {
    "duration": 509,
    "start_time": "2022-12-09T22:59:36.469Z"
   },
   {
    "duration": 154,
    "start_time": "2022-12-09T22:59:39.574Z"
   },
   {
    "duration": 3868,
    "start_time": "2022-12-09T23:00:25.614Z"
   },
   {
    "duration": 2769,
    "start_time": "2022-12-09T23:00:29.779Z"
   },
   {
    "duration": 282,
    "start_time": "2022-12-09T23:00:34.379Z"
   },
   {
    "duration": 7,
    "start_time": "2022-12-09T23:00:56.896Z"
   },
   {
    "duration": 126,
    "start_time": "2022-12-09T23:00:59.665Z"
   },
   {
    "duration": 4,
    "start_time": "2022-12-09T23:01:46.527Z"
   },
   {
    "duration": 128,
    "start_time": "2022-12-09T23:01:47.918Z"
   },
   {
    "duration": 4,
    "start_time": "2022-12-09T23:01:53.226Z"
   },
   {
    "duration": 10,
    "start_time": "2022-12-09T23:01:55.180Z"
   },
   {
    "duration": 127,
    "start_time": "2022-12-09T23:01:57.257Z"
   },
   {
    "duration": 13,
    "start_time": "2022-12-09T23:02:33.556Z"
   },
   {
    "duration": 78,
    "start_time": "2022-12-09T23:05:56.945Z"
   },
   {
    "duration": 10,
    "start_time": "2022-12-09T23:06:34.407Z"
   },
   {
    "duration": 263,
    "start_time": "2022-12-09T23:07:48.889Z"
   },
   {
    "duration": 8,
    "start_time": "2022-12-09T23:08:48.843Z"
   },
   {
    "duration": 4555,
    "start_time": "2022-12-09T23:15:23.254Z"
   },
   {
    "duration": 48,
    "start_time": "2022-12-09T23:16:04.726Z"
   },
   {
    "duration": 11,
    "start_time": "2022-12-09T23:16:35.613Z"
   },
   {
    "duration": 125,
    "start_time": "2022-12-09T23:17:20.917Z"
   },
   {
    "duration": 8,
    "start_time": "2022-12-09T23:19:41.357Z"
   },
   {
    "duration": 27830,
    "start_time": "2022-12-09T23:25:45.412Z"
   },
   {
    "duration": 182549,
    "start_time": "2022-12-09T23:28:14.485Z"
   },
   {
    "duration": 158141,
    "start_time": "2022-12-09T23:32:28.735Z"
   },
   {
    "duration": 101424,
    "start_time": "2022-12-09T23:36:28.507Z"
   },
   {
    "duration": 10,
    "start_time": "2022-12-09T23:39:31.406Z"
   },
   {
    "duration": 417,
    "start_time": "2022-12-09T23:40:06.176Z"
   },
   {
    "duration": 95,
    "start_time": "2022-12-09T23:40:45.813Z"
   },
   {
    "duration": 12,
    "start_time": "2022-12-09T23:50:46.533Z"
   },
   {
    "duration": 420,
    "start_time": "2022-12-09T23:51:18.528Z"
   },
   {
    "duration": 83,
    "start_time": "2022-12-09T23:51:47.518Z"
   },
   {
    "duration": 132,
    "start_time": "2022-12-10T00:04:25.216Z"
   },
   {
    "duration": 4,
    "start_time": "2022-12-10T00:04:29.704Z"
   },
   {
    "duration": 126,
    "start_time": "2022-12-10T00:04:30.876Z"
   },
   {
    "duration": 9,
    "start_time": "2022-12-10T00:09:39.109Z"
   },
   {
    "duration": 4,
    "start_time": "2022-12-10T00:09:44.981Z"
   },
   {
    "duration": 10,
    "start_time": "2022-12-10T00:09:47.403Z"
   },
   {
    "duration": 125,
    "start_time": "2022-12-10T00:10:18.113Z"
   },
   {
    "duration": 3,
    "start_time": "2022-12-10T00:10:46.075Z"
   },
   {
    "duration": 131,
    "start_time": "2022-12-10T00:10:48.296Z"
   },
   {
    "duration": 9,
    "start_time": "2022-12-10T00:10:54.294Z"
   },
   {
    "duration": 121,
    "start_time": "2022-12-10T00:10:56.169Z"
   },
   {
    "duration": 5,
    "start_time": "2022-12-10T00:14:32.944Z"
   },
   {
    "duration": 117,
    "start_time": "2022-12-10T00:14:34.172Z"
   },
   {
    "duration": 10,
    "start_time": "2022-12-10T00:14:42.627Z"
   },
   {
    "duration": 120,
    "start_time": "2022-12-10T00:14:45.260Z"
   },
   {
    "duration": 1649,
    "start_time": "2022-12-11T00:53:52.069Z"
   },
   {
    "duration": 9,
    "start_time": "2022-12-11T00:53:55.303Z"
   },
   {
    "duration": 352,
    "start_time": "2022-12-11T00:53:58.165Z"
   },
   {
    "duration": 18,
    "start_time": "2022-12-11T00:53:59.944Z"
   },
   {
    "duration": 16,
    "start_time": "2022-12-11T00:54:00.702Z"
   },
   {
    "duration": 8,
    "start_time": "2022-12-11T00:54:02.296Z"
   },
   {
    "duration": 155,
    "start_time": "2022-12-11T00:54:03.014Z"
   },
   {
    "duration": 208,
    "start_time": "2022-12-11T00:54:04.046Z"
   },
   {
    "duration": 6,
    "start_time": "2022-12-11T00:54:04.902Z"
   },
   {
    "duration": 4,
    "start_time": "2022-12-11T00:54:06.999Z"
   },
   {
    "duration": 9,
    "start_time": "2022-12-11T00:54:08.695Z"
   },
   {
    "duration": 15,
    "start_time": "2022-12-11T00:54:09.319Z"
   },
   {
    "duration": 6,
    "start_time": "2022-12-11T00:54:12.127Z"
   },
   {
    "duration": 501,
    "start_time": "2022-12-11T00:54:12.805Z"
   },
   {
    "duration": 9,
    "start_time": "2022-12-11T00:54:14.014Z"
   },
   {
    "duration": 8,
    "start_time": "2022-12-11T00:54:14.920Z"
   },
   {
    "duration": 44,
    "start_time": "2022-12-11T00:54:16.174Z"
   },
   {
    "duration": 5,
    "start_time": "2022-12-11T00:54:18.238Z"
   },
   {
    "duration": 4,
    "start_time": "2022-12-11T00:54:18.910Z"
   },
   {
    "duration": 27,
    "start_time": "2022-12-11T00:54:19.734Z"
   },
   {
    "duration": 26,
    "start_time": "2022-12-11T00:54:20.863Z"
   },
   {
    "duration": 30,
    "start_time": "2022-12-11T00:54:21.928Z"
   },
   {
    "duration": 28,
    "start_time": "2022-12-11T00:54:22.422Z"
   },
   {
    "duration": 25,
    "start_time": "2022-12-11T00:54:23.447Z"
   },
   {
    "duration": 2,
    "start_time": "2022-12-11T00:54:25.703Z"
   },
   {
    "duration": 11,
    "start_time": "2022-12-11T00:54:26.885Z"
   },
   {
    "duration": 10,
    "start_time": "2022-12-11T00:54:31.413Z"
   },
   {
    "duration": 138,
    "start_time": "2022-12-11T00:54:33.229Z"
   },
   {
    "duration": 22,
    "start_time": "2022-12-11T00:56:37.527Z"
   },
   {
    "duration": 22,
    "start_time": "2022-12-11T01:00:13.017Z"
   },
   {
    "duration": 12,
    "start_time": "2022-12-11T01:01:56.355Z"
   },
   {
    "duration": 11,
    "start_time": "2022-12-11T01:05:14.346Z"
   },
   {
    "duration": 11,
    "start_time": "2022-12-11T01:05:17.350Z"
   },
   {
    "duration": 7,
    "start_time": "2022-12-11T01:05:37.733Z"
   },
   {
    "duration": 5,
    "start_time": "2022-12-11T01:15:17.391Z"
   },
   {
    "duration": 169,
    "start_time": "2022-12-11T01:15:18.922Z"
   },
   {
    "duration": 5,
    "start_time": "2022-12-11T01:15:25.966Z"
   },
   {
    "duration": 11,
    "start_time": "2022-12-11T01:15:29.553Z"
   },
   {
    "duration": 145,
    "start_time": "2022-12-11T01:15:32.840Z"
   },
   {
    "duration": 4,
    "start_time": "2022-12-11T01:15:39.872Z"
   },
   {
    "duration": 153,
    "start_time": "2022-12-11T01:15:41.224Z"
   },
   {
    "duration": 5,
    "start_time": "2022-12-11T01:15:45.525Z"
   },
   {
    "duration": 10,
    "start_time": "2022-12-11T01:15:47.279Z"
   },
   {
    "duration": 144,
    "start_time": "2022-12-11T01:15:49.928Z"
   },
   {
    "duration": 139,
    "start_time": "2022-12-11T01:16:16.562Z"
   },
   {
    "duration": 4,
    "start_time": "2022-12-11T01:16:29.788Z"
   },
   {
    "duration": 148,
    "start_time": "2022-12-11T01:16:31.398Z"
   },
   {
    "duration": 5,
    "start_time": "2022-12-11T01:16:36.495Z"
   },
   {
    "duration": 15,
    "start_time": "2022-12-11T01:16:38.374Z"
   },
   {
    "duration": 148,
    "start_time": "2022-12-11T01:16:40.308Z"
   },
   {
    "duration": 5,
    "start_time": "2022-12-11T01:18:17.415Z"
   },
   {
    "duration": 180,
    "start_time": "2022-12-11T01:18:19.216Z"
   },
   {
    "duration": 15,
    "start_time": "2022-12-11T01:18:51.323Z"
   },
   {
    "duration": 154,
    "start_time": "2022-12-11T01:18:52.787Z"
   },
   {
    "duration": 4,
    "start_time": "2022-12-11T01:18:57.862Z"
   },
   {
    "duration": 16,
    "start_time": "2022-12-11T01:19:01.899Z"
   },
   {
    "duration": 144,
    "start_time": "2022-12-11T01:19:03.820Z"
   },
   {
    "duration": 12,
    "start_time": "2022-12-11T01:22:24.579Z"
   },
   {
    "duration": 20,
    "start_time": "2022-12-11T01:22:49.364Z"
   },
   {
    "duration": 17,
    "start_time": "2022-12-11T01:40:01.782Z"
   },
   {
    "duration": 17,
    "start_time": "2022-12-11T01:41:52.092Z"
   },
   {
    "duration": 15,
    "start_time": "2022-12-11T01:41:54.742Z"
   },
   {
    "duration": 11,
    "start_time": "2022-12-11T01:42:49.103Z"
   },
   {
    "duration": 326,
    "start_time": "2022-12-11T01:44:36.027Z"
   },
   {
    "duration": 10,
    "start_time": "2022-12-11T01:45:42.329Z"
   },
   {
    "duration": 10,
    "start_time": "2022-12-11T01:47:04.645Z"
   },
   {
    "duration": 1680,
    "start_time": "2022-12-11T01:47:49.773Z"
   },
   {
    "duration": 10,
    "start_time": "2022-12-11T01:48:38.044Z"
   },
   {
    "duration": 133,
    "start_time": "2022-12-11T01:50:09.919Z"
   },
   {
    "duration": 8,
    "start_time": "2022-12-11T01:52:20.799Z"
   },
   {
    "duration": 8,
    "start_time": "2022-12-11T01:52:30.840Z"
   },
   {
    "duration": 10,
    "start_time": "2022-12-11T01:58:30.779Z"
   },
   {
    "duration": 11,
    "start_time": "2022-12-11T02:00:40.667Z"
   },
   {
    "duration": 20,
    "start_time": "2022-12-11T02:01:04.510Z"
   },
   {
    "duration": 27,
    "start_time": "2022-12-11T02:01:06.455Z"
   },
   {
    "duration": 10,
    "start_time": "2022-12-11T02:01:13.938Z"
   },
   {
    "duration": 258,
    "start_time": "2022-12-11T02:01:22.015Z"
   },
   {
    "duration": 10,
    "start_time": "2022-12-11T02:01:27.071Z"
   },
   {
    "duration": 4083,
    "start_time": "2022-12-11T02:01:33.906Z"
   },
   {
    "duration": 26,
    "start_time": "2022-12-11T02:01:49.329Z"
   },
   {
    "duration": 11,
    "start_time": "2022-12-11T02:02:01.672Z"
   },
   {
    "duration": 126,
    "start_time": "2022-12-11T02:02:08.458Z"
   },
   {
    "duration": 8,
    "start_time": "2022-12-11T02:02:21.695Z"
   },
   {
    "duration": 28024,
    "start_time": "2022-12-11T02:03:21.351Z"
   },
   {
    "duration": 170745,
    "start_time": "2022-12-11T02:04:05.714Z"
   },
   {
    "duration": 42840,
    "start_time": "2022-12-11T02:07:44.503Z"
   },
   {
    "duration": 407,
    "start_time": "2022-12-11T02:09:07.287Z"
   },
   {
    "duration": 10,
    "start_time": "2022-12-11T02:09:11.245Z"
   },
   {
    "duration": 219,
    "start_time": "2022-12-11T02:09:16.894Z"
   },
   {
    "duration": 35,
    "start_time": "2022-12-11T02:09:21.513Z"
   },
   {
    "duration": 23,
    "start_time": "2022-12-11T02:09:28.920Z"
   },
   {
    "duration": 25,
    "start_time": "2022-12-11T02:09:31.997Z"
   },
   {
    "duration": 13,
    "start_time": "2022-12-11T02:09:34.726Z"
   },
   {
    "duration": 314,
    "start_time": "2022-12-11T02:09:40.845Z"
   },
   {
    "duration": 10,
    "start_time": "2022-12-11T02:09:59.249Z"
   },
   {
    "duration": 1650,
    "start_time": "2022-12-11T02:10:05.043Z"
   },
   {
    "duration": 19,
    "start_time": "2022-12-11T02:11:12.249Z"
   },
   {
    "duration": 19,
    "start_time": "2022-12-11T02:11:24.431Z"
   },
   {
    "duration": 18,
    "start_time": "2022-12-11T02:11:57.389Z"
   },
   {
    "duration": 128,
    "start_time": "2022-12-11T02:12:01.978Z"
   },
   {
    "duration": 8,
    "start_time": "2022-12-11T02:12:07.524Z"
   },
   {
    "duration": 12989,
    "start_time": "2022-12-11T02:12:16.003Z"
   },
   {
    "duration": 63626,
    "start_time": "2022-12-11T02:13:41.819Z"
   },
   {
    "duration": 56836,
    "start_time": "2022-12-11T02:17:20.528Z"
   },
   {
    "duration": 301,
    "start_time": "2022-12-11T02:18:33.470Z"
   },
   {
    "duration": 12,
    "start_time": "2022-12-11T02:18:37.025Z"
   },
   {
    "duration": 274,
    "start_time": "2022-12-11T02:18:44.708Z"
   },
   {
    "duration": 46,
    "start_time": "2022-12-11T02:18:49.932Z"
   },
   {
    "duration": 18,
    "start_time": "2022-12-11T02:23:54.359Z"
   },
   {
    "duration": 25,
    "start_time": "2022-12-11T02:23:58.610Z"
   },
   {
    "duration": 9,
    "start_time": "2022-12-11T02:24:02.202Z"
   },
   {
    "duration": 308,
    "start_time": "2022-12-11T02:24:07.523Z"
   },
   {
    "duration": 13,
    "start_time": "2022-12-11T02:24:16.391Z"
   },
   {
    "duration": 3914,
    "start_time": "2022-12-11T02:24:26.625Z"
   },
   {
    "duration": 27,
    "start_time": "2022-12-11T02:24:43.811Z"
   },
   {
    "duration": 10,
    "start_time": "2022-12-11T02:24:50.934Z"
   },
   {
    "duration": 251,
    "start_time": "2022-12-11T02:25:01.460Z"
   },
   {
    "duration": 9,
    "start_time": "2022-12-11T02:25:06.625Z"
   },
   {
    "duration": 27427,
    "start_time": "2022-12-11T02:25:30.942Z"
   },
   {
    "duration": 167876,
    "start_time": "2022-12-11T02:26:14.909Z"
   },
   {
    "duration": 402,
    "start_time": "2022-12-11T02:30:18.404Z"
   },
   {
    "duration": 10,
    "start_time": "2022-12-11T02:30:21.456Z"
   },
   {
    "duration": 408,
    "start_time": "2022-12-11T02:31:03.342Z"
   },
   {
    "duration": 9,
    "start_time": "2022-12-11T02:31:06.263Z"
   },
   {
    "duration": 210,
    "start_time": "2022-12-11T02:31:14.289Z"
   },
   {
    "duration": 32,
    "start_time": "2022-12-11T02:31:19.031Z"
   },
   {
    "duration": 17,
    "start_time": "2022-12-11T02:31:25.578Z"
   },
   {
    "duration": 22,
    "start_time": "2022-12-11T02:31:28.407Z"
   },
   {
    "duration": 10,
    "start_time": "2022-12-11T02:31:31.156Z"
   },
   {
    "duration": 313,
    "start_time": "2022-12-11T02:31:35.843Z"
   },
   {
    "duration": 10,
    "start_time": "2022-12-11T02:31:49.556Z"
   },
   {
    "duration": 1536,
    "start_time": "2022-12-11T02:32:01.167Z"
   },
   {
    "duration": 20,
    "start_time": "2022-12-11T02:32:25.041Z"
   },
   {
    "duration": 127,
    "start_time": "2022-12-11T02:32:36.954Z"
   },
   {
    "duration": 9,
    "start_time": "2022-12-11T02:32:43.351Z"
   },
   {
    "duration": 18,
    "start_time": "2022-12-11T02:33:18.357Z"
   },
   {
    "duration": 130,
    "start_time": "2022-12-11T02:33:22.598Z"
   },
   {
    "duration": 9,
    "start_time": "2022-12-11T02:33:25.910Z"
   },
   {
    "duration": 13630,
    "start_time": "2022-12-11T02:33:44.424Z"
   },
   {
    "duration": 64684,
    "start_time": "2022-12-11T02:34:30.589Z"
   },
   {
    "duration": 55795,
    "start_time": "2022-12-11T02:35:52.048Z"
   },
   {
    "duration": 303,
    "start_time": "2022-12-11T02:37:20.297Z"
   },
   {
    "duration": 10,
    "start_time": "2022-12-11T02:37:23.172Z"
   },
   {
    "duration": 277,
    "start_time": "2022-12-11T02:37:36.263Z"
   },
   {
    "duration": 48,
    "start_time": "2022-12-11T02:37:41.097Z"
   },
   {
    "duration": 78,
    "start_time": "2022-12-11T02:48:52.063Z"
   },
   {
    "duration": 166,
    "start_time": "2022-12-11T02:50:52.077Z"
   },
   {
    "duration": 11,
    "start_time": "2022-12-11T02:50:55.443Z"
   },
   {
    "duration": 216,
    "start_time": "2022-12-11T02:51:04.144Z"
   },
   {
    "duration": 64014,
    "start_time": "2022-12-11T02:53:10.428Z"
   },
   {
    "duration": 554300,
    "start_time": "2022-12-11T02:54:40.302Z"
   },
   {
    "duration": 19,
    "start_time": "2022-12-11T03:04:34.223Z"
   },
   {
    "duration": 30,
    "start_time": "2022-12-11T03:04:36.582Z"
   },
   {
    "duration": 10,
    "start_time": "2022-12-11T03:04:39.234Z"
   },
   {
    "duration": 264,
    "start_time": "2022-12-11T03:04:43.017Z"
   },
   {
    "duration": 10,
    "start_time": "2022-12-11T03:04:46.819Z"
   },
   {
    "duration": 3838,
    "start_time": "2022-12-11T03:04:51.876Z"
   },
   {
    "duration": 28,
    "start_time": "2022-12-11T03:05:04.448Z"
   },
   {
    "duration": 10,
    "start_time": "2022-12-11T03:05:08.216Z"
   },
   {
    "duration": 122,
    "start_time": "2022-12-11T03:05:12.232Z"
   },
   {
    "duration": 9,
    "start_time": "2022-12-11T03:05:21.237Z"
   },
   {
    "duration": 27697,
    "start_time": "2022-12-11T03:05:31.763Z"
   },
   {
    "duration": 0,
    "start_time": "2022-12-11T03:31:09.983Z"
   },
   {
    "duration": 0,
    "start_time": "2022-12-11T03:31:09.985Z"
   },
   {
    "duration": 170087,
    "start_time": "2022-12-11T03:31:26.991Z"
   },
   {
    "duration": 4944367,
    "start_time": "2022-12-11T03:38:42.020Z"
   },
   {
    "duration": 310,
    "start_time": "2022-12-11T05:02:44.790Z"
   },
   {
    "duration": 11,
    "start_time": "2022-12-11T05:02:53.914Z"
   },
   {
    "duration": 204,
    "start_time": "2022-12-11T05:03:00.670Z"
   },
   {
    "duration": 26,
    "start_time": "2022-12-11T05:03:06.281Z"
   },
   {
    "duration": 409,
    "start_time": "2022-12-11T05:03:28.107Z"
   },
   {
    "duration": 328,
    "start_time": "2022-12-11T05:03:29.816Z"
   },
   {
    "duration": 11,
    "start_time": "2022-12-11T05:03:32.277Z"
   },
   {
    "duration": 195,
    "start_time": "2022-12-11T05:03:43.925Z"
   },
   {
    "duration": 34,
    "start_time": "2022-12-11T05:03:49.672Z"
   },
   {
    "duration": 413,
    "start_time": "2022-12-11T05:04:01.316Z"
   },
   {
    "duration": 10,
    "start_time": "2022-12-11T05:04:04.546Z"
   },
   {
    "duration": 442,
    "start_time": "2022-12-11T05:04:14.541Z"
   },
   {
    "duration": 10,
    "start_time": "2022-12-11T05:04:18.320Z"
   },
   {
    "duration": 37,
    "start_time": "2022-12-11T05:05:15.172Z"
   },
   {
    "duration": 416,
    "start_time": "2022-12-11T05:05:26.512Z"
   },
   {
    "duration": 39,
    "start_time": "2022-12-11T05:05:29.574Z"
   },
   {
    "duration": 33,
    "start_time": "2022-12-11T05:05:39.984Z"
   },
   {
    "duration": 32,
    "start_time": "2022-12-11T05:05:40.789Z"
   },
   {
    "duration": 34,
    "start_time": "2022-12-11T05:05:41.738Z"
   },
   {
    "duration": 32,
    "start_time": "2022-12-11T05:05:42.632Z"
   },
   {
    "duration": 33,
    "start_time": "2022-12-11T05:05:43.550Z"
   },
   {
    "duration": 305,
    "start_time": "2022-12-11T05:06:54.420Z"
   },
   {
    "duration": 33,
    "start_time": "2022-12-11T05:06:57.620Z"
   },
   {
    "duration": 34,
    "start_time": "2022-12-11T05:07:12.942Z"
   },
   {
    "duration": 45,
    "start_time": "2022-12-11T05:08:06.565Z"
   },
   {
    "duration": 425,
    "start_time": "2022-12-11T05:08:10.467Z"
   },
   {
    "duration": 35,
    "start_time": "2022-12-11T05:08:13.408Z"
   },
   {
    "duration": 418,
    "start_time": "2022-12-11T05:08:36.619Z"
   },
   {
    "duration": 44,
    "start_time": "2022-12-11T05:08:39.706Z"
   },
   {
    "duration": 411,
    "start_time": "2022-12-11T05:10:03.619Z"
   },
   {
    "duration": 11,
    "start_time": "2022-12-11T05:10:07.676Z"
   },
   {
    "duration": 421,
    "start_time": "2022-12-11T05:10:17.325Z"
   },
   {
    "duration": 11,
    "start_time": "2022-12-11T05:10:29.915Z"
   },
   {
    "duration": 11,
    "start_time": "2022-12-11T05:10:42.687Z"
   },
   {
    "duration": 233,
    "start_time": "2022-12-11T05:10:45.394Z"
   },
   {
    "duration": 37,
    "start_time": "2022-12-11T05:10:49.800Z"
   }
  ],
  "kernelspec": {
   "display_name": "Python 3 (ipykernel)",
   "language": "python",
   "name": "python3"
  },
  "language_info": {
   "codemirror_mode": {
    "name": "ipython",
    "version": 3
   },
   "file_extension": ".py",
   "mimetype": "text/x-python",
   "name": "python",
   "nbconvert_exporter": "python",
   "pygments_lexer": "ipython3",
   "version": "3.9.12"
  },
  "toc": {
   "base_numbering": 1,
   "nav_menu": {},
   "number_sections": true,
   "sideBar": true,
   "skip_h1_title": true,
   "title_cell": "Содержание",
   "title_sidebar": "Contents",
   "toc_cell": true,
   "toc_position": {
    "height": "calc(100% - 180px)",
    "left": "10px",
    "top": "150px",
    "width": "228.587px"
   },
   "toc_section_display": true,
   "toc_window_display": true
  }
 },
 "nbformat": 4,
 "nbformat_minor": 2
}
