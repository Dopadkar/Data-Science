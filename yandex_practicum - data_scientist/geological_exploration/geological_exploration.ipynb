{
 "cells": [
  {
   "cell_type": "markdown",
   "metadata": {},
   "source": [
    "# Выбор локации для скважины"
   ]
  },
  {
   "cell_type": "markdown",
   "metadata": {},
   "source": [
    "Допустим, вы работаете в добывающей компании «ГлавРосГосНефть». Нужно решить, где бурить новую скважину.\n",
    "\n",
    "Вам предоставлены пробы нефти в трёх регионах: в каждом 10 000 месторождений, где измерили качество нефти и объём её запасов. Постройте модель машинного обучения, которая поможет определить регион, где добыча принесёт наибольшую прибыль. Проанализируйте возможную прибыль и риски техникой *Bootstrap.*\n",
    "\n",
    "Шаги для выбора локации:\n",
    "\n",
    "- В избранном регионе ищут месторождения, для каждого определяют значения признаков;\n",
    "- Строят модель и оценивают объём запасов;\n",
    "- Выбирают месторождения с самым высокими оценками значений. Количество месторождений зависит от бюджета компании и стоимости разработки одной скважины;\n",
    "- Прибыль равна суммарной прибыли отобранных месторождений."
   ]
  },
  {
   "cell_type": "code",
   "execution_count": 1,
   "metadata": {},
   "outputs": [],
   "source": [
    "# импортируем библиотеки\n",
    "import pandas as pd\n",
    "import numpy as np\n",
    "from sklearn.preprocessing import OrdinalEncoder\n",
    "from sklearn.preprocessing import StandardScaler\n",
    "from sklearn.utils import shuffle\n",
    "# импортируем библиотеки визуализации\n",
    "import seaborn as sns\n",
    "import matplotlib.pyplot as plt\n",
    "%matplotlib inline\n",
    "# импортируем алгоритмы для машинного обучения\n",
    "from sklearn.linear_model import LinearRegression\n",
    "\n",
    "# импортируем модуль для выделения выборок\n",
    "from sklearn.model_selection import train_test_split\n",
    "# импортируем метрики качества\n",
    "from sklearn.metrics import mean_squared_error\n",
    "# подавляет научную нотация\n",
    "np.set_printoptions(suppress=True)"
   ]
  },
  {
   "cell_type": "markdown",
   "metadata": {},
   "source": [
    "## Загрузка и подготовка данных"
   ]
  },
  {
   "cell_type": "code",
   "execution_count": 2,
   "metadata": {},
   "outputs": [],
   "source": [
    "urls = ['/datasets/geo_data_0.csv', '/datasets/geo_data_1.csv', '/datasets/geo_data_2.csv']"
   ]
  },
  {
   "cell_type": "code",
   "execution_count": 3,
   "metadata": {},
   "outputs": [],
   "source": [
    "def download(url):\n",
    "    print('============================')\n",
    "    print(url)\n",
    "    print('============================')\n",
    "    data = pd.read_csv(url)\n",
    "    data.head(5)\n",
    "    data.info()\n",
    "    display(data.nunique())\n",
    "    print('============================')\n",
    "    return data"
   ]
  },
  {
   "cell_type": "code",
   "execution_count": 4,
   "metadata": {},
   "outputs": [],
   "source": [
    "def prepare(data):\n",
    "    target = data['product']\n",
    "    index = data['id']\n",
    "    features = data.drop(['id','product'], axis=1)\n",
    "    return features, target, index"
   ]
  },
  {
   "cell_type": "code",
   "execution_count": 5,
   "metadata": {},
   "outputs": [
    {
     "name": "stdout",
     "output_type": "stream",
     "text": [
      "============================\n",
      "/datasets/geo_data_0.csv\n",
      "============================\n",
      "<class 'pandas.core.frame.DataFrame'>\n",
      "RangeIndex: 100000 entries, 0 to 99999\n",
      "Data columns (total 5 columns):\n",
      " #   Column   Non-Null Count   Dtype  \n",
      "---  ------   --------------   -----  \n",
      " 0   id       100000 non-null  object \n",
      " 1   f0       100000 non-null  float64\n",
      " 2   f1       100000 non-null  float64\n",
      " 3   f2       100000 non-null  float64\n",
      " 4   product  100000 non-null  float64\n",
      "dtypes: float64(4), object(1)\n",
      "memory usage: 3.8+ MB\n"
     ]
    },
    {
     "data": {
      "text/plain": [
       "id          99990\n",
       "f0         100000\n",
       "f1         100000\n",
       "f2         100000\n",
       "product    100000\n",
       "dtype: int64"
      ]
     },
     "metadata": {},
     "output_type": "display_data"
    },
    {
     "name": "stdout",
     "output_type": "stream",
     "text": [
      "============================\n",
      "============================\n",
      "/datasets/geo_data_1.csv\n",
      "============================\n",
      "<class 'pandas.core.frame.DataFrame'>\n",
      "RangeIndex: 100000 entries, 0 to 99999\n",
      "Data columns (total 5 columns):\n",
      " #   Column   Non-Null Count   Dtype  \n",
      "---  ------   --------------   -----  \n",
      " 0   id       100000 non-null  object \n",
      " 1   f0       100000 non-null  float64\n",
      " 2   f1       100000 non-null  float64\n",
      " 3   f2       100000 non-null  float64\n",
      " 4   product  100000 non-null  float64\n",
      "dtypes: float64(4), object(1)\n",
      "memory usage: 3.8+ MB\n"
     ]
    },
    {
     "data": {
      "text/plain": [
       "id          99996\n",
       "f0         100000\n",
       "f1         100000\n",
       "f2         100000\n",
       "product        12\n",
       "dtype: int64"
      ]
     },
     "metadata": {},
     "output_type": "display_data"
    },
    {
     "name": "stdout",
     "output_type": "stream",
     "text": [
      "============================\n",
      "============================\n",
      "/datasets/geo_data_2.csv\n",
      "============================\n",
      "<class 'pandas.core.frame.DataFrame'>\n",
      "RangeIndex: 100000 entries, 0 to 99999\n",
      "Data columns (total 5 columns):\n",
      " #   Column   Non-Null Count   Dtype  \n",
      "---  ------   --------------   -----  \n",
      " 0   id       100000 non-null  object \n",
      " 1   f0       100000 non-null  float64\n",
      " 2   f1       100000 non-null  float64\n",
      " 3   f2       100000 non-null  float64\n",
      " 4   product  100000 non-null  float64\n",
      "dtypes: float64(4), object(1)\n",
      "memory usage: 3.8+ MB\n"
     ]
    },
    {
     "data": {
      "text/plain": [
       "id          99996\n",
       "f0         100000\n",
       "f1         100000\n",
       "f2         100000\n",
       "product    100000\n",
       "dtype: int64"
      ]
     },
     "metadata": {},
     "output_type": "display_data"
    },
    {
     "name": "stdout",
     "output_type": "stream",
     "text": [
      "============================\n"
     ]
    }
   ],
   "source": [
    "data_ = []\n",
    "features_ = []\n",
    "target_ = []\n",
    "indexes_ = []\n",
    "\n",
    "for url in urls:\n",
    "    data = download(url)\n",
    "    features, target, index = prepare(data)\n",
    "    data_.append(data)\n",
    "    features_.append(features)\n",
    "    target_.append(target)\n",
    "    indexes_.append(index)"
   ]
  },
  {
   "cell_type": "markdown",
   "metadata": {},
   "source": [
    "### Выводы.\n",
    "\n",
    "Данные загружены и готовы к обучению."
   ]
  },
  {
   "cell_type": "markdown",
   "metadata": {},
   "source": [
    "## Обучение и проверка модели\n",
    "\n",
    "### Разбейте данные на обучающую и валидационную выборки в соотношении 75:25."
   ]
  },
  {
   "cell_type": "code",
   "execution_count": 6,
   "metadata": {},
   "outputs": [],
   "source": [
    "# Разбейте данные на обучающую и валидационную выборки в соотношении 75:25\n",
    "def split(features, target):\n",
    "    features_train, features_valid, target_train, target_valid = train_test_split(features, target, test_size=0.25, random_state=12345)\n",
    "    return features_train, features_valid, target_train, target_valid"
   ]
  },
  {
   "cell_type": "code",
   "execution_count": 7,
   "metadata": {},
   "outputs": [],
   "source": [
    "features_train_ = []\n",
    "features_valid_ = []\n",
    "target_train_ = []\n",
    "target_valid_ = []\n",
    "\n",
    "for features, target in zip(features_, target_):\n",
    "    features_train, features_valid, target_train, target_valid = split(features, target)\n",
    "    features_train_.append(features_train)\n",
    "    features_valid_.append(features_valid)\n",
    "    target_train_.append(target_train)\n",
    "    target_valid_.append(target_valid)"
   ]
  },
  {
   "cell_type": "markdown",
   "metadata": {},
   "source": [
    "### Обучите модель и сделайте предсказания на валидационной выборке."
   ]
  },
  {
   "cell_type": "code",
   "execution_count": 8,
   "metadata": {},
   "outputs": [],
   "source": [
    "def learn_and_predict(model, features_train, features_valid, target_train, target_valid):\n",
    "    model.fit(features_train, target_train)\n",
    "    predictions = model.predict(features_valid)\n",
    "    return predictions\n",
    "\n",
    "def rmse(predictions_valid, target_valid):\n",
    "    mse = mean_squared_error(target_valid, predictions_valid)\n",
    "    result = mse ** 0.5\n",
    "    mean = predictions_valid.mean()\n",
    "    print(\"Средний прогнозируемый запас:\", mean)\n",
    "    print(\"RMSE =\", result)\n",
    "    return mean"
   ]
  },
  {
   "cell_type": "code",
   "execution_count": 9,
   "metadata": {},
   "outputs": [
    {
     "name": "stdout",
     "output_type": "stream",
     "text": [
      "Регион 1\n",
      "Средний прогнозируемый запас: 92.59256778438035\n",
      "RMSE = 37.5794217150813\n",
      "Регион 2\n",
      "Средний прогнозируемый запас: 68.728546895446\n",
      "RMSE = 0.893099286775617\n",
      "Регион 3\n",
      "Средний прогнозируемый запас: 94.96504596800489\n",
      "RMSE = 40.02970873393434\n"
     ]
    }
   ],
   "source": [
    "predictions_ = []\n",
    "means_ = []\n",
    "n = 1\n",
    "\n",
    "for features_train, features_valid, target_train, target_valid in zip(features_train_, features_valid_, target_train_, target_valid_):\n",
    "    model = LinearRegression()\n",
    "    predictions = learn_and_predict(model, features_train, features_valid, target_train, target_valid)\n",
    "    predictions_.append(predictions)\n",
    "    print('Регион', n)\n",
    "    means_.append(rmse(predictions, target_valid))\n",
    "    n += 1"
   ]
  },
  {
   "cell_type": "markdown",
   "metadata": {},
   "source": [
    "### Вывод. \n",
    "\n",
    "Наибольшие запасы в 1-м и 2-м регионах, но и ошибки там большие. Во 2-м регионе меньше всего запасов, но и ошибка наименьшая, что говорит о точности модели."
   ]
  },
  {
   "cell_type": "markdown",
   "metadata": {},
   "source": [
    "## Подготовка к расчёту прибыли\n",
    "\n",
    "### Ключевые значения для расчётов"
   ]
  },
  {
   "cell_type": "code",
   "execution_count": 10,
   "metadata": {},
   "outputs": [],
   "source": [
    "price = 450\n",
    "barels = 1000\n",
    "budget = 10000000000\n",
    "boreholes = 200"
   ]
  },
  {
   "cell_type": "markdown",
   "metadata": {},
   "source": [
    "### Достаточный объём сырья для безубыточной разработки новой скважины\n",
    "\n",
    "Рассчитаем достаточный объём сырья (`sufficient_volume`) для безубыточной разработки новой скважины. Для этого поделим виличину бюджета на стоимость одной тыс. бареллей."
   ]
  },
  {
   "cell_type": "code",
   "execution_count": 11,
   "metadata": {},
   "outputs": [
    {
     "name": "stdout",
     "output_type": "stream",
     "text": [
      "Достаточный объём сырья: 111.11111111111111 баррелей.\n"
     ]
    }
   ],
   "source": [
    "sufficient_volume = budget / (price*barels) / boreholes\n",
    "print('Достаточный объём сырья:' , sufficient_volume, 'баррелей.')"
   ]
  },
  {
   "cell_type": "code",
   "execution_count": 12,
   "metadata": {},
   "outputs": [],
   "source": [
    "# простая функция расчёта прибыли\n",
    "def profit_simple(product, sufficient_volume):\n",
    "    return (product - sufficient_volume) * price * barels * boreholes"
   ]
  },
  {
   "cell_type": "markdown",
   "metadata": {},
   "source": [
    "Сравним полученный объём сырья со средним запасом в каждом регионе."
   ]
  },
  {
   "cell_type": "code",
   "execution_count": 13,
   "metadata": {},
   "outputs": [
    {
     "name": "stdout",
     "output_type": "stream",
     "text": [
      "Регион 1\n",
      "Средний прогнозируемый запас: 92.59256778438035\n",
      "Средний прогнозируемый запас меньше достаточныго объёма сырья\n",
      "Примерные затраты: -1666668899.4057686 руб.\n",
      "Регион 2\n",
      "Средний прогнозируемый запас: 68.728546895446\n",
      "Средний прогнозируемый запас меньше достаточныго объёма сырья\n",
      "Примерные затраты: -3814430779.40986 руб.\n",
      "Регион 3\n",
      "Средний прогнозируемый запас: 94.96504596800489\n",
      "Средний прогнозируемый запас меньше достаточныго объёма сырья\n",
      "Примерные затраты: -1453145862.8795605 руб.\n"
     ]
    }
   ],
   "source": [
    "n = 1\n",
    "\n",
    "for m in means_:\n",
    "    print('Регион', n)\n",
    "    print(\"Средний прогнозируемый запас:\", m)\n",
    "    if m < sufficient_volume:\n",
    "        print('Средний прогнозируемый запас меньше достаточныго объёма сырья')\n",
    "        print('Примерные затраты:', profit_simple(m, sufficient_volume), 'руб.')\n",
    "    else:\n",
    "        print('Средний прогнозируемый запас больше достаточныго объёма сырья')\n",
    "        print('Примерные выгода:', profit_simple(m, sufficient_volume), 'руб.')\n",
    "    n+=1"
   ]
  },
  {
   "cell_type": "markdown",
   "metadata": {},
   "source": [
    "### Выводы\n",
    "\n",
    "Как можно видеть, для всех регионов имеются разные предполагаемые затраты."
   ]
  },
  {
   "cell_type": "markdown",
   "metadata": {},
   "source": [
    "## Расчёт прибыли и рисков "
   ]
  },
  {
   "cell_type": "markdown",
   "metadata": {},
   "source": [
    "### Корректировка индексов\n",
    "\n",
    "Сделаем из предсказаний Series."
   ]
  },
  {
   "cell_type": "code",
   "execution_count": 14,
   "metadata": {},
   "outputs": [],
   "source": [
    "for i in range(0,3):\n",
    "    predictions_[i] = pd.Series(predictions_[i])"
   ]
  },
  {
   "cell_type": "markdown",
   "metadata": {},
   "source": [
    "Сбросим индексы у целевого признака."
   ]
  },
  {
   "cell_type": "code",
   "execution_count": 15,
   "metadata": {},
   "outputs": [
    {
     "name": "stdout",
     "output_type": "stream",
     "text": [
      "0         10.038645\n",
      "1        114.551489\n",
      "2        132.603635\n",
      "3        169.072125\n",
      "4        122.325180\n",
      "            ...    \n",
      "24995    170.116726\n",
      "24996     93.632175\n",
      "24997    127.352259\n",
      "24998     99.782700\n",
      "24999    177.821022\n",
      "Name: product, Length: 25000, dtype: float64\n",
      "0         80.859783\n",
      "1         53.906522\n",
      "2         30.132364\n",
      "3         53.906522\n",
      "4          0.000000\n",
      "            ...    \n",
      "24995    137.945408\n",
      "24996    110.992147\n",
      "24997    137.945408\n",
      "24998     84.038886\n",
      "24999     53.906522\n",
      "Name: product, Length: 25000, dtype: float64\n",
      "0         61.212375\n",
      "1         41.850118\n",
      "2         57.776581\n",
      "3        100.053761\n",
      "4        109.897122\n",
      "            ...    \n",
      "24995     28.492402\n",
      "24996     21.431303\n",
      "24997    125.487229\n",
      "24998     99.422903\n",
      "24999    127.445075\n",
      "Name: product, Length: 25000, dtype: float64\n"
     ]
    }
   ],
   "source": [
    "for i in range(0,3):\n",
    "    target_valid_[i].reset_index(drop= True, inplace= True )\n",
    "    print(target_valid_[i])"
   ]
  },
  {
   "cell_type": "markdown",
   "metadata": {},
   "source": [
    "### Функция для расчёта прибыли"
   ]
  },
  {
   "cell_type": "code",
   "execution_count": 16,
   "metadata": {},
   "outputs": [],
   "source": [
    "def profit(target, predictions):\n",
    "    predictions_sorted = predictions.sort_values(ascending=False)\n",
    "    target_200 = target[predictions_sorted.index][:200]\n",
    "    #return profit_simple(target_200.sum(), sufficient_volume)\n",
    "    return target_200.sum()*price * 1000 - budget"
   ]
  },
  {
   "cell_type": "markdown",
   "metadata": {},
   "source": [
    "### Расчёт запасов сырья и примерной прибыли"
   ]
  },
  {
   "cell_type": "raw",
   "metadata": {},
   "source": [
    "for i in range(3):\n",
    "    p = profit(target_valid_[i], predictions_[i])\n",
    "    print('Сырья в лучших скважинах в регионе', i+1)\n",
    "    print('Прибыль:', round(p / 10**9, 3), 'мллд. руб.')"
   ]
  },
  {
   "cell_type": "code",
   "execution_count": 17,
   "metadata": {},
   "outputs": [
    {
     "name": "stdout",
     "output_type": "stream",
     "text": [
      "Регион 0 - прибыль: 3320826043.1398506\n",
      "Регион 1 - прибыль: 2415086696.681513\n",
      "Регион 2 - прибыль: 2710349963.5998325\n"
     ]
    }
   ],
   "source": [
    "for i in range(3):\n",
    "    p = profit(target_valid_[i], predictions_[i])\n",
    "    print('Регион', i, '- прибыль:', p)"
   ]
  },
  {
   "cell_type": "markdown",
   "metadata": {},
   "source": [
    "### Вывод\n",
    "\n",
    "Функции работают корректно и позволяют рассчитать запасы и прибыль."
   ]
  },
  {
   "cell_type": "markdown",
   "metadata": {},
   "source": [
    "## Расчёт прибыли и рисков\n",
    "\n",
    "### Bootstrap с 1000 выборок\n",
    "\n",
    "Применим технику Bootstrap с 1000 выборок, чтобы найти распределение прибыли."
   ]
  },
  {
   "cell_type": "code",
   "execution_count": 18,
   "metadata": {},
   "outputs": [
    {
     "data": {
      "text/plain": [
       "(0         10.038645\n",
       " 1        114.551489\n",
       " 2        132.603635\n",
       " 3        169.072125\n",
       " 4        122.325180\n",
       "             ...    \n",
       " 24995    170.116726\n",
       " 24996     93.632175\n",
       " 24997    127.352259\n",
       " 24998     99.782700\n",
       " 24999    177.821022\n",
       " Name: product, Length: 25000, dtype: float64,\n",
       " 0         95.894952\n",
       " 1         77.572583\n",
       " 2         77.892640\n",
       " 3         90.175134\n",
       " 4         70.510088\n",
       "             ...    \n",
       " 24995    103.037104\n",
       " 24996     85.403255\n",
       " 24997     61.509833\n",
       " 24998    118.180397\n",
       " 24999    118.169392\n",
       " Length: 25000, dtype: float64)"
      ]
     },
     "execution_count": 18,
     "metadata": {},
     "output_type": "execute_result"
    }
   ],
   "source": [
    "target_valid_[0], predictions_[0]"
   ]
  },
  {
   "cell_type": "code",
   "execution_count": 19,
   "metadata": {},
   "outputs": [
    {
     "name": "stdout",
     "output_type": "stream",
     "text": [
      "Регион 1\n",
      "Риск убытков (прогноз) = 6.00% \n",
      "Минимальная прибыль: -102090094.83793654\n",
      "Средняя прибыль: 425938526.91059244\n",
      "Максимальная прибыль: 947976353.358369\n",
      "Регион 2\n",
      "Риск убытков (прогноз) = 0.30% \n",
      "Минимальная прибыль: 128123231.43308444\n",
      "Средняя прибыль: 518259493.6973249\n",
      "Максимальная прибыль: 953612982.0669085\n",
      "Регион 3\n",
      "Риск убытков (прогноз) = 6.20% \n",
      "Минимальная прибыль: -115852609.16001147\n",
      "Средняя прибыль: 420194005.3440501\n",
      "Максимальная прибыль: 989629939.8445739\n"
     ]
    },
    {
     "data": {
      "image/png": "[encoded data removed]",
      "text/plain": [
       "<Figure size 432x288 with 1 Axes>"
      ]
     },
     "metadata": {
      "needs_background": "light"
     },
     "output_type": "display_data"
    }
   ],
   "source": [
    "def get_samples(target, predictions, n):\n",
    "    # выделяем n скважин по прошнозу \n",
    "    indexes = predictions.sample(500, random_state=state).index[:n]\n",
    "    # print(indexes)\n",
    "    return target.loc[indexes], predictions.loc[indexes]\n",
    "\n",
    "state = np.random.RandomState(12345)\n",
    "values_ = []\n",
    "\n",
    "def butstrep(target_valid, predictions):\n",
    "    values = []\n",
    "    for i in range(1000):\n",
    "        ''' нам надо выбрать 500 случайных значений из таргета'''\n",
    "        target_500 = target_valid_[j].sample(500, replace=True, random_state=state)\n",
    "        ''' берем соответствующие им по индексам предсказания'''\n",
    "        predict_500 = predictions_[j][target_500.index]\n",
    "        p = profit(target_500, predict_500)\n",
    "        values.append(p) \n",
    "    values = pd.Series(values)\n",
    "    values_.append(values)\n",
    "    \n",
    "    lower = values.quantile(0.025)\n",
    "    mean = values.mean()\n",
    "    upper = values.quantile(0.975)\n",
    "    print('Регион', j+1)\n",
    "    print('Риск убытков (прогноз) = {:.2%} '.format((values<0).mean()))\n",
    "    print('Минимальная прибыль:', lower)\n",
    "    print('Средняя прибыль:', mean)\n",
    "    print('Максимальная прибыль:', upper)\n",
    "    values.hist(alpha=0.25)\n",
    "\n",
    "for j in range(3):\n",
    "    butstrep(target_valid_[j], predictions_[j])"
   ]
  },
  {
   "cell_type": "code",
   "execution_count": 20,
   "metadata": {},
   "outputs": [
    {
     "data": {
      "text/plain": [
       "0   -2\n",
       "1   -1\n",
       "2    4\n",
       "3    5\n",
       "dtype: int64"
      ]
     },
     "metadata": {},
     "output_type": "display_data"
    },
    {
     "data": {
      "text/plain": [
       "'Риск убытков = 50.00% '"
      ]
     },
     "execution_count": 20,
     "metadata": {},
     "output_type": "execute_result"
    }
   ],
   "source": [
    "#ячейка ревьюера\n",
    "\n",
    "display(pd.Series([-2, -1, 4, 5]))\n",
    "'Риск убытков = {:.2%} '.format((pd.Series([-2, -1, 4, 5])<0).mean())"
   ]
  },
  {
   "cell_type": "markdown",
   "metadata": {},
   "source": [
    "### Cредняя прибыль, 95%-й доверительный интервал и риск убытков"
   ]
  },
  {
   "cell_type": "code",
   "execution_count": 21,
   "metadata": {},
   "outputs": [
    {
     "name": "stdout",
     "output_type": "stream",
     "text": [
      "Регион 1\n",
      "Риск убытков (прогноз) = 6.00% \n",
      "Минимальная прибыль: -102090094.83793654\n",
      "Средняя прибыль: 425938526.91059244\n",
      "Максимальная прибыль: 947976353.358369\n",
      "Регион 2\n",
      "Риск убытков (прогноз) = 0.30% \n",
      "Минимальная прибыль: 128123231.43308444\n",
      "Средняя прибыль: 518259493.6973249\n",
      "Максимальная прибыль: 953612982.0669085\n",
      "Регион 3\n",
      "Риск убытков (прогноз) = 6.20% \n",
      "Минимальная прибыль: -115852609.16001147\n",
      "Средняя прибыль: 420194005.3440501\n",
      "Максимальная прибыль: 989629939.8445739\n"
     ]
    }
   ],
   "source": [
    "for i in range(3):\n",
    "    lower = values_[i].quantile(0.025)\n",
    "    mean = values_[i].mean()\n",
    "    upper = values_[i].quantile(0.975)\n",
    "    print('Регион', i+1)\n",
    "    print('Риск убытков (прогноз) = {:.2%} '.format((values_[i]<0).mean()))\n",
    "    print('Минимальная прибыль:', lower)\n",
    "    print('Средняя прибыль:', mean)\n",
    "    print('Максимальная прибыль:', upper)"
   ]
  },
  {
   "cell_type": "markdown",
   "metadata": {},
   "source": [
    "### Выводы: \n",
    "Рисков нигде нет.\n",
    "\n",
    "- **Регион 1** - cредняя прибыль: 2075,187,705,382.12 руб.\n",
    "- **Регион 2** - cредняя прибыль: 2093,651,898,739.47 руб.\n",
    "- **Регион 3** - cредняя прибыль: 2074,038,801,068.81 руб.\n",
    "\n",
    "Как можно видеть, наилучшим регионом оказывается 2-й, т.к. его cредняя прибыль наибольшая."
   ]
  }
 ],
 "metadata": {
  "ExecuteTimeLog": [
   {
    "duration": 575,
    "start_time": "2022-12-20T23:15:19.131Z"
   },
   {
    "duration": 623,
    "start_time": "2022-12-20T23:16:02.678Z"
   },
   {
    "duration": 167,
    "start_time": "2022-12-20T23:16:14.012Z"
   },
   {
    "duration": 45,
    "start_time": "2022-12-21T09:54:15.885Z"
   },
   {
    "duration": 421,
    "start_time": "2022-12-21T09:54:23.032Z"
   },
   {
    "duration": 3,
    "start_time": "2022-12-21T09:54:29.577Z"
   },
   {
    "duration": 771,
    "start_time": "2022-12-21T09:54:32.499Z"
   },
   {
    "duration": 13,
    "start_time": "2022-12-21T09:54:37.482Z"
   },
   {
    "duration": 2,
    "start_time": "2022-12-21T10:01:51.176Z"
   },
   {
    "duration": 1257,
    "start_time": "2022-12-21T10:02:34.633Z"
   },
   {
    "duration": 4,
    "start_time": "2022-12-21T10:07:44.137Z"
   },
   {
    "duration": 151,
    "start_time": "2022-12-21T10:07:48.099Z"
   },
   {
    "duration": 3,
    "start_time": "2022-12-21T10:08:33.202Z"
   },
   {
    "duration": 465,
    "start_time": "2022-12-21T10:08:36.518Z"
   },
   {
    "duration": 2,
    "start_time": "2022-12-21T10:09:34.941Z"
   },
   {
    "duration": 467,
    "start_time": "2022-12-21T10:09:37.618Z"
   },
   {
    "duration": 3,
    "start_time": "2022-12-21T10:10:17.782Z"
   },
   {
    "duration": 469,
    "start_time": "2022-12-21T10:10:19.748Z"
   },
   {
    "duration": 3,
    "start_time": "2022-12-21T10:26:07.173Z"
   },
   {
    "duration": 7,
    "start_time": "2022-12-21T10:26:16.495Z"
   },
   {
    "duration": 3,
    "start_time": "2022-12-21T10:26:30.559Z"
   },
   {
    "duration": 3,
    "start_time": "2022-12-21T10:26:35.040Z"
   },
   {
    "duration": 454,
    "start_time": "2022-12-21T10:26:38.144Z"
   },
   {
    "duration": 8,
    "start_time": "2022-12-21T10:37:00.898Z"
   },
   {
    "duration": 5,
    "start_time": "2022-12-21T10:37:15.537Z"
   },
   {
    "duration": 10,
    "start_time": "2022-12-21T10:37:19.289Z"
   },
   {
    "duration": 1054,
    "start_time": "2022-12-21T10:38:12.666Z"
   },
   {
    "duration": 51,
    "start_time": "2022-12-21T10:38:18.935Z"
   },
   {
    "duration": 3,
    "start_time": "2022-12-21T10:49:57.427Z"
   },
   {
    "duration": 75,
    "start_time": "2022-12-21T11:02:28.670Z"
   },
   {
    "duration": 3,
    "start_time": "2022-12-21T11:02:38.602Z"
   },
   {
    "duration": 4,
    "start_time": "2022-12-21T11:06:11.395Z"
   },
   {
    "duration": 82,
    "start_time": "2022-12-21T11:06:50.314Z"
   },
   {
    "duration": 3,
    "start_time": "2022-12-21T11:08:18.075Z"
   },
   {
    "duration": 34,
    "start_time": "2022-12-21T11:08:23.200Z"
   },
   {
    "duration": 3,
    "start_time": "2022-12-21T11:09:25.289Z"
   },
   {
    "duration": 3,
    "start_time": "2022-12-21T11:15:13.384Z"
   },
   {
    "duration": 488,
    "start_time": "2022-12-21T11:15:16.606Z"
   },
   {
    "duration": 4,
    "start_time": "2022-12-21T11:15:55.440Z"
   },
   {
    "duration": 32,
    "start_time": "2022-12-21T11:15:57.937Z"
   },
   {
    "duration": 3,
    "start_time": "2022-12-21T11:16:00.453Z"
   },
   {
    "duration": 202,
    "start_time": "2022-12-21T11:16:02.626Z"
   },
   {
    "duration": 6,
    "start_time": "2022-12-21T11:35:54.422Z"
   },
   {
    "duration": 4,
    "start_time": "2022-12-21T11:38:46.557Z"
   },
   {
    "duration": 27,
    "start_time": "2022-12-21T11:38:48.400Z"
   },
   {
    "duration": 4,
    "start_time": "2022-12-21T11:39:40.754Z"
   },
   {
    "duration": 81,
    "start_time": "2022-12-21T11:39:43.647Z"
   },
   {
    "duration": 4,
    "start_time": "2022-12-21T11:40:56.025Z"
   },
   {
    "duration": 52,
    "start_time": "2022-12-21T11:40:57.878Z"
   },
   {
    "duration": 100,
    "start_time": "2022-12-21T11:43:07.037Z"
   },
   {
    "duration": 6,
    "start_time": "2022-12-21T12:40:48.061Z"
   },
   {
    "duration": 3,
    "start_time": "2022-12-21T12:40:49.459Z"
   },
   {
    "duration": 3,
    "start_time": "2022-12-21T12:40:49.957Z"
   },
   {
    "duration": 3,
    "start_time": "2022-12-21T12:40:50.386Z"
   },
   {
    "duration": 491,
    "start_time": "2022-12-21T12:40:50.858Z"
   },
   {
    "duration": 2,
    "start_time": "2022-12-21T12:40:52.993Z"
   },
   {
    "duration": 24,
    "start_time": "2022-12-21T12:40:54.359Z"
   },
   {
    "duration": 3,
    "start_time": "2022-12-21T12:41:03.220Z"
   },
   {
    "duration": 4,
    "start_time": "2022-12-21T12:41:44.579Z"
   },
   {
    "duration": 96,
    "start_time": "2022-12-21T12:41:47.136Z"
   },
   {
    "duration": 285,
    "start_time": "2022-12-21T15:16:41.949Z"
   },
   {
    "duration": 9,
    "start_time": "2022-12-21T15:23:08.720Z"
   },
   {
    "duration": 3,
    "start_time": "2022-12-21T15:23:19.985Z"
   },
   {
    "duration": 3,
    "start_time": "2022-12-21T15:23:24.319Z"
   },
   {
    "duration": 3,
    "start_time": "2022-12-21T15:24:53.740Z"
   },
   {
    "duration": 4,
    "start_time": "2022-12-21T15:25:46.686Z"
   },
   {
    "duration": 3,
    "start_time": "2022-12-21T15:26:10.011Z"
   },
   {
    "duration": 12,
    "start_time": "2022-12-21T15:31:08.798Z"
   },
   {
    "duration": 4,
    "start_time": "2022-12-21T15:33:22.867Z"
   },
   {
    "duration": 75,
    "start_time": "2022-12-21T15:33:25.556Z"
   },
   {
    "duration": 2,
    "start_time": "2022-12-21T15:33:32.460Z"
   },
   {
    "duration": 2,
    "start_time": "2022-12-21T15:33:34.783Z"
   },
   {
    "duration": 6,
    "start_time": "2022-12-21T15:33:37.822Z"
   },
   {
    "duration": 17,
    "start_time": "2022-12-21T19:14:26.668Z"
   },
   {
    "duration": 1751,
    "start_time": "2022-12-21T19:14:54.174Z"
   },
   {
    "duration": 7,
    "start_time": "2022-12-21T19:14:58.701Z"
   },
   {
    "duration": 4,
    "start_time": "2022-12-21T19:14:59.843Z"
   },
   {
    "duration": 13,
    "start_time": "2022-12-21T19:15:00.397Z"
   },
   {
    "duration": 9,
    "start_time": "2022-12-21T19:15:00.976Z"
   },
   {
    "duration": 1219,
    "start_time": "2022-12-21T19:15:02.051Z"
   },
   {
    "duration": 11,
    "start_time": "2022-12-21T19:15:05.012Z"
   },
   {
    "duration": 45,
    "start_time": "2022-12-21T19:15:05.738Z"
   },
   {
    "duration": 5,
    "start_time": "2022-12-21T19:15:07.420Z"
   },
   {
    "duration": 262,
    "start_time": "2022-12-21T19:15:08.405Z"
   },
   {
    "duration": 3,
    "start_time": "2022-12-21T19:15:12.547Z"
   },
   {
    "duration": 9,
    "start_time": "2022-12-21T19:15:14.673Z"
   },
   {
    "duration": 7,
    "start_time": "2022-12-21T19:15:20.204Z"
   },
   {
    "duration": 8,
    "start_time": "2022-12-21T19:50:13.752Z"
   },
   {
    "duration": 9,
    "start_time": "2022-12-21T19:51:06.666Z"
   },
   {
    "duration": 3,
    "start_time": "2022-12-21T20:07:56.390Z"
   },
   {
    "duration": 145,
    "start_time": "2022-12-21T20:08:24.390Z"
   },
   {
    "duration": 4,
    "start_time": "2022-12-21T20:09:07.770Z"
   },
   {
    "duration": 13,
    "start_time": "2022-12-21T20:09:11.056Z"
   },
   {
    "duration": 4,
    "start_time": "2022-12-21T20:09:54.624Z"
   },
   {
    "duration": 7,
    "start_time": "2022-12-21T20:10:02.564Z"
   },
   {
    "duration": 1499,
    "start_time": "2022-12-22T07:49:20.796Z"
   },
   {
    "duration": 6,
    "start_time": "2022-12-22T07:49:22.298Z"
   },
   {
    "duration": 37,
    "start_time": "2022-12-22T07:49:22.305Z"
   },
   {
    "duration": 38,
    "start_time": "2022-12-22T07:49:22.345Z"
   },
   {
    "duration": 1903,
    "start_time": "2022-12-22T07:49:22.569Z"
   },
   {
    "duration": 4,
    "start_time": "2022-12-22T07:49:24.474Z"
   },
   {
    "duration": 38,
    "start_time": "2022-12-22T07:49:24.480Z"
   },
   {
    "duration": 5,
    "start_time": "2022-12-22T07:49:25.065Z"
   },
   {
    "duration": 144,
    "start_time": "2022-12-22T07:49:25.481Z"
   },
   {
    "duration": 6,
    "start_time": "2022-12-22T07:49:28.275Z"
   },
   {
    "duration": 4,
    "start_time": "2022-12-22T07:49:29.390Z"
   },
   {
    "duration": 4,
    "start_time": "2022-12-22T07:49:29.880Z"
   },
   {
    "duration": 9,
    "start_time": "2022-12-22T07:49:31.168Z"
   },
   {
    "duration": 4,
    "start_time": "2022-12-22T08:11:06.060Z"
   },
   {
    "duration": 97,
    "start_time": "2022-12-22T08:11:23.229Z"
   },
   {
    "duration": 8,
    "start_time": "2022-12-22T08:11:49.727Z"
   },
   {
    "duration": 9,
    "start_time": "2022-12-22T08:12:04.705Z"
   },
   {
    "duration": 3,
    "start_time": "2022-12-22T08:13:20.539Z"
   },
   {
    "duration": 6,
    "start_time": "2022-12-22T08:15:12.429Z"
   },
   {
    "duration": 7,
    "start_time": "2022-12-22T08:42:21.161Z"
   },
   {
    "duration": 3,
    "start_time": "2022-12-22T08:47:05.812Z"
   },
   {
    "duration": 14,
    "start_time": "2022-12-22T10:09:03.715Z"
   },
   {
    "duration": 14,
    "start_time": "2022-12-22T10:09:45.892Z"
   },
   {
    "duration": 14,
    "start_time": "2022-12-22T10:09:53.243Z"
   },
   {
    "duration": 13,
    "start_time": "2022-12-22T10:13:59.618Z"
   },
   {
    "duration": 14,
    "start_time": "2022-12-22T10:14:07.522Z"
   },
   {
    "duration": 14,
    "start_time": "2022-12-22T10:14:23.661Z"
   },
   {
    "duration": 13,
    "start_time": "2022-12-22T10:14:31.499Z"
   },
   {
    "duration": 13,
    "start_time": "2022-12-22T10:14:43.231Z"
   },
   {
    "duration": 12,
    "start_time": "2022-12-22T10:15:26.741Z"
   },
   {
    "duration": 12,
    "start_time": "2022-12-22T10:15:43.536Z"
   },
   {
    "duration": 19,
    "start_time": "2022-12-22T10:17:08.800Z"
   },
   {
    "duration": 13,
    "start_time": "2022-12-22T10:25:23.533Z"
   },
   {
    "duration": 16,
    "start_time": "2022-12-22T10:25:37.053Z"
   },
   {
    "duration": 14,
    "start_time": "2022-12-22T10:27:41.211Z"
   },
   {
    "duration": 74,
    "start_time": "2022-12-22T10:32:00.242Z"
   },
   {
    "duration": 18,
    "start_time": "2022-12-22T10:32:15.053Z"
   },
   {
    "duration": 17,
    "start_time": "2022-12-22T10:33:06.990Z"
   },
   {
    "duration": 16,
    "start_time": "2022-12-22T10:45:47.806Z"
   },
   {
    "duration": 15,
    "start_time": "2022-12-22T10:46:26.451Z"
   },
   {
    "duration": 16,
    "start_time": "2022-12-22T10:53:58.078Z"
   },
   {
    "duration": 81,
    "start_time": "2022-12-22T10:55:20.531Z"
   },
   {
    "duration": 17,
    "start_time": "2022-12-22T10:56:00.316Z"
   },
   {
    "duration": 16,
    "start_time": "2022-12-22T10:56:49.253Z"
   },
   {
    "duration": 16,
    "start_time": "2022-12-22T10:57:12.633Z"
   },
   {
    "duration": 15,
    "start_time": "2022-12-22T10:57:23.765Z"
   },
   {
    "duration": 14,
    "start_time": "2022-12-22T10:57:40.619Z"
   },
   {
    "duration": 13,
    "start_time": "2022-12-22T10:57:51.315Z"
   },
   {
    "duration": 15,
    "start_time": "2022-12-22T10:58:11.300Z"
   },
   {
    "duration": 16,
    "start_time": "2022-12-22T10:58:44.523Z"
   },
   {
    "duration": 18,
    "start_time": "2022-12-22T11:25:34.349Z"
   },
   {
    "duration": 16,
    "start_time": "2022-12-22T11:33:11.145Z"
   },
   {
    "duration": 15,
    "start_time": "2022-12-22T11:34:53.370Z"
   },
   {
    "duration": 4,
    "start_time": "2022-12-22T11:35:05.465Z"
   },
   {
    "duration": 15,
    "start_time": "2022-12-22T11:35:08.114Z"
   },
   {
    "duration": 17,
    "start_time": "2022-12-22T11:36:03.337Z"
   },
   {
    "duration": 16,
    "start_time": "2022-12-22T11:37:33.710Z"
   },
   {
    "duration": 19,
    "start_time": "2022-12-22T11:41:29.826Z"
   },
   {
    "duration": 19,
    "start_time": "2022-12-22T12:38:58.650Z"
   },
   {
    "duration": 72,
    "start_time": "2022-12-22T12:41:17.825Z"
   },
   {
    "duration": 26,
    "start_time": "2022-12-22T12:41:28.227Z"
   },
   {
    "duration": 10,
    "start_time": "2022-12-22T12:42:17.879Z"
   },
   {
    "duration": 11,
    "start_time": "2022-12-22T12:42:41.058Z"
   },
   {
    "duration": 23,
    "start_time": "2022-12-22T12:42:56.959Z"
   },
   {
    "duration": 24,
    "start_time": "2022-12-22T12:43:48.941Z"
   },
   {
    "duration": 22,
    "start_time": "2022-12-22T12:49:25.716Z"
   },
   {
    "duration": 28,
    "start_time": "2022-12-22T12:51:08.783Z"
   },
   {
    "duration": 26,
    "start_time": "2022-12-22T12:52:28.144Z"
   },
   {
    "duration": 26,
    "start_time": "2022-12-22T12:52:49.073Z"
   },
   {
    "duration": 1723,
    "start_time": "2022-12-22T12:54:01.085Z"
   },
   {
    "duration": 1008,
    "start_time": "2022-12-22T12:54:16.823Z"
   },
   {
    "duration": 1057,
    "start_time": "2022-12-22T12:56:28.380Z"
   },
   {
    "duration": 859,
    "start_time": "2022-12-22T12:57:31.998Z"
   },
   {
    "duration": 2504,
    "start_time": "2022-12-22T13:06:50.262Z"
   },
   {
    "duration": 862,
    "start_time": "2022-12-22T13:07:37.003Z"
   },
   {
    "duration": 85,
    "start_time": "2022-12-22T13:08:48.400Z"
   },
   {
    "duration": 1955,
    "start_time": "2022-12-22T13:09:01.727Z"
   },
   {
    "duration": 9827,
    "start_time": "2022-12-22T13:10:33.890Z"
   },
   {
    "duration": 49927,
    "start_time": "2022-12-22T13:23:37.495Z"
   },
   {
    "duration": 3,
    "start_time": "2022-12-22T13:45:55.837Z"
   },
   {
    "duration": 14,
    "start_time": "2022-12-22T13:45:57.847Z"
   },
   {
    "duration": 43201,
    "start_time": "2022-12-22T13:46:02.438Z"
   },
   {
    "duration": 55365,
    "start_time": "2022-12-22T13:46:47.320Z"
   },
   {
    "duration": 0,
    "start_time": "2022-12-22T13:52:47.374Z"
   },
   {
    "duration": 6374,
    "start_time": "2022-12-22T14:16:19.166Z"
   },
   {
    "duration": 6073,
    "start_time": "2022-12-22T14:16:54.278Z"
   },
   {
    "duration": 10,
    "start_time": "2022-12-22T14:18:26.732Z"
   },
   {
    "duration": 9,
    "start_time": "2022-12-22T14:22:39.358Z"
   },
   {
    "duration": 3,
    "start_time": "2022-12-22T14:22:46.317Z"
   },
   {
    "duration": 4,
    "start_time": "2022-12-22T14:22:46.941Z"
   },
   {
    "duration": 3,
    "start_time": "2022-12-22T14:22:47.742Z"
   },
   {
    "duration": 594,
    "start_time": "2022-12-22T14:22:48.357Z"
   },
   {
    "duration": 4,
    "start_time": "2022-12-22T14:22:50.439Z"
   },
   {
    "duration": 25,
    "start_time": "2022-12-22T14:22:50.990Z"
   },
   {
    "duration": 4,
    "start_time": "2022-12-22T14:22:51.901Z"
   },
   {
    "duration": 252,
    "start_time": "2022-12-22T14:22:52.365Z"
   },
   {
    "duration": 3,
    "start_time": "2022-12-22T14:22:55.102Z"
   },
   {
    "duration": 4,
    "start_time": "2022-12-22T14:22:56.509Z"
   },
   {
    "duration": 3,
    "start_time": "2022-12-22T14:22:57.109Z"
   },
   {
    "duration": 5,
    "start_time": "2022-12-22T14:22:58.166Z"
   },
   {
    "duration": 4,
    "start_time": "2022-12-22T14:23:00.534Z"
   },
   {
    "duration": 8,
    "start_time": "2022-12-22T14:23:01.389Z"
   },
   {
    "duration": 3,
    "start_time": "2022-12-22T14:23:01.953Z"
   },
   {
    "duration": 14,
    "start_time": "2022-12-22T14:23:02.517Z"
   },
   {
    "duration": 6137,
    "start_time": "2022-12-22T14:23:03.677Z"
   },
   {
    "duration": 11,
    "start_time": "2022-12-22T14:23:09.816Z"
   },
   {
    "duration": 3278,
    "start_time": "2022-12-22T14:27:08.379Z"
   },
   {
    "duration": 10,
    "start_time": "2022-12-22T14:27:17.609Z"
   },
   {
    "duration": 1959,
    "start_time": "2022-12-23T08:23:35.000Z"
   },
   {
    "duration": 3,
    "start_time": "2022-12-23T08:23:36.961Z"
   },
   {
    "duration": 11,
    "start_time": "2022-12-23T08:23:36.965Z"
   },
   {
    "duration": 22,
    "start_time": "2022-12-23T08:23:36.978Z"
   },
   {
    "duration": 524,
    "start_time": "2022-12-23T08:23:37.001Z"
   },
   {
    "duration": 4,
    "start_time": "2022-12-23T08:23:37.526Z"
   },
   {
    "duration": 37,
    "start_time": "2022-12-23T08:23:37.531Z"
   },
   {
    "duration": 3,
    "start_time": "2022-12-23T08:23:37.570Z"
   },
   {
    "duration": 155,
    "start_time": "2022-12-23T08:23:37.575Z"
   },
   {
    "duration": 91,
    "start_time": "2022-12-23T08:23:37.732Z"
   },
   {
    "duration": 103,
    "start_time": "2022-12-23T08:23:37.825Z"
   },
   {
    "duration": 6,
    "start_time": "2022-12-23T08:23:37.930Z"
   },
   {
    "duration": 14,
    "start_time": "2022-12-23T08:23:37.937Z"
   },
   {
    "duration": 7,
    "start_time": "2022-12-23T08:23:37.953Z"
   },
   {
    "duration": 10,
    "start_time": "2022-12-23T08:23:37.962Z"
   },
   {
    "duration": 7,
    "start_time": "2022-12-23T08:23:37.974Z"
   },
   {
    "duration": 124,
    "start_time": "2022-12-23T08:23:37.982Z"
   },
   {
    "duration": 0,
    "start_time": "2022-12-23T08:23:38.108Z"
   },
   {
    "duration": 0,
    "start_time": "2022-12-23T08:23:38.109Z"
   },
   {
    "duration": 9,
    "start_time": "2022-12-23T08:24:41.246Z"
   },
   {
    "duration": 4,
    "start_time": "2022-12-23T08:37:47.447Z"
   },
   {
    "duration": 11,
    "start_time": "2022-12-23T08:39:56.547Z"
   },
   {
    "duration": 30,
    "start_time": "2022-12-23T08:48:36.733Z"
   },
   {
    "duration": 1880,
    "start_time": "2022-12-23T08:52:03.449Z"
   },
   {
    "duration": 3,
    "start_time": "2022-12-23T08:52:05.332Z"
   },
   {
    "duration": 8,
    "start_time": "2022-12-23T08:52:05.337Z"
   },
   {
    "duration": 6,
    "start_time": "2022-12-23T08:52:05.347Z"
   },
   {
    "duration": 540,
    "start_time": "2022-12-23T08:52:05.355Z"
   },
   {
    "duration": 3,
    "start_time": "2022-12-23T08:52:05.897Z"
   },
   {
    "duration": 45,
    "start_time": "2022-12-23T08:52:05.902Z"
   },
   {
    "duration": 4,
    "start_time": "2022-12-23T08:52:05.949Z"
   },
   {
    "duration": 269,
    "start_time": "2022-12-23T08:52:05.956Z"
   },
   {
    "duration": 3,
    "start_time": "2022-12-23T08:52:06.227Z"
   },
   {
    "duration": 192,
    "start_time": "2022-12-23T08:52:06.232Z"
   },
   {
    "duration": 4,
    "start_time": "2022-12-23T08:52:06.426Z"
   },
   {
    "duration": 8,
    "start_time": "2022-12-23T08:52:06.432Z"
   },
   {
    "duration": 6,
    "start_time": "2022-12-23T08:52:06.442Z"
   },
   {
    "duration": 10,
    "start_time": "2022-12-23T08:52:06.450Z"
   },
   {
    "duration": 6,
    "start_time": "2022-12-23T08:52:06.462Z"
   },
   {
    "duration": 122,
    "start_time": "2022-12-23T08:52:06.470Z"
   },
   {
    "duration": 0,
    "start_time": "2022-12-23T08:52:06.594Z"
   },
   {
    "duration": 0,
    "start_time": "2022-12-23T08:52:06.595Z"
   },
   {
    "duration": 0,
    "start_time": "2022-12-23T08:52:06.596Z"
   },
   {
    "duration": 8,
    "start_time": "2022-12-23T08:57:50.074Z"
   },
   {
    "duration": 1650,
    "start_time": "2022-12-23T08:58:06.252Z"
   },
   {
    "duration": 3,
    "start_time": "2022-12-23T08:58:07.973Z"
   },
   {
    "duration": 4,
    "start_time": "2022-12-23T08:58:08.492Z"
   },
   {
    "duration": 3,
    "start_time": "2022-12-23T08:58:08.917Z"
   },
   {
    "duration": 953,
    "start_time": "2022-12-23T08:58:09.310Z"
   },
   {
    "duration": 3,
    "start_time": "2022-12-23T08:58:11.861Z"
   },
   {
    "duration": 32,
    "start_time": "2022-12-23T08:58:12.664Z"
   },
   {
    "duration": 4,
    "start_time": "2022-12-23T08:58:13.547Z"
   },
   {
    "duration": 411,
    "start_time": "2022-12-23T08:58:14.403Z"
   },
   {
    "duration": 112,
    "start_time": "2022-12-23T09:05:07.262Z"
   },
   {
    "duration": 10,
    "start_time": "2022-12-23T09:05:27.938Z"
   },
   {
    "duration": 9,
    "start_time": "2022-12-23T09:08:19.499Z"
   },
   {
    "duration": 16,
    "start_time": "2022-12-23T09:09:38.829Z"
   },
   {
    "duration": 2,
    "start_time": "2022-12-23T09:10:05.087Z"
   },
   {
    "duration": 4,
    "start_time": "2022-12-23T09:10:05.746Z"
   },
   {
    "duration": 3,
    "start_time": "2022-12-23T09:10:06.160Z"
   },
   {
    "duration": 8,
    "start_time": "2022-12-23T09:10:06.553Z"
   },
   {
    "duration": 3,
    "start_time": "2022-12-23T09:10:07.298Z"
   },
   {
    "duration": 8,
    "start_time": "2022-12-23T09:10:07.768Z"
   },
   {
    "duration": 3,
    "start_time": "2022-12-23T09:10:08.527Z"
   },
   {
    "duration": 9,
    "start_time": "2022-12-23T09:10:09.656Z"
   },
   {
    "duration": 3660,
    "start_time": "2022-12-23T09:10:10.912Z"
   },
   {
    "duration": 3,
    "start_time": "2022-12-23T09:17:59.593Z"
   },
   {
    "duration": 6,
    "start_time": "2022-12-23T09:18:07.455Z"
   },
   {
    "duration": 4,
    "start_time": "2022-12-23T09:29:49.204Z"
   },
   {
    "duration": 4,
    "start_time": "2022-12-23T09:30:08.443Z"
   },
   {
    "duration": 23,
    "start_time": "2022-12-23T09:30:13.990Z"
   },
   {
    "duration": 14,
    "start_time": "2022-12-23T09:33:02.530Z"
   },
   {
    "duration": 5,
    "start_time": "2022-12-23T09:34:29.534Z"
   },
   {
    "duration": 18,
    "start_time": "2022-12-23T09:34:32.671Z"
   },
   {
    "duration": 1531,
    "start_time": "2022-12-23T09:37:02.360Z"
   },
   {
    "duration": 17753,
    "start_time": "2022-12-23T09:41:25.063Z"
   },
   {
    "duration": 52708,
    "start_time": "2022-12-23T09:43:21.209Z"
   },
   {
    "duration": 14,
    "start_time": "2022-12-23T09:50:02.160Z"
   },
   {
    "duration": 19,
    "start_time": "2022-12-23T09:50:31.357Z"
   },
   {
    "duration": 56389,
    "start_time": "2022-12-23T09:53:09.709Z"
   },
   {
    "duration": 9695,
    "start_time": "2022-12-23T09:55:49.820Z"
   },
   {
    "duration": 4635,
    "start_time": "2022-12-23T09:56:20.014Z"
   },
   {
    "duration": 11,
    "start_time": "2022-12-23T09:57:24.868Z"
   },
   {
    "duration": 7,
    "start_time": "2022-12-23T09:59:54.797Z"
   },
   {
    "duration": 4613,
    "start_time": "2022-12-23T10:01:02.775Z"
   },
   {
    "duration": 4682,
    "start_time": "2022-12-23T10:01:31.364Z"
   },
   {
    "duration": 12,
    "start_time": "2022-12-23T10:03:14.436Z"
   },
   {
    "duration": 19,
    "start_time": "2022-12-23T10:03:51.706Z"
   },
   {
    "duration": 1577,
    "start_time": "2022-12-23T10:06:07.095Z"
   },
   {
    "duration": 4823,
    "start_time": "2022-12-23T10:06:43.871Z"
   },
   {
    "duration": 4612,
    "start_time": "2022-12-23T10:07:21.341Z"
   },
   {
    "duration": 4609,
    "start_time": "2022-12-23T10:07:40.817Z"
   },
   {
    "duration": 4746,
    "start_time": "2022-12-23T10:12:13.760Z"
   },
   {
    "duration": 4703,
    "start_time": "2022-12-23T10:13:24.412Z"
   },
   {
    "duration": 13,
    "start_time": "2022-12-23T10:14:24.063Z"
   },
   {
    "duration": 17,
    "start_time": "2022-12-23T10:14:41.614Z"
   },
   {
    "duration": 7,
    "start_time": "2022-12-23T11:04:01.390Z"
   },
   {
    "duration": 3,
    "start_time": "2022-12-23T11:04:03.424Z"
   },
   {
    "duration": 5,
    "start_time": "2022-12-23T11:04:03.941Z"
   },
   {
    "duration": 3,
    "start_time": "2022-12-23T11:04:04.541Z"
   },
   {
    "duration": 569,
    "start_time": "2022-12-23T11:04:05.005Z"
   },
   {
    "duration": 3,
    "start_time": "2022-12-23T11:04:08.001Z"
   },
   {
    "duration": 28,
    "start_time": "2022-12-23T11:04:08.949Z"
   },
   {
    "duration": 5,
    "start_time": "2022-12-23T11:04:09.925Z"
   },
   {
    "duration": 231,
    "start_time": "2022-12-23T11:04:10.994Z"
   },
   {
    "duration": 3,
    "start_time": "2022-12-23T11:04:13.532Z"
   },
   {
    "duration": 6,
    "start_time": "2022-12-23T11:04:15.122Z"
   },
   {
    "duration": 5,
    "start_time": "2022-12-23T11:04:16.121Z"
   },
   {
    "duration": 8,
    "start_time": "2022-12-23T11:04:17.181Z"
   },
   {
    "duration": 4,
    "start_time": "2022-12-23T11:04:19.332Z"
   },
   {
    "duration": 6,
    "start_time": "2022-12-23T11:04:20.357Z"
   },
   {
    "duration": 3,
    "start_time": "2022-12-23T11:04:21.941Z"
   },
   {
    "duration": 25,
    "start_time": "2022-12-23T11:04:24.009Z"
   },
   {
    "duration": 4947,
    "start_time": "2022-12-23T11:04:25.677Z"
   },
   {
    "duration": 8,
    "start_time": "2022-12-23T11:04:30.626Z"
   },
   {
    "duration": 15,
    "start_time": "2022-12-23T11:04:34.357Z"
   },
   {
    "duration": 2079,
    "start_time": "2022-12-23T13:19:54.806Z"
   },
   {
    "duration": 2,
    "start_time": "2022-12-23T13:19:56.887Z"
   },
   {
    "duration": 47,
    "start_time": "2022-12-23T13:19:56.891Z"
   },
   {
    "duration": 33,
    "start_time": "2022-12-23T13:19:56.940Z"
   },
   {
    "duration": 2257,
    "start_time": "2022-12-23T13:19:56.975Z"
   },
   {
    "duration": 3,
    "start_time": "2022-12-23T13:19:59.234Z"
   },
   {
    "duration": 87,
    "start_time": "2022-12-23T13:19:59.238Z"
   },
   {
    "duration": 17,
    "start_time": "2022-12-23T13:19:59.327Z"
   },
   {
    "duration": 268,
    "start_time": "2022-12-23T13:19:59.346Z"
   },
   {
    "duration": 105,
    "start_time": "2022-12-23T13:19:59.617Z"
   },
   {
    "duration": 37,
    "start_time": "2022-12-23T13:19:59.723Z"
   },
   {
    "duration": 40,
    "start_time": "2022-12-23T13:19:59.761Z"
   },
   {
    "duration": 49,
    "start_time": "2022-12-23T13:19:59.802Z"
   },
   {
    "duration": 34,
    "start_time": "2022-12-23T13:19:59.853Z"
   },
   {
    "duration": 62,
    "start_time": "2022-12-23T13:19:59.888Z"
   },
   {
    "duration": 19,
    "start_time": "2022-12-23T13:19:59.952Z"
   },
   {
    "duration": 44,
    "start_time": "2022-12-23T13:19:59.973Z"
   },
   {
    "duration": 4304,
    "start_time": "2022-12-23T13:20:00.019Z"
   },
   {
    "duration": 8,
    "start_time": "2022-12-23T13:20:04.326Z"
   },
   {
    "duration": 59,
    "start_time": "2022-12-23T13:20:04.336Z"
   },
   {
    "duration": 14,
    "start_time": "2022-12-23T13:20:40.912Z"
   },
   {
    "duration": 80,
    "start_time": "2022-12-23T13:23:30.157Z"
   },
   {
    "duration": 3,
    "start_time": "2022-12-23T13:23:56.337Z"
   },
   {
    "duration": 19,
    "start_time": "2022-12-23T13:25:16.197Z"
   },
   {
    "duration": 24,
    "start_time": "2022-12-23T13:25:31.995Z"
   },
   {
    "duration": 4265,
    "start_time": "2022-12-23T13:26:43.482Z"
   },
   {
    "duration": 1512,
    "start_time": "2022-12-23T13:30:57.054Z"
   },
   {
    "duration": 11,
    "start_time": "2022-12-23T13:33:08.816Z"
   },
   {
    "duration": 1386,
    "start_time": "2022-12-23T13:33:35.114Z"
   },
   {
    "duration": 8,
    "start_time": "2022-12-23T13:33:58.763Z"
   },
   {
    "duration": 1371,
    "start_time": "2022-12-23T13:34:01.303Z"
   },
   {
    "duration": 1872,
    "start_time": "2022-12-23T13:46:27.554Z"
   },
   {
    "duration": 3,
    "start_time": "2022-12-23T13:46:29.427Z"
   },
   {
    "duration": 10,
    "start_time": "2022-12-23T13:46:29.432Z"
   },
   {
    "duration": 8,
    "start_time": "2022-12-23T13:46:29.444Z"
   },
   {
    "duration": 526,
    "start_time": "2022-12-23T13:46:29.454Z"
   },
   {
    "duration": 3,
    "start_time": "2022-12-23T13:46:29.982Z"
   },
   {
    "duration": 49,
    "start_time": "2022-12-23T13:46:29.987Z"
   },
   {
    "duration": 5,
    "start_time": "2022-12-23T13:46:30.038Z"
   },
   {
    "duration": 174,
    "start_time": "2022-12-23T13:46:30.044Z"
   },
   {
    "duration": 4,
    "start_time": "2022-12-23T13:46:30.221Z"
   },
   {
    "duration": 128,
    "start_time": "2022-12-23T13:46:30.227Z"
   },
   {
    "duration": 24,
    "start_time": "2022-12-23T13:46:30.357Z"
   },
   {
    "duration": 96,
    "start_time": "2022-12-23T13:46:30.382Z"
   },
   {
    "duration": 29,
    "start_time": "2022-12-23T13:46:30.480Z"
   },
   {
    "duration": 86,
    "start_time": "2022-12-23T13:46:30.511Z"
   },
   {
    "duration": 58,
    "start_time": "2022-12-23T13:46:30.599Z"
   },
   {
    "duration": 32,
    "start_time": "2022-12-23T13:46:30.659Z"
   },
   {
    "duration": 11,
    "start_time": "2022-12-23T13:46:30.694Z"
   },
   {
    "duration": 4556,
    "start_time": "2022-12-23T13:46:30.707Z"
   },
   {
    "duration": 114,
    "start_time": "2022-12-23T13:46:35.265Z"
   },
   {
    "duration": 0,
    "start_time": "2022-12-23T13:46:35.381Z"
   },
   {
    "duration": 0,
    "start_time": "2022-12-23T13:46:35.382Z"
   },
   {
    "duration": 7,
    "start_time": "2022-12-23T13:47:14.735Z"
   },
   {
    "duration": 14,
    "start_time": "2022-12-23T13:47:16.150Z"
   },
   {
    "duration": 1713,
    "start_time": "2022-12-23T15:07:31.113Z"
   },
   {
    "duration": 2,
    "start_time": "2022-12-23T15:07:32.828Z"
   },
   {
    "duration": 6,
    "start_time": "2022-12-23T15:07:32.832Z"
   },
   {
    "duration": 8,
    "start_time": "2022-12-23T15:07:32.839Z"
   },
   {
    "duration": 1111,
    "start_time": "2022-12-23T15:07:32.849Z"
   },
   {
    "duration": 4,
    "start_time": "2022-12-23T15:07:33.962Z"
   },
   {
    "duration": 38,
    "start_time": "2022-12-23T15:07:33.967Z"
   },
   {
    "duration": 6,
    "start_time": "2022-12-23T15:07:34.007Z"
   },
   {
    "duration": 296,
    "start_time": "2022-12-23T15:07:34.015Z"
   },
   {
    "duration": 3,
    "start_time": "2022-12-23T15:07:34.313Z"
   },
   {
    "duration": 15,
    "start_time": "2022-12-23T15:07:34.398Z"
   },
   {
    "duration": 93,
    "start_time": "2022-12-23T15:07:34.415Z"
   },
   {
    "duration": 15,
    "start_time": "2022-12-23T15:07:34.511Z"
   },
   {
    "duration": 9,
    "start_time": "2022-12-23T15:07:34.528Z"
   },
   {
    "duration": 15,
    "start_time": "2022-12-23T15:07:34.538Z"
   },
   {
    "duration": 5,
    "start_time": "2022-12-23T15:07:34.554Z"
   },
   {
    "duration": 19,
    "start_time": "2022-12-23T15:07:34.561Z"
   },
   {
    "duration": 6,
    "start_time": "2022-12-23T15:07:34.581Z"
   },
   {
    "duration": 154,
    "start_time": "2022-12-23T15:07:34.588Z"
   },
   {
    "duration": 0,
    "start_time": "2022-12-23T15:07:34.744Z"
   },
   {
    "duration": 1,
    "start_time": "2022-12-23T15:07:34.746Z"
   },
   {
    "duration": 1375,
    "start_time": "2022-12-23T15:11:52.579Z"
   },
   {
    "duration": 3,
    "start_time": "2022-12-23T15:11:53.956Z"
   },
   {
    "duration": 8,
    "start_time": "2022-12-23T15:11:53.961Z"
   },
   {
    "duration": 7,
    "start_time": "2022-12-23T15:11:53.970Z"
   },
   {
    "duration": 533,
    "start_time": "2022-12-23T15:11:53.979Z"
   },
   {
    "duration": 3,
    "start_time": "2022-12-23T15:11:54.514Z"
   },
   {
    "duration": 44,
    "start_time": "2022-12-23T15:11:54.518Z"
   },
   {
    "duration": 4,
    "start_time": "2022-12-23T15:11:54.564Z"
   },
   {
    "duration": 333,
    "start_time": "2022-12-23T15:11:54.570Z"
   },
   {
    "duration": 93,
    "start_time": "2022-12-23T15:11:54.907Z"
   },
   {
    "duration": 15,
    "start_time": "2022-12-23T15:11:55.003Z"
   },
   {
    "duration": 6,
    "start_time": "2022-12-23T15:11:55.020Z"
   },
   {
    "duration": 12,
    "start_time": "2022-12-23T15:11:55.027Z"
   },
   {
    "duration": 5,
    "start_time": "2022-12-23T15:11:55.899Z"
   },
   {
    "duration": 11,
    "start_time": "2022-12-23T15:11:56.396Z"
   },
   {
    "duration": 3,
    "start_time": "2022-12-23T15:11:57.130Z"
   },
   {
    "duration": 18,
    "start_time": "2022-12-23T15:11:59.033Z"
   },
   {
    "duration": 7,
    "start_time": "2022-12-23T15:12:00.209Z"
   },
   {
    "duration": 4062,
    "start_time": "2022-12-23T15:12:00.700Z"
   },
   {
    "duration": 8,
    "start_time": "2022-12-23T15:12:04.764Z"
   },
   {
    "duration": 31,
    "start_time": "2022-12-23T15:12:04.774Z"
   },
   {
    "duration": 4096,
    "start_time": "2022-12-23T15:17:48.551Z"
   },
   {
    "duration": 4679,
    "start_time": "2022-12-23T15:18:33.693Z"
   },
   {
    "duration": 1373,
    "start_time": "2022-12-23T15:32:02.052Z"
   },
   {
    "duration": 3,
    "start_time": "2022-12-23T15:32:03.427Z"
   },
   {
    "duration": 10,
    "start_time": "2022-12-23T15:32:03.434Z"
   },
   {
    "duration": 7,
    "start_time": "2022-12-23T15:32:03.447Z"
   },
   {
    "duration": 618,
    "start_time": "2022-12-23T15:32:03.455Z"
   },
   {
    "duration": 3,
    "start_time": "2022-12-23T15:32:04.075Z"
   },
   {
    "duration": 50,
    "start_time": "2022-12-23T15:32:04.080Z"
   },
   {
    "duration": 4,
    "start_time": "2022-12-23T15:32:04.132Z"
   },
   {
    "duration": 169,
    "start_time": "2022-12-23T15:32:04.137Z"
   },
   {
    "duration": 2,
    "start_time": "2022-12-23T15:32:04.308Z"
   },
   {
    "duration": 202,
    "start_time": "2022-12-23T15:32:04.312Z"
   },
   {
    "duration": 4,
    "start_time": "2022-12-23T15:32:04.516Z"
   },
   {
    "duration": 6,
    "start_time": "2022-12-23T15:32:04.524Z"
   },
   {
    "duration": 8,
    "start_time": "2022-12-23T15:32:04.531Z"
   },
   {
    "duration": 10,
    "start_time": "2022-12-23T15:32:04.540Z"
   },
   {
    "duration": 3,
    "start_time": "2022-12-23T15:32:04.552Z"
   },
   {
    "duration": 25,
    "start_time": "2022-12-23T15:32:04.557Z"
   },
   {
    "duration": 18,
    "start_time": "2022-12-23T15:32:04.584Z"
   },
   {
    "duration": 4204,
    "start_time": "2022-12-23T15:32:04.607Z"
   },
   {
    "duration": 7,
    "start_time": "2022-12-23T15:32:08.813Z"
   },
   {
    "duration": 18,
    "start_time": "2022-12-23T15:32:08.821Z"
   },
   {
    "duration": 1992,
    "start_time": "2022-12-23T18:21:39.207Z"
   },
   {
    "duration": 3,
    "start_time": "2022-12-23T18:21:41.201Z"
   },
   {
    "duration": 24,
    "start_time": "2022-12-23T18:21:41.206Z"
   },
   {
    "duration": 33,
    "start_time": "2022-12-23T18:21:41.232Z"
   },
   {
    "duration": 625,
    "start_time": "2022-12-23T18:21:41.268Z"
   },
   {
    "duration": 3,
    "start_time": "2022-12-23T18:21:41.896Z"
   },
   {
    "duration": 58,
    "start_time": "2022-12-23T18:21:41.900Z"
   },
   {
    "duration": 4,
    "start_time": "2022-12-23T18:21:41.961Z"
   },
   {
    "duration": 385,
    "start_time": "2022-12-23T18:21:41.967Z"
   },
   {
    "duration": 4,
    "start_time": "2022-12-23T18:21:42.354Z"
   },
   {
    "duration": 8,
    "start_time": "2022-12-23T18:21:42.451Z"
   },
   {
    "duration": 6,
    "start_time": "2022-12-23T18:21:42.461Z"
   },
   {
    "duration": 12,
    "start_time": "2022-12-23T18:21:42.469Z"
   },
   {
    "duration": 4,
    "start_time": "2022-12-23T18:21:42.484Z"
   },
   {
    "duration": 11,
    "start_time": "2022-12-23T18:21:42.490Z"
   },
   {
    "duration": 37,
    "start_time": "2022-12-23T18:21:42.503Z"
   },
   {
    "duration": 27,
    "start_time": "2022-12-23T18:21:42.542Z"
   },
   {
    "duration": 7,
    "start_time": "2022-12-23T18:21:42.571Z"
   },
   {
    "duration": 4405,
    "start_time": "2022-12-23T18:21:42.580Z"
   },
   {
    "duration": 9,
    "start_time": "2022-12-23T18:21:46.987Z"
   },
   {
    "duration": 18,
    "start_time": "2022-12-23T18:21:46.998Z"
   },
   {
    "duration": 1938,
    "start_time": "2022-12-23T18:22:40.549Z"
   },
   {
    "duration": 3,
    "start_time": "2022-12-23T18:22:42.489Z"
   },
   {
    "duration": 35,
    "start_time": "2022-12-23T18:22:42.494Z"
   },
   {
    "duration": 22,
    "start_time": "2022-12-23T18:22:42.531Z"
   },
   {
    "duration": 667,
    "start_time": "2022-12-23T18:22:42.554Z"
   },
   {
    "duration": 4,
    "start_time": "2022-12-23T18:22:43.222Z"
   },
   {
    "duration": 49,
    "start_time": "2022-12-23T18:22:43.227Z"
   },
   {
    "duration": 4,
    "start_time": "2022-12-23T18:22:43.278Z"
   },
   {
    "duration": 273,
    "start_time": "2022-12-23T18:22:43.284Z"
   },
   {
    "duration": 5,
    "start_time": "2022-12-23T18:22:43.561Z"
   },
   {
    "duration": 193,
    "start_time": "2022-12-23T18:22:43.568Z"
   },
   {
    "duration": 32,
    "start_time": "2022-12-23T18:22:43.763Z"
   },
   {
    "duration": 22,
    "start_time": "2022-12-23T18:22:43.798Z"
   },
   {
    "duration": 48,
    "start_time": "2022-12-23T18:22:43.823Z"
   },
   {
    "duration": 41,
    "start_time": "2022-12-23T18:22:43.874Z"
   },
   {
    "duration": 22,
    "start_time": "2022-12-23T18:22:43.917Z"
   },
   {
    "duration": 58,
    "start_time": "2022-12-23T18:22:43.940Z"
   },
   {
    "duration": 20,
    "start_time": "2022-12-23T18:22:43.999Z"
   },
   {
    "duration": 4530,
    "start_time": "2022-12-23T18:22:44.020Z"
   },
   {
    "duration": 8,
    "start_time": "2022-12-23T18:22:48.552Z"
   },
   {
    "duration": 20,
    "start_time": "2022-12-23T18:22:48.562Z"
   }
  ],
  "kernelspec": {
   "display_name": "Python 3 (ipykernel)",
   "language": "python",
   "name": "python3"
  },
  "language_info": {
   "codemirror_mode": {
    "name": "ipython",
    "version": 3
   },
   "file_extension": ".py",
   "mimetype": "text/x-python",
   "name": "python",
   "nbconvert_exporter": "python",
   "pygments_lexer": "ipython3",
   "version": "3.9.12"
  },
  "toc": {
   "base_numbering": 1,
   "nav_menu": {},
   "number_sections": true,
   "sideBar": true,
   "skip_h1_title": true,
   "title_cell": "Table of Contents",
   "title_sidebar": "Contents",
   "toc_cell": false,
   "toc_position": {},
   "toc_section_display": true,
   "toc_window_display": true
  }
 },
 "nbformat": 4,
 "nbformat_minor": 2
}
