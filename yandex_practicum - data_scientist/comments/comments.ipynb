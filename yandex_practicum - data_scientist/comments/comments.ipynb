{
 "cells": [
  {
   "cell_type": "markdown",
   "metadata": {},
   "source": [
    "# Проект для «Викишоп»"
   ]
  },
  {
   "cell_type": "markdown",
   "metadata": {},
   "source": [
    "Интернет-магазин «Викишоп» запускает новый сервис. Теперь пользователи могут редактировать и дополнять описания товаров, как в вики-сообществах. То есть клиенты предлагают свои правки и комментируют изменения других. Магазину нужен инструмент, который будет искать токсичные комментарии и отправлять их на модерацию. \n",
    "\n",
    "Обучите модель классифицировать комментарии на позитивные и негативные. В вашем распоряжении набор данных с разметкой о токсичности правок.\n",
    "\n",
    "Постройте модель со значением метрики качества *F1* не меньше 0.75. \n",
    "\n",
    "**Инструкция по выполнению проекта**\n",
    "\n",
    "1. Загрузите и подготовьте данные.\n",
    "2. Обучите разные модели. \n",
    "3. Сделайте выводы.\n",
    "\n",
    "Для выполнения проекта применять *BERT* необязательно, но вы можете попробовать.\n",
    "\n",
    "**Описание данных**\n",
    "\n",
    "Данные находятся в файле `toxic_comments.csv`. Столбец *text* в нём содержит текст комментария, а *toxic* — целевой признак."
   ]
  },
  {
   "cell_type": "markdown",
   "metadata": {
    "toc": true
   },
   "source": [
    "<h1>Содержание<span class=\"tocSkip\"></span></h1>\n",
    "<h3>   <span class=\"tocSkip\"></span></h3>\n",
    "<div class=\"toc\">\n",
    "<li><span><a href=\"#Подготовка\" data-toc-modified-id=\"Подготовка-1\"><span class=\"toc-item-num\">1&nbsp;&nbsp;</span>Подготовка</a></span><ul class=\"toc-item\"><li><span><a href=\"#Загрузка-данных\" data-toc-modified-id=\"Загрузка-данных-1.1\"><span class=\"toc-item-num\">1.1&nbsp;&nbsp;</span>Загрузка данных</a></span></li><li><span><a href=\"#Подготовка-признаков\" data-toc-modified-id=\"Подготовка-признаков-1.2\"><span class=\"toc-item-num\">1.2&nbsp;&nbsp;</span>Подготовка признаков</a></span><ul class=\"toc-item\"><li><span><a href=\"#Лемматизация\" data-toc-modified-id=\"Лемматизация-1.2.1\"><span class=\"toc-item-num\">1.2.1&nbsp;&nbsp;</span>Лемматизация</a></span></li></ul></li><li><span><a href=\"#Разделение-на-выборки\" data-toc-modified-id=\"Разделение-на-выборки-1.3\"><span class=\"toc-item-num\">1.3&nbsp;&nbsp;</span>Разделение на выборки</a></span></li><li><span><a href=\"#Изменение-баланса-классов\" data-toc-modified-id=\"Изменение-баланса-классов-1.4\"><span class=\"toc-item-num\">1.4&nbsp;&nbsp;</span>Изменение баланса классов</a></span><ul class=\"toc-item\"><li><span><a href=\"#Изменение-весов-классов\" data-toc-modified-id=\"Изменение-весов-классов-1.4.1\"><span class=\"toc-item-num\">1.4.1&nbsp;&nbsp;</span>Изменение весов классов</a></span></li></ul></li><li><span><a href=\"#Вывод-по-шагу-1\" data-toc-modified-id=\"Вывод-по-шагу-1-1.5\"><span class=\"toc-item-num\">1.5&nbsp;&nbsp;</span>Вывод по шагу 1</a></span></li></ul></li><li><span><a href=\"#Обучение\" data-toc-modified-id=\"Обучение-2\"><span class=\"toc-item-num\">2&nbsp;&nbsp;</span>Обучение</a></span><ul class=\"toc-item\"><li><span><a href=\"#Классификатор-LogisticRegression\" data-toc-modified-id=\"Классификатор-LogisticRegression-2.1\"><span class=\"toc-item-num\">2.1&nbsp;&nbsp;</span>Классификатор LogisticRegression</a></span></li><li><span><a href=\"#Классификатор-DecisionTreeClassifier\" data-toc-modified-id=\"Классификатор-DecisionTreeClassifier-2.2\"><span class=\"toc-item-num\">2.2&nbsp;&nbsp;</span>Классификатор DecisionTreeClassifier</a></span></li><li><span><a href=\"#Классификатор-CatBoostClassifier\" data-toc-modified-id=\"Классификатор-CatBoostClassifier-2.3\"><span class=\"toc-item-num\">2.3&nbsp;&nbsp;</span>Классификатор CatBoostClassifier</a></span></li><li><span><a href=\"#Классификатор-SGDClassifier\" data-toc-modified-id=\"Классификатор-SGDClassifier-2.4\"><span class=\"toc-item-num\">2.4&nbsp;&nbsp;</span>Классификатор SGDClassifier</a></span></li><li><span><a href=\"#Классификатор--LightGBM\" data-toc-modified-id=\"Классификатор--LightGBM-2.5\"><span class=\"toc-item-num\">2.5&nbsp;&nbsp;</span>Классификатор  LightGBM</a></span></li><li><span><a href=\"#Вывод-по-шагу-2\" data-toc-modified-id=\"Вывод-по-шагу-2-2.6\"><span class=\"toc-item-num\">2.6&nbsp;&nbsp;</span>Вывод по шагу 2</a></span></li></ul></li><li><span><a href=\"#Выводы\" data-toc-modified-id=\"Выводы-3\"><span class=\"toc-item-num\">3&nbsp;&nbsp;</span>Выводы</a></span><ul class=\"toc-item\"><li><span><a href=\"#Итоговый-вывод\" data-toc-modified-id=\"Итоговый-вывод-3.1\"><span class=\"toc-item-num\">3.1&nbsp;&nbsp;</span>Итоговый вывод</a></span></li></ul></li><li><span><a href=\"#Чек-лист-проверки\" data-toc-modified-id=\"Чек-лист-проверки-4\"><span class=\"toc-item-num\">4&nbsp;&nbsp;</span>Чек-лист проверки</a></span></li></ul>\n",
    "\n",
    "</div>"
   ]
  },
  {
   "cell_type": "code",
   "execution_count": 1,
   "metadata": {},
   "outputs": [],
   "source": [
    "import matplotlib.pyplot as plt\n",
    "import numpy as np\n",
    "import pandas as pd\n",
    "import re\n",
    "# from pymystem3 import Mystem\n",
    "import nltk\n",
    "from nltk.corpus import stopwords as nltk_stopwords\n",
    "#nltk.download('wordnet')\n",
    "from nltk.stem import WordNetLemmatizer \n",
    "\n",
    "from sklearn.feature_extraction.text import TfidfVectorizer\n",
    "from sklearn.model_selection import train_test_split, cross_val_score, GridSearchCV, KFold\n",
    "\n",
    "from sklearn.linear_model import LogisticRegression, SGDClassifier\n",
    "from sklearn.tree import DecisionTreeClassifier\n",
    "from catboost import CatBoostClassifier\n",
    "from lightgbm import LGBMClassifier\n",
    "\n",
    "from sklearn.metrics import f1_score, precision_score, recall_score, accuracy_score, roc_auc_score, roc_curve\n",
    "from sklearn.utils import shuffle\n",
    "import warnings\n",
    "warnings.filterwarnings('ignore')"
   ]
  },
  {
   "cell_type": "markdown",
   "metadata": {},
   "source": [
    "## Подготовка\n",
    "\n",
    "### Загрузка данных"
   ]
  },
  {
   "cell_type": "code",
   "execution_count": 2,
   "metadata": {},
   "outputs": [
    {
     "name": "stdout",
     "output_type": "stream",
     "text": [
      "<class 'pandas.core.frame.DataFrame'>\n",
      "RangeIndex: 159292 entries, 0 to 159291\n",
      "Data columns (total 3 columns):\n",
      " #   Column      Non-Null Count   Dtype \n",
      "---  ------      --------------   ----- \n",
      " 0   Unnamed: 0  159292 non-null  int64 \n",
      " 1   text        159292 non-null  object\n",
      " 2   toxic       159292 non-null  int64 \n",
      "dtypes: int64(2), object(1)\n",
      "memory usage: 3.6+ MB\n"
     ]
    }
   ],
   "source": [
    "toxic_comments = pd.read_csv('/datasets/toxic_comments.csv')\n",
    "toxic_comments.info()"
   ]
  },
  {
   "cell_type": "code",
   "execution_count": 3,
   "metadata": {},
   "outputs": [
    {
     "data": {
      "text/html": [
       "<div>\n",
       "<style scoped>\n",
       "    .dataframe tbody tr th:only-of-type {\n",
       "        vertical-align: middle;\n",
       "    }\n",
       "\n",
       "    .dataframe tbody tr th {\n",
       "        vertical-align: top;\n",
       "    }\n",
       "\n",
       "    .dataframe thead th {\n",
       "        text-align: right;\n",
       "    }\n",
       "</style>\n",
       "<table border=\"1\" class=\"dataframe\">\n",
       "  <thead>\n",
       "    <tr style=\"text-align: right;\">\n",
       "      <th></th>\n",
       "      <th>Unnamed: 0</th>\n",
       "      <th>text</th>\n",
       "      <th>toxic</th>\n",
       "    </tr>\n",
       "  </thead>\n",
       "  <tbody>\n",
       "    <tr>\n",
       "      <th>0</th>\n",
       "      <td>0</td>\n",
       "      <td>Explanation\\nWhy the edits made under my usern...</td>\n",
       "      <td>0</td>\n",
       "    </tr>\n",
       "    <tr>\n",
       "      <th>1</th>\n",
       "      <td>1</td>\n",
       "      <td>D'aww! He matches this background colour I'm s...</td>\n",
       "      <td>0</td>\n",
       "    </tr>\n",
       "    <tr>\n",
       "      <th>2</th>\n",
       "      <td>2</td>\n",
       "      <td>Hey man, I'm really not trying to edit war. It...</td>\n",
       "      <td>0</td>\n",
       "    </tr>\n",
       "    <tr>\n",
       "      <th>3</th>\n",
       "      <td>3</td>\n",
       "      <td>\"\\nMore\\nI can't make any real suggestions on ...</td>\n",
       "      <td>0</td>\n",
       "    </tr>\n",
       "    <tr>\n",
       "      <th>4</th>\n",
       "      <td>4</td>\n",
       "      <td>You, sir, are my hero. Any chance you remember...</td>\n",
       "      <td>0</td>\n",
       "    </tr>\n",
       "  </tbody>\n",
       "</table>\n",
       "</div>"
      ],
      "text/plain": [
       "   Unnamed: 0                                               text  toxic\n",
       "0           0  Explanation\\nWhy the edits made under my usern...      0\n",
       "1           1  D'aww! He matches this background colour I'm s...      0\n",
       "2           2  Hey man, I'm really not trying to edit war. It...      0\n",
       "3           3  \"\\nMore\\nI can't make any real suggestions on ...      0\n",
       "4           4  You, sir, are my hero. Any chance you remember...      0"
      ]
     },
     "execution_count": 3,
     "metadata": {},
     "output_type": "execute_result"
    }
   ],
   "source": [
    "toxic_comments.head()"
   ]
  },
  {
   "cell_type": "code",
   "execution_count": 4,
   "metadata": {},
   "outputs": [
    {
     "data": {
      "text/plain": [
       "0    143106\n",
       "1     16186\n",
       "Name: toxic, dtype: int64"
      ]
     },
     "metadata": {},
     "output_type": "display_data"
    },
    {
     "data": {
      "text/plain": [
       "8.841344371679229"
      ]
     },
     "execution_count": 4,
     "metadata": {},
     "output_type": "execute_result"
    }
   ],
   "source": [
    "display(toxic_comments['toxic'].value_counts())\n",
    "class_ratio = toxic_comments['toxic'].value_counts()[0] / toxic_comments['toxic'].value_counts()[1]\n",
    "class_ratio"
   ]
  },
  {
   "cell_type": "markdown",
   "metadata": {},
   "source": [
    "Классы несбалансированы. Отношение 1:8.83. Проведем поиск лучшего способа балансировки и сравним качество.\n",
    "\n",
    "1. Изменение весов в модели обучения\n",
    "2. Ресемплирование с уменьшением класса 0\n",
    "\n",
    "Ресемплирование с увеличением класса 1 не будем использовать из-за громоздкого набора данных."
   ]
  },
  {
   "cell_type": "markdown",
   "metadata": {},
   "source": [
    "### Подготовка признаков\n",
    "\n",
    "#### Лемматизация\n",
    "\n",
    "Подготовим признаки и целевой признак перед обучением."
   ]
  },
  {
   "cell_type": "code",
   "execution_count": 5,
   "metadata": {},
   "outputs": [
    {
     "name": "stdout",
     "output_type": "stream",
     "text": [
      "CPU times: user 2min 5s, sys: 492 ms, total: 2min 6s\n",
      "Wall time: 2min 6s\n"
     ]
    },
    {
     "data": {
      "text/plain": [
       "0         explanation why the edits made under my userna...\n",
       "1         d'aww ! he match this background colour i 'm s...\n",
       "2         hey man , i 'm really not trying to edit war ....\n",
       "3         `` more i ca n't make any real suggestion on i...\n",
       "4         you , sir , are my hero . any chance you remem...\n",
       "                                ...                        \n",
       "159287    `` : : : : : and for the second time of asking...\n",
       "159288    you should be ashamed of yourself that is a ho...\n",
       "159289    spitzer umm , there no actual article for pros...\n",
       "159290    and it look like it wa actually you who put on...\n",
       "159291    `` and ... i really do n't think you understan...\n",
       "Name: lemm_text, Length: 159292, dtype: object"
      ]
     },
     "execution_count": 5,
     "metadata": {},
     "output_type": "execute_result"
    }
   ],
   "source": [
    "%%time\n",
    "\n",
    "m = WordNetLemmatizer()\n",
    "\n",
    "def lemmatize_text(text):\n",
    "    #text = text.lower()#.split()\n",
    "    #for word in text:\n",
    "    #lemm_text = \"\".join(m.lemmatize(text))\n",
    "    # cleared_text = re.sub(r'[^a-zA-Z]', ' ', lemm_text) \n",
    "    # return \" \".join(cleared_text.split())\n",
    "    word_list = nltk.word_tokenize(text.lower())\n",
    "    lemmatized_output = ' '.join([m.lemmatize(w) for w in word_list])\n",
    "    return lemmatized_output\n",
    "    \n",
    "\n",
    "toxic_comments['lemm_text'] = toxic_comments['text'].apply(lemmatize_text)\n",
    "\n",
    "toxic_comments = toxic_comments.drop(['text'], axis=1)\n",
    "del m\n",
    "toxic_comments['lemm_text']"
   ]
  },
  {
   "cell_type": "markdown",
   "metadata": {},
   "source": [
    "### Разделение на выборки\n",
    "\n",
    "Разобьем выборку по отношению 60/20/20. Уменьшим количество кроссвалидаций до 3 из-за размера выборки."
   ]
  },
  {
   "cell_type": "code",
   "execution_count": 6,
   "metadata": {},
   "outputs": [
    {
     "name": "stderr",
     "output_type": "stream",
     "text": [
      "[nltk_data] Downloading package stopwords to /home/jovyan/nltk_data...\n",
      "[nltk_data]   Package stopwords is already up-to-date!\n"
     ]
    }
   ],
   "source": [
    "target = toxic_comments['toxic']\n",
    "features = toxic_comments.drop(['toxic'], axis=1)\n",
    "\n",
    "features_train, features_valid, target_train, target_valid = train_test_split(features, \n",
    "                                                                              target, \n",
    "                                                                              test_size=0.4, \n",
    "                                                                              random_state=12082020)\n",
    "\n",
    "features_valid, features_test, target_valid, target_test = train_test_split(features_valid, \n",
    "                                                                            target_valid, \n",
    "                                                                            test_size=0.5,\n",
    "                                                                            random_state=12082020)\n",
    "\n",
    "nltk.download('stopwords')\n",
    "stopwords = set(nltk_stopwords.words('english'))\n",
    "\n",
    "count_tf_idf = TfidfVectorizer(stop_words=stopwords)"
   ]
  },
  {
   "cell_type": "code",
   "execution_count": 7,
   "metadata": {},
   "outputs": [
    {
     "name": "stdout",
     "output_type": "stream",
     "text": [
      "(95575, 133412)\n",
      "(31858, 133412)\n",
      "(31859, 133412)\n"
     ]
    }
   ],
   "source": [
    "features_train = count_tf_idf.fit_transform(features_train['lemm_text'])\n",
    "features_valid = count_tf_idf.transform(features_valid['lemm_text'])\n",
    "features_test = count_tf_idf.transform(features_test['lemm_text'])\n",
    "print(features_train.shape)\n",
    "print(features_valid.shape)\n",
    "print(features_test.shape)\n",
    "cv_counts = 3"
   ]
  },
  {
   "cell_type": "code",
   "execution_count": 8,
   "metadata": {},
   "outputs": [
    {
     "data": {
      "text/plain": [
       "<95575x133412 sparse matrix of type '<class 'numpy.float64'>'\n",
       "\twith 2681507 stored elements in Compressed Sparse Row format>"
      ]
     },
     "execution_count": 8,
     "metadata": {},
     "output_type": "execute_result"
    }
   ],
   "source": [
    "features_train"
   ]
  },
  {
   "cell_type": "code",
   "execution_count": 9,
   "metadata": {},
   "outputs": [
    {
     "name": "stdout",
     "output_type": "stream",
     "text": [
      "F1 на CV 0.6760345863460214\n",
      "CPU times: user 26.1 s, sys: 1min 6s, total: 1min 32s\n",
      "Wall time: 1min 32s\n"
     ]
    }
   ],
   "source": [
    "%%time\n",
    "\n",
    "classificator = LogisticRegression()\n",
    "train_f1 = cross_val_score(classificator, \n",
    "                      features_train, \n",
    "                      target_train, \n",
    "                      cv=cv_counts, \n",
    "                      scoring='f1').mean()\n",
    "print('F1 на CV', train_f1)"
   ]
  },
  {
   "cell_type": "code",
   "execution_count": 10,
   "metadata": {},
   "outputs": [
    {
     "name": "stdout",
     "output_type": "stream",
     "text": [
      "(95575, 133412)\n",
      "(31859, 133412)\n"
     ]
    }
   ],
   "source": [
    "print(features_train.shape)\n",
    "print(features_test.shape)"
   ]
  },
  {
   "cell_type": "raw",
   "metadata": {},
   "source": [
    "%%time\n",
    "\n",
    "classificator = LogisticRegression()\n",
    "train_f1 = cross_val_score(classificator, \n",
    "                      features_train, \n",
    "                      target_train, \n",
    "                      cv=cv_counts, \n",
    "                      scoring='f1').mean()\n",
    "print('F1 на CV', train_f1)"
   ]
  },
  {
   "cell_type": "markdown",
   "metadata": {},
   "source": [
    "### Изменение баланса классов"
   ]
  },
  {
   "cell_type": "markdown",
   "metadata": {},
   "source": [
    "Посмотрим сбалансированность классов."
   ]
  },
  {
   "cell_type": "code",
   "execution_count": 11,
   "metadata": {},
   "outputs": [
    {
     "data": {
      "text/plain": [
       "0    85839\n",
       "1     9736\n",
       "Name: toxic, dtype: int64"
      ]
     },
     "execution_count": 11,
     "metadata": {},
     "output_type": "execute_result"
    }
   ],
   "source": [
    "target_train.value_counts()"
   ]
  },
  {
   "cell_type": "markdown",
   "metadata": {},
   "source": [
    "Классы несбалансированы: токсисных комментариев в 10 меньше, чем токсичных. "
   ]
  },
  {
   "cell_type": "markdown",
   "metadata": {},
   "source": [
    "#### Изменение весов классов"
   ]
  },
  {
   "cell_type": "code",
   "execution_count": 12,
   "metadata": {},
   "outputs": [
    {
     "name": "stdout",
     "output_type": "stream",
     "text": [
      "F1 на CV с балансированными классами 0.7482325098498422\n",
      "CPU times: user 34.9 s, sys: 1min 22s, total: 1min 56s\n",
      "Wall time: 1min 57s\n"
     ]
    }
   ],
   "source": [
    "%%time\n",
    "\n",
    "dict_classes={0:1, 1:class_ratio}\n",
    "classificator = LogisticRegression(class_weight=dict_classes)\n",
    "train_f1_ballanced = cross_val_score(classificator, \n",
    "                                    features_train, \n",
    "                                    target_train, \n",
    "                                    cv=cv_counts, \n",
    "                                    scoring='f1').mean()\n",
    "print('F1 на CV с балансированными классами', train_f1_ballanced)"
   ]
  },
  {
   "cell_type": "code",
   "execution_count": 13,
   "metadata": {},
   "outputs": [
    {
     "name": "stdout",
     "output_type": "stream",
     "text": [
      "F1 на CV с балансированными классами 0.7482325098498422\n",
      "CPU times: user 20.7 s, sys: 46.3 s, total: 1min 6s\n",
      "Wall time: 1min 7s\n"
     ]
    }
   ],
   "source": [
    "%%time\n",
    "\n",
    "classificator = LogisticRegression(class_weight='balanced')\n",
    "train_f1_balanced = cross_val_score(classificator, \n",
    "                                    features_train, \n",
    "                                    target_train, \n",
    "                                    cv=cv_counts, \n",
    "                                    scoring='f1').mean()\n",
    "\n",
    "print('F1 на CV с балансированными классами', train_f1_ballanced)"
   ]
  },
  {
   "cell_type": "markdown",
   "metadata": {},
   "source": [
    "Как видно на обучающей выборке F1-мера увеличилась. Встроенный метод повторяет значение F1."
   ]
  },
  {
   "cell_type": "code",
   "execution_count": 14,
   "metadata": {},
   "outputs": [],
   "source": [
    "# уберём лишнее\n",
    "del count_tf_idf\n",
    "del stopwords"
   ]
  },
  {
   "cell_type": "markdown",
   "metadata": {},
   "source": [
    "Построим ROC-AUC графики и просмотрим таблицу результатов баллансирования."
   ]
  },
  {
   "cell_type": "code",
   "execution_count": 15,
   "metadata": {},
   "outputs": [
    {
     "data": {
      "image/png": "[encoded data removed]",
      "text/plain": [
       "<Figure size 864x648 with 1 Axes>"
      ]
     },
     "metadata": {
      "needs_background": "light"
     },
     "output_type": "display_data"
    }
   ],
   "source": [
    "plt.figure(figsize=[12,9])\n",
    "\n",
    "plt.plot([0, 1], [0, 1], linestyle='--', label='RandomModel')\n",
    "\n",
    "\n",
    "classificator = LogisticRegression()\n",
    "classificator.fit(features_train, target_train)\n",
    "probabilities_valid = classificator.predict_proba(features_valid)\n",
    "probabilities_one_valid = probabilities_valid[:, 1]\n",
    "fpr, tpr, thresholds = roc_curve(target_valid, probabilities_one_valid)\n",
    "auc_roc = roc_auc_score(target_valid, probabilities_one_valid)\n",
    "valid_f1 = f1_score(target_valid, classificator.predict(features_valid))\n",
    "plt.plot(fpr, tpr, label='LR')\n",
    "\n",
    "classificator = LogisticRegression(class_weight=dict_classes)\n",
    "classificator.fit(features_train, target_train)\n",
    "probabilities_valid = classificator.predict_proba(features_valid)\n",
    "probabilities_one_valid = probabilities_valid[:, 1]\n",
    "fpr, tpr, thresholds = roc_curve(target_valid, probabilities_one_valid)\n",
    "auc_roc_balanced = roc_auc_score(target_valid, probabilities_one_valid)\n",
    "valid_f1_balanced = f1_score(target_valid, classificator.predict(features_valid))\n",
    "plt.plot(fpr, tpr, label='LR balansed classes')\n",
    "\n",
    "plt.xlim([0,1])\n",
    "plt.ylim([0,1])\n",
    "\n",
    "plt.xlabel(\"False Positive Rate\")\n",
    "plt.ylabel(\"True Positive Rate\")\n",
    "\n",
    "plt.legend(loc='lower right', fontsize='x-large')\n",
    "\n",
    "plt.title(\"ROC-кривая\")\n",
    "plt.show()"
   ]
  },
  {
   "cell_type": "code",
   "execution_count": 16,
   "metadata": {},
   "outputs": [
    {
     "data": {
      "text/html": [
       "<div>\n",
       "<style scoped>\n",
       "    .dataframe tbody tr th:only-of-type {\n",
       "        vertical-align: middle;\n",
       "    }\n",
       "\n",
       "    .dataframe tbody tr th {\n",
       "        vertical-align: top;\n",
       "    }\n",
       "\n",
       "    .dataframe thead th {\n",
       "        text-align: right;\n",
       "    }\n",
       "</style>\n",
       "<table border=\"1\" class=\"dataframe\">\n",
       "  <thead>\n",
       "    <tr style=\"text-align: right;\">\n",
       "      <th></th>\n",
       "      <th>F1 на CV</th>\n",
       "      <th>F1 на валидации</th>\n",
       "      <th>AUC-ROC</th>\n",
       "    </tr>\n",
       "  </thead>\n",
       "  <tbody>\n",
       "    <tr>\n",
       "      <th>LogisticRegression</th>\n",
       "      <td>0.676035</td>\n",
       "      <td>0.717205</td>\n",
       "      <td>0.967331</td>\n",
       "    </tr>\n",
       "    <tr>\n",
       "      <th>LR balansed classes</th>\n",
       "      <td>0.740344</td>\n",
       "      <td>0.750414</td>\n",
       "      <td>0.969015</td>\n",
       "    </tr>\n",
       "  </tbody>\n",
       "</table>\n",
       "</div>"
      ],
      "text/plain": [
       "                     F1 на CV  F1 на валидации   AUC-ROC\n",
       "LogisticRegression   0.676035         0.717205  0.967331\n",
       "LR balansed classes  0.740344         0.750414  0.969015"
      ]
     },
     "execution_count": 16,
     "metadata": {},
     "output_type": "execute_result"
    }
   ],
   "source": [
    "index = ['LogisticRegression',\n",
    "         'LR balansed classes',]\n",
    "data = {'F1 на CV':[train_f1,\n",
    "                    train_f1_balanced],\n",
    "        'F1 на валидации':[valid_f1,\n",
    "                           valid_f1_balanced\n",
    "                           ],\n",
    "        'AUC-ROC':[auc_roc,\n",
    "                   auc_roc_balanced]}\n",
    "\n",
    "scores_data = pd.DataFrame(data=data, index=index)\n",
    "scores_data"
   ]
  },
  {
   "cell_type": "markdown",
   "metadata": {},
   "source": [
    "Выберем метод балансировки по весу."
   ]
  },
  {
   "cell_type": "markdown",
   "metadata": {},
   "source": [
    "### Вывод по шагу 1\n",
    "\n",
    "В ходе преподготовки были получены признаки для обучения и разделена выборка на обучающую, валидационную и тестовую.\n",
    "\n",
    "На тестировании оптимальными показателями F1 и AUC-ROC обладает классификатор, где учтен вес классов. В обучении мы будем использовать именно этот метод балансирования."
   ]
  },
  {
   "cell_type": "markdown",
   "metadata": {},
   "source": [
    "## Обучение\n",
    "\n",
    "Для обучения выберем следующие модели:\n",
    "\n",
    "1. LogisticRegression\n",
    "2. DecisionTreeClassifier\n",
    "3. CatBoostClassifier\n",
    "4. SGDClassifier\n",
    "5. LightGBM"
   ]
  },
  {
   "cell_type": "markdown",
   "metadata": {},
   "source": [
    "### Классификатор LogisticRegression"
   ]
  },
  {
   "cell_type": "code",
   "execution_count": 20,
   "metadata": {},
   "outputs": [
    {
     "name": "stdout",
     "output_type": "stream",
     "text": [
      "# Tuning hyper-parameters for f1_score\n",
      "\n",
      "Best parameters set found on development set:\n",
      "\n",
      "{'C': 10, 'class_weight': {0: 1, 1: 8.841344371679229}, 'solver': 'newton-cg'}\n",
      "\n",
      "Grid scores on development set:\n",
      "\n",
      "0.706063 for {'C': 0.1, 'class_weight': {0: 1, 1: 8.841344371679229}, 'solver': 'newton-cg'}\n",
      "0.706032 for {'C': 0.1, 'class_weight': {0: 1, 1: 8.841344371679229}, 'solver': 'lbfgs'}\n",
      "0.705995 for {'C': 0.1, 'class_weight': {0: 1, 1: 8.841344371679229}, 'solver': 'liblinear'}\n",
      "0.748232 for {'C': 1, 'class_weight': {0: 1, 1: 8.841344371679229}, 'solver': 'newton-cg'}\n",
      "0.748233 for {'C': 1, 'class_weight': {0: 1, 1: 8.841344371679229}, 'solver': 'lbfgs'}\n",
      "0.748197 for {'C': 1, 'class_weight': {0: 1, 1: 8.841344371679229}, 'solver': 'liblinear'}\n",
      "0.757679 for {'C': 10, 'class_weight': {0: 1, 1: 8.841344371679229}, 'solver': 'newton-cg'}\n",
      "0.757214 for {'C': 10, 'class_weight': {0: 1, 1: 8.841344371679229}, 'solver': 'lbfgs'}\n",
      "0.757578 for {'C': 10, 'class_weight': {0: 1, 1: 8.841344371679229}, 'solver': 'liblinear'}\n",
      "\n",
      "CPU times: user 3min 12s, sys: 6min 22s, total: 9min 35s\n",
      "Wall time: 9min 35s\n"
     ]
    }
   ],
   "source": [
    "%%time\n",
    "\n",
    "classificator = LogisticRegression()\n",
    "hyperparams = [{'solver':['newton-cg', 'lbfgs', 'liblinear'],\n",
    "                'C':[0.1, 1, 10],\n",
    "                'class_weight':[dict_classes]}]\n",
    "\n",
    "\n",
    "print('# Tuning hyper-parameters for f1_score')\n",
    "print()\n",
    "clf = GridSearchCV(classificator, hyperparams, scoring='f1',cv=cv_counts)\n",
    "clf.fit(features_train, target_train)\n",
    "print(\"Best parameters set found on development set:\")\n",
    "print()\n",
    "LR_best_params = clf.best_params_\n",
    "print(LR_best_params)\n",
    "print()\n",
    "print(\"Grid scores on development set:\")\n",
    "print()\n",
    "means = clf.cv_results_['mean_test_score']\n",
    "stds = clf.cv_results_['std_test_score']\n",
    "for mean, std, params in zip(means, stds, clf.cv_results_['params']):\n",
    "    print(\"%0.6f for %r\"% (mean, params))\n",
    "print()\n",
    "\n",
    "cv_f1_LR = max(means)"
   ]
  },
  {
   "cell_type": "code",
   "execution_count": 21,
   "metadata": {},
   "outputs": [
    {
     "name": "stdout",
     "output_type": "stream",
     "text": [
      "F1 на cv 0.7576794075246241\n",
      "F1 на валидации 0.7568124907939314\n",
      "CPU times: user 12.5 s, sys: 22 s, total: 34.6 s\n",
      "Wall time: 34.6 s\n"
     ]
    }
   ],
   "source": [
    "%%time\n",
    "\n",
    "classificator = LogisticRegression()\n",
    "classificator.set_params(**LR_best_params)\n",
    "classificator.fit(features_train, target_train)\n",
    "target_predict = classificator.predict(features_valid)\n",
    "valid_f1_LR = f1_score(target_valid, target_predict)\n",
    "print('F1 на cv', cv_f1_LR)\n",
    "print('F1 на валидации', valid_f1_LR)"
   ]
  },
  {
   "cell_type": "markdown",
   "metadata": {},
   "source": [
    "### Классификатор DecisionTreeClassifier"
   ]
  },
  {
   "cell_type": "code",
   "execution_count": 22,
   "metadata": {},
   "outputs": [
    {
     "name": "stdout",
     "output_type": "stream",
     "text": [
      "# Tuning hyper-parameters for f1_score\n",
      "\n",
      "Best parameters set found on development set:\n",
      "\n",
      "{'class_weight': {0: 1, 1: 8.841344371679229}, 'max_depth': 38, 'random_state': 12082020}\n",
      "\n",
      "Grid scores on development set:\n",
      "\n",
      "0.611688 for {'class_weight': {0: 1, 1: 8.841344371679229}, 'max_depth': 30, 'random_state': 12082020}\n",
      "0.605524 for {'class_weight': {0: 1, 1: 8.841344371679229}, 'max_depth': 32, 'random_state': 12082020}\n",
      "0.613009 for {'class_weight': {0: 1, 1: 8.841344371679229}, 'max_depth': 34, 'random_state': 12082020}\n",
      "0.618822 for {'class_weight': {0: 1, 1: 8.841344371679229}, 'max_depth': 36, 'random_state': 12082020}\n",
      "0.622025 for {'class_weight': {0: 1, 1: 8.841344371679229}, 'max_depth': 38, 'random_state': 12082020}\n",
      "0.619296 for {'class_weight': {0: 1, 1: 8.841344371679229}, 'max_depth': 40, 'random_state': 12082020}\n",
      "0.609231 for {'class_weight': {0: 1, 1: 8.841344371679229}, 'max_depth': 42, 'random_state': 12082020}\n",
      "0.607058 for {'class_weight': {0: 1, 1: 8.841344371679229}, 'max_depth': 44, 'random_state': 12082020}\n",
      "0.608901 for {'class_weight': {0: 1, 1: 8.841344371679229}, 'max_depth': 46, 'random_state': 12082020}\n",
      "0.611501 for {'class_weight': {0: 1, 1: 8.841344371679229}, 'max_depth': 48, 'random_state': 12082020}\n",
      "0.613951 for {'class_weight': {0: 1, 1: 8.841344371679229}, 'max_depth': 50, 'random_state': 12082020}\n",
      "\n",
      "CPU times: user 11min 21s, sys: 18.7 s, total: 11min 40s\n",
      "Wall time: 11min 41s\n"
     ]
    }
   ],
   "source": [
    "%%time\n",
    "\n",
    "classificator = DecisionTreeClassifier()\n",
    "hyperparams = [{'max_depth':[x for x in range(30,51,2)],\n",
    "                'random_state':[12082020],\n",
    "                'class_weight':[dict_classes]}]\n",
    "\n",
    "\n",
    "print('# Tuning hyper-parameters for f1_score')\n",
    "print()\n",
    "clf = GridSearchCV(classificator, hyperparams, scoring='f1',cv=cv_counts)\n",
    "clf.fit(features_train, target_train)\n",
    "print(\"Best parameters set found on development set:\")\n",
    "print()\n",
    "DTC_best_params = clf.best_params_\n",
    "print(DTC_best_params)\n",
    "print()\n",
    "print(\"Grid scores on development set:\")\n",
    "print()\n",
    "means = clf.cv_results_['mean_test_score']\n",
    "stds = clf.cv_results_['std_test_score']\n",
    "for mean, std, params in zip(means, stds, clf.cv_results_['params']):\n",
    "    print(\"%0.6f for %r\"% (mean, params))\n",
    "print()\n",
    "\n",
    "cv_f1_DTC = max(means)"
   ]
  },
  {
   "cell_type": "code",
   "execution_count": 23,
   "metadata": {},
   "outputs": [
    {
     "name": "stdout",
     "output_type": "stream",
     "text": [
      "F1 на cv 0.6220246878425305\n",
      "F1 на валидации 0.6046939714680166\n",
      "CPU times: user 25.1 s, sys: 454 ms, total: 25.5 s\n",
      "Wall time: 25.6 s\n"
     ]
    }
   ],
   "source": [
    "%%time\n",
    "\n",
    "classificator = DecisionTreeClassifier()\n",
    "classificator.set_params(**DTC_best_params)\n",
    "classificator.fit(features_train, target_train)\n",
    "target_predict = classificator.predict(features_valid)\n",
    "valid_f1_DTC = f1_score(target_valid, target_predict)\n",
    "print('F1 на cv', cv_f1_DTC)\n",
    "print('F1 на валидации', valid_f1_DTC)"
   ]
  },
  {
   "cell_type": "markdown",
   "metadata": {},
   "source": [
    "### Классификатор CatBoostClassifier"
   ]
  },
  {
   "cell_type": "code",
   "execution_count": 24,
   "metadata": {},
   "outputs": [
    {
     "name": "stdout",
     "output_type": "stream",
     "text": [
      "F1 на cv 0.7254646046059344\n",
      "F1 на валидации 0.7419825072886298\n",
      "CPU times: user 21min 29s, sys: 5min 8s, total: 26min 37s\n",
      "Wall time: 26min 41s\n"
     ]
    }
   ],
   "source": [
    "%%time\n",
    "\n",
    "classificator = CatBoostClassifier(verbose=False, iterations=200)\n",
    "classificator.fit(features_train, target_train)\n",
    "target_predict = classificator.predict(features_valid)\n",
    "cv_f1_CBC = cross_val_score(classificator,\n",
    "                                         features_train, \n",
    "                                         target_train, \n",
    "                                         cv=cv_counts, \n",
    "                                         scoring='f1').mean()\n",
    "valid_f1_CBC = f1_score(target_valid, target_predict)\n",
    "print('F1 на cv', cv_f1_CBC)\n",
    "print('F1 на валидации', valid_f1_CBC)"
   ]
  },
  {
   "cell_type": "markdown",
   "metadata": {},
   "source": [
    "### Классификатор SGDClassifier"
   ]
  },
  {
   "cell_type": "code",
   "execution_count": 25,
   "metadata": {},
   "outputs": [
    {
     "name": "stdout",
     "output_type": "stream",
     "text": [
      "# Tuning hyper-parameters for f1_score\n",
      "\n",
      "Best parameters set found on development set:\n",
      "\n",
      "{'class_weight': {0: 1, 1: 8.841344371679229}, 'eta0': 0.05, 'learning_rate': 'adaptive', 'loss': 'modified_huber', 'random_state': 12082020}\n",
      "\n",
      "Grid scores on development set:\n",
      "\n",
      "0.733111 for {'class_weight': {0: 1, 1: 8.841344371679229}, 'eta0': 0.01, 'learning_rate': 'constant', 'loss': 'hinge', 'random_state': 12082020}\n",
      "0.712230 for {'class_weight': {0: 1, 1: 8.841344371679229}, 'eta0': 0.01, 'learning_rate': 'constant', 'loss': 'log', 'random_state': 12082020}\n",
      "0.748744 for {'class_weight': {0: 1, 1: 8.841344371679229}, 'eta0': 0.01, 'learning_rate': 'constant', 'loss': 'modified_huber', 'random_state': 12082020}\n",
      "0.735467 for {'class_weight': {0: 1, 1: 8.841344371679229}, 'eta0': 0.01, 'learning_rate': 'optimal', 'loss': 'hinge', 'random_state': 12082020}\n",
      "0.713277 for {'class_weight': {0: 1, 1: 8.841344371679229}, 'eta0': 0.01, 'learning_rate': 'optimal', 'loss': 'log', 'random_state': 12082020}\n",
      "0.750667 for {'class_weight': {0: 1, 1: 8.841344371679229}, 'eta0': 0.01, 'learning_rate': 'optimal', 'loss': 'modified_huber', 'random_state': 12082020}\n",
      "0.657213 for {'class_weight': {0: 1, 1: 8.841344371679229}, 'eta0': 0.01, 'learning_rate': 'invscaling', 'loss': 'hinge', 'random_state': 12082020}\n",
      "0.648002 for {'class_weight': {0: 1, 1: 8.841344371679229}, 'eta0': 0.01, 'learning_rate': 'invscaling', 'loss': 'log', 'random_state': 12082020}\n",
      "0.660903 for {'class_weight': {0: 1, 1: 8.841344371679229}, 'eta0': 0.01, 'learning_rate': 'invscaling', 'loss': 'modified_huber', 'random_state': 12082020}\n",
      "0.738187 for {'class_weight': {0: 1, 1: 8.841344371679229}, 'eta0': 0.01, 'learning_rate': 'adaptive', 'loss': 'hinge', 'random_state': 12082020}\n",
      "0.714022 for {'class_weight': {0: 1, 1: 8.841344371679229}, 'eta0': 0.01, 'learning_rate': 'adaptive', 'loss': 'log', 'random_state': 12082020}\n",
      "0.753243 for {'class_weight': {0: 1, 1: 8.841344371679229}, 'eta0': 0.01, 'learning_rate': 'adaptive', 'loss': 'modified_huber', 'random_state': 12082020}\n",
      "0.720868 for {'class_weight': {0: 1, 1: 8.841344371679229}, 'eta0': 0.05, 'learning_rate': 'constant', 'loss': 'hinge', 'random_state': 12082020}\n",
      "0.714184 for {'class_weight': {0: 1, 1: 8.841344371679229}, 'eta0': 0.05, 'learning_rate': 'constant', 'loss': 'log', 'random_state': 12082020}\n",
      "0.732678 for {'class_weight': {0: 1, 1: 8.841344371679229}, 'eta0': 0.05, 'learning_rate': 'constant', 'loss': 'modified_huber', 'random_state': 12082020}\n",
      "0.735467 for {'class_weight': {0: 1, 1: 8.841344371679229}, 'eta0': 0.05, 'learning_rate': 'optimal', 'loss': 'hinge', 'random_state': 12082020}\n",
      "0.713277 for {'class_weight': {0: 1, 1: 8.841344371679229}, 'eta0': 0.05, 'learning_rate': 'optimal', 'loss': 'log', 'random_state': 12082020}\n",
      "0.750667 for {'class_weight': {0: 1, 1: 8.841344371679229}, 'eta0': 0.05, 'learning_rate': 'optimal', 'loss': 'modified_huber', 'random_state': 12082020}\n",
      "0.682737 for {'class_weight': {0: 1, 1: 8.841344371679229}, 'eta0': 0.05, 'learning_rate': 'invscaling', 'loss': 'hinge', 'random_state': 12082020}\n",
      "0.658416 for {'class_weight': {0: 1, 1: 8.841344371679229}, 'eta0': 0.05, 'learning_rate': 'invscaling', 'loss': 'log', 'random_state': 12082020}\n",
      "0.667252 for {'class_weight': {0: 1, 1: 8.841344371679229}, 'eta0': 0.05, 'learning_rate': 'invscaling', 'loss': 'modified_huber', 'random_state': 12082020}\n",
      "0.739525 for {'class_weight': {0: 1, 1: 8.841344371679229}, 'eta0': 0.05, 'learning_rate': 'adaptive', 'loss': 'hinge', 'random_state': 12082020}\n",
      "0.716882 for {'class_weight': {0: 1, 1: 8.841344371679229}, 'eta0': 0.05, 'learning_rate': 'adaptive', 'loss': 'log', 'random_state': 12082020}\n",
      "0.754099 for {'class_weight': {0: 1, 1: 8.841344371679229}, 'eta0': 0.05, 'learning_rate': 'adaptive', 'loss': 'modified_huber', 'random_state': 12082020}\n",
      "0.706353 for {'class_weight': {0: 1, 1: 8.841344371679229}, 'eta0': 0.1, 'learning_rate': 'constant', 'loss': 'hinge', 'random_state': 12082020}\n",
      "0.701047 for {'class_weight': {0: 1, 1: 8.841344371679229}, 'eta0': 0.1, 'learning_rate': 'constant', 'loss': 'log', 'random_state': 12082020}\n",
      "0.678779 for {'class_weight': {0: 1, 1: 8.841344371679229}, 'eta0': 0.1, 'learning_rate': 'constant', 'loss': 'modified_huber', 'random_state': 12082020}\n",
      "0.735467 for {'class_weight': {0: 1, 1: 8.841344371679229}, 'eta0': 0.1, 'learning_rate': 'optimal', 'loss': 'hinge', 'random_state': 12082020}\n",
      "0.713277 for {'class_weight': {0: 1, 1: 8.841344371679229}, 'eta0': 0.1, 'learning_rate': 'optimal', 'loss': 'log', 'random_state': 12082020}\n",
      "0.750667 for {'class_weight': {0: 1, 1: 8.841344371679229}, 'eta0': 0.1, 'learning_rate': 'optimal', 'loss': 'modified_huber', 'random_state': 12082020}\n",
      "0.677396 for {'class_weight': {0: 1, 1: 8.841344371679229}, 'eta0': 0.1, 'learning_rate': 'invscaling', 'loss': 'hinge', 'random_state': 12082020}\n",
      "0.658250 for {'class_weight': {0: 1, 1: 8.841344371679229}, 'eta0': 0.1, 'learning_rate': 'invscaling', 'loss': 'log', 'random_state': 12082020}\n",
      "0.682906 for {'class_weight': {0: 1, 1: 8.841344371679229}, 'eta0': 0.1, 'learning_rate': 'invscaling', 'loss': 'modified_huber', 'random_state': 12082020}\n",
      "0.739515 for {'class_weight': {0: 1, 1: 8.841344371679229}, 'eta0': 0.1, 'learning_rate': 'adaptive', 'loss': 'hinge', 'random_state': 12082020}\n",
      "0.717244 for {'class_weight': {0: 1, 1: 8.841344371679229}, 'eta0': 0.1, 'learning_rate': 'adaptive', 'loss': 'log', 'random_state': 12082020}\n",
      "0.753581 for {'class_weight': {0: 1, 1: 8.841344371679229}, 'eta0': 0.1, 'learning_rate': 'adaptive', 'loss': 'modified_huber', 'random_state': 12082020}\n",
      "0.694421 for {'class_weight': {0: 1, 1: 8.841344371679229}, 'eta0': 0.2, 'learning_rate': 'constant', 'loss': 'hinge', 'random_state': 12082020}\n",
      "0.693852 for {'class_weight': {0: 1, 1: 8.841344371679229}, 'eta0': 0.2, 'learning_rate': 'constant', 'loss': 'log', 'random_state': 12082020}\n",
      "0.617759 for {'class_weight': {0: 1, 1: 8.841344371679229}, 'eta0': 0.2, 'learning_rate': 'constant', 'loss': 'modified_huber', 'random_state': 12082020}\n",
      "0.735467 for {'class_weight': {0: 1, 1: 8.841344371679229}, 'eta0': 0.2, 'learning_rate': 'optimal', 'loss': 'hinge', 'random_state': 12082020}\n",
      "0.713277 for {'class_weight': {0: 1, 1: 8.841344371679229}, 'eta0': 0.2, 'learning_rate': 'optimal', 'loss': 'log', 'random_state': 12082020}\n",
      "0.750667 for {'class_weight': {0: 1, 1: 8.841344371679229}, 'eta0': 0.2, 'learning_rate': 'optimal', 'loss': 'modified_huber', 'random_state': 12082020}\n",
      "0.674639 for {'class_weight': {0: 1, 1: 8.841344371679229}, 'eta0': 0.2, 'learning_rate': 'invscaling', 'loss': 'hinge', 'random_state': 12082020}\n",
      "0.656441 for {'class_weight': {0: 1, 1: 8.841344371679229}, 'eta0': 0.2, 'learning_rate': 'invscaling', 'loss': 'log', 'random_state': 12082020}\n",
      "0.706493 for {'class_weight': {0: 1, 1: 8.841344371679229}, 'eta0': 0.2, 'learning_rate': 'invscaling', 'loss': 'modified_huber', 'random_state': 12082020}\n",
      "0.739117 for {'class_weight': {0: 1, 1: 8.841344371679229}, 'eta0': 0.2, 'learning_rate': 'adaptive', 'loss': 'hinge', 'random_state': 12082020}\n",
      "0.717368 for {'class_weight': {0: 1, 1: 8.841344371679229}, 'eta0': 0.2, 'learning_rate': 'adaptive', 'loss': 'log', 'random_state': 12082020}\n",
      "0.753543 for {'class_weight': {0: 1, 1: 8.841344371679229}, 'eta0': 0.2, 'learning_rate': 'adaptive', 'loss': 'modified_huber', 'random_state': 12082020}\n",
      "0.632774 for {'class_weight': {0: 1, 1: 8.841344371679229}, 'eta0': 0.3, 'learning_rate': 'constant', 'loss': 'hinge', 'random_state': 12082020}\n",
      "0.673798 for {'class_weight': {0: 1, 1: 8.841344371679229}, 'eta0': 0.3, 'learning_rate': 'constant', 'loss': 'log', 'random_state': 12082020}\n",
      "0.582484 for {'class_weight': {0: 1, 1: 8.841344371679229}, 'eta0': 0.3, 'learning_rate': 'constant', 'loss': 'modified_huber', 'random_state': 12082020}\n",
      "0.735467 for {'class_weight': {0: 1, 1: 8.841344371679229}, 'eta0': 0.3, 'learning_rate': 'optimal', 'loss': 'hinge', 'random_state': 12082020}\n",
      "0.713277 for {'class_weight': {0: 1, 1: 8.841344371679229}, 'eta0': 0.3, 'learning_rate': 'optimal', 'loss': 'log', 'random_state': 12082020}\n",
      "0.750667 for {'class_weight': {0: 1, 1: 8.841344371679229}, 'eta0': 0.3, 'learning_rate': 'optimal', 'loss': 'modified_huber', 'random_state': 12082020}\n",
      "0.682759 for {'class_weight': {0: 1, 1: 8.841344371679229}, 'eta0': 0.3, 'learning_rate': 'invscaling', 'loss': 'hinge', 'random_state': 12082020}\n",
      "0.656795 for {'class_weight': {0: 1, 1: 8.841344371679229}, 'eta0': 0.3, 'learning_rate': 'invscaling', 'loss': 'log', 'random_state': 12082020}\n",
      "0.719539 for {'class_weight': {0: 1, 1: 8.841344371679229}, 'eta0': 0.3, 'learning_rate': 'invscaling', 'loss': 'modified_huber', 'random_state': 12082020}\n",
      "0.739428 for {'class_weight': {0: 1, 1: 8.841344371679229}, 'eta0': 0.3, 'learning_rate': 'adaptive', 'loss': 'hinge', 'random_state': 12082020}\n",
      "0.717156 for {'class_weight': {0: 1, 1: 8.841344371679229}, 'eta0': 0.3, 'learning_rate': 'adaptive', 'loss': 'log', 'random_state': 12082020}\n",
      "0.753747 for {'class_weight': {0: 1, 1: 8.841344371679229}, 'eta0': 0.3, 'learning_rate': 'adaptive', 'loss': 'modified_huber', 'random_state': 12082020}\n",
      "0.610248 for {'class_weight': {0: 1, 1: 8.841344371679229}, 'eta0': 0.5, 'learning_rate': 'constant', 'loss': 'hinge', 'random_state': 12082020}\n",
      "0.659713 for {'class_weight': {0: 1, 1: 8.841344371679229}, 'eta0': 0.5, 'learning_rate': 'constant', 'loss': 'log', 'random_state': 12082020}\n",
      "0.489538 for {'class_weight': {0: 1, 1: 8.841344371679229}, 'eta0': 0.5, 'learning_rate': 'constant', 'loss': 'modified_huber', 'random_state': 12082020}\n",
      "0.735467 for {'class_weight': {0: 1, 1: 8.841344371679229}, 'eta0': 0.5, 'learning_rate': 'optimal', 'loss': 'hinge', 'random_state': 12082020}\n",
      "0.713277 for {'class_weight': {0: 1, 1: 8.841344371679229}, 'eta0': 0.5, 'learning_rate': 'optimal', 'loss': 'log', 'random_state': 12082020}\n",
      "0.750667 for {'class_weight': {0: 1, 1: 8.841344371679229}, 'eta0': 0.5, 'learning_rate': 'optimal', 'loss': 'modified_huber', 'random_state': 12082020}\n",
      "0.700860 for {'class_weight': {0: 1, 1: 8.841344371679229}, 'eta0': 0.5, 'learning_rate': 'invscaling', 'loss': 'hinge', 'random_state': 12082020}\n",
      "0.660679 for {'class_weight': {0: 1, 1: 8.841344371679229}, 'eta0': 0.5, 'learning_rate': 'invscaling', 'loss': 'log', 'random_state': 12082020}\n",
      "0.730008 for {'class_weight': {0: 1, 1: 8.841344371679229}, 'eta0': 0.5, 'learning_rate': 'invscaling', 'loss': 'modified_huber', 'random_state': 12082020}\n",
      "0.739576 for {'class_weight': {0: 1, 1: 8.841344371679229}, 'eta0': 0.5, 'learning_rate': 'adaptive', 'loss': 'hinge', 'random_state': 12082020}\n",
      "0.716994 for {'class_weight': {0: 1, 1: 8.841344371679229}, 'eta0': 0.5, 'learning_rate': 'adaptive', 'loss': 'log', 'random_state': 12082020}\n",
      "0.753654 for {'class_weight': {0: 1, 1: 8.841344371679229}, 'eta0': 0.5, 'learning_rate': 'adaptive', 'loss': 'modified_huber', 'random_state': 12082020}\n",
      "\n",
      "CPU times: user 2min 46s, sys: 25.7 s, total: 3min 12s\n",
      "Wall time: 3min 12s\n"
     ]
    }
   ],
   "source": [
    "%%time\n",
    "\n",
    "classificator = SGDClassifier()\n",
    "hyperparams = [{'loss':['hinge', 'log', 'modified_huber'],\n",
    "                'learning_rate':['constant', 'optimal', 'invscaling', 'adaptive'],\n",
    "                'eta0':[0.01, 0.05, 0.1, 0.2, 0.3, 0.5],\n",
    "                'random_state':[12082020],\n",
    "                'class_weight':[dict_classes]}]\n",
    "\n",
    "\n",
    "print('# Tuning hyper-parameters for f1_score')\n",
    "print()\n",
    "clf = GridSearchCV(classificator, hyperparams, scoring='f1',cv=cv_counts)\n",
    "clf.fit(features_train, target_train)\n",
    "print(\"Best parameters set found on development set:\")\n",
    "print()\n",
    "SGDC_best_params = clf.best_params_\n",
    "print(SGDC_best_params)\n",
    "print()\n",
    "print(\"Grid scores on development set:\")\n",
    "print()\n",
    "means = clf.cv_results_['mean_test_score']\n",
    "stds = clf.cv_results_['std_test_score']\n",
    "for mean, std, params in zip(means, stds, clf.cv_results_['params']):\n",
    "    print(\"%0.6f for %r\"% (mean, params))\n",
    "print()\n",
    "\n",
    "cv_f1_SGDC = max(means)"
   ]
  },
  {
   "cell_type": "code",
   "execution_count": 26,
   "metadata": {},
   "outputs": [
    {
     "name": "stdout",
     "output_type": "stream",
     "text": [
      "F1 на cv 0.754098884359883\n",
      "F1 на валидации 0.7503467406380029\n",
      "CPU times: user 1.46 s, sys: 120 ms, total: 1.58 s\n",
      "Wall time: 1.66 s\n"
     ]
    }
   ],
   "source": [
    "%%time\n",
    "\n",
    "classificator = SGDClassifier()\n",
    "classificator.set_params(**SGDC_best_params)\n",
    "classificator.fit(features_train, target_train)\n",
    "target_predict = classificator.predict(features_valid)\n",
    "valid_f1_SGDC = f1_score(target_valid, target_predict)\n",
    "print('F1 на cv', cv_f1_SGDC)\n",
    "print('F1 на валидации', valid_f1_SGDC)"
   ]
  },
  {
   "cell_type": "markdown",
   "metadata": {},
   "source": [
    "###  Классификатор  LightGBM"
   ]
  },
  {
   "cell_type": "code",
   "execution_count": 28,
   "metadata": {},
   "outputs": [
    {
     "name": "stdout",
     "output_type": "stream",
     "text": [
      "0.0 Количество деревьев: 50 Количество листьев 21 Скорость обучения: 0.01\n",
      "0.6072704349653288 Количество деревьев: 50 Количество листьев 21 Скорость обучения: 0.04\n",
      "0.6343359934520155 Количество деревьев: 50 Количество листьев 21 Скорость обучения: 0.06\n",
      "0.753887399463807 Количество деревьев: 50 Количество листьев 21 Скорость обучения: 0.3\n",
      "0.0 Количество деревьев: 50 Количество листьев 31 Скорость обучения: 0.01\n",
      "0.6405520600771261 Количество деревьев: 50 Количество листьев 31 Скорость обучения: 0.04\n",
      "0.6728273692489186 Количество деревьев: 50 Количество листьев 31 Скорость обучения: 0.06\n",
      "0.7601268052131033 Количество деревьев: 50 Количество листьев 31 Скорость обучения: 0.3\n",
      "0.0 Количество деревьев: 50 Количество листьев 41 Скорость обучения: 0.01\n",
      "0.6645506843880182 Количество деревьев: 50 Количество листьев 41 Скорость обучения: 0.04\n",
      "0.6909722222222222 Количество деревьев: 50 Количество листьев 41 Скорость обучения: 0.06\n",
      "0.7609756097560976 Количество деревьев: 50 Количество листьев 41 Скорость обучения: 0.3\n",
      "0.0006172839506172839 Количество деревьев: 50 Количество листьев 51 Скорость обучения: 0.01\n",
      "0.6752941176470587 Количество деревьев: 50 Количество листьев 51 Скорость обучения: 0.04\n",
      "0.7063732928679818 Количество деревьев: 50 Количество листьев 51 Скорость обучения: 0.06\n",
      "0.7707401032702237 Количество деревьев: 50 Количество листьев 51 Скорость обучения: 0.3\n",
      "0.5397601066192803 Количество деревьев: 100 Количество листьев 21 Скорость обучения: 0.01\n",
      "0.6629526462395543 Количество деревьев: 100 Количество листьев 21 Скорость обучения: 0.04\n",
      "0.6976923076923078 Количество деревьев: 100 Количество листьев 21 Скорость обучения: 0.06\n",
      "0.7631255487269536 Количество деревьев: 100 Количество листьев 21 Скорость обучения: 0.3\n",
      "0.5514964788732395 Количество деревьев: 100 Количество листьев 31 Скорость обучения: 0.01\n",
      "0.6957024474850647 Количество деревьев: 100 Количество листьев 31 Скорость обучения: 0.04\n",
      "0.7235392943811835 Количество деревьев: 100 Количество листьев 31 Скорость обучения: 0.06\n",
      "0.7656903765690377 Количество деревьев: 100 Количество листьев 31 Скорость обучения: 0.3\n",
      "0.5682656826568265 Количество деревьев: 100 Количество листьев 41 Скорость обучения: 0.01\n",
      "0.7113713638080846 Количество деревьев: 100 Количество листьев 41 Скорость обучения: 0.04\n",
      "0.7363786461199779 Количество деревьев: 100 Количество листьев 41 Скорость обучения: 0.06\n",
      "0.7684881916910877 Количество деревьев: 100 Количество листьев 41 Скорость обучения: 0.3\n",
      "0.5841201716738197 Количество деревьев: 100 Количество листьев 51 Скорость обучения: 0.01\n",
      "0.7227391142538145 Количество деревьев: 100 Количество листьев 51 Скорость обучения: 0.04\n",
      "0.7471098265895953 Количество деревьев: 100 Количество листьев 51 Скорость обучения: 0.06\n",
      "0.774369461486026 Количество деревьев: 100 Количество листьев 51 Скорость обучения: 0.3\n",
      "0.6794520547945205 Количество деревьев: 500 Количество листьев 21 Скорость обучения: 0.01\n",
      "0.7566213314244811 Количество деревьев: 500 Количество листьев 21 Скорость обучения: 0.04\n",
      "0.7656497972138953 Количество деревьев: 500 Количество листьев 21 Скорость обучения: 0.06\n",
      "0.770152319014205 Количество деревьев: 500 Количество листьев 21 Скорость обучения: 0.3\n",
      "0.7100569259962048 Количество деревьев: 500 Количество листьев 31 Скорость обучения: 0.01\n",
      "0.765627751364677 Количество деревьев: 500 Количество листьев 31 Скорость обучения: 0.04\n",
      "0.7731239092495636 Количество деревьев: 500 Количество листьев 31 Скорость обучения: 0.06\n",
      "0.7651995204658333 Количество деревьев: 500 Количество листьев 31 Скорость обучения: 0.3\n",
      "0.7266641874302714 Количество деревьев: 500 Количество листьев 41 Скорость обучения: 0.01\n",
      "0.7715682850157178 Количество деревьев: 500 Количество листьев 41 Скорость обучения: 0.04\n",
      "0.7761038961038961 Количество деревьев: 500 Количество листьев 41 Скорость обучения: 0.06\n",
      "0.7667294198185862 Количество деревьев: 500 Количество листьев 41 Скорость обучения: 0.3\n",
      "0.7350677903994136 Количество деревьев: 500 Количество листьев 51 Скорость обучения: 0.01\n",
      "0.770246784845325 Количество деревьев: 500 Количество листьев 51 Скорость обучения: 0.04\n",
      "0.7750086535133263 Количество деревьев: 500 Количество листьев 51 Скорость обучения: 0.06\n",
      "0.7667405009371273 Количество деревьев: 500 Количество листьев 51 Скорость обучения: 0.3\n",
      "F1 наилучшей модели на валидационной выборке: 0.7761038961038961 Количество деревьев: 500 Скорость обучения: 0.06 Количество листьев 41\n"
     ]
    }
   ],
   "source": [
    "'''best_model = None\n",
    "best_result = 0\n",
    "best_est = 0\n",
    "best_leaves = 0\n",
    "best_rate = 0\n",
    "for est in [50, 100, 500]:\n",
    "    for leave in [21, 31, 41, 51]:\n",
    "        for rate in [0.01, .04, 0.06, 0.3]:\n",
    "            model = LGBMClassifier(random_state=12345, \n",
    "                                     n_estimators=est, \n",
    "                                     num_leaves=leave, learning_rate = rate) # инициализируем модель\n",
    "            model.fit(features_train, target_train) # обучим модель на тренировочной выборке\n",
    "            predictions = model.predict(features_valid)\n",
    "            result = f1_score(target_valid, predictions) # посчитаем качество модели на валидационной выборке\n",
    "            print(result,  \"Количество деревьев:\", est, \"Количество листьев\", leave, \"Скорость обучения:\", rate)\n",
    "            if result > best_result:\n",
    "                best_model = model\n",
    "                best_result = result\n",
    "                best_est = est\n",
    "                best_leaves = leave\n",
    "                best_rate = rate\n",
    "\n",
    "print(\"F1 наилучшей модели на валидационной выборке:\", best_result, \n",
    "      \"Количество деревьев:\", best_est, \"Скорость обучения:\", best_rate,\n",
    "     \"Количество листьев\", best_leaves)'''"
   ]
  },
  {
   "cell_type": "code",
   "execution_count": null,
   "metadata": {},
   "outputs": [],
   "source": [
    "# F1 наилучшей модели на валидационной выборке: 0.7750085353362921 \n",
    "best_result = 0.7750085353362921 \n",
    "# Количество деревьев: 500 \n",
    "best_est = 500\n",
    "# Количество листьев 41\n",
    "best_leaves= 41\n",
    "# Скорость обучения: 0.06\n",
    "best_rate =  0.06"
   ]
  },
  {
   "cell_type": "code",
   "execution_count": 30,
   "metadata": {},
   "outputs": [
    {
     "name": "stdout",
     "output_type": "stream",
     "text": [
      "F1 на cv 0.7761038961038961\n",
      "F1 на валидации 0.7761038961038961\n",
      "CPU times: user 14min 52s, sys: 2.6 s, total: 14min 55s\n",
      "Wall time: 15min 2s\n"
     ]
    }
   ],
   "source": [
    "%%time\n",
    "\n",
    "classificator = LGBMClassifier(random_state=12345, \n",
    "                                     n_estimators=best_est, \n",
    "                                     num_leaves=best_leaves, learning_rate = best_rate)\n",
    "\n",
    "cv_f1_LGBM = best_result\n",
    "\n",
    "classificator.fit(features_train, target_train)\n",
    "target_predict = classificator.predict(features_valid)\n",
    "valid_f1_LGBM = f1_score(target_valid, target_predict)\n",
    "print('F1 на cv', cv_f1_LGBM)\n",
    "print('F1 на валидации', valid_f1_LGBM)"
   ]
  },
  {
   "cell_type": "markdown",
   "metadata": {},
   "source": [
    "Выведем таблицу валидации лучших моделей."
   ]
  },
  {
   "cell_type": "code",
   "execution_count": 31,
   "metadata": {},
   "outputs": [
    {
     "data": {
      "text/html": [
       "<div>\n",
       "<style scoped>\n",
       "    .dataframe tbody tr th:only-of-type {\n",
       "        vertical-align: middle;\n",
       "    }\n",
       "\n",
       "    .dataframe tbody tr th {\n",
       "        vertical-align: top;\n",
       "    }\n",
       "\n",
       "    .dataframe thead th {\n",
       "        text-align: right;\n",
       "    }\n",
       "</style>\n",
       "<table border=\"1\" class=\"dataframe\">\n",
       "  <thead>\n",
       "    <tr style=\"text-align: right;\">\n",
       "      <th></th>\n",
       "      <th>F1 на CV</th>\n",
       "      <th>F1 на валидации</th>\n",
       "      <th>Выполнение задачи</th>\n",
       "    </tr>\n",
       "  </thead>\n",
       "  <tbody>\n",
       "    <tr>\n",
       "      <th>LogisticRegression</th>\n",
       "      <td>0.757679</td>\n",
       "      <td>0.756812</td>\n",
       "      <td>True</td>\n",
       "    </tr>\n",
       "    <tr>\n",
       "      <th>DecisionTreeClassifier</th>\n",
       "      <td>0.622025</td>\n",
       "      <td>0.604694</td>\n",
       "      <td>False</td>\n",
       "    </tr>\n",
       "    <tr>\n",
       "      <th>CatBoostClassifier</th>\n",
       "      <td>0.725465</td>\n",
       "      <td>0.741983</td>\n",
       "      <td>False</td>\n",
       "    </tr>\n",
       "    <tr>\n",
       "      <th>SGDClassifier</th>\n",
       "      <td>0.754099</td>\n",
       "      <td>0.750347</td>\n",
       "      <td>True</td>\n",
       "    </tr>\n",
       "    <tr>\n",
       "      <th>LightGBMClassifier</th>\n",
       "      <td>0.776104</td>\n",
       "      <td>0.776104</td>\n",
       "      <td>True</td>\n",
       "    </tr>\n",
       "  </tbody>\n",
       "</table>\n",
       "</div>"
      ],
      "text/plain": [
       "                        F1 на CV  F1 на валидации  Выполнение задачи\n",
       "LogisticRegression      0.757679         0.756812               True\n",
       "DecisionTreeClassifier  0.622025         0.604694              False\n",
       "CatBoostClassifier      0.725465         0.741983              False\n",
       "SGDClassifier           0.754099         0.750347               True\n",
       "LightGBMClassifier      0.776104         0.776104               True"
      ]
     },
     "execution_count": 31,
     "metadata": {},
     "output_type": "execute_result"
    }
   ],
   "source": [
    "index = ['LogisticRegression',\n",
    "         'DecisionTreeClassifier',\n",
    "         'CatBoostClassifier',\n",
    "         'SGDClassifier',\n",
    "        'LightGBMClassifier']\n",
    "data = {'F1 на CV':[cv_f1_LR,\n",
    "                    cv_f1_DTC,\n",
    "                    cv_f1_CBC,\n",
    "                    cv_f1_SGDC,\n",
    "                    cv_f1_LGBM],\n",
    "        'F1 на валидации':[valid_f1_LR,\n",
    "                           valid_f1_DTC,\n",
    "                           valid_f1_CBC,\n",
    "                           valid_f1_SGDC,\n",
    "                           valid_f1_LGBM]}\n",
    "\n",
    "scores_data = pd.DataFrame(data=data, index=index)\n",
    "scores_data['Выполнение задачи'] = scores_data['F1 на валидации'] > 0.75\n",
    "scores_data"
   ]
  },
  {
   "cell_type": "markdown",
   "metadata": {},
   "source": [
    "### Вывод по шагу 2\n",
    "\n",
    "К тестовому набору данных перейдут LogisticRegression, SGDClassifier и LightGBMClassifier."
   ]
  },
  {
   "cell_type": "markdown",
   "metadata": {},
   "source": [
    "## Выводы\n",
    "\n",
    "Проведем получение F1-меры, precision, recall, accuracy и roc_auc. Так же построим графики."
   ]
  },
  {
   "cell_type": "code",
   "execution_count": 32,
   "metadata": {},
   "outputs": [
    {
     "name": "stdout",
     "output_type": "stream",
     "text": [
      "Метрики LGBMClassifier\n",
      "ROC AUC: 0.9648988243429129\n",
      "F1: 0.7783043707214323\n",
      "Precision: 0.8917940466613034\n",
      "Recall: 0.6904391155403301\n",
      "Accuracy: 0.9603565711415927\n",
      "\n"
     ]
    },
    {
     "data": {
      "image/png": "[encoded data removed]",
      "text/plain": [
       "<Figure size 864x648 with 1 Axes>"
      ]
     },
     "metadata": {
      "needs_background": "light"
     },
     "output_type": "display_data"
    }
   ],
   "source": [
    "plt.figure(figsize=[12,9])\n",
    "\n",
    "plt.plot([0, 1], [0, 1], linestyle='--', label='RandomModel')\n",
    "\n",
    "'''\n",
    "classificator = LogisticRegression()\n",
    "classificator.set_params(**LR_best_params)\n",
    "classificator.fit(features_train, target_train)\n",
    "probabilities_test = classificator.predict_proba(features_test)\n",
    "probabilities_one_test = probabilities_test[:, 1]\n",
    "fpr, tpr, thresholds = roc_curve(target_test, probabilities_one_test)\n",
    "predict_test = classificator.predict(features_test)\n",
    "plt.plot(fpr, tpr, label='LogisticRegression')\n",
    "print('Метрики LogisticRegression')\n",
    "print('ROC AUC:', roc_auc_score(target_test, probabilities_one_test))\n",
    "print('F1:', f1_score(target_test, predict_test))\n",
    "print('Precision:', precision_score(target_test, predict_test))\n",
    "print('Recall:', recall_score(target_test, predict_test))\n",
    "print('Accuracy:', accuracy_score(target_test, predict_test))\n",
    "print()\n",
    "\n",
    "classificator = SGDClassifier()\n",
    "classificator.set_params(**SGDC_best_params)\n",
    "classificator.fit(features_train, target_train)\n",
    "probabilities_test = classificator.predict_proba(features_test)\n",
    "probabilities_one_test = probabilities_test[:, 1]\n",
    "fpr, tpr, thresholds = roc_curve(target_test, probabilities_one_test)\n",
    "predict_test = classificator.predict(features_test)\n",
    "plt.plot(fpr, tpr, label='SGDClassifier')\n",
    "print('Метрики SGDClassifier')\n",
    "print('ROC AUC:', roc_auc_score(target_test, probabilities_one_test))\n",
    "print('F1:', f1_score(target_test, predict_test))\n",
    "print('Precision:', precision_score(target_test, predict_test))\n",
    "print('Recall:', recall_score(target_test, predict_test))\n",
    "print('Accuracy:', accuracy_score(target_test, predict_test))\n",
    "print()'''\n",
    "\n",
    "# LGBM\n",
    "classificator = LGBMClassifier(random_state=12345, \n",
    "                                     n_estimators=best_est, \n",
    "                                     num_leaves=best_leaves, learning_rate = best_rate)\n",
    "classificator.fit(features_train, target_train)\n",
    "probabilities_test = classificator.predict_proba(features_test)\n",
    "probabilities_one_test = probabilities_test[:, 1]\n",
    "fpr, tpr, thresholds = roc_curve(target_test, probabilities_one_test)\n",
    "predict_test = classificator.predict(features_test)\n",
    "plt.plot(fpr, tpr, label='LGBMClassifier')\n",
    "print('Метрики LGBMClassifier')\n",
    "print('ROC AUC:', roc_auc_score(target_test, probabilities_one_test))\n",
    "print('F1:', f1_score(target_test, predict_test))\n",
    "print('Precision:', precision_score(target_test, predict_test))\n",
    "print('Recall:', recall_score(target_test, predict_test))\n",
    "print('Accuracy:', accuracy_score(target_test, predict_test))\n",
    "print()\n",
    "\n",
    "plt.xlim([0,1])\n",
    "plt.ylim([0,1])\n",
    "\n",
    "plt.xlabel(\"False Positive Rate\")\n",
    "plt.ylabel(\"True Positive Rate\")\n",
    "\n",
    "plt.legend(loc='lower right', fontsize='x-large')\n",
    "\n",
    "plt.title(\"ROC-кривая\")\n",
    "plt.show()"
   ]
  },
  {
   "cell_type": "markdown",
   "metadata": {},
   "source": [
    "### Итоговый вывод\n",
    "\n",
    "В ходе работы над проектом было сделано:\n",
    "\n",
    "- Подготовленны данные обучения на моделях.\n",
    "- Выбран способ баланса классов и поделены данные на обучающую, валидационную и тестовою выборку.\n",
    "- Обучены модели и выбраны лучшие из них на валидационной выборке.\n",
    "- Показаны параметры качества моделей.\n",
    "\n",
    "Исходные данные обладают большим количеством признаков. Созданных столбцов больше, чем записей данных. Так как TF-IDF превращают текст в численные значения, лучшими моделями стали LogisticRegression, SGDClassifier и LGBMClassifier. CatBoostClassifier может показать себя очень хорошо при долгом обучении на данных. В ходе тестов данный классификатор мог обучатся до 5 часов.\n",
    "\n",
    "На тестовой выбоке по метрике F1 лучше всего себя показал LGBMClassifier всего на 0.77.\n",
    "Данная модель обладает больними показателями Precision и Accuracy. Это говорит нам, что токсичные комментарии находятся лучше."
   ]
  }
 ],
 "metadata": {
  "ExecuteTimeLog": [
   {
    "duration": 6047,
    "start_time": "2023-02-22T22:51:04.004Z"
   },
   {
    "duration": 4460,
    "start_time": "2023-02-22T22:51:49.950Z"
   },
   {
    "duration": 3,
    "start_time": "2023-02-22T22:52:17.768Z"
   },
   {
    "duration": 3430,
    "start_time": "2023-02-22T22:52:51.080Z"
   },
   {
    "duration": 3,
    "start_time": "2023-02-22T22:54:04.824Z"
   },
   {
    "duration": 1863,
    "start_time": "2023-02-22T22:54:20.075Z"
   },
   {
    "duration": 199,
    "start_time": "2023-02-22T22:55:10.948Z"
   },
   {
    "duration": 194,
    "start_time": "2023-02-22T22:55:31.963Z"
   },
   {
    "duration": 94,
    "start_time": "2023-02-22T22:56:22.897Z"
   },
   {
    "duration": 108,
    "start_time": "2023-02-22T22:56:40.464Z"
   },
   {
    "duration": 26,
    "start_time": "2023-02-22T22:57:52.683Z"
   },
   {
    "duration": 5,
    "start_time": "2023-02-22T22:58:42.847Z"
   },
   {
    "duration": 46,
    "start_time": "2023-02-22T23:00:00.391Z"
   },
   {
    "duration": 6,
    "start_time": "2023-02-22T23:00:09.504Z"
   },
   {
    "duration": 7464,
    "start_time": "2023-02-23T13:18:25.036Z"
   },
   {
    "duration": 4755,
    "start_time": "2023-02-23T13:18:32.503Z"
   },
   {
    "duration": 4,
    "start_time": "2023-02-23T13:18:37.260Z"
   },
   {
    "duration": 3457,
    "start_time": "2023-02-23T13:18:37.265Z"
   },
   {
    "duration": 3,
    "start_time": "2023-02-23T13:18:40.724Z"
   },
   {
    "duration": 2371,
    "start_time": "2023-02-23T13:18:40.729Z"
   },
   {
    "duration": 215,
    "start_time": "2023-02-23T13:18:43.101Z"
   },
   {
    "duration": 216,
    "start_time": "2023-02-23T13:18:43.318Z"
   },
   {
    "duration": 150,
    "start_time": "2023-02-23T13:18:43.536Z"
   },
   {
    "duration": 30,
    "start_time": "2023-02-23T13:18:43.689Z"
   },
   {
    "duration": 20,
    "start_time": "2023-02-23T13:18:43.721Z"
   },
   {
    "duration": 1726,
    "start_time": "2023-02-23T13:23:38.998Z"
   },
   {
    "duration": 3467,
    "start_time": "2023-02-23T13:24:07.529Z"
   },
   {
    "duration": 16,
    "start_time": "2023-02-23T13:24:37.333Z"
   },
   {
    "duration": 13,
    "start_time": "2023-02-23T13:25:01.701Z"
   },
   {
    "duration": 108754,
    "start_time": "2023-02-23T13:26:24.300Z"
   },
   {
    "duration": 12625,
    "start_time": "2023-02-23T13:29:23.869Z"
   },
   {
    "duration": 123988,
    "start_time": "2023-02-23T13:30:17.260Z"
   },
   {
    "duration": 143223,
    "start_time": "2023-02-23T13:43:45.518Z"
   },
   {
    "duration": 73047,
    "start_time": "2023-02-23T13:46:38.629Z"
   },
   {
    "duration": 43,
    "start_time": "2023-02-23T13:50:09.041Z"
   },
   {
    "duration": 1440,
    "start_time": "2023-02-23T13:50:25.567Z"
   },
   {
    "duration": 47274,
    "start_time": "2023-02-23T13:50:48.285Z"
   },
   {
    "duration": 92839,
    "start_time": "2023-02-23T13:53:28.553Z"
   },
   {
    "duration": 13,
    "start_time": "2023-02-23T13:55:30.332Z"
   },
   {
    "duration": 6,
    "start_time": "2023-02-23T13:56:18.294Z"
   },
   {
    "duration": 659715,
    "start_time": "2023-02-23T13:59:25.529Z"
   },
   {
    "duration": 45218,
    "start_time": "2023-02-23T14:17:44.527Z"
   },
   {
    "duration": 723543,
    "start_time": "2023-02-23T14:19:50.575Z"
   },
   {
    "duration": 35753,
    "start_time": "2023-02-23T14:33:34.522Z"
   },
   {
    "duration": 1667185,
    "start_time": "2023-02-23T14:37:59.809Z"
   },
   {
    "duration": 197302,
    "start_time": "2023-02-23T15:05:46.996Z"
   },
   {
    "duration": 1783,
    "start_time": "2023-02-23T15:09:04.300Z"
   },
   {
    "duration": 16,
    "start_time": "2023-02-23T15:09:06.086Z"
   },
   {
    "duration": 45912,
    "start_time": "2023-02-23T15:09:06.104Z"
   },
   {
    "duration": 28,
    "start_time": "2023-02-23T15:15:38.828Z"
   },
   {
    "duration": 116,
    "start_time": "2023-02-24T06:16:23.151Z"
   },
   {
    "duration": 1875,
    "start_time": "2023-02-24T06:17:04.599Z"
   },
   {
    "duration": 3356,
    "start_time": "2023-02-24T06:17:06.476Z"
   },
   {
    "duration": 10,
    "start_time": "2023-02-24T06:17:09.833Z"
   },
   {
    "duration": 13,
    "start_time": "2023-02-24T06:17:09.845Z"
   },
   {
    "duration": 102214,
    "start_time": "2023-02-24T06:17:09.860Z"
   },
   {
    "duration": 11367,
    "start_time": "2023-02-24T06:18:52.076Z"
   },
   {
    "duration": 112383,
    "start_time": "2023-02-24T06:19:03.445Z"
   },
   {
    "duration": 124819,
    "start_time": "2023-02-24T06:20:55.830Z"
   },
   {
    "duration": 72091,
    "start_time": "2023-02-24T06:23:00.652Z"
   },
   {
    "duration": 112,
    "start_time": "2023-02-24T06:24:12.745Z"
   },
   {
    "duration": 1327,
    "start_time": "2023-02-24T06:24:12.859Z"
   },
   {
    "duration": 49946,
    "start_time": "2023-02-24T06:24:14.188Z"
   },
   {
    "duration": 99802,
    "start_time": "2023-02-24T06:25:04.141Z"
   },
   {
    "duration": 14,
    "start_time": "2023-02-24T06:26:43.956Z"
   },
   {
    "duration": 16,
    "start_time": "2023-02-24T06:26:43.972Z"
   },
   {
    "duration": 641781,
    "start_time": "2023-02-24T06:26:43.990Z"
   },
   {
    "duration": 51558,
    "start_time": "2023-02-24T06:37:25.774Z"
   },
   {
    "duration": 681808,
    "start_time": "2023-02-24T06:38:17.334Z"
   },
   {
    "duration": 32952,
    "start_time": "2023-02-24T06:49:39.144Z"
   },
   {
    "duration": 1677566,
    "start_time": "2023-02-24T06:50:12.098Z"
   },
   {
    "duration": 206186,
    "start_time": "2023-02-24T07:18:09.665Z"
   },
   {
    "duration": 1765,
    "start_time": "2023-02-24T07:21:35.853Z"
   },
   {
    "duration": 39351551,
    "start_time": "2023-02-24T07:21:37.620Z"
   },
   {
    "duration": 548479,
    "start_time": "2023-02-24T18:17:29.228Z"
   },
   {
    "duration": 15,
    "start_time": "2023-02-24T18:26:37.708Z"
   },
   {
    "duration": 0,
    "start_time": "2023-02-24T18:26:37.725Z"
   },
   {
    "duration": 0,
    "start_time": "2023-02-24T18:26:37.729Z"
   },
   {
    "duration": 0,
    "start_time": "2023-02-24T18:26:37.730Z"
   },
   {
    "duration": 802979,
    "start_time": "2023-02-24T18:26:54.487Z"
   },
   {
    "duration": 940247,
    "start_time": "2023-02-24T18:42:24.103Z"
   },
   {
    "duration": 12,
    "start_time": "2023-02-24T18:58:04.352Z"
   },
   {
    "duration": 1008061,
    "start_time": "2023-02-24T18:58:04.366Z"
   },
   {
    "duration": 48,
    "start_time": "2023-02-25T13:36:07.737Z"
   },
   {
    "duration": 2260,
    "start_time": "2023-02-26T07:05:15.596Z"
   },
   {
    "duration": 2235,
    "start_time": "2023-02-26T07:06:35.724Z"
   },
   {
    "duration": 2956,
    "start_time": "2023-02-26T07:06:37.963Z"
   },
   {
    "duration": 10,
    "start_time": "2023-02-26T07:06:40.921Z"
   },
   {
    "duration": 37,
    "start_time": "2023-02-26T07:06:40.934Z"
   },
   {
    "duration": 201,
    "start_time": "2023-02-26T07:06:40.974Z"
   },
   {
    "duration": 928,
    "start_time": "2023-02-26T07:06:41.178Z"
   },
   {
    "duration": 0,
    "start_time": "2023-02-26T07:06:42.108Z"
   },
   {
    "duration": 0,
    "start_time": "2023-02-26T07:06:42.109Z"
   },
   {
    "duration": 0,
    "start_time": "2023-02-26T07:06:42.110Z"
   },
   {
    "duration": 0,
    "start_time": "2023-02-26T07:06:42.111Z"
   },
   {
    "duration": 0,
    "start_time": "2023-02-26T07:06:42.113Z"
   },
   {
    "duration": 0,
    "start_time": "2023-02-26T07:06:42.114Z"
   },
   {
    "duration": 0,
    "start_time": "2023-02-26T07:06:42.116Z"
   },
   {
    "duration": 0,
    "start_time": "2023-02-26T07:06:42.117Z"
   },
   {
    "duration": 0,
    "start_time": "2023-02-26T07:06:42.118Z"
   },
   {
    "duration": 1,
    "start_time": "2023-02-26T07:06:42.119Z"
   },
   {
    "duration": 0,
    "start_time": "2023-02-26T07:06:42.121Z"
   },
   {
    "duration": 0,
    "start_time": "2023-02-26T07:06:42.122Z"
   },
   {
    "duration": 0,
    "start_time": "2023-02-26T07:06:42.124Z"
   },
   {
    "duration": 0,
    "start_time": "2023-02-26T07:06:42.125Z"
   },
   {
    "duration": 0,
    "start_time": "2023-02-26T07:06:42.127Z"
   },
   {
    "duration": 0,
    "start_time": "2023-02-26T07:06:42.128Z"
   },
   {
    "duration": 0,
    "start_time": "2023-02-26T07:06:42.130Z"
   },
   {
    "duration": 0,
    "start_time": "2023-02-26T07:06:42.132Z"
   },
   {
    "duration": 0,
    "start_time": "2023-02-26T07:06:42.133Z"
   },
   {
    "duration": 0,
    "start_time": "2023-02-26T07:06:42.134Z"
   },
   {
    "duration": 0,
    "start_time": "2023-02-26T07:06:42.136Z"
   },
   {
    "duration": 37,
    "start_time": "2023-02-26T07:10:20.836Z"
   },
   {
    "duration": 388,
    "start_time": "2023-02-26T07:10:47.426Z"
   },
   {
    "duration": 372,
    "start_time": "2023-02-26T07:13:36.255Z"
   },
   {
    "duration": 1632,
    "start_time": "2023-02-26T07:16:08.938Z"
   },
   {
    "duration": 6667,
    "start_time": "2023-02-26T07:17:03.744Z"
   },
   {
    "duration": 5,
    "start_time": "2023-02-26T07:17:46.475Z"
   },
   {
    "duration": 1091,
    "start_time": "2023-02-26T07:23:44.139Z"
   },
   {
    "duration": 1184,
    "start_time": "2023-02-26T07:24:41.506Z"
   },
   {
    "duration": 2169,
    "start_time": "2023-02-26T07:25:57.366Z"
   },
   {
    "duration": 979,
    "start_time": "2023-02-26T07:25:59.540Z"
   },
   {
    "duration": 25,
    "start_time": "2023-02-26T07:26:00.524Z"
   },
   {
    "duration": 96,
    "start_time": "2023-02-26T07:26:00.553Z"
   },
   {
    "duration": 176390,
    "start_time": "2023-02-26T07:26:00.651Z"
   },
   {
    "duration": 18,
    "start_time": "2023-02-26T07:28:57.045Z"
   },
   {
    "duration": 3525,
    "start_time": "2023-02-26T07:30:12.324Z"
   },
   {
    "duration": 3297,
    "start_time": "2023-02-26T07:30:15.854Z"
   },
   {
    "duration": 12,
    "start_time": "2023-02-26T07:30:19.153Z"
   },
   {
    "duration": 36,
    "start_time": "2023-02-26T07:30:19.167Z"
   },
   {
    "duration": 184099,
    "start_time": "2023-02-26T07:30:19.206Z"
   },
   {
    "duration": 8,
    "start_time": "2023-02-26T07:33:23.307Z"
   },
   {
    "duration": 72,
    "start_time": "2023-02-26T07:34:04.192Z"
   },
   {
    "duration": 4252,
    "start_time": "2023-02-26T07:34:15.114Z"
   },
   {
    "duration": 5080,
    "start_time": "2023-02-26T07:34:19.368Z"
   },
   {
    "duration": 16,
    "start_time": "2023-02-26T07:34:24.454Z"
   },
   {
    "duration": 54,
    "start_time": "2023-02-26T07:34:24.476Z"
   },
   {
    "duration": 179590,
    "start_time": "2023-02-26T07:34:24.533Z"
   },
   {
    "duration": 66,
    "start_time": "2023-02-26T07:39:45.199Z"
   },
   {
    "duration": 2988,
    "start_time": "2023-02-26T07:41:18.317Z"
   },
   {
    "duration": 5,
    "start_time": "2023-02-26T07:41:56.123Z"
   },
   {
    "duration": 2878,
    "start_time": "2023-02-26T07:42:01.038Z"
   },
   {
    "duration": 12,
    "start_time": "2023-02-26T07:42:08.300Z"
   },
   {
    "duration": 12,
    "start_time": "2023-02-26T07:42:23.564Z"
   },
   {
    "duration": 159199,
    "start_time": "2023-02-26T07:42:37.134Z"
   },
   {
    "duration": 49,
    "start_time": "2023-02-26T07:48:29.167Z"
   },
   {
    "duration": 89,
    "start_time": "2023-02-26T07:50:09.491Z"
   },
   {
    "duration": 52,
    "start_time": "2023-02-26T07:50:57.271Z"
   },
   {
    "duration": 85,
    "start_time": "2023-02-26T07:52:04.314Z"
   },
   {
    "duration": 177,
    "start_time": "2023-02-26T07:54:25.620Z"
   },
   {
    "duration": 2050,
    "start_time": "2023-02-26T07:55:05.280Z"
   },
   {
    "duration": 1119,
    "start_time": "2023-02-26T07:55:07.333Z"
   },
   {
    "duration": 20,
    "start_time": "2023-02-26T07:55:08.460Z"
   },
   {
    "duration": 35,
    "start_time": "2023-02-26T07:55:08.483Z"
   },
   {
    "duration": 170965,
    "start_time": "2023-02-26T07:55:08.522Z"
   },
   {
    "duration": 270,
    "start_time": "2023-02-26T07:57:59.489Z"
   },
   {
    "duration": 43,
    "start_time": "2023-02-26T07:57:59.761Z"
   },
   {
    "duration": 0,
    "start_time": "2023-02-26T07:57:59.807Z"
   },
   {
    "duration": 0,
    "start_time": "2023-02-26T07:57:59.808Z"
   },
   {
    "duration": 0,
    "start_time": "2023-02-26T07:57:59.809Z"
   },
   {
    "duration": 0,
    "start_time": "2023-02-26T07:57:59.811Z"
   },
   {
    "duration": 0,
    "start_time": "2023-02-26T07:57:59.812Z"
   },
   {
    "duration": 0,
    "start_time": "2023-02-26T07:57:59.814Z"
   },
   {
    "duration": 0,
    "start_time": "2023-02-26T07:57:59.815Z"
   },
   {
    "duration": 0,
    "start_time": "2023-02-26T07:57:59.817Z"
   },
   {
    "duration": 0,
    "start_time": "2023-02-26T07:57:59.818Z"
   },
   {
    "duration": 0,
    "start_time": "2023-02-26T07:57:59.819Z"
   },
   {
    "duration": 0,
    "start_time": "2023-02-26T07:57:59.821Z"
   },
   {
    "duration": 0,
    "start_time": "2023-02-26T07:57:59.822Z"
   },
   {
    "duration": 0,
    "start_time": "2023-02-26T07:57:59.824Z"
   },
   {
    "duration": 0,
    "start_time": "2023-02-26T07:57:59.825Z"
   },
   {
    "duration": 0,
    "start_time": "2023-02-26T07:57:59.827Z"
   },
   {
    "duration": 0,
    "start_time": "2023-02-26T07:57:59.828Z"
   },
   {
    "duration": 0,
    "start_time": "2023-02-26T07:57:59.829Z"
   },
   {
    "duration": 0,
    "start_time": "2023-02-26T07:57:59.831Z"
   },
   {
    "duration": 0,
    "start_time": "2023-02-26T07:57:59.832Z"
   },
   {
    "duration": 0,
    "start_time": "2023-02-26T07:57:59.834Z"
   },
   {
    "duration": 0,
    "start_time": "2023-02-26T07:57:59.851Z"
   },
   {
    "duration": 8300,
    "start_time": "2023-02-26T07:59:16.683Z"
   },
   {
    "duration": 138,
    "start_time": "2023-02-26T08:00:38.979Z"
   },
   {
    "duration": 17,
    "start_time": "2023-02-26T08:01:04.113Z"
   },
   {
    "duration": 15,
    "start_time": "2023-02-26T08:01:28.583Z"
   },
   {
    "duration": 1729,
    "start_time": "2023-02-26T08:01:44.038Z"
   },
   {
    "duration": 862,
    "start_time": "2023-02-26T08:01:45.770Z"
   },
   {
    "duration": 10,
    "start_time": "2023-02-26T08:01:46.640Z"
   },
   {
    "duration": 11,
    "start_time": "2023-02-26T08:01:46.652Z"
   },
   {
    "duration": 131482,
    "start_time": "2023-02-26T08:01:46.665Z"
   },
   {
    "duration": 304,
    "start_time": "2023-02-26T08:03:58.149Z"
   },
   {
    "duration": 7589,
    "start_time": "2023-02-26T08:03:58.455Z"
   },
   {
    "duration": 111301,
    "start_time": "2023-02-26T08:04:06.046Z"
   },
   {
    "duration": 127697,
    "start_time": "2023-02-26T08:05:57.349Z"
   },
   {
    "duration": 72402,
    "start_time": "2023-02-26T08:08:05.048Z"
   },
   {
    "duration": 114,
    "start_time": "2023-02-26T08:09:17.452Z"
   },
   {
    "duration": 2039,
    "start_time": "2023-02-26T08:09:17.568Z"
   },
   {
    "duration": 32134,
    "start_time": "2023-02-26T08:09:19.610Z"
   },
   {
    "duration": 89016,
    "start_time": "2023-02-26T08:09:51.746Z"
   },
   {
    "duration": 11,
    "start_time": "2023-02-26T08:11:20.764Z"
   },
   {
    "duration": 22,
    "start_time": "2023-02-26T08:11:20.777Z"
   },
   {
    "duration": 650891,
    "start_time": "2023-02-26T08:11:20.801Z"
   },
   {
    "duration": 36211,
    "start_time": "2023-02-26T08:22:11.694Z"
   },
   {
    "duration": 305571,
    "start_time": "2023-02-26T08:22:47.907Z"
   },
   {
    "duration": 69,
    "start_time": "2023-02-26T08:27:53.480Z"
   },
   {
    "duration": 51,
    "start_time": "2023-02-26T08:30:16.748Z"
   },
   {
    "duration": 9,
    "start_time": "2023-02-26T08:37:00.637Z"
   },
   {
    "duration": 1830,
    "start_time": "2023-02-26T11:02:55.156Z"
   },
   {
    "duration": 937,
    "start_time": "2023-02-26T11:02:56.990Z"
   },
   {
    "duration": 18,
    "start_time": "2023-02-26T11:02:57.938Z"
   },
   {
    "duration": 13,
    "start_time": "2023-02-26T11:02:57.959Z"
   },
   {
    "duration": 141458,
    "start_time": "2023-02-26T11:02:57.974Z"
   },
   {
    "duration": 277,
    "start_time": "2023-02-26T11:05:19.441Z"
   },
   {
    "duration": 8082,
    "start_time": "2023-02-26T11:05:19.719Z"
   },
   {
    "duration": 104655,
    "start_time": "2023-02-26T11:05:27.802Z"
   },
   {
    "duration": 242,
    "start_time": "2023-02-26T11:07:12.460Z"
   },
   {
    "duration": 0,
    "start_time": "2023-02-26T11:07:12.704Z"
   },
   {
    "duration": 0,
    "start_time": "2023-02-26T11:07:12.706Z"
   },
   {
    "duration": 0,
    "start_time": "2023-02-26T11:07:12.707Z"
   },
   {
    "duration": 0,
    "start_time": "2023-02-26T11:07:12.709Z"
   },
   {
    "duration": 0,
    "start_time": "2023-02-26T11:07:12.711Z"
   },
   {
    "duration": 0,
    "start_time": "2023-02-26T11:07:12.712Z"
   },
   {
    "duration": 0,
    "start_time": "2023-02-26T11:07:12.713Z"
   },
   {
    "duration": 0,
    "start_time": "2023-02-26T11:07:12.715Z"
   },
   {
    "duration": 0,
    "start_time": "2023-02-26T11:07:12.716Z"
   },
   {
    "duration": 0,
    "start_time": "2023-02-26T11:07:12.717Z"
   },
   {
    "duration": 0,
    "start_time": "2023-02-26T11:07:12.718Z"
   },
   {
    "duration": 0,
    "start_time": "2023-02-26T11:07:12.741Z"
   },
   {
    "duration": 0,
    "start_time": "2023-02-26T11:07:12.754Z"
   },
   {
    "duration": 0,
    "start_time": "2023-02-26T11:07:12.756Z"
   },
   {
    "duration": 0,
    "start_time": "2023-02-26T11:07:12.757Z"
   },
   {
    "duration": 0,
    "start_time": "2023-02-26T11:07:12.759Z"
   },
   {
    "duration": 0,
    "start_time": "2023-02-26T11:07:12.760Z"
   },
   {
    "duration": 0,
    "start_time": "2023-02-26T11:07:12.762Z"
   },
   {
    "duration": 0,
    "start_time": "2023-02-26T11:07:12.763Z"
   },
   {
    "duration": 0,
    "start_time": "2023-02-26T11:07:12.765Z"
   },
   {
    "duration": 0,
    "start_time": "2023-02-26T11:07:12.766Z"
   },
   {
    "duration": 4,
    "start_time": "2023-02-26T13:22:09.850Z"
   },
   {
    "duration": 4,
    "start_time": "2023-02-26T13:22:29.923Z"
   },
   {
    "duration": 6,
    "start_time": "2023-02-26T13:28:30.790Z"
   },
   {
    "duration": 4,
    "start_time": "2023-02-26T13:33:53.880Z"
   },
   {
    "duration": 36,
    "start_time": "2023-02-26T13:34:00.520Z"
   },
   {
    "duration": 4,
    "start_time": "2023-02-26T13:36:28.680Z"
   },
   {
    "duration": 38,
    "start_time": "2023-02-26T13:36:30.155Z"
   },
   {
    "duration": 5,
    "start_time": "2023-02-26T13:43:07.280Z"
   },
   {
    "duration": 35,
    "start_time": "2023-02-26T13:43:10.356Z"
   },
   {
    "duration": 5,
    "start_time": "2023-02-26T13:43:55.282Z"
   },
   {
    "duration": 73,
    "start_time": "2023-02-26T13:43:57.471Z"
   },
   {
    "duration": 5,
    "start_time": "2023-02-26T13:45:34.789Z"
   },
   {
    "duration": 3261,
    "start_time": "2023-02-26T13:45:37.919Z"
   },
   {
    "duration": 5,
    "start_time": "2023-02-26T13:46:35.206Z"
   },
   {
    "duration": 3664,
    "start_time": "2023-02-26T13:46:37.700Z"
   },
   {
    "duration": 3,
    "start_time": "2023-02-26T13:47:26.595Z"
   },
   {
    "duration": 12,
    "start_time": "2023-02-26T21:56:24.300Z"
   },
   {
    "duration": 11,
    "start_time": "2023-02-26T21:57:12.213Z"
   },
   {
    "duration": 20,
    "start_time": "2023-02-26T21:57:20.126Z"
   },
   {
    "duration": 3,
    "start_time": "2023-02-26T21:58:04.652Z"
   },
   {
    "duration": 218846,
    "start_time": "2023-02-26T21:58:11.907Z"
   },
   {
    "duration": 12,
    "start_time": "2023-02-26T22:04:39.916Z"
   },
   {
    "duration": 10,
    "start_time": "2023-02-26T22:06:15.557Z"
   },
   {
    "duration": 12,
    "start_time": "2023-02-26T22:07:12.531Z"
   },
   {
    "duration": 967874,
    "start_time": "2023-02-26T22:07:48.972Z"
   },
   {
    "duration": 11,
    "start_time": "2023-02-26T22:40:48.334Z"
   },
   {
    "duration": 17,
    "start_time": "2023-02-26T22:40:58.646Z"
   },
   {
    "duration": 49,
    "start_time": "2023-02-26T22:58:16.568Z"
   },
   {
    "duration": 43,
    "start_time": "2023-02-26T22:58:49.718Z"
   },
   {
    "duration": 7,
    "start_time": "2023-02-26T23:05:51.962Z"
   },
   {
    "duration": 4,
    "start_time": "2023-02-26T23:06:14.333Z"
   },
   {
    "duration": 52,
    "start_time": "2023-02-26T23:15:21.897Z"
   },
   {
    "duration": 61,
    "start_time": "2023-02-26T23:15:45.571Z"
   },
   {
    "duration": 52,
    "start_time": "2023-02-26T23:16:25.249Z"
   },
   {
    "duration": 127712,
    "start_time": "2023-02-26T23:45:09.531Z"
   },
   {
    "duration": 129261,
    "start_time": "2023-02-26T23:51:40.989Z"
   },
   {
    "duration": 81994,
    "start_time": "2023-02-26T23:53:50.252Z"
   },
   {
    "duration": 33,
    "start_time": "2023-02-26T23:55:12.248Z"
   },
   {
    "duration": 2317,
    "start_time": "2023-02-26T23:55:12.283Z"
   },
   {
    "duration": 35950,
    "start_time": "2023-02-26T23:55:14.601Z"
   },
   {
    "duration": 86201,
    "start_time": "2023-02-26T23:55:50.554Z"
   },
   {
    "duration": 17,
    "start_time": "2023-02-26T23:57:16.758Z"
   },
   {
    "duration": 26,
    "start_time": "2023-02-26T23:57:16.778Z"
   },
   {
    "duration": 1710,
    "start_time": "2023-02-27T00:11:45.093Z"
   },
   {
    "duration": 920,
    "start_time": "2023-02-27T00:11:46.805Z"
   },
   {
    "duration": 26,
    "start_time": "2023-02-27T00:11:47.727Z"
   },
   {
    "duration": 13,
    "start_time": "2023-02-27T00:11:47.757Z"
   },
   {
    "duration": 131923,
    "start_time": "2023-02-27T00:11:47.771Z"
   },
   {
    "duration": 270,
    "start_time": "2023-02-27T00:13:59.695Z"
   },
   {
    "duration": 7182,
    "start_time": "2023-02-27T00:13:59.967Z"
   },
   {
    "duration": 4,
    "start_time": "2023-02-27T00:14:07.151Z"
   },
   {
    "duration": 126405,
    "start_time": "2023-02-27T00:14:07.157Z"
   },
   {
    "duration": 3,
    "start_time": "2023-02-27T00:16:13.565Z"
   },
   {
    "duration": 11,
    "start_time": "2023-02-27T00:16:13.570Z"
   },
   {
    "duration": 155158,
    "start_time": "2023-02-27T00:16:13.583Z"
   },
   {
    "duration": 85718,
    "start_time": "2023-02-27T00:18:48.743Z"
   },
   {
    "duration": 31,
    "start_time": "2023-02-27T00:20:14.539Z"
   },
   {
    "duration": 2023,
    "start_time": "2023-02-27T00:20:14.572Z"
   },
   {
    "duration": 39053,
    "start_time": "2023-02-27T00:20:16.597Z"
   },
   {
    "duration": 101696,
    "start_time": "2023-02-27T00:20:55.652Z"
   },
   {
    "duration": 15,
    "start_time": "2023-02-27T00:22:37.350Z"
   },
   {
    "duration": 15,
    "start_time": "2023-02-27T00:22:37.366Z"
   },
   {
    "duration": 717407,
    "start_time": "2023-02-27T00:22:37.382Z"
   },
   {
    "duration": 41109,
    "start_time": "2023-02-27T00:34:34.790Z"
   },
   {
    "duration": 741544,
    "start_time": "2023-02-27T00:35:15.900Z"
   },
   {
    "duration": 27397,
    "start_time": "2023-02-27T00:47:37.446Z"
   },
   {
    "duration": 1731848,
    "start_time": "2023-02-27T00:48:04.845Z"
   },
   {
    "duration": 194197,
    "start_time": "2023-02-27T01:16:56.695Z"
   },
   {
    "duration": 1610,
    "start_time": "2023-02-27T01:20:10.893Z"
   },
   {
    "duration": 2,
    "start_time": "2023-02-27T01:20:12.505Z"
   },
   {
    "duration": 184,
    "start_time": "2023-02-27T01:20:12.510Z"
   },
   {
    "duration": 12,
    "start_time": "2023-02-27T01:20:12.695Z"
   },
   {
    "duration": 0,
    "start_time": "2023-02-27T01:20:12.708Z"
   },
   {
    "duration": 2,
    "start_time": "2023-02-27T08:33:45.575Z"
   },
   {
    "duration": 89,
    "start_time": "2023-02-27T08:33:50.211Z"
   },
   {
    "duration": 3,
    "start_time": "2023-02-27T08:34:40.378Z"
   },
   {
    "duration": 74,
    "start_time": "2023-02-27T08:34:47.554Z"
   },
   {
    "duration": 4,
    "start_time": "2023-02-27T08:36:01.114Z"
   },
   {
    "duration": 65,
    "start_time": "2023-02-27T08:36:10.053Z"
   },
   {
    "duration": 3,
    "start_time": "2023-02-27T08:37:18.713Z"
   },
   {
    "duration": 2077666,
    "start_time": "2023-02-27T08:37:23.273Z"
   },
   {
    "duration": 17,
    "start_time": "2023-02-27T09:12:00.942Z"
   },
   {
    "duration": 2498045,
    "start_time": "2023-02-27T09:12:00.960Z"
   },
   {
    "duration": 1889,
    "start_time": "2023-02-28T08:55:01.359Z"
   },
   {
    "duration": 3798,
    "start_time": "2023-02-28T08:55:03.250Z"
   },
   {
    "duration": 12,
    "start_time": "2023-02-28T08:55:07.052Z"
   },
   {
    "duration": 14,
    "start_time": "2023-02-28T08:55:07.067Z"
   },
   {
    "duration": 126458,
    "start_time": "2023-02-28T08:55:07.083Z"
   },
   {
    "duration": 280,
    "start_time": "2023-02-28T08:57:13.542Z"
   },
   {
    "duration": 7268,
    "start_time": "2023-02-28T08:57:13.824Z"
   },
   {
    "duration": 4,
    "start_time": "2023-02-28T08:57:21.094Z"
   },
   {
    "duration": 92655,
    "start_time": "2023-02-28T08:57:21.099Z"
   },
   {
    "duration": 3,
    "start_time": "2023-02-28T08:58:53.756Z"
   },
   {
    "duration": 76,
    "start_time": "2023-02-28T08:58:53.761Z"
   },
   {
    "duration": 117119,
    "start_time": "2023-02-28T08:58:53.839Z"
   },
   {
    "duration": 67174,
    "start_time": "2023-02-28T09:00:50.962Z"
   },
   {
    "duration": 16,
    "start_time": "2023-02-28T09:01:58.138Z"
   },
   {
    "duration": 71379,
    "start_time": "2023-02-28T09:01:58.155Z"
   },
   {
    "duration": 10,
    "start_time": "2023-02-28T09:03:09.536Z"
   },
   {
    "duration": 131,
    "start_time": "2023-02-28T09:03:09.548Z"
   },
   {
    "duration": 0,
    "start_time": "2023-02-28T09:03:09.681Z"
   },
   {
    "duration": 0,
    "start_time": "2023-02-28T09:03:09.682Z"
   },
   {
    "duration": 0,
    "start_time": "2023-02-28T09:03:09.684Z"
   },
   {
    "duration": 0,
    "start_time": "2023-02-28T09:03:09.684Z"
   },
   {
    "duration": 0,
    "start_time": "2023-02-28T09:03:09.686Z"
   },
   {
    "duration": 0,
    "start_time": "2023-02-28T09:03:09.687Z"
   },
   {
    "duration": 0,
    "start_time": "2023-02-28T09:03:09.688Z"
   },
   {
    "duration": 0,
    "start_time": "2023-02-28T09:03:09.689Z"
   },
   {
    "duration": 0,
    "start_time": "2023-02-28T09:03:09.690Z"
   },
   {
    "duration": 0,
    "start_time": "2023-02-28T09:03:09.692Z"
   },
   {
    "duration": 0,
    "start_time": "2023-02-28T09:03:09.693Z"
   },
   {
    "duration": 10,
    "start_time": "2023-02-28T09:03:30.983Z"
   },
   {
    "duration": 10,
    "start_time": "2023-02-28T09:03:35.253Z"
   },
   {
    "duration": 575948,
    "start_time": "2023-02-28T09:07:27.631Z"
   },
   {
    "duration": 34616,
    "start_time": "2023-02-28T09:17:03.580Z"
   },
   {
    "duration": 701047,
    "start_time": "2023-02-28T09:17:38.197Z"
   },
   {
    "duration": 25622,
    "start_time": "2023-02-28T09:29:19.247Z"
   },
   {
    "duration": 1601033,
    "start_time": "2023-02-28T09:29:44.871Z"
   },
   {
    "duration": 192679,
    "start_time": "2023-02-28T09:56:25.905Z"
   },
   {
    "duration": 1666,
    "start_time": "2023-02-28T09:59:38.586Z"
   },
   {
    "duration": 92084,
    "start_time": "2023-02-28T09:59:40.254Z"
   },
   {
    "duration": 0,
    "start_time": "2023-02-28T10:01:12.340Z"
   },
   {
    "duration": 0,
    "start_time": "2023-02-28T10:01:12.341Z"
   },
   {
    "duration": 0,
    "start_time": "2023-02-28T10:01:12.342Z"
   },
   {
    "duration": 35391473,
    "start_time": "2023-02-28T10:01:45.564Z"
   },
   {
    "duration": 902229,
    "start_time": "2023-02-28T20:08:37.448Z"
   },
   {
    "duration": 31,
    "start_time": "2023-02-28T20:23:39.679Z"
   },
   {
    "duration": 1081503,
    "start_time": "2023-02-28T20:23:39.712Z"
   }
  ],
  "kernelspec": {
   "display_name": "Python 3 (ipykernel)",
   "language": "python",
   "name": "python3"
  },
  "language_info": {
   "codemirror_mode": {
    "name": "ipython",
    "version": 3
   },
   "file_extension": ".py",
   "mimetype": "text/x-python",
   "name": "python",
   "nbconvert_exporter": "python",
   "pygments_lexer": "ipython3",
   "version": "3.9.12"
  },
  "toc": {
   "base_numbering": 1,
   "nav_menu": {},
   "number_sections": true,
   "sideBar": true,
   "skip_h1_title": true,
   "title_cell": "Содержание",
   "title_sidebar": "Contents",
   "toc_cell": true,
   "toc_position": {
    "height": "calc(100% - 180px)",
    "left": "10px",
    "top": "150px",
    "width": "302.391px"
   },
   "toc_section_display": true,
   "toc_window_display": false
  }
 },
 "nbformat": 4,
 "nbformat_minor": 2
}
